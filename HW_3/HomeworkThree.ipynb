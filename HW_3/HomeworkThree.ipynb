{
  "nbformat": 4,
  "nbformat_minor": 0,
  "metadata": {
    "colab": {
      "name": "HomeworkThree.ipynb",
      "provenance": [],
      "collapsed_sections": []
    },
    "kernelspec": {
      "name": "python3",
      "display_name": "Python 3"
    }
  },
  "cells": [
    {
      "cell_type": "markdown",
      "metadata": {
        "id": "Ynxo0x9huFEe",
        "colab_type": "text"
      },
      "source": [
        "#Problem One: Generating Random Data\n",
        "_The following functions generate and display data that will be used later in two different logistic regression implementations._\n",
        "\n",
        "The random data is of the following form:\n",
        "\n",
        "Data $D = \\begin{bmatrix} x_{1_0} & x_{2_0} \\\\ x_{1_1} & x_{2_1} \\\\ \\vdots & \\vdots \\\\ x_{1_m} & x_{2_m} \\end{bmatrix}$\n",
        "has label $L = \\begin{bmatrix} l_0 \\\\ l_1 \\\\ \\vdots \\\\ l_m \\end{bmatrix}$,\n",
        "\n",
        "where each $x_{1_i}$ is uniformly chosen from $[0,1.0)$ and \n",
        "\n",
        "$x_{2_i} = w \\times x_{1_i} + b + (-1)^{l_i} \\times n_i$.\n",
        "\n",
        "$n_i$ is randomly chosen on a normal distribtion with mean $\\mu=$ mu, and standard deviation $\\sigma=$ sigma.\n",
        "\n",
        "$l_i$ is a random label chosen with a 50% chance of being 0 or 1.\n"
      ]
    },
    {
      "cell_type": "markdown",
      "metadata": {
        "id": "dS55_Zcadoit",
        "colab_type": "text"
      },
      "source": [
        "**Imports**"
      ]
    },
    {
      "cell_type": "code",
      "metadata": {
        "id": "TPCmaUG-4nbA",
        "colab_type": "code",
        "colab": {}
      },
      "source": [
        "import numpy as np\n",
        "%matplotlib inline\n",
        "import matplotlib as mpl\n",
        "import matplotlib.pyplot as plt"
      ],
      "execution_count": 0,
      "outputs": []
    },
    {
      "cell_type": "markdown",
      "metadata": {
        "id": "Q7u2SgP_dwmu",
        "colab_type": "text"
      },
      "source": [
        "This generates the data with the above specifications."
      ]
    },
    {
      "cell_type": "code",
      "metadata": {
        "id": "flYiLtbalZJP",
        "colab_type": "code",
        "colab": {}
      },
      "source": [
        "def get_random_data (w, b, mu, sigma, m):\n",
        "  # Gets random labels (2 with 50% chance of being either)\n",
        "  labels = np.zeros(shape=(m, 1))\n",
        "  labels[:,0] = np.random.choice([0, 1], size=(m,1), p=[.5, .5]).flatten()\n",
        "  # Uniformly gets random data for first feature of data\n",
        "  data = np.zeros(shape=(m, 2))\n",
        "  data[:,0] = np.random.uniform(size=(m,1)).flatten()\n",
        "  # Creates second feature of data using first feature and added noise\n",
        "  n = np.random.normal(mu, sigma, (m,1)).flatten()\n",
        "  data[:,1] = w * data[:,0] + b + np.power(-1, labels).flatten() * n\n",
        "  return data, labels"
      ],
      "execution_count": 0,
      "outputs": []
    },
    {
      "cell_type": "markdown",
      "metadata": {
        "id": "CUrBQhzzctaz",
        "colab_type": "text"
      },
      "source": [
        "This will plot the data and labels on a scatter plot."
      ]
    },
    {
      "cell_type": "code",
      "metadata": {
        "id": "vJYIolGwlZZ7",
        "colab_type": "code",
        "colab": {}
      },
      "source": [
        "def display_random_data (data, labels):\n",
        "  # Reshapes the labels to make for easier comparison\n",
        "  idx = labels.flatten()\n",
        "  # Seperate and plot the data according to label\n",
        "  zero_data = data[idx == 0,:]\n",
        "  plt.scatter(zero_data[:,0], zero_data[:,1], c='blue', label='Class 0')\n",
        "  one_data = data[idx == 1,:]\n",
        "  plt.scatter(one_data[:,0], one_data[:,1], c='red', label='Class 1')\n",
        "  # Adds some descriptive elements and shows the plot\n",
        "  plt.legend()\n",
        "  plt.title('Randomly Generated Class Data')\n",
        "  plt.xlabel('$x_1$')\n",
        "  plt.ylabel('$x_2$')\n",
        "  plt.show()\n",
        "  return"
      ],
      "execution_count": 0,
      "outputs": []
    },
    {
      "cell_type": "markdown",
      "metadata": {
        "id": "8g3kUBY-cOed",
        "colab_type": "text"
      },
      "source": [
        "This will take the data and labels, and randomly sort them into 80:20 training/testing sets."
      ]
    },
    {
      "cell_type": "code",
      "metadata": {
        "id": "YBCPIOHcW2Xv",
        "colab_type": "code",
        "colab": {}
      },
      "source": [
        "def split_data (data, labels):\n",
        "  data_and_labels = np.column_stack((data, labels))\n",
        "  np.random.shuffle(data_and_labels)\n",
        "  # Gets training and testing data\n",
        "  m = data.shape[0]\n",
        "  tr_d, te_d = np.split(data_and_labels[:,:2], [int(m*0.8)])\n",
        "  # Gets training and testing labels\n",
        "  tr_l, te_l = np.split(data_and_labels[:,2:], [int(m*0.8)])\n",
        "  return tr_d, te_d, tr_l, te_l"
      ],
      "execution_count": 0,
      "outputs": []
    },
    {
      "cell_type": "markdown",
      "metadata": {
        "id": "aCZYHoaoOrhB",
        "colab_type": "text"
      },
      "source": [
        "Now we can create the dataset:"
      ]
    },
    {
      "cell_type": "code",
      "metadata": {
        "id": "QEaoVZSNAARD",
        "colab_type": "code",
        "outputId": "562c5ef8-05a1-4fcc-c743-34202d223956",
        "colab": {
          "base_uri": "https://localhost:8080/",
          "height": 297
        }
      },
      "source": [
        "# Hyperparameters\n",
        "m = 20000\n",
        "w = 20\n",
        "b = 10\n",
        "mu = 20\n",
        "sigma = 6\n",
        "# Generates the dataset \n",
        "data, labels = get_random_data(w, b, mu, sigma, m)\n",
        "# Plots the dataset\n",
        "display_random_data(data, labels)\n",
        "# Splits dataset into training and testing sets\n",
        "train_data, test_data, train_labels, test_labels = split_data(data, labels)"
      ],
      "execution_count": 43,
      "outputs": [
        {
          "output_type": "display_data",
          "data": {
            "image/png": "[encoded data removed]",
            "text/plain": [
              "<Figure size 432x288 with 1 Axes>"
            ]
          },
          "metadata": {
            "tags": []
          }
        }
      ]
    },
    {
      "cell_type": "markdown",
      "metadata": {
        "id": "MPpugcQXlEtC",
        "colab_type": "text"
      },
      "source": [
        "#Problem Two: Keras Logistic Regression\n",
        "_Using the generated dataset, we can now use keras to perform logistic regression on it._"
      ]
    },
    {
      "cell_type": "markdown",
      "metadata": {
        "id": "EF6T9LCJxO0y",
        "colab_type": "text"
      },
      "source": [
        "**Additional Imports**"
      ]
    },
    {
      "cell_type": "code",
      "metadata": {
        "id": "UBhjjq8ZxMsD",
        "colab_type": "code",
        "colab": {}
      },
      "source": [
        "import tensorflow as tf\n",
        "from tensorflow import keras"
      ],
      "execution_count": 0,
      "outputs": []
    },
    {
      "cell_type": "markdown",
      "metadata": {
        "id": "ZXOPmXlLx4OA",
        "colab_type": "text"
      },
      "source": [
        "This will create a complete logistic model made for the dataset"
      ]
    },
    {
      "cell_type": "code",
      "metadata": {
        "id": "R3zeULoZx4ZM",
        "colab_type": "code",
        "colab": {}
      },
      "source": [
        "def keras_create_logistic_model ():\n",
        "  # Defines the model\n",
        "  logistic_network = keras.models.Sequential()\n",
        "  # Adds a single dense layer\n",
        "  logistic_network.add(keras.layers.Dense(1, activation='sigmoid', input_shape=(2,)))\n",
        "  # Compiles the network\n",
        "  logistic_network.compile(optimizer='rmsprop',\n",
        "                          loss='binary_crossentropy',\n",
        "                          metrics=['accuracy'])\n",
        "  return logistic_network"
      ],
      "execution_count": 0,
      "outputs": []
    },
    {
      "cell_type": "markdown",
      "metadata": {
        "id": "AWm3Zw3X8LsB",
        "colab_type": "text"
      },
      "source": [
        "Now we can compile and train this model on the data."
      ]
    },
    {
      "cell_type": "code",
      "metadata": {
        "id": "rPnSPNDI8LeK",
        "colab_type": "code",
        "outputId": "19dd0104-c88b-47ad-f45d-9932446a111c",
        "colab": {
          "base_uri": "https://localhost:8080/",
          "height": 1000
        }
      },
      "source": [
        "# Hyperparameters\n",
        "epochs = 100\n",
        "batch_size = 512\n",
        "\n",
        "# Creates the network\n",
        "log_network = keras_create_logistic_model()\n",
        "\n",
        "# Fits the model\n",
        "history = log_network.fit(train_data,\n",
        "                          train_labels,\n",
        "                          epochs=epochs,\n",
        "                          batch_size=batch_size,\n",
        "                          validation_data=(test_data, test_labels))"
      ],
      "execution_count": 46,
      "outputs": [
        {
          "output_type": "stream",
          "text": [
            "Train on 16000 samples, validate on 4000 samples\n",
            "Epoch 1/100\n",
            "16000/16000 [==============================] - 0s 8us/sample - loss: 0.8311 - acc: 0.7577 - val_loss: 0.8152 - val_acc: 0.7505\n",
            "Epoch 2/100\n",
            "16000/16000 [==============================] - 0s 4us/sample - loss: 0.7663 - acc: 0.7613 - val_loss: 0.7534 - val_acc: 0.7548\n",
            "Epoch 3/100\n",
            "16000/16000 [==============================] - 0s 3us/sample - loss: 0.7056 - acc: 0.7639 - val_loss: 0.6906 - val_acc: 0.7577\n",
            "Epoch 4/100\n",
            "16000/16000 [==============================] - 0s 4us/sample - loss: 0.6461 - acc: 0.7681 - val_loss: 0.6302 - val_acc: 0.7613\n",
            "Epoch 5/100\n",
            "16000/16000 [==============================] - 0s 3us/sample - loss: 0.5883 - acc: 0.7732 - val_loss: 0.5723 - val_acc: 0.7682\n",
            "Epoch 6/100\n",
            "16000/16000 [==============================] - 0s 3us/sample - loss: 0.5328 - acc: 0.7791 - val_loss: 0.5161 - val_acc: 0.7738\n",
            "Epoch 7/100\n",
            "16000/16000 [==============================] - 0s 3us/sample - loss: 0.4785 - acc: 0.7859 - val_loss: 0.4613 - val_acc: 0.7843\n",
            "Epoch 8/100\n",
            "16000/16000 [==============================] - 0s 3us/sample - loss: 0.4262 - acc: 0.7957 - val_loss: 0.4099 - val_acc: 0.7947\n",
            "Epoch 9/100\n",
            "16000/16000 [==============================] - 0s 3us/sample - loss: 0.3783 - acc: 0.8066 - val_loss: 0.3624 - val_acc: 0.8120\n",
            "Epoch 10/100\n",
            "16000/16000 [==============================] - 0s 3us/sample - loss: 0.3341 - acc: 0.8210 - val_loss: 0.3198 - val_acc: 0.8347\n",
            "Epoch 11/100\n",
            "16000/16000 [==============================] - 0s 3us/sample - loss: 0.2968 - acc: 0.8422 - val_loss: 0.2867 - val_acc: 0.8553\n",
            "Epoch 12/100\n",
            "16000/16000 [==============================] - 0s 3us/sample - loss: 0.2696 - acc: 0.8723 - val_loss: 0.2651 - val_acc: 0.8838\n",
            "Epoch 13/100\n",
            "16000/16000 [==============================] - 0s 3us/sample - loss: 0.2557 - acc: 0.8971 - val_loss: 0.2561 - val_acc: 0.9018\n",
            "Epoch 14/100\n",
            "16000/16000 [==============================] - 0s 3us/sample - loss: 0.2478 - acc: 0.9073 - val_loss: 0.2482 - val_acc: 0.9082\n",
            "Epoch 15/100\n",
            "16000/16000 [==============================] - 0s 3us/sample - loss: 0.2402 - acc: 0.9141 - val_loss: 0.2406 - val_acc: 0.9165\n",
            "Epoch 16/100\n",
            "16000/16000 [==============================] - 0s 3us/sample - loss: 0.2328 - acc: 0.9207 - val_loss: 0.2334 - val_acc: 0.9195\n",
            "Epoch 17/100\n",
            "16000/16000 [==============================] - 0s 3us/sample - loss: 0.2256 - acc: 0.9259 - val_loss: 0.2261 - val_acc: 0.9312\n",
            "Epoch 18/100\n",
            "16000/16000 [==============================] - 0s 4us/sample - loss: 0.2187 - acc: 0.9336 - val_loss: 0.2191 - val_acc: 0.9345\n",
            "Epoch 19/100\n",
            "16000/16000 [==============================] - 0s 3us/sample - loss: 0.2119 - acc: 0.9387 - val_loss: 0.2123 - val_acc: 0.9400\n",
            "Epoch 20/100\n",
            "16000/16000 [==============================] - 0s 4us/sample - loss: 0.2053 - acc: 0.9433 - val_loss: 0.2058 - val_acc: 0.9470\n",
            "Epoch 21/100\n",
            "16000/16000 [==============================] - 0s 3us/sample - loss: 0.1990 - acc: 0.9478 - val_loss: 0.1994 - val_acc: 0.9500\n",
            "Epoch 22/100\n",
            "16000/16000 [==============================] - 0s 3us/sample - loss: 0.1928 - acc: 0.9511 - val_loss: 0.1932 - val_acc: 0.9557\n",
            "Epoch 23/100\n",
            "16000/16000 [==============================] - 0s 3us/sample - loss: 0.1868 - acc: 0.9558 - val_loss: 0.1874 - val_acc: 0.9542\n",
            "Epoch 24/100\n",
            "16000/16000 [==============================] - 0s 3us/sample - loss: 0.1810 - acc: 0.9581 - val_loss: 0.1814 - val_acc: 0.9600\n",
            "Epoch 25/100\n",
            "16000/16000 [==============================] - 0s 3us/sample - loss: 0.1753 - acc: 0.9615 - val_loss: 0.1758 - val_acc: 0.9643\n",
            "Epoch 26/100\n",
            "16000/16000 [==============================] - 0s 4us/sample - loss: 0.1699 - acc: 0.9651 - val_loss: 0.1704 - val_acc: 0.9650\n",
            "Epoch 27/100\n",
            "16000/16000 [==============================] - 0s 3us/sample - loss: 0.1646 - acc: 0.9681 - val_loss: 0.1653 - val_acc: 0.9660\n",
            "Epoch 28/100\n",
            "16000/16000 [==============================] - 0s 3us/sample - loss: 0.1595 - acc: 0.9699 - val_loss: 0.1600 - val_acc: 0.9722\n",
            "Epoch 29/100\n",
            "16000/16000 [==============================] - 0s 3us/sample - loss: 0.1546 - acc: 0.9728 - val_loss: 0.1551 - val_acc: 0.9722\n",
            "Epoch 30/100\n",
            "16000/16000 [==============================] - 0s 3us/sample - loss: 0.1497 - acc: 0.9744 - val_loss: 0.1503 - val_acc: 0.9750\n",
            "Epoch 31/100\n",
            "16000/16000 [==============================] - 0s 3us/sample - loss: 0.1451 - acc: 0.9770 - val_loss: 0.1457 - val_acc: 0.9755\n",
            "Epoch 32/100\n",
            "16000/16000 [==============================] - 0s 3us/sample - loss: 0.1406 - acc: 0.9778 - val_loss: 0.1412 - val_acc: 0.9762\n",
            "Epoch 33/100\n",
            "16000/16000 [==============================] - 0s 4us/sample - loss: 0.1363 - acc: 0.9795 - val_loss: 0.1367 - val_acc: 0.9803\n",
            "Epoch 34/100\n",
            "16000/16000 [==============================] - 0s 3us/sample - loss: 0.1321 - acc: 0.9821 - val_loss: 0.1328 - val_acc: 0.9787\n",
            "Epoch 35/100\n",
            "16000/16000 [==============================] - 0s 3us/sample - loss: 0.1280 - acc: 0.9822 - val_loss: 0.1285 - val_acc: 0.9835\n",
            "Epoch 36/100\n",
            "16000/16000 [==============================] - 0s 3us/sample - loss: 0.1241 - acc: 0.9844 - val_loss: 0.1246 - val_acc: 0.9833\n",
            "Epoch 37/100\n",
            "16000/16000 [==============================] - 0s 3us/sample - loss: 0.1202 - acc: 0.9851 - val_loss: 0.1207 - val_acc: 0.9868\n",
            "Epoch 38/100\n",
            "16000/16000 [==============================] - 0s 3us/sample - loss: 0.1165 - acc: 0.9869 - val_loss: 0.1170 - val_acc: 0.9862\n",
            "Epoch 39/100\n",
            "16000/16000 [==============================] - 0s 3us/sample - loss: 0.1129 - acc: 0.9876 - val_loss: 0.1135 - val_acc: 0.9885\n",
            "Epoch 40/100\n",
            "16000/16000 [==============================] - 0s 3us/sample - loss: 0.1095 - acc: 0.9887 - val_loss: 0.1100 - val_acc: 0.9883\n",
            "Epoch 41/100\n",
            "16000/16000 [==============================] - 0s 3us/sample - loss: 0.1062 - acc: 0.9893 - val_loss: 0.1068 - val_acc: 0.9883\n",
            "Epoch 42/100\n",
            "16000/16000 [==============================] - 0s 3us/sample - loss: 0.1029 - acc: 0.9897 - val_loss: 0.1034 - val_acc: 0.9902\n",
            "Epoch 43/100\n",
            "16000/16000 [==============================] - 0s 3us/sample - loss: 0.0998 - acc: 0.9910 - val_loss: 0.1004 - val_acc: 0.9912\n",
            "Epoch 44/100\n",
            "16000/16000 [==============================] - 0s 3us/sample - loss: 0.0968 - acc: 0.9917 - val_loss: 0.0973 - val_acc: 0.9910\n",
            "Epoch 45/100\n",
            "16000/16000 [==============================] - 0s 3us/sample - loss: 0.0938 - acc: 0.9917 - val_loss: 0.0944 - val_acc: 0.9923\n",
            "Epoch 46/100\n",
            "16000/16000 [==============================] - 0s 3us/sample - loss: 0.0910 - acc: 0.9925 - val_loss: 0.0916 - val_acc: 0.9918\n",
            "Epoch 47/100\n",
            "16000/16000 [==============================] - 0s 3us/sample - loss: 0.0883 - acc: 0.9926 - val_loss: 0.0888 - val_acc: 0.9925\n",
            "Epoch 48/100\n",
            "16000/16000 [==============================] - 0s 3us/sample - loss: 0.0856 - acc: 0.9935 - val_loss: 0.0863 - val_acc: 0.9918\n",
            "Epoch 49/100\n",
            "16000/16000 [==============================] - 0s 3us/sample - loss: 0.0830 - acc: 0.9934 - val_loss: 0.0837 - val_acc: 0.9925\n",
            "Epoch 50/100\n",
            "16000/16000 [==============================] - 0s 3us/sample - loss: 0.0806 - acc: 0.9942 - val_loss: 0.0812 - val_acc: 0.9930\n",
            "Epoch 51/100\n",
            "16000/16000 [==============================] - 0s 3us/sample - loss: 0.0782 - acc: 0.9944 - val_loss: 0.0788 - val_acc: 0.9937\n",
            "Epoch 52/100\n",
            "16000/16000 [==============================] - 0s 3us/sample - loss: 0.0759 - acc: 0.9948 - val_loss: 0.0764 - val_acc: 0.9942\n",
            "Epoch 53/100\n",
            "16000/16000 [==============================] - 0s 3us/sample - loss: 0.0736 - acc: 0.9952 - val_loss: 0.0742 - val_acc: 0.9942\n",
            "Epoch 54/100\n",
            "16000/16000 [==============================] - 0s 3us/sample - loss: 0.0715 - acc: 0.9952 - val_loss: 0.0721 - val_acc: 0.9942\n",
            "Epoch 55/100\n",
            "16000/16000 [==============================] - 0s 3us/sample - loss: 0.0694 - acc: 0.9956 - val_loss: 0.0700 - val_acc: 0.9952\n",
            "Epoch 56/100\n",
            "16000/16000 [==============================] - 0s 3us/sample - loss: 0.0673 - acc: 0.9957 - val_loss: 0.0680 - val_acc: 0.9962\n",
            "Epoch 57/100\n",
            "16000/16000 [==============================] - 0s 3us/sample - loss: 0.0654 - acc: 0.9961 - val_loss: 0.0661 - val_acc: 0.9952\n",
            "Epoch 58/100\n",
            "16000/16000 [==============================] - 0s 3us/sample - loss: 0.0635 - acc: 0.9961 - val_loss: 0.0641 - val_acc: 0.9965\n",
            "Epoch 59/100\n",
            "16000/16000 [==============================] - 0s 3us/sample - loss: 0.0617 - acc: 0.9965 - val_loss: 0.0623 - val_acc: 0.9960\n",
            "Epoch 60/100\n",
            "16000/16000 [==============================] - 0s 3us/sample - loss: 0.0599 - acc: 0.9964 - val_loss: 0.0605 - val_acc: 0.9965\n",
            "Epoch 61/100\n",
            "16000/16000 [==============================] - 0s 3us/sample - loss: 0.0582 - acc: 0.9968 - val_loss: 0.0590 - val_acc: 0.9960\n",
            "Epoch 62/100\n",
            "16000/16000 [==============================] - 0s 3us/sample - loss: 0.0565 - acc: 0.9967 - val_loss: 0.0572 - val_acc: 0.9965\n",
            "Epoch 63/100\n",
            "16000/16000 [==============================] - 0s 3us/sample - loss: 0.0549 - acc: 0.9968 - val_loss: 0.0555 - val_acc: 0.9965\n",
            "Epoch 64/100\n",
            "16000/16000 [==============================] - 0s 3us/sample - loss: 0.0533 - acc: 0.9971 - val_loss: 0.0540 - val_acc: 0.9970\n",
            "Epoch 65/100\n",
            "16000/16000 [==============================] - 0s 3us/sample - loss: 0.0518 - acc: 0.9975 - val_loss: 0.0525 - val_acc: 0.9970\n",
            "Epoch 66/100\n",
            "16000/16000 [==============================] - 0s 3us/sample - loss: 0.0504 - acc: 0.9976 - val_loss: 0.0511 - val_acc: 0.9967\n",
            "Epoch 67/100\n",
            "16000/16000 [==============================] - 0s 3us/sample - loss: 0.0490 - acc: 0.9976 - val_loss: 0.0496 - val_acc: 0.9970\n",
            "Epoch 68/100\n",
            "16000/16000 [==============================] - 0s 3us/sample - loss: 0.0476 - acc: 0.9978 - val_loss: 0.0483 - val_acc: 0.9970\n",
            "Epoch 69/100\n",
            "16000/16000 [==============================] - 0s 3us/sample - loss: 0.0463 - acc: 0.9978 - val_loss: 0.0470 - val_acc: 0.9970\n",
            "Epoch 70/100\n",
            "16000/16000 [==============================] - 0s 3us/sample - loss: 0.0450 - acc: 0.9979 - val_loss: 0.0457 - val_acc: 0.9975\n",
            "Epoch 71/100\n",
            "16000/16000 [==============================] - 0s 3us/sample - loss: 0.0438 - acc: 0.9980 - val_loss: 0.0444 - val_acc: 0.9975\n",
            "Epoch 72/100\n",
            "16000/16000 [==============================] - 0s 3us/sample - loss: 0.0426 - acc: 0.9981 - val_loss: 0.0433 - val_acc: 0.9973\n",
            "Epoch 73/100\n",
            "16000/16000 [==============================] - 0s 3us/sample - loss: 0.0414 - acc: 0.9981 - val_loss: 0.0421 - val_acc: 0.9975\n",
            "Epoch 74/100\n",
            "16000/16000 [==============================] - 0s 3us/sample - loss: 0.0403 - acc: 0.9982 - val_loss: 0.0411 - val_acc: 0.9973\n",
            "Epoch 75/100\n",
            "16000/16000 [==============================] - 0s 3us/sample - loss: 0.0393 - acc: 0.9982 - val_loss: 0.0399 - val_acc: 0.9975\n",
            "Epoch 76/100\n",
            "16000/16000 [==============================] - 0s 4us/sample - loss: 0.0382 - acc: 0.9984 - val_loss: 0.0388 - val_acc: 0.9975\n",
            "Epoch 77/100\n",
            "16000/16000 [==============================] - 0s 3us/sample - loss: 0.0372 - acc: 0.9986 - val_loss: 0.0379 - val_acc: 0.9975\n",
            "Epoch 78/100\n",
            "16000/16000 [==============================] - 0s 3us/sample - loss: 0.0362 - acc: 0.9986 - val_loss: 0.0369 - val_acc: 0.9977\n",
            "Epoch 79/100\n",
            "16000/16000 [==============================] - 0s 3us/sample - loss: 0.0353 - acc: 0.9986 - val_loss: 0.0359 - val_acc: 0.9977\n",
            "Epoch 80/100\n",
            "16000/16000 [==============================] - 0s 3us/sample - loss: 0.0344 - acc: 0.9986 - val_loss: 0.0350 - val_acc: 0.9977\n",
            "Epoch 81/100\n",
            "16000/16000 [==============================] - 0s 3us/sample - loss: 0.0335 - acc: 0.9986 - val_loss: 0.0341 - val_acc: 0.9977\n",
            "Epoch 82/100\n",
            "16000/16000 [==============================] - 0s 3us/sample - loss: 0.0326 - acc: 0.9987 - val_loss: 0.0333 - val_acc: 0.9977\n",
            "Epoch 83/100\n",
            "16000/16000 [==============================] - 0s 3us/sample - loss: 0.0317 - acc: 0.9987 - val_loss: 0.0324 - val_acc: 0.9977\n",
            "Epoch 84/100\n",
            "16000/16000 [==============================] - 0s 3us/sample - loss: 0.0309 - acc: 0.9987 - val_loss: 0.0316 - val_acc: 0.9977\n",
            "Epoch 85/100\n",
            "16000/16000 [==============================] - 0s 4us/sample - loss: 0.0301 - acc: 0.9989 - val_loss: 0.0309 - val_acc: 0.9977\n",
            "Epoch 86/100\n",
            "16000/16000 [==============================] - 0s 3us/sample - loss: 0.0294 - acc: 0.9987 - val_loss: 0.0300 - val_acc: 0.9977\n",
            "Epoch 87/100\n",
            "16000/16000 [==============================] - 0s 3us/sample - loss: 0.0286 - acc: 0.9989 - val_loss: 0.0293 - val_acc: 0.9977\n",
            "Epoch 88/100\n",
            "16000/16000 [==============================] - 0s 3us/sample - loss: 0.0280 - acc: 0.9989 - val_loss: 0.0287 - val_acc: 0.9977\n",
            "Epoch 89/100\n",
            "16000/16000 [==============================] - 0s 3us/sample - loss: 0.0273 - acc: 0.9989 - val_loss: 0.0279 - val_acc: 0.9977\n",
            "Epoch 90/100\n",
            "16000/16000 [==============================] - 0s 3us/sample - loss: 0.0266 - acc: 0.9989 - val_loss: 0.0273 - val_acc: 0.9977\n",
            "Epoch 91/100\n",
            "16000/16000 [==============================] - 0s 3us/sample - loss: 0.0259 - acc: 0.9989 - val_loss: 0.0266 - val_acc: 0.9977\n",
            "Epoch 92/100\n",
            "16000/16000 [==============================] - 0s 3us/sample - loss: 0.0253 - acc: 0.9989 - val_loss: 0.0260 - val_acc: 0.9977\n",
            "Epoch 93/100\n",
            "16000/16000 [==============================] - 0s 3us/sample - loss: 0.0247 - acc: 0.9989 - val_loss: 0.0253 - val_acc: 0.9983\n",
            "Epoch 94/100\n",
            "16000/16000 [==============================] - 0s 3us/sample - loss: 0.0241 - acc: 0.9989 - val_loss: 0.0247 - val_acc: 0.9985\n",
            "Epoch 95/100\n",
            "16000/16000 [==============================] - 0s 3us/sample - loss: 0.0235 - acc: 0.9991 - val_loss: 0.0241 - val_acc: 0.9983\n",
            "Epoch 96/100\n",
            "16000/16000 [==============================] - 0s 3us/sample - loss: 0.0230 - acc: 0.9991 - val_loss: 0.0236 - val_acc: 0.9977\n",
            "Epoch 97/100\n",
            "16000/16000 [==============================] - 0s 3us/sample - loss: 0.0224 - acc: 0.9990 - val_loss: 0.0230 - val_acc: 0.9983\n",
            "Epoch 98/100\n",
            "16000/16000 [==============================] - 0s 3us/sample - loss: 0.0219 - acc: 0.9991 - val_loss: 0.0226 - val_acc: 0.9980\n",
            "Epoch 99/100\n",
            "16000/16000 [==============================] - 0s 3us/sample - loss: 0.0214 - acc: 0.9991 - val_loss: 0.0220 - val_acc: 0.9983\n",
            "Epoch 100/100\n",
            "16000/16000 [==============================] - 0s 3us/sample - loss: 0.0209 - acc: 0.9991 - val_loss: 0.0215 - val_acc: 0.9983\n"
          ],
          "name": "stdout"
        }
      ]
    },
    {
      "cell_type": "markdown",
      "metadata": {
        "id": "SwEsAN47-bE6",
        "colab_type": "text"
      },
      "source": [
        "This will display the data with a prediction line and the actual separating line."
      ]
    },
    {
      "cell_type": "code",
      "metadata": {
        "id": "Ic5hAVNOO9BN",
        "colab_type": "code",
        "colab": {}
      },
      "source": [
        "def display_prediction (data, labels, p_w, p_b, w, b):\n",
        "  # Reshapes the labels to make for easier comparison\n",
        "  idx = labels.flatten()\n",
        "  # Seperate and plot the data according to label\n",
        "  zero_data = data[idx == 0,:]\n",
        "  plt.scatter(zero_data[:,0], zero_data[:,1], c='blue', label='True Class 0')\n",
        "  one_data = data[idx == 1,:]\n",
        "  plt.scatter(one_data[:,0], one_data[:,1], c='red', label='True Class 1')\n",
        "  x = np.linspace(0,1,100)\n",
        "  py = p_w*x+p_b\n",
        "  plt.plot(x, py, '-g', label='Prediction Line', linewidth = 4.0)\n",
        "  y = w*x+b\n",
        "  plt.plot(x, y, '-k', label='Actual Line', linewidth = 4.0)\n",
        "  # Adds some descriptive elements and shows the plot\n",
        "  plt.legend()\n",
        "  plt.title('Predictions on Random Data')\n",
        "  plt.xlabel('$x_1$')\n",
        "  plt.ylabel('$x_2$')\n",
        "  plt.show()\n",
        "  return"
      ],
      "execution_count": 0,
      "outputs": []
    },
    {
      "cell_type": "markdown",
      "metadata": {
        "id": "a6uMD5bPlWHE",
        "colab_type": "text"
      },
      "source": [
        "To get the predicted $w_p$ and $b_p$ values for the seperating line, we will get the weights $w_1$, $w_2$ and bias term $b_{model}$ of the trained logistic network.\n",
        "\n",
        "Since we are using the $sigmoid$ function $\\sigma(z)$, defined on $\\mathbb{R}^2 \\rightarrow (0,1)$, as the activation layer, the resulting classes are separated at the line where $\\sigma(z)=1/2$.\n",
        "___\n",
        "$\\sigma(z)=1/2$\n",
        "\n",
        "$\\Longleftrightarrow z=0$\n",
        "\n",
        "$\\Longleftrightarrow w_1x_1+w_2x_2+b_{model}=0$\n",
        "\n",
        "$\\Longleftrightarrow x_2=-(w_1/w_2)x_1-(b_{model}/w_2)$\n",
        "___\n",
        "Thus,\n",
        "\n",
        "$w_p=-(w_1/w_2)$,\n",
        "\n",
        "$b_p=-(b_{model}/w_2)$"
      ]
    },
    {
      "cell_type": "markdown",
      "metadata": {
        "id": "p8ljXIJbplSa",
        "colab_type": "text"
      },
      "source": [
        "Now, we will get the weights of the network and compute the predicted weight and bias term. These are then used to form a chart of the data and the predicted/real functions."
      ]
    },
    {
      "cell_type": "code",
      "metadata": {
        "id": "D4wvJM9d-YY4",
        "colab_type": "code",
        "outputId": "3e6fc662-7482-431f-e304-9aa2f88fb290",
        "colab": {
          "base_uri": "https://localhost:8080/",
          "height": 297
        }
      },
      "source": [
        "# Gets the weights of the network\n",
        "weights = log_network.get_weights()\n",
        "w1 = weights[0][0][0]\n",
        "w2 = weights[0][1][0]\n",
        "bias = weights[1][0]\n",
        "# Calculates the predicted weight and bias term for the separating line\n",
        "p_w = -w1/w2\n",
        "p_b = -bias/w2\n",
        "# Displays the data with the predicted and actual lines\n",
        "display_prediction(data, labels, p_w, p_b, w, b)"
      ],
      "execution_count": 48,
      "outputs": [
        {
          "output_type": "display_data",
          "data": {
            "image/png": "[encoded data removed]",
            "text/plain": [
              "<Figure size 432x288 with 1 Axes>"
            ]
          },
          "metadata": {
            "tags": []
          }
        }
      ]
    },
    {
      "cell_type": "markdown",
      "metadata": {
        "id": "1GB91FWEPFMh",
        "colab_type": "text"
      },
      "source": [
        "A heat map can then be used to display the output of the model further."
      ]
    },
    {
      "cell_type": "code",
      "metadata": {
        "id": "bLoRimjNPFsI",
        "colab_type": "code",
        "colab": {}
      },
      "source": [
        "def display_prediction_heatmap (model, p_w, p_b,x_min, x_max, y_min, y_max, acc):\n",
        "  # Creates X, Y plane\n",
        "  x = np.linspace(x_min, x_max, acc)\n",
        "  y = np.linspace(y_min, y_max, acc)\n",
        "  X, Y = np.meshgrid(x, y)\n",
        "  # Creates Z values based on x, y grid\n",
        "  X_flat = X.flatten()\n",
        "  Y_flat = Y.flatten()\n",
        "  Z = np.column_stack((X_flat, Y_flat))\n",
        "  Z = model.predict(Z)\n",
        "  Z = Z.reshape((acc,acc))\n",
        "\n",
        "  # Configures the plot\n",
        "  fig = plt.figure()\n",
        "  ax = plt.axes()\n",
        "\n",
        "  # Draws the heatmap\n",
        "  contours = ax.contourf(X, Y, Z, acc, cmap='RdBu_r')\n",
        "  im = ax.imshow(Z, extent=[x_min, x_max, y_min, y_max],\n",
        "                 origin = 'lower', cmap='RdBu_r', alpha=0.5, aspect='auto')\n",
        "  \n",
        "  # Gives a colorbar (should be in range [0,1])\n",
        "  plt.colorbar(im, ax=ax)\n",
        "\n",
        "  # Gives labels to the chart\n",
        "  ax.set_xlabel('$x_1$')\n",
        "  ax.set_ylabel('$x_2$')\n",
        "  ax.set_title(\"Heatmap Based on Network Predictions\")\n",
        "  plt.show()\n",
        "  return"
      ],
      "execution_count": 0,
      "outputs": []
    },
    {
      "cell_type": "markdown",
      "metadata": {
        "id": "fPQnTtcbxy6O",
        "colab_type": "text"
      },
      "source": [
        "This will display the heatmap that corresponds to the network's predictions."
      ]
    },
    {
      "cell_type": "code",
      "metadata": {
        "id": "hOqqVETNxiFG",
        "colab_type": "code",
        "outputId": "30416463-6995-4571-b2b0-6624f53fdaae",
        "colab": {
          "base_uri": "https://localhost:8080/",
          "height": 297
        }
      },
      "source": [
        "# Creates a heat map of the network\n",
        "y_min = min(data[:,1])\n",
        "y_max = max(data[:,1])\n",
        "accuracy = 100\n",
        "display_prediction_heatmap(log_network, p_w, p_b, 0, 1, y_min, y_max, accuracy)"
      ],
      "execution_count": 50,
      "outputs": [
        {
          "output_type": "display_data",
          "data": {
            "image/png": "[encoded data removed]",
            "text/plain": [
              "<Figure size 432x288 with 2 Axes>"
            ]
          },
          "metadata": {
            "tags": []
          }
        }
      ]
    },
    {
      "cell_type": "markdown",
      "metadata": {
        "id": "wVsyO--mxKTN",
        "colab_type": "text"
      },
      "source": [
        "#Problem Three: Custom Logistic Regression\n",
        "_Rather than using keras as a backend of logistic regression, this will be logistic regression done from scratch. In particular, this will use stochastic gradient descent as the backend solution._"
      ]
    },
    {
      "cell_type": "code",
      "metadata": {
        "id": "a799dXEwAWwx",
        "colab_type": "code",
        "colab": {}
      },
      "source": [
        "class LogRegNetwork:\n",
        "  weights = None\n",
        "\n",
        "  # Allows for initialization of hyperparameters and choose a loss function\n",
        "  def __init__ (self, epochs = 50, loss = 'binary_crossentropy',\n",
        "                lr = 0.05, verbose = True):\n",
        "    self.epochs = epochs\n",
        "    self.loss = loss\n",
        "    self.lr = lr\n",
        "    self.verbose = verbose\n",
        "  \n",
        "  # Will print out weights if called as a string\n",
        "  def __str__ (self):\n",
        "    return self.weights\n",
        "  \n",
        "  # This is the activation function (nonlinerarity)\n",
        "  def __sigmoid (self, z):\n",
        "    return 1 / (1 + np.exp(-z))\n",
        "  \n",
        "  # Loss function for mean squared error\n",
        "  def _squared_error_loss (self, a, y):\n",
        "    return (0.5 * (a-y)**2).mean()\n",
        "  \n",
        "  # Gradient for mean squared error\n",
        "  def _squared_error_gradient (self, a, y, data):\n",
        "    ret = ((a-y)*(1-a)) * data\n",
        "    # Replaces the bias term with its appropriate gradient\n",
        "    replace = (a-y) * data\n",
        "    ret[-1] = replace[-1]\n",
        "    return np.array([ret]).T\n",
        "\n",
        "  # Loss function for binary crossentropy\n",
        "  def _binary_crossentropy_loss (self, a, y):\n",
        "    return (-y * np.log(a) - (1 - y) * np.log(1 - a)).mean()\n",
        "\n",
        "  # Binary crossentropy gradient function\n",
        "  def _binary_crossentropy_gradient (self, a, y, data):\n",
        "    return np.array([(a-y) * data]).T\n",
        "\n",
        "  def get_weights (self):\n",
        "    return self.weights\n",
        "\n",
        "  # Provides users (and the fit function) to test compatibility of the\n",
        "  # training and testing data provided.\n",
        "  def test_dataset (self, tr_d, tr_l, te_d, te_l, re = False):\n",
        "    # Converts the data into numpy arrays (if not already)\n",
        "    try:\n",
        "      trd = np.array(tr_d)\n",
        "      trl = np.array(tr_l)\n",
        "      ted = np.array(te_d)\n",
        "      tel = np.array(te_l)\n",
        "    except:\n",
        "      if re:\n",
        "        raise Exception(\"Dataset could not be coerced into numpy arrays.\")\n",
        "      return False\n",
        "    # Tests shape of the training set\n",
        "    if trd.shape[0] != trl.shape[0]:\n",
        "      if re:\n",
        "        raise Exception(\"Training data and labels are unequal sizes.\")\n",
        "      return False\n",
        "    # Tests shape of the testing set\n",
        "    if ted.shape[0] != tel.shape[0]:\n",
        "      if re:\n",
        "        raise Exception(\"Testing data and labels are unequal sizes.\")\n",
        "      return False\n",
        "    # Tests shape of the training labels\n",
        "    if trl.shape[1] != 1:\n",
        "      if re:\n",
        "        raise Exception('Expected Training Labels to have shape (n,1). '\n",
        "        'Instead got shape (n,' + str(trl.shape[1]) + ').')\n",
        "      return False\n",
        "    # Tests shape of the testing labels\n",
        "    if tel.shape[1] != 1:\n",
        "      if re:\n",
        "        raise Exception('Expected Testing Labels to have shape (n,1). '\n",
        "        'Instead got shape (n,' + str(tel.shape[1]) + ').')\n",
        "      return False\n",
        "    # All preliminary tests of the data are passed\n",
        "    return True\n",
        "\n",
        "  def fit (self, tr_d, tr_l, te_d, te_l):\n",
        "    # Preprocesses Data\n",
        "    self.test_dataset(tr_d, tr_l, te_d, te_l, re = True)\n",
        "    tr_d_ = np.array(tr_d)\n",
        "    trd = np.column_stack((tr_d_, np.ones(shape=(tr_d_.shape[0], 1))))\n",
        "    trl = np.array(tr_l)\n",
        "    te_d_ = np.array(te_d)\n",
        "    ted = np.column_stack((te_d_, np.ones(shape=(te_d_.shape[0], 1))))\n",
        "    tel = np.array(te_l)\n",
        "    # Tests that the loss function and gradient exist\n",
        "    if not ('_' + self.loss + '_loss') in dir(self):\n",
        "      print('\"' + self.loss + '\" is not a valid loss function. '\n",
        "      'Defaulting to \"binary_crossentropy\".')\n",
        "      self.loss = 'binary_crossentropy'\n",
        "\n",
        "    # Sets weights to a zero vector the size of the amount of features\n",
        "    feature_count = trd.shape[1]\n",
        "    self.weights = np.zeros(shape=(feature_count,1))\n",
        "\n",
        "    # Performs Stochastic Gradient Descent\n",
        "    batch_cnt = trd.shape[0]\n",
        "    for i in range(self.epochs):\n",
        "      # Iterates through each batch (sgd has batch size of 1)\n",
        "      for j in range(batch_cnt):\n",
        "        z = np.dot(trd[j], self.weights)\n",
        "        a = self.__sigmoid(z)\n",
        "        # This is the gradient of the loss function\n",
        "        grad_function = '_' + self.loss + '_gradient'\n",
        "        gradient = (1/batch_cnt) * getattr(self, grad_function)(a,trl[j],trd[j])\n",
        "        self.weights -= self.lr * gradient\n",
        "        # Will print out current loss of the test set at the end of each epoch\n",
        "        if self.verbose and j == batch_cnt-1:\n",
        "          z_test = np.dot(ted, self.weights)\n",
        "          a_test = self.__sigmoid(z_test)\n",
        "          # Computes the loss on the testing set\n",
        "          lssf = '_' + self.loss + '_loss'\n",
        "          lss = getattr(self, lssf)(a_test, tel)\n",
        "          # Gets the accuracy of the predictions on the test set\n",
        "          accuracy = self.accuracy(te_d, te_l)\n",
        "          # Prints out the results of each epoch\n",
        "          print('[Epoch {0}]: Loss = {1:.5f}, Accuracy = {2:.2f}%'.\n",
        "                format(i+1, lss, accuracy * 100))\n",
        "\n",
        "    # Prints out the final results of the network\n",
        "    if self.verbose:\n",
        "      z_test = np.dot(ted, self.weights)\n",
        "      a_test = self.__sigmoid(z_test)\n",
        "      # Computes the loss on the testing set\n",
        "      lssf = '_' + self.loss + '_loss'\n",
        "      lss = getattr(self, lssf)(a_test, tel)\n",
        "      # Gets the accuracy of the predictions on the test set\n",
        "      accuracy = self.accuracy(te_d, te_l)\n",
        "      # Prints out the results of each epoch\n",
        "      print('\\n---------------------------------------------------------')\n",
        "      print('[FINAL RESULTS]: Loss = {0:.5f}, Accuracy = {1:.2f}%'.\n",
        "            format(lss, accuracy * 100))\n",
        "      print('---------------------------------------------------------')\n",
        "    \n",
        "    return\n",
        "\n",
        "  # Returns a prediction (0 or 1) based on the data inputed\n",
        "  def predict (self, data):\n",
        "    # Coerces data into numpy array\n",
        "    try:\n",
        "      np_data = np.array(data)\n",
        "    except:\n",
        "      raise Exception(\"Data could not be coerced into a numpy array.\")\n",
        "    # Adds the bias terms to the data\n",
        "    np_data = np.column_stack((np_data, np.ones(shape=(np_data.shape[0], 1))))\n",
        "    # Calculates the prediction. Predictions are in range (0,1)\n",
        "    try:\n",
        "      return self.__sigmoid(np.dot(np_data, self.weights))\n",
        "    except:\n",
        "      raise Exception('Prediction data is of incorrect form. Expected '\n",
        "      'shape (n,' + str(self.weights.shape[0]-1) + '). Instead got shape '\n",
        "      '(n,' + str(np_data.shape[1]-1) + \").\")\n",
        "  \n",
        "  # Returns the accuracy of the network on a testing dataset\n",
        "  def accuracy (self, te_d, te_l):\n",
        "    try:\n",
        "      tel = np.array(te_l)\n",
        "    except:\n",
        "      raise Exception(\"Test labels could not be coerced into numpy arrays.\")\n",
        "    # Predicts the labels of the data. np.rint causes the labels to be\n",
        "    # discrete predictions; 0 on [0, 0.5] and 1 on (0.5, 1], from testing.\n",
        "    prl = np.rint(self.predict(te_d))\n",
        "    # Returns the accuracy of the network on the testing set\n",
        "    return np.sum(prl == tel) / prl.size"
      ],
      "execution_count": 0,
      "outputs": []
    },
    {
      "cell_type": "markdown",
      "metadata": {
        "id": "PjS7id4zlJcl",
        "colab_type": "text"
      },
      "source": [
        "We can initialize the model with the desired epochs, learning rate, loss function and specify whether we want verbose output.\n",
        "(By default, the network will run for 50 epochs at a 0.05 learning rate, using binary cross entropy and verbose output.)\n",
        "\n",
        "Fitting the network to the dataset will display the loss and the accuracy on the test set."
      ]
    },
    {
      "cell_type": "code",
      "metadata": {
        "id": "EcuDA6UUmUlg",
        "colab_type": "code",
        "outputId": "ad1bf698-a974-479b-d7c0-8698711c9c3f",
        "colab": {
          "base_uri": "https://localhost:8080/",
          "height": 1000
        }
      },
      "source": [
        "#custom_log_network = LogRegNetwork(epochs = epochs, loss = 'squared_error')\n",
        "custom_log_network = LogRegNetwork(epochs = epochs, lr = 0.1)\n",
        "custom_log_network.fit(train_data, train_labels, test_data, test_labels)"
      ],
      "execution_count": 52,
      "outputs": [
        {
          "output_type": "stream",
          "text": [
            "[Epoch 1]: Loss = 0.39547, Accuracy = 75.10%\n",
            "[Epoch 2]: Loss = 0.38871, Accuracy = 75.88%\n",
            "[Epoch 3]: Loss = 0.38209, Accuracy = 76.60%\n",
            "[Epoch 4]: Loss = 0.37566, Accuracy = 77.30%\n",
            "[Epoch 5]: Loss = 0.36940, Accuracy = 78.15%\n",
            "[Epoch 6]: Loss = 0.36331, Accuracy = 78.88%\n",
            "[Epoch 7]: Loss = 0.35738, Accuracy = 79.65%\n",
            "[Epoch 8]: Loss = 0.35162, Accuracy = 80.25%\n",
            "[Epoch 9]: Loss = 0.34601, Accuracy = 81.05%\n",
            "[Epoch 10]: Loss = 0.34055, Accuracy = 81.77%\n",
            "[Epoch 11]: Loss = 0.33524, Accuracy = 82.42%\n",
            "[Epoch 12]: Loss = 0.33007, Accuracy = 83.05%\n",
            "[Epoch 13]: Loss = 0.32503, Accuracy = 83.73%\n",
            "[Epoch 14]: Loss = 0.32013, Accuracy = 84.23%\n",
            "[Epoch 15]: Loss = 0.31535, Accuracy = 84.45%\n",
            "[Epoch 16]: Loss = 0.31070, Accuracy = 84.88%\n",
            "[Epoch 17]: Loss = 0.30616, Accuracy = 85.28%\n",
            "[Epoch 18]: Loss = 0.30175, Accuracy = 85.70%\n",
            "[Epoch 19]: Loss = 0.29744, Accuracy = 86.15%\n",
            "[Epoch 20]: Loss = 0.29325, Accuracy = 86.55%\n",
            "[Epoch 21]: Loss = 0.28916, Accuracy = 86.83%\n",
            "[Epoch 22]: Loss = 0.28517, Accuracy = 87.20%\n",
            "[Epoch 23]: Loss = 0.28128, Accuracy = 87.45%\n",
            "[Epoch 24]: Loss = 0.27749, Accuracy = 87.92%\n",
            "[Epoch 25]: Loss = 0.27379, Accuracy = 88.10%\n",
            "[Epoch 26]: Loss = 0.27018, Accuracy = 88.33%\n",
            "[Epoch 27]: Loss = 0.26665, Accuracy = 88.58%\n",
            "[Epoch 28]: Loss = 0.26321, Accuracy = 89.00%\n",
            "[Epoch 29]: Loss = 0.25985, Accuracy = 89.50%\n",
            "[Epoch 30]: Loss = 0.25657, Accuracy = 89.75%\n",
            "[Epoch 31]: Loss = 0.25337, Accuracy = 90.00%\n",
            "[Epoch 32]: Loss = 0.25024, Accuracy = 90.22%\n",
            "[Epoch 33]: Loss = 0.24719, Accuracy = 90.60%\n",
            "[Epoch 34]: Loss = 0.24420, Accuracy = 90.85%\n",
            "[Epoch 35]: Loss = 0.24128, Accuracy = 91.05%\n",
            "[Epoch 36]: Loss = 0.23843, Accuracy = 91.30%\n",
            "[Epoch 37]: Loss = 0.23564, Accuracy = 91.65%\n",
            "[Epoch 38]: Loss = 0.23292, Accuracy = 92.10%\n",
            "[Epoch 39]: Loss = 0.23025, Accuracy = 92.25%\n",
            "[Epoch 40]: Loss = 0.22764, Accuracy = 92.45%\n",
            "[Epoch 41]: Loss = 0.22509, Accuracy = 92.60%\n",
            "[Epoch 42]: Loss = 0.22259, Accuracy = 92.90%\n",
            "[Epoch 43]: Loss = 0.22015, Accuracy = 93.12%\n",
            "[Epoch 44]: Loss = 0.21776, Accuracy = 93.23%\n",
            "[Epoch 45]: Loss = 0.21542, Accuracy = 93.33%\n",
            "[Epoch 46]: Loss = 0.21312, Accuracy = 93.45%\n",
            "[Epoch 47]: Loss = 0.21088, Accuracy = 93.60%\n",
            "[Epoch 48]: Loss = 0.20868, Accuracy = 93.80%\n",
            "[Epoch 49]: Loss = 0.20652, Accuracy = 93.95%\n",
            "[Epoch 50]: Loss = 0.20441, Accuracy = 94.10%\n",
            "[Epoch 51]: Loss = 0.20235, Accuracy = 94.20%\n",
            "[Epoch 52]: Loss = 0.20032, Accuracy = 94.33%\n",
            "[Epoch 53]: Loss = 0.19833, Accuracy = 94.53%\n",
            "[Epoch 54]: Loss = 0.19638, Accuracy = 94.67%\n",
            "[Epoch 55]: Loss = 0.19447, Accuracy = 94.80%\n",
            "[Epoch 56]: Loss = 0.19260, Accuracy = 94.88%\n",
            "[Epoch 57]: Loss = 0.19076, Accuracy = 95.00%\n",
            "[Epoch 58]: Loss = 0.18896, Accuracy = 95.03%\n",
            "[Epoch 59]: Loss = 0.18719, Accuracy = 95.17%\n",
            "[Epoch 60]: Loss = 0.18546, Accuracy = 95.28%\n",
            "[Epoch 61]: Loss = 0.18376, Accuracy = 95.40%\n",
            "[Epoch 62]: Loss = 0.18208, Accuracy = 95.53%\n",
            "[Epoch 63]: Loss = 0.18044, Accuracy = 95.65%\n",
            "[Epoch 64]: Loss = 0.17883, Accuracy = 95.73%\n",
            "[Epoch 65]: Loss = 0.17725, Accuracy = 95.83%\n",
            "[Epoch 66]: Loss = 0.17570, Accuracy = 95.88%\n",
            "[Epoch 67]: Loss = 0.17417, Accuracy = 96.03%\n",
            "[Epoch 68]: Loss = 0.17267, Accuracy = 96.12%\n",
            "[Epoch 69]: Loss = 0.17120, Accuracy = 96.20%\n",
            "[Epoch 70]: Loss = 0.16975, Accuracy = 96.25%\n",
            "[Epoch 71]: Loss = 0.16833, Accuracy = 96.38%\n",
            "[Epoch 72]: Loss = 0.16693, Accuracy = 96.43%\n",
            "[Epoch 73]: Loss = 0.16556, Accuracy = 96.50%\n",
            "[Epoch 74]: Loss = 0.16421, Accuracy = 96.55%\n",
            "[Epoch 75]: Loss = 0.16288, Accuracy = 96.55%\n",
            "[Epoch 76]: Loss = 0.16157, Accuracy = 96.62%\n",
            "[Epoch 77]: Loss = 0.16029, Accuracy = 96.73%\n",
            "[Epoch 78]: Loss = 0.15903, Accuracy = 96.80%\n",
            "[Epoch 79]: Loss = 0.15778, Accuracy = 96.85%\n",
            "[Epoch 80]: Loss = 0.15656, Accuracy = 96.90%\n",
            "[Epoch 81]: Loss = 0.15536, Accuracy = 96.97%\n",
            "[Epoch 82]: Loss = 0.15417, Accuracy = 96.97%\n",
            "[Epoch 83]: Loss = 0.15301, Accuracy = 97.02%\n",
            "[Epoch 84]: Loss = 0.15186, Accuracy = 97.10%\n",
            "[Epoch 85]: Loss = 0.15073, Accuracy = 97.17%\n",
            "[Epoch 86]: Loss = 0.14962, Accuracy = 97.20%\n",
            "[Epoch 87]: Loss = 0.14853, Accuracy = 97.22%\n",
            "[Epoch 88]: Loss = 0.14745, Accuracy = 97.32%\n",
            "[Epoch 89]: Loss = 0.14639, Accuracy = 97.35%\n",
            "[Epoch 90]: Loss = 0.14535, Accuracy = 97.38%\n",
            "[Epoch 91]: Loss = 0.14432, Accuracy = 97.40%\n",
            "[Epoch 92]: Loss = 0.14330, Accuracy = 97.42%\n",
            "[Epoch 93]: Loss = 0.14230, Accuracy = 97.47%\n",
            "[Epoch 94]: Loss = 0.14132, Accuracy = 97.55%\n",
            "[Epoch 95]: Loss = 0.14035, Accuracy = 97.60%\n",
            "[Epoch 96]: Loss = 0.13939, Accuracy = 97.62%\n",
            "[Epoch 97]: Loss = 0.13845, Accuracy = 97.67%\n",
            "[Epoch 98]: Loss = 0.13752, Accuracy = 97.67%\n",
            "[Epoch 99]: Loss = 0.13661, Accuracy = 97.72%\n",
            "[Epoch 100]: Loss = 0.13570, Accuracy = 97.72%\n",
            "\n",
            "---------------------------------------------------------\n",
            "[FINAL RESULTS]: Loss = 0.13570, Accuracy = 97.72%\n",
            "---------------------------------------------------------\n"
          ],
          "name": "stdout"
        }
      ]
    },
    {
      "cell_type": "markdown",
      "metadata": {
        "id": "9_f9q7KTnG-a",
        "colab_type": "text"
      },
      "source": [
        "After fitting the model, we can aquire the weights and compute the predicted function the same way as with the keras model. We can also then display these results using the same charts as above."
      ]
    },
    {
      "cell_type": "code",
      "metadata": {
        "id": "z9z_MX5jn7Rh",
        "colab_type": "code",
        "outputId": "a64e7ab5-d82e-4675-c665-202881a95638",
        "colab": {
          "base_uri": "https://localhost:8080/",
          "height": 297
        }
      },
      "source": [
        "# Gets the weights of the network\n",
        "weights = custom_log_network.get_weights()\n",
        "w1 = weights[0,0]\n",
        "w2 = weights[1,0]\n",
        "bias = weights[2,0]\n",
        "# Calculates the predicted weight and bias term for the separating line\n",
        "p_w = -w1/w2\n",
        "p_b = -bias/w2\n",
        "# Displays the data with the predicted and actual lines\n",
        "display_prediction(data, labels, p_w, p_b, w, b)"
      ],
      "execution_count": 53,
      "outputs": [
        {
          "output_type": "display_data",
          "data": {
            "image/png": "[encoded data removed]",
            "text/plain": [
              "<Figure size 432x288 with 1 Axes>"
            ]
          },
          "metadata": {
            "tags": []
          }
        }
      ]
    },
    {
      "cell_type": "markdown",
      "metadata": {
        "id": "MJPPf4KRo1Wa",
        "colab_type": "text"
      },
      "source": [
        "Finally, we can observe this output as a heatmap."
      ]
    },
    {
      "cell_type": "code",
      "metadata": {
        "id": "hnQiRZbVo6n8",
        "colab_type": "code",
        "outputId": "e5b2717e-1d6d-4846-e8db-ae964353a621",
        "colab": {
          "base_uri": "https://localhost:8080/",
          "height": 297
        }
      },
      "source": [
        "display_prediction_heatmap(custom_log_network, p_w, p_b, 0, 1, y_min, y_max, accuracy)"
      ],
      "execution_count": 54,
      "outputs": [
        {
          "output_type": "display_data",
          "data": {
            "image/png": "[encoded data removed]",
            "text/plain": [
              "<Figure size 432x288 with 2 Axes>"
            ]
          },
          "metadata": {
            "tags": []
          }
        }
      ]
    }
  ]
}