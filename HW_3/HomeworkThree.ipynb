{
  "nbformat": 4,
  "nbformat_minor": 0,
  "metadata": {
    "colab": {
      "name": "HomeworkThree.ipynb",
      "provenance": [],
      "collapsed_sections": []
    },
    "kernelspec": {
      "name": "python3",
      "display_name": "Python 3"
    }
  },
  "cells": [
    {
      "cell_type": "markdown",
      "metadata": {
        "id": "Ynxo0x9huFEe",
        "colab_type": "text"
      },
      "source": [
        "#Problem One: Generating Random Data\n",
        "_The following functions generate and display data that will be used later in two different logistic regression implementations._\n",
        "\n",
        "The random data is of the following form:\n",
        "\n",
        "Data $D = \\begin{bmatrix} x_{1_0} & x_{2_0} \\\\ x_{1_1} & x_{2_1} \\\\ \\vdots & \\vdots \\\\ x_{1_m} & x_{2_m} \\end{bmatrix}$\n",
        "has label $L = \\begin{bmatrix} l_0 \\\\ l_1 \\\\ \\vdots \\\\ l_m \\end{bmatrix}$,\n",
        "\n",
        "where each $x_{1_i}$ is uniformly chosen from $[0,1.0)$ and \n",
        "\n",
        "$x_{2_i} = w \\times x_{1_i} + b + (-1)^{l_i} \\times n_i$.\n",
        "\n",
        "$n_i$ is randomly chosen on a normal distribtion with mean $\\mu=$ mu, and standard deviation $\\sigma=$ sigma.\n",
        "\n",
        "$l_i$ is a random label chosen with a 50% chance of being 0 or 1.\n"
      ]
    },
    {
      "cell_type": "markdown",
      "metadata": {
        "id": "dS55_Zcadoit",
        "colab_type": "text"
      },
      "source": [
        "**Imports**"
      ]
    },
    {
      "cell_type": "code",
      "metadata": {
        "id": "TPCmaUG-4nbA",
        "colab_type": "code",
        "colab": {}
      },
      "source": [
        "import numpy as np\n",
        "%matplotlib inline\n",
        "import matplotlib as mpl\n",
        "import matplotlib.pyplot as plt"
      ],
      "execution_count": 0,
      "outputs": []
    },
    {
      "cell_type": "markdown",
      "metadata": {
        "id": "Q7u2SgP_dwmu",
        "colab_type": "text"
      },
      "source": [
        "This generates the data with the above specifications."
      ]
    },
    {
      "cell_type": "code",
      "metadata": {
        "id": "flYiLtbalZJP",
        "colab_type": "code",
        "colab": {}
      },
      "source": [
        "def get_random_data (w, b, mu, sigma, m):\n",
        "  # Gets random labels (2 with 50% chance of being either)\n",
        "  labels = np.zeros(shape=(m, 1))\n",
        "  labels[:,0] = np.random.choice([0, 1], size=(m,1), p=[.5, .5]).flatten()\n",
        "  # Uniformly gets random data for first feature of data\n",
        "  data = np.zeros(shape=(m, 2))\n",
        "  data[:,0] = np.random.uniform(size=(m,1)).flatten()\n",
        "  # Creates second feature of data using first feature and added noise\n",
        "  n = np.random.normal(mu, sigma, (m,1)).flatten()\n",
        "  data[:,1] = w * data[:,0] + b + np.power(-1, labels).flatten() * n\n",
        "  return data, labels"
      ],
      "execution_count": 0,
      "outputs": []
    },
    {
      "cell_type": "markdown",
      "metadata": {
        "id": "CUrBQhzzctaz",
        "colab_type": "text"
      },
      "source": [
        "This will plot the data and labels on a scatter plot."
      ]
    },
    {
      "cell_type": "code",
      "metadata": {
        "id": "vJYIolGwlZZ7",
        "colab_type": "code",
        "colab": {}
      },
      "source": [
        "def display_random_data (data, labels):\n",
        "  # Reshapes the labels to make for easier comparison\n",
        "  idx = labels.flatten()\n",
        "  # Seperate and plot the data according to label\n",
        "  zero_data = data[idx == 0,:]\n",
        "  plt.scatter(zero_data[:,0], zero_data[:,1], c='blue', label='Class 0')\n",
        "  one_data = data[idx == 1,:]\n",
        "  plt.scatter(one_data[:,0], one_data[:,1], c='red', label='Class 1')\n",
        "  # Adds some descriptive elements and shows the plot\n",
        "  plt.legend()\n",
        "  plt.title('Randomly Generated Class Data')\n",
        "  plt.xlabel('$x_1$')\n",
        "  plt.ylabel('$x_2$')\n",
        "  plt.show()\n",
        "  return"
      ],
      "execution_count": 0,
      "outputs": []
    },
    {
      "cell_type": "markdown",
      "metadata": {
        "id": "8g3kUBY-cOed",
        "colab_type": "text"
      },
      "source": [
        "This will take the data and labels, and randomly sort them into 80:20 training/testing sets."
      ]
    },
    {
      "cell_type": "code",
      "metadata": {
        "id": "YBCPIOHcW2Xv",
        "colab_type": "code",
        "colab": {}
      },
      "source": [
        "def split_data (data, labels):\n",
        "  data_and_labels = np.column_stack((data, labels))\n",
        "  np.random.shuffle(data_and_labels)\n",
        "  # Gets training and testing data\n",
        "  m = data.shape[0]\n",
        "  tr_d, te_d = np.split(data_and_labels[:,:2], [int(m*0.8)])\n",
        "  # Gets training and testing labels\n",
        "  tr_l, te_l = np.split(data_and_labels[:,2:], [int(m*0.8)])\n",
        "  return tr_d, te_d, tr_l, te_l"
      ],
      "execution_count": 0,
      "outputs": []
    },
    {
      "cell_type": "markdown",
      "metadata": {
        "id": "aCZYHoaoOrhB",
        "colab_type": "text"
      },
      "source": [
        "Now we can create the dataset:"
      ]
    },
    {
      "cell_type": "code",
      "metadata": {
        "id": "QEaoVZSNAARD",
        "colab_type": "code",
        "outputId": "22bde4e1-f9fc-497d-f679-dcb944dcc453",
        "colab": {
          "base_uri": "https://localhost:8080/",
          "height": 297
        }
      },
      "source": [
        "# Hyperparameters\n",
        "m = 10000\n",
        "w = 5\n",
        "b = 2\n",
        "mu = 10\n",
        "sigma = 4\n",
        "# Generates the dataset \n",
        "data, labels = get_random_data(w, b, mu, sigma, m)\n",
        "# Plots the dataset\n",
        "display_random_data(data, labels)\n",
        "# Splits dataset into training and testing sets\n",
        "train_data, test_data, train_labels, test_labels = split_data(data, labels)"
      ],
      "execution_count": 36,
      "outputs": [
        {
          "output_type": "display_data",
          "data": {
            "image/png": "[encoded data removed]",
            "text/plain": [
              "<Figure size 432x288 with 1 Axes>"
            ]
          },
          "metadata": {
            "tags": []
          }
        }
      ]
    },
    {
      "cell_type": "markdown",
      "metadata": {
        "id": "MPpugcQXlEtC",
        "colab_type": "text"
      },
      "source": [
        "#Problem Two: Keras Logistic Regression\n",
        "_Using the generated dataset, we can now use keras to perform logistic regression on it._"
      ]
    },
    {
      "cell_type": "markdown",
      "metadata": {
        "id": "EF6T9LCJxO0y",
        "colab_type": "text"
      },
      "source": [
        "**Additional Imports**"
      ]
    },
    {
      "cell_type": "code",
      "metadata": {
        "id": "UBhjjq8ZxMsD",
        "colab_type": "code",
        "colab": {}
      },
      "source": [
        "import tensorflow as tf\n",
        "from tensorflow import keras"
      ],
      "execution_count": 0,
      "outputs": []
    },
    {
      "cell_type": "markdown",
      "metadata": {
        "id": "ZXOPmXlLx4OA",
        "colab_type": "text"
      },
      "source": [
        "This will create a complete logistic model made for the dataset"
      ]
    },
    {
      "cell_type": "code",
      "metadata": {
        "id": "R3zeULoZx4ZM",
        "colab_type": "code",
        "colab": {}
      },
      "source": [
        "def keras_create_logistic_model ():\n",
        "  # Defines the model\n",
        "  logistic_network = keras.models.Sequential()\n",
        "  # Adds a single dense layer\n",
        "  logistic_network.add(keras.layers.Dense(1, activation='sigmoid', input_shape=(2,)))\n",
        "  # Compiles the network\n",
        "  logistic_network.compile(optimizer='rmsprop',\n",
        "                          loss='binary_crossentropy',\n",
        "                          metrics=['accuracy'])\n",
        "  return logistic_network"
      ],
      "execution_count": 0,
      "outputs": []
    },
    {
      "cell_type": "markdown",
      "metadata": {
        "id": "AWm3Zw3X8LsB",
        "colab_type": "text"
      },
      "source": [
        "Now we can compile and train this model on the data."
      ]
    },
    {
      "cell_type": "code",
      "metadata": {
        "id": "rPnSPNDI8LeK",
        "colab_type": "code",
        "outputId": "840ca90d-67c9-4694-816a-0c2294fcd2f0",
        "colab": {
          "base_uri": "https://localhost:8080/",
          "height": 1000
        }
      },
      "source": [
        "# Hyperparameters\n",
        "epochs = 100\n",
        "batch_size = 512\n",
        "\n",
        "# Creates the network\n",
        "log_network = keras_create_logistic_model()\n",
        "\n",
        "# Fits the model\n",
        "history = log_network.fit(train_data,\n",
        "                          train_labels,\n",
        "                          epochs=epochs,\n",
        "                          batch_size=batch_size,\n",
        "                          validation_data=(test_data, test_labels))"
      ],
      "execution_count": 39,
      "outputs": [
        {
          "output_type": "stream",
          "text": [
            "Train on 8000 samples, validate on 2000 samples\n",
            "Epoch 1/100\n",
            "8000/8000 [==============================] - 0s 14us/sample - loss: 2.9804 - acc: 0.0922 - val_loss: 2.8643 - val_acc: 0.0965\n",
            "Epoch 2/100\n",
            "8000/8000 [==============================] - 0s 4us/sample - loss: 2.7983 - acc: 0.0925 - val_loss: 2.7032 - val_acc: 0.0965\n",
            "Epoch 3/100\n",
            "8000/8000 [==============================] - 0s 3us/sample - loss: 2.6416 - acc: 0.0925 - val_loss: 2.5502 - val_acc: 0.0965\n",
            "Epoch 4/100\n",
            "8000/8000 [==============================] - 0s 3us/sample - loss: 2.4900 - acc: 0.0931 - val_loss: 2.4005 - val_acc: 0.0970\n",
            "Epoch 5/100\n",
            "8000/8000 [==============================] - 0s 3us/sample - loss: 2.3404 - acc: 0.0935 - val_loss: 2.2518 - val_acc: 0.0955\n",
            "Epoch 6/100\n",
            "8000/8000 [==============================] - 0s 3us/sample - loss: 2.1915 - acc: 0.0944 - val_loss: 2.1035 - val_acc: 0.0950\n",
            "Epoch 7/100\n",
            "8000/8000 [==============================] - 0s 3us/sample - loss: 2.0447 - acc: 0.0948 - val_loss: 1.9587 - val_acc: 0.0955\n",
            "Epoch 8/100\n",
            "8000/8000 [==============================] - 0s 4us/sample - loss: 1.9007 - acc: 0.0951 - val_loss: 1.8171 - val_acc: 0.0975\n",
            "Epoch 9/100\n",
            "8000/8000 [==============================] - 0s 3us/sample - loss: 1.7598 - acc: 0.0964 - val_loss: 1.6783 - val_acc: 0.0975\n",
            "Epoch 10/100\n",
            "8000/8000 [==============================] - 0s 3us/sample - loss: 1.6225 - acc: 0.0964 - val_loss: 1.5437 - val_acc: 0.0980\n",
            "Epoch 11/100\n",
            "8000/8000 [==============================] - 0s 4us/sample - loss: 1.4885 - acc: 0.0978 - val_loss: 1.4118 - val_acc: 0.1025\n",
            "Epoch 12/100\n",
            "8000/8000 [==============================] - 0s 3us/sample - loss: 1.3593 - acc: 0.0986 - val_loss: 1.2865 - val_acc: 0.1045\n",
            "Epoch 13/100\n",
            "8000/8000 [==============================] - 0s 3us/sample - loss: 1.2361 - acc: 0.1020 - val_loss: 1.1675 - val_acc: 0.1110\n",
            "Epoch 14/100\n",
            "8000/8000 [==============================] - 0s 3us/sample - loss: 1.1191 - acc: 0.1099 - val_loss: 1.0545 - val_acc: 0.1170\n",
            "Epoch 15/100\n",
            "8000/8000 [==============================] - 0s 3us/sample - loss: 1.0088 - acc: 0.1205 - val_loss: 0.9487 - val_acc: 0.1285\n",
            "Epoch 16/100\n",
            "8000/8000 [==============================] - 0s 3us/sample - loss: 0.9068 - acc: 0.1425 - val_loss: 0.8521 - val_acc: 0.1635\n",
            "Epoch 17/100\n",
            "8000/8000 [==============================] - 0s 3us/sample - loss: 0.8140 - acc: 0.2004 - val_loss: 0.7650 - val_acc: 0.2655\n",
            "Epoch 18/100\n",
            "8000/8000 [==============================] - 0s 3us/sample - loss: 0.7300 - acc: 0.3811 - val_loss: 0.6858 - val_acc: 0.5455\n",
            "Epoch 19/100\n",
            "8000/8000 [==============================] - 0s 3us/sample - loss: 0.6542 - acc: 0.6885 - val_loss: 0.6147 - val_acc: 0.8445\n",
            "Epoch 20/100\n",
            "8000/8000 [==============================] - 0s 3us/sample - loss: 0.5860 - acc: 0.9062 - val_loss: 0.5510 - val_acc: 0.9460\n",
            "Epoch 21/100\n",
            "8000/8000 [==============================] - 0s 3us/sample - loss: 0.5254 - acc: 0.9544 - val_loss: 0.4944 - val_acc: 0.9700\n",
            "Epoch 22/100\n",
            "8000/8000 [==============================] - 0s 3us/sample - loss: 0.4715 - acc: 0.9689 - val_loss: 0.4441 - val_acc: 0.9740\n",
            "Epoch 23/100\n",
            "8000/8000 [==============================] - 0s 3us/sample - loss: 0.4237 - acc: 0.9734 - val_loss: 0.3995 - val_acc: 0.9745\n",
            "Epoch 24/100\n",
            "8000/8000 [==============================] - 0s 3us/sample - loss: 0.3815 - acc: 0.9755 - val_loss: 0.3602 - val_acc: 0.9765\n",
            "Epoch 25/100\n",
            "8000/8000 [==============================] - 0s 3us/sample - loss: 0.3443 - acc: 0.9764 - val_loss: 0.3255 - val_acc: 0.9775\n",
            "Epoch 26/100\n",
            "8000/8000 [==============================] - 0s 4us/sample - loss: 0.3115 - acc: 0.9771 - val_loss: 0.2950 - val_acc: 0.9770\n",
            "Epoch 27/100\n",
            "8000/8000 [==============================] - 0s 4us/sample - loss: 0.2828 - acc: 0.9779 - val_loss: 0.2683 - val_acc: 0.9760\n",
            "Epoch 28/100\n",
            "8000/8000 [==============================] - 0s 4us/sample - loss: 0.2575 - acc: 0.9778 - val_loss: 0.2448 - val_acc: 0.9760\n",
            "Epoch 29/100\n",
            "8000/8000 [==============================] - 0s 3us/sample - loss: 0.2353 - acc: 0.9775 - val_loss: 0.2241 - val_acc: 0.9765\n",
            "Epoch 30/100\n",
            "8000/8000 [==============================] - 0s 4us/sample - loss: 0.2157 - acc: 0.9778 - val_loss: 0.2058 - val_acc: 0.9775\n",
            "Epoch 31/100\n",
            "8000/8000 [==============================] - 0s 4us/sample - loss: 0.1985 - acc: 0.9775 - val_loss: 0.1898 - val_acc: 0.9765\n",
            "Epoch 32/100\n",
            "8000/8000 [==============================] - 0s 3us/sample - loss: 0.1833 - acc: 0.9775 - val_loss: 0.1756 - val_acc: 0.9760\n",
            "Epoch 33/100\n",
            "8000/8000 [==============================] - 0s 3us/sample - loss: 0.1699 - acc: 0.9780 - val_loss: 0.1630 - val_acc: 0.9760\n",
            "Epoch 34/100\n",
            "8000/8000 [==============================] - 0s 3us/sample - loss: 0.1579 - acc: 0.9781 - val_loss: 0.1519 - val_acc: 0.9760\n",
            "Epoch 35/100\n",
            "8000/8000 [==============================] - 0s 3us/sample - loss: 0.1474 - acc: 0.9779 - val_loss: 0.1421 - val_acc: 0.9760\n",
            "Epoch 36/100\n",
            "8000/8000 [==============================] - 0s 3us/sample - loss: 0.1380 - acc: 0.9780 - val_loss: 0.1334 - val_acc: 0.9760\n",
            "Epoch 37/100\n",
            "8000/8000 [==============================] - 0s 3us/sample - loss: 0.1297 - acc: 0.9783 - val_loss: 0.1256 - val_acc: 0.9755\n",
            "Epoch 38/100\n",
            "8000/8000 [==============================] - 0s 3us/sample - loss: 0.1222 - acc: 0.9781 - val_loss: 0.1187 - val_acc: 0.9755\n",
            "Epoch 39/100\n",
            "8000/8000 [==============================] - 0s 3us/sample - loss: 0.1156 - acc: 0.9781 - val_loss: 0.1126 - val_acc: 0.9755\n",
            "Epoch 40/100\n",
            "8000/8000 [==============================] - 0s 4us/sample - loss: 0.1096 - acc: 0.9783 - val_loss: 0.1070 - val_acc: 0.9755\n",
            "Epoch 41/100\n",
            "8000/8000 [==============================] - 0s 4us/sample - loss: 0.1043 - acc: 0.9781 - val_loss: 0.1021 - val_acc: 0.9760\n",
            "Epoch 42/100\n",
            "8000/8000 [==============================] - 0s 3us/sample - loss: 0.0995 - acc: 0.9780 - val_loss: 0.0977 - val_acc: 0.9760\n",
            "Epoch 43/100\n",
            "8000/8000 [==============================] - 0s 3us/sample - loss: 0.0953 - acc: 0.9781 - val_loss: 0.0938 - val_acc: 0.9765\n",
            "Epoch 44/100\n",
            "8000/8000 [==============================] - 0s 3us/sample - loss: 0.0914 - acc: 0.9781 - val_loss: 0.0902 - val_acc: 0.9765\n",
            "Epoch 45/100\n",
            "8000/8000 [==============================] - 0s 3us/sample - loss: 0.0879 - acc: 0.9781 - val_loss: 0.0870 - val_acc: 0.9765\n",
            "Epoch 46/100\n",
            "8000/8000 [==============================] - 0s 3us/sample - loss: 0.0847 - acc: 0.9781 - val_loss: 0.0841 - val_acc: 0.9755\n",
            "Epoch 47/100\n",
            "8000/8000 [==============================] - 0s 3us/sample - loss: 0.0819 - acc: 0.9781 - val_loss: 0.0816 - val_acc: 0.9750\n",
            "Epoch 48/100\n",
            "8000/8000 [==============================] - 0s 3us/sample - loss: 0.0793 - acc: 0.9780 - val_loss: 0.0793 - val_acc: 0.9755\n",
            "Epoch 49/100\n",
            "8000/8000 [==============================] - 0s 3us/sample - loss: 0.0770 - acc: 0.9780 - val_loss: 0.0772 - val_acc: 0.9755\n",
            "Epoch 50/100\n",
            "8000/8000 [==============================] - 0s 4us/sample - loss: 0.0749 - acc: 0.9780 - val_loss: 0.0753 - val_acc: 0.9760\n",
            "Epoch 51/100\n",
            "8000/8000 [==============================] - 0s 4us/sample - loss: 0.0730 - acc: 0.9781 - val_loss: 0.0736 - val_acc: 0.9760\n",
            "Epoch 52/100\n",
            "8000/8000 [==============================] - 0s 3us/sample - loss: 0.0713 - acc: 0.9780 - val_loss: 0.0720 - val_acc: 0.9760\n",
            "Epoch 53/100\n",
            "8000/8000 [==============================] - 0s 4us/sample - loss: 0.0697 - acc: 0.9783 - val_loss: 0.0706 - val_acc: 0.9760\n",
            "Epoch 54/100\n",
            "8000/8000 [==============================] - 0s 4us/sample - loss: 0.0683 - acc: 0.9784 - val_loss: 0.0693 - val_acc: 0.9760\n",
            "Epoch 55/100\n",
            "8000/8000 [==============================] - 0s 4us/sample - loss: 0.0670 - acc: 0.9785 - val_loss: 0.0681 - val_acc: 0.9770\n",
            "Epoch 56/100\n",
            "8000/8000 [==============================] - 0s 3us/sample - loss: 0.0658 - acc: 0.9786 - val_loss: 0.0671 - val_acc: 0.9770\n",
            "Epoch 57/100\n",
            "8000/8000 [==============================] - 0s 3us/sample - loss: 0.0647 - acc: 0.9789 - val_loss: 0.0660 - val_acc: 0.9775\n",
            "Epoch 58/100\n",
            "8000/8000 [==============================] - 0s 4us/sample - loss: 0.0637 - acc: 0.9791 - val_loss: 0.0650 - val_acc: 0.9775\n",
            "Epoch 59/100\n",
            "8000/8000 [==============================] - 0s 3us/sample - loss: 0.0627 - acc: 0.9791 - val_loss: 0.0641 - val_acc: 0.9785\n",
            "Epoch 60/100\n",
            "8000/8000 [==============================] - 0s 3us/sample - loss: 0.0617 - acc: 0.9794 - val_loss: 0.0631 - val_acc: 0.9785\n",
            "Epoch 61/100\n",
            "8000/8000 [==============================] - 0s 3us/sample - loss: 0.0608 - acc: 0.9796 - val_loss: 0.0622 - val_acc: 0.9785\n",
            "Epoch 62/100\n",
            "8000/8000 [==============================] - 0s 3us/sample - loss: 0.0599 - acc: 0.9800 - val_loss: 0.0614 - val_acc: 0.9785\n",
            "Epoch 63/100\n",
            "8000/8000 [==============================] - 0s 4us/sample - loss: 0.0590 - acc: 0.9803 - val_loss: 0.0605 - val_acc: 0.9790\n",
            "Epoch 64/100\n",
            "8000/8000 [==============================] - 0s 4us/sample - loss: 0.0581 - acc: 0.9808 - val_loss: 0.0596 - val_acc: 0.9790\n",
            "Epoch 65/100\n",
            "8000/8000 [==============================] - 0s 4us/sample - loss: 0.0573 - acc: 0.9810 - val_loss: 0.0588 - val_acc: 0.9785\n",
            "Epoch 66/100\n",
            "8000/8000 [==============================] - 0s 4us/sample - loss: 0.0564 - acc: 0.9810 - val_loss: 0.0579 - val_acc: 0.9795\n",
            "Epoch 67/100\n",
            "8000/8000 [==============================] - 0s 4us/sample - loss: 0.0556 - acc: 0.9814 - val_loss: 0.0571 - val_acc: 0.9800\n",
            "Epoch 68/100\n",
            "8000/8000 [==============================] - 0s 4us/sample - loss: 0.0548 - acc: 0.9815 - val_loss: 0.0563 - val_acc: 0.9800\n",
            "Epoch 69/100\n",
            "8000/8000 [==============================] - 0s 3us/sample - loss: 0.0540 - acc: 0.9815 - val_loss: 0.0555 - val_acc: 0.9810\n",
            "Epoch 70/100\n",
            "8000/8000 [==============================] - 0s 4us/sample - loss: 0.0533 - acc: 0.9819 - val_loss: 0.0547 - val_acc: 0.9820\n",
            "Epoch 71/100\n",
            "8000/8000 [==============================] - 0s 4us/sample - loss: 0.0525 - acc: 0.9820 - val_loss: 0.0540 - val_acc: 0.9820\n",
            "Epoch 72/100\n",
            "8000/8000 [==============================] - 0s 4us/sample - loss: 0.0518 - acc: 0.9821 - val_loss: 0.0532 - val_acc: 0.9820\n",
            "Epoch 73/100\n",
            "8000/8000 [==============================] - 0s 3us/sample - loss: 0.0510 - acc: 0.9822 - val_loss: 0.0525 - val_acc: 0.9825\n",
            "Epoch 74/100\n",
            "8000/8000 [==============================] - 0s 3us/sample - loss: 0.0503 - acc: 0.9827 - val_loss: 0.0518 - val_acc: 0.9830\n",
            "Epoch 75/100\n",
            "8000/8000 [==============================] - 0s 4us/sample - loss: 0.0497 - acc: 0.9829 - val_loss: 0.0511 - val_acc: 0.9830\n",
            "Epoch 76/100\n",
            "8000/8000 [==============================] - 0s 3us/sample - loss: 0.0490 - acc: 0.9831 - val_loss: 0.0505 - val_acc: 0.9845\n",
            "Epoch 77/100\n",
            "8000/8000 [==============================] - 0s 4us/sample - loss: 0.0483 - acc: 0.9831 - val_loss: 0.0498 - val_acc: 0.9850\n",
            "Epoch 78/100\n",
            "8000/8000 [==============================] - 0s 3us/sample - loss: 0.0477 - acc: 0.9835 - val_loss: 0.0491 - val_acc: 0.9855\n",
            "Epoch 79/100\n",
            "8000/8000 [==============================] - 0s 3us/sample - loss: 0.0470 - acc: 0.9836 - val_loss: 0.0485 - val_acc: 0.9865\n",
            "Epoch 80/100\n",
            "8000/8000 [==============================] - 0s 3us/sample - loss: 0.0464 - acc: 0.9845 - val_loss: 0.0479 - val_acc: 0.9865\n",
            "Epoch 81/100\n",
            "8000/8000 [==============================] - 0s 3us/sample - loss: 0.0458 - acc: 0.9849 - val_loss: 0.0473 - val_acc: 0.9870\n",
            "Epoch 82/100\n",
            "8000/8000 [==============================] - 0s 4us/sample - loss: 0.0452 - acc: 0.9855 - val_loss: 0.0467 - val_acc: 0.9875\n",
            "Epoch 83/100\n",
            "8000/8000 [==============================] - 0s 4us/sample - loss: 0.0446 - acc: 0.9856 - val_loss: 0.0461 - val_acc: 0.9875\n",
            "Epoch 84/100\n",
            "8000/8000 [==============================] - 0s 3us/sample - loss: 0.0441 - acc: 0.9858 - val_loss: 0.0455 - val_acc: 0.9880\n",
            "Epoch 85/100\n",
            "8000/8000 [==============================] - 0s 3us/sample - loss: 0.0435 - acc: 0.9859 - val_loss: 0.0449 - val_acc: 0.9885\n",
            "Epoch 86/100\n",
            "8000/8000 [==============================] - 0s 3us/sample - loss: 0.0430 - acc: 0.9862 - val_loss: 0.0444 - val_acc: 0.9890\n",
            "Epoch 87/100\n",
            "8000/8000 [==============================] - 0s 4us/sample - loss: 0.0424 - acc: 0.9865 - val_loss: 0.0438 - val_acc: 0.9890\n",
            "Epoch 88/100\n",
            "8000/8000 [==============================] - 0s 4us/sample - loss: 0.0419 - acc: 0.9868 - val_loss: 0.0433 - val_acc: 0.9895\n",
            "Epoch 89/100\n",
            "8000/8000 [==============================] - 0s 3us/sample - loss: 0.0414 - acc: 0.9871 - val_loss: 0.0428 - val_acc: 0.9900\n",
            "Epoch 90/100\n",
            "8000/8000 [==============================] - 0s 3us/sample - loss: 0.0409 - acc: 0.9879 - val_loss: 0.0423 - val_acc: 0.9900\n",
            "Epoch 91/100\n",
            "8000/8000 [==============================] - 0s 3us/sample - loss: 0.0404 - acc: 0.9881 - val_loss: 0.0418 - val_acc: 0.9900\n",
            "Epoch 92/100\n",
            "8000/8000 [==============================] - 0s 4us/sample - loss: 0.0399 - acc: 0.9881 - val_loss: 0.0413 - val_acc: 0.9900\n",
            "Epoch 93/100\n",
            "8000/8000 [==============================] - 0s 4us/sample - loss: 0.0394 - acc: 0.9886 - val_loss: 0.0408 - val_acc: 0.9900\n",
            "Epoch 94/100\n",
            "8000/8000 [==============================] - 0s 3us/sample - loss: 0.0389 - acc: 0.9885 - val_loss: 0.0403 - val_acc: 0.9900\n",
            "Epoch 95/100\n",
            "8000/8000 [==============================] - 0s 3us/sample - loss: 0.0385 - acc: 0.9886 - val_loss: 0.0399 - val_acc: 0.9900\n",
            "Epoch 96/100\n",
            "8000/8000 [==============================] - 0s 3us/sample - loss: 0.0380 - acc: 0.9887 - val_loss: 0.0394 - val_acc: 0.9900\n",
            "Epoch 97/100\n",
            "8000/8000 [==============================] - 0s 3us/sample - loss: 0.0376 - acc: 0.9890 - val_loss: 0.0390 - val_acc: 0.9900\n",
            "Epoch 98/100\n",
            "8000/8000 [==============================] - 0s 4us/sample - loss: 0.0372 - acc: 0.9890 - val_loss: 0.0385 - val_acc: 0.9900\n",
            "Epoch 99/100\n",
            "8000/8000 [==============================] - 0s 4us/sample - loss: 0.0368 - acc: 0.9893 - val_loss: 0.0381 - val_acc: 0.9905\n",
            "Epoch 100/100\n",
            "8000/8000 [==============================] - 0s 4us/sample - loss: 0.0364 - acc: 0.9894 - val_loss: 0.0377 - val_acc: 0.9905\n"
          ],
          "name": "stdout"
        }
      ]
    },
    {
      "cell_type": "markdown",
      "metadata": {
        "id": "SwEsAN47-bE6",
        "colab_type": "text"
      },
      "source": [
        "This will display the data with a prediction line and the actual separating line."
      ]
    },
    {
      "cell_type": "code",
      "metadata": {
        "id": "Ic5hAVNOO9BN",
        "colab_type": "code",
        "colab": {}
      },
      "source": [
        "def display_prediction (data, labels, p_w, p_b, w, b):\n",
        "  # Reshapes the labels to make for easier comparison\n",
        "  idx = labels.flatten()\n",
        "  # Seperate and plot the data according to label\n",
        "  zero_data = data[idx == 0,:]\n",
        "  plt.scatter(zero_data[:,0], zero_data[:,1], c='blue', label='True Class 0')\n",
        "  one_data = data[idx == 1,:]\n",
        "  plt.scatter(one_data[:,0], one_data[:,1], c='red', label='True Class 1')\n",
        "  x = np.linspace(0,1,100)\n",
        "  py = p_w*x+p_b\n",
        "  plt.plot(x, py, '-g', label='Prediction Line', linewidth = 4.0)\n",
        "  y = w*x+b\n",
        "  plt.plot(x, y, '-k', label='Actual Line', linewidth = 4.0)\n",
        "  # Adds some descriptive elements and shows the plot\n",
        "  plt.legend()\n",
        "  plt.title('Predictions on Random Data')\n",
        "  plt.xlabel('$x_1$')\n",
        "  plt.ylabel('$x_2$')\n",
        "  plt.show()\n",
        "  return"
      ],
      "execution_count": 0,
      "outputs": []
    },
    {
      "cell_type": "markdown",
      "metadata": {
        "id": "a6uMD5bPlWHE",
        "colab_type": "text"
      },
      "source": [
        "To get the predicted $w_p$ and $b_p$ values for the seperating line, we will get the weights $w_1$, $w_2$ and bias term $b_{model}$ of the trained logistic network.\n",
        "\n",
        "Since we are using the $sigmoid$ function $\\sigma(z)$, defined on $\\mathbb{R}^2 \\rightarrow (0,1)$, as the activation layer, the resulting classes are separated at the line where $\\sigma(z)=1/2$.\n",
        "___\n",
        "$\\sigma(z)=1/2$\n",
        "\n",
        "$\\Longleftrightarrow z=0$\n",
        "\n",
        "$\\Longleftrightarrow w_1x_1+w_2x_2+b_{model}=0$\n",
        "\n",
        "$\\Longleftrightarrow x_2=-(w_1/w_2)x_1-(b_{model}/w_2)$\n",
        "___\n",
        "Thus,\n",
        "\n",
        "$w_p=-(w_1/w_2)$,\n",
        "\n",
        "$b_p=-(b_{model}/w_2)$"
      ]
    },
    {
      "cell_type": "markdown",
      "metadata": {
        "id": "p8ljXIJbplSa",
        "colab_type": "text"
      },
      "source": [
        "Now, we will get the weights of the network and compute the predicted weight and bias term. These are then used to form a chart of the data and the predicted/real functions."
      ]
    },
    {
      "cell_type": "code",
      "metadata": {
        "id": "D4wvJM9d-YY4",
        "colab_type": "code",
        "outputId": "cbf7d005-5e21-411f-ccb8-bd5a233f23ff",
        "colab": {
          "base_uri": "https://localhost:8080/",
          "height": 297
        }
      },
      "source": [
        "# Gets the weights of the network\n",
        "weights = log_network.get_weights()\n",
        "w1 = weights[0][0][0]\n",
        "w2 = weights[0][1][0]\n",
        "bias = weights[1][0]\n",
        "# Calculates the predicted weight and bias term for the separating line\n",
        "p_w = -w1/w2\n",
        "p_b = -bias/w2\n",
        "# Displays the data with the predicted and actual lines\n",
        "display_prediction(data, labels, p_w, p_b, w, b)"
      ],
      "execution_count": 41,
      "outputs": [
        {
          "output_type": "display_data",
          "data": {
            "image/png": "[encoded data removed]",
            "text/plain": [
              "<Figure size 432x288 with 1 Axes>"
            ]
          },
          "metadata": {
            "tags": []
          }
        }
      ]
    },
    {
      "cell_type": "markdown",
      "metadata": {
        "id": "1GB91FWEPFMh",
        "colab_type": "text"
      },
      "source": [
        "A heat map can then be used to display the output of the model further."
      ]
    },
    {
      "cell_type": "code",
      "metadata": {
        "id": "bLoRimjNPFsI",
        "colab_type": "code",
        "colab": {}
      },
      "source": [
        "def display_prediction_heatmap (model, p_w, p_b,x_min, x_max, y_min, y_max, acc):\n",
        "  # Creates X, Y plane\n",
        "  x = np.linspace(x_min, x_max, acc)\n",
        "  y = np.linspace(y_min, y_max, acc)\n",
        "  X, Y = np.meshgrid(x, y)\n",
        "  # Creates Z values based on x, y grid\n",
        "  X_flat = X.flatten()\n",
        "  Y_flat = Y.flatten()\n",
        "  Z = np.column_stack((X_flat, Y_flat))\n",
        "  Z = model.predict(Z)\n",
        "  Z = Z.reshape((acc,acc))\n",
        "\n",
        "  # Configures the plot\n",
        "  fig = plt.figure()\n",
        "  ax = plt.axes()\n",
        "\n",
        "  # Draws the heatmap\n",
        "  contours = ax.contourf(X, Y, Z, acc, cmap='RdBu_r')\n",
        "  im = ax.imshow(Z, extent=[x_min, x_max, y_min, y_max],\n",
        "                 origin = 'lower', cmap='RdBu_r', alpha=0.5, aspect='auto')\n",
        "  \n",
        "  # Gives a colorbar (should be in range [0,1])\n",
        "  plt.colorbar(im, ax=ax)\n",
        "\n",
        "  # Gives labels to the chart\n",
        "  ax.set_xlabel('$x_1$')\n",
        "  ax.set_ylabel('$x_2$')\n",
        "  ax.set_title(\"Heatmap Based on Network Predictions\")\n",
        "  plt.show()\n",
        "  return"
      ],
      "execution_count": 0,
      "outputs": []
    },
    {
      "cell_type": "markdown",
      "metadata": {
        "id": "fPQnTtcbxy6O",
        "colab_type": "text"
      },
      "source": [
        "This will display the heatmap that corresponds to the network's predictions."
      ]
    },
    {
      "cell_type": "code",
      "metadata": {
        "id": "hOqqVETNxiFG",
        "colab_type": "code",
        "outputId": "488c80c7-d73a-46f0-f20e-c6e2d3f80606",
        "colab": {
          "base_uri": "https://localhost:8080/",
          "height": 297
        }
      },
      "source": [
        "# Creates a heat map of the network\n",
        "y_min = min(data[:,1])\n",
        "y_max = max(data[:,1])\n",
        "accuracy = 100\n",
        "display_prediction_heatmap(log_network, p_w, p_b, 0, 1, y_min, y_max, accuracy)"
      ],
      "execution_count": 43,
      "outputs": [
        {
          "output_type": "display_data",
          "data": {
            "image/png": "[encoded data removed]",
            "text/plain": [
              "<Figure size 432x288 with 2 Axes>"
            ]
          },
          "metadata": {
            "tags": []
          }
        }
      ]
    },
    {
      "cell_type": "markdown",
      "metadata": {
        "id": "wVsyO--mxKTN",
        "colab_type": "text"
      },
      "source": [
        "#Problem Three: Custom Logistic Regression\n",
        "_Rather than using keras as a backend of logistic regression, this will be logistic regression done from scratch. In particular, this will use stochastic gradient descent as the backend solution._"
      ]
    },
    {
      "cell_type": "code",
      "metadata": {
        "id": "a799dXEwAWwx",
        "colab_type": "code",
        "colab": {}
      },
      "source": [
        "class LogRegNetwork:\n",
        "  weights = None\n",
        "\n",
        "  # Allows for initialization of hyperparameters and choose a loss function\n",
        "  def __init__ (self, epochs = 50, loss = 'binary_crossentropy',\n",
        "                lr = 0.05, verbose = True):\n",
        "    self.epochs = epochs\n",
        "    self.loss = loss\n",
        "    self.lr = lr\n",
        "    self.verbose = verbose\n",
        "  \n",
        "  # Will print out weights if called as a string\n",
        "  def __str__ (self):\n",
        "    return self.weights\n",
        "  \n",
        "  # This is the activation function (nonlinerarity)\n",
        "  def __sigmoid (self, z):\n",
        "    return 1 / (1 + np.exp(-z))\n",
        "  \n",
        "  # Loss function for mean squared error\n",
        "  def _squared_error_loss (self, a, y):\n",
        "    return (0.5 * (a-y)**2).mean()\n",
        "  \n",
        "  # Gradient for mean squared error\n",
        "  def _squared_error_gradient (self, a, y, data):\n",
        "    ret = ((a-y)*(1-a)) * data\n",
        "    # Replaces the bias term with its appropriate gradient\n",
        "    replace = (a-y) * data\n",
        "    ret[-1] = replace[-1]\n",
        "    return np.array([ret]).T\n",
        "\n",
        "  # Loss function for binary crossentropy\n",
        "  def _binary_crossentropy_loss (self, a, y):\n",
        "    return (-y * np.log(a) - (1 - y) * np.log(1 - a)).mean()\n",
        "\n",
        "  # Binary crossentropy gradient function\n",
        "  def _binary_crossentropy_gradient (self, a, y, data):\n",
        "    return np.array([(a-y) * data]).T\n",
        "\n",
        "  def get_weights (self):\n",
        "    return self.weights\n",
        "\n",
        "  # Provides users (and the fit function) to test compatibility of the\n",
        "  # training and testing data provided.\n",
        "  def test_dataset (self, tr_d, tr_l, te_d, te_l, re = False):\n",
        "    # Converts the data into numpy arrays (if not already)\n",
        "    try:\n",
        "      trd = np.array(tr_d)\n",
        "      trl = np.array(tr_l)\n",
        "      ted = np.array(te_d)\n",
        "      tel = np.array(te_l)\n",
        "    except:\n",
        "      if re:\n",
        "        raise Exception(\"Dataset could not be coerced into numpy arrays.\")\n",
        "      return False\n",
        "    # Tests shape of the training set\n",
        "    if trd.shape[0] != trl.shape[0]:\n",
        "      if re:\n",
        "        raise Exception(\"Training data and labels are unequal sizes.\")\n",
        "      return False\n",
        "    # Tests shape of the testing set\n",
        "    if ted.shape[0] != tel.shape[0]:\n",
        "      if re:\n",
        "        raise Exception(\"Testing data and labels are unequal sizes.\")\n",
        "      return False\n",
        "    # Tests shape of the training labels\n",
        "    if trl.shape[1] != 1:\n",
        "      if re:\n",
        "        raise Exception('Expected Training Labels to have shape (n,1).'\n",
        "        'Instead got shape (n,' + str(trl.shape[1]) + ').')\n",
        "      return False\n",
        "    # Tests shape of the testing labels\n",
        "    if tel.shape[1] != 1:\n",
        "      if re:\n",
        "        raise Exception('Expected Testing Labels to have shape (n,1).'\n",
        "        'Instead got shape (n,' + str(tel.shape[1]) + ').')\n",
        "      return False\n",
        "    # All preliminary tests of the data are passed\n",
        "    return True\n",
        "\n",
        "  def fit (self, tr_d, tr_l, te_d, te_l):\n",
        "    # Preprocesses Data\n",
        "    self.test_dataset(tr_d, tr_l, te_d, te_l, re = True)\n",
        "    tr_d_ = np.array(tr_d)\n",
        "    trd = np.column_stack((tr_d_, np.ones(shape=(tr_d_.shape[0], 1))))\n",
        "    trl = np.array(tr_l)\n",
        "    te_d_ = np.array(te_d)\n",
        "    ted = np.column_stack((te_d_, np.ones(shape=(te_d_.shape[0], 1))))\n",
        "    tel = np.array(te_l)\n",
        "    # Tests that the loss function and gradient exist\n",
        "    if not ('_' + self.loss + '_loss') in dir(self):\n",
        "      print('\"' + self.loss + '\" is not a valid loss function.'\n",
        "      'Defaulting to \"binary_crossentropy\".')\n",
        "      self.loss = 'binary_crossentropy'\n",
        "\n",
        "    # Sets weights to a zero vector the size of the amount of features\n",
        "    feature_count = trd.shape[1]\n",
        "    self.weights = np.zeros(shape=(feature_count,1))\n",
        "\n",
        "    # Performs Stochastic Gradient Descent\n",
        "    batch_cnt = trd.shape[0]\n",
        "    for i in range(self.epochs):\n",
        "      # Iterates through each batch (sgd has batch size of 1)\n",
        "      for j in range(batch_cnt):\n",
        "        z = np.dot(trd[j], self.weights)\n",
        "        a = self.__sigmoid(z)\n",
        "        # This is the gradient of the loss function\n",
        "        grad_function = '_' + self.loss + '_gradient'\n",
        "        gradient = (1/batch_cnt) * getattr(self, grad_function)(a,trl[j],trd[j])\n",
        "        self.weights -= self.lr * gradient\n",
        "        # Will print out current loss of the test set at the end of each epoch\n",
        "        if self.verbose and j == batch_cnt-1:\n",
        "          z_test = np.dot(ted, self.weights)\n",
        "          a_test = self.__sigmoid(z_test)\n",
        "          # Computes the loss on the testing set\n",
        "          lssf = '_' + self.loss + '_loss'\n",
        "          lss = getattr(self, lssf)(a_test, tel)\n",
        "          # Gets the accuracy of the predictions on the test set\n",
        "          accuracy = self.accuracy(te_d, te_l)\n",
        "          # Prints out the results of each epoch\n",
        "          print('[Epoch {0}]: Loss = {1:.5f}, Accuracy = {2:.2f}%'.\n",
        "                format(i+1, lss, accuracy * 100))\n",
        "\n",
        "    # Prints out the final results of the network\n",
        "    if self.verbose:\n",
        "      z_test = np.dot(ted, self.weights)\n",
        "      a_test = self.__sigmoid(z_test)\n",
        "      # Computes the loss on the testing set\n",
        "      lssf = '_' + self.loss + '_loss'\n",
        "      lss = getattr(self, lssf)(a_test, tel)\n",
        "      # Gets the accuracy of the predictions on the test set\n",
        "      accuracy = self.accuracy(te_d, te_l)\n",
        "      # Prints out the results of each epoch\n",
        "      print('\\n---------------------------------------------------------')\n",
        "      print('[FINAL RESULTS]: Loss = {0:.5f}, Accuracy = {1:.2f}%'.\n",
        "            format(lss, accuracy * 100))\n",
        "      print('---------------------------------------------------------')\n",
        "    \n",
        "    return\n",
        "\n",
        "  # Returns a prediction (0 or 1) based on the data inputed\n",
        "  def predict (self, data):\n",
        "    # Coerces data into numpy array\n",
        "    try:\n",
        "      np_data = np.array(data)\n",
        "    except:\n",
        "      raise Exception(\"Data could not be coerced into a numpy array.\")\n",
        "    # Adds the bias terms to the data\n",
        "    np_data = np.column_stack((np_data, np.ones(shape=(np_data.shape[0], 1))))\n",
        "    # Calculates the prediction. Predictions are in range (0,1)\n",
        "    try:\n",
        "      return self.__sigmoid(np.dot(np_data, self.weights))\n",
        "    except:\n",
        "      raise Exception('Prediction data is of incorrect form. Expected'\n",
        "      'shape (n,' + str(self.weights.shape[0]-1) + '). Instead got shape'\n",
        "      '(n,' + str(np_data.shape[1]-1) + \").\")\n",
        "  \n",
        "  # Returns the accuracy of the network on a testing dataset\n",
        "  def accuracy (self, te_d, te_l):\n",
        "    try:\n",
        "      tel = np.array(te_l)\n",
        "    except:\n",
        "      raise Exception(\"Test labels could not be coerced into numpy arrays.\")\n",
        "    # Predicts the labels of the data. np.rint causes the labels to be\n",
        "    # discrete predictions; 0 on [0, 0.5] and 1 on (0.5, 1], from testing.\n",
        "    prl = np.rint(self.predict(te_d))\n",
        "    # Returns the accuracy of the network on the testing set\n",
        "    return np.sum(prl == tel) / prl.size"
      ],
      "execution_count": 0,
      "outputs": []
    },
    {
      "cell_type": "markdown",
      "metadata": {
        "id": "PjS7id4zlJcl",
        "colab_type": "text"
      },
      "source": [
        "We can initialize the model with the desired epochs, learning rate, loss function and specify whether we want verbose output.\n",
        "(By default, the network will run for 50 epochs at a 0.05 learning rate, using binary cross entropy and verbose output.)\n",
        "\n",
        "Fitting the network to the dataset will display the loss and the accuracy on the test set."
      ]
    },
    {
      "cell_type": "code",
      "metadata": {
        "id": "EcuDA6UUmUlg",
        "colab_type": "code",
        "outputId": "860e9049-8529-498a-9cba-5ce5866f855d",
        "colab": {
          "base_uri": "https://localhost:8080/",
          "height": 1000
        }
      },
      "source": [
        "#custom_log_network = LogRegNetwork(epochs = epochs, loss = 'squared_error')\n",
        "custom_log_network = LogRegNetwork(epochs = epochs, lr = 0.1)\n",
        "custom_log_network.fit(train_data, train_labels, test_data, test_labels)"
      ],
      "execution_count": 45,
      "outputs": [
        {
          "output_type": "stream",
          "text": [
            "[Epoch 1]: Loss = 0.21916, Accuracy = 94.90%\n",
            "[Epoch 2]: Loss = 0.17301, Accuracy = 95.10%\n",
            "[Epoch 3]: Loss = 0.15418, Accuracy = 95.15%\n",
            "[Epoch 4]: Loss = 0.14358, Accuracy = 95.20%\n",
            "[Epoch 5]: Loss = 0.13663, Accuracy = 95.20%\n",
            "[Epoch 6]: Loss = 0.13165, Accuracy = 95.20%\n",
            "[Epoch 7]: Loss = 0.12786, Accuracy = 95.20%\n",
            "[Epoch 8]: Loss = 0.12485, Accuracy = 95.20%\n",
            "[Epoch 9]: Loss = 0.12237, Accuracy = 95.20%\n",
            "[Epoch 10]: Loss = 0.12028, Accuracy = 95.20%\n",
            "[Epoch 11]: Loss = 0.11848, Accuracy = 95.25%\n",
            "[Epoch 12]: Loss = 0.11690, Accuracy = 95.30%\n",
            "[Epoch 13]: Loss = 0.11549, Accuracy = 95.30%\n",
            "[Epoch 14]: Loss = 0.11422, Accuracy = 95.35%\n",
            "[Epoch 15]: Loss = 0.11306, Accuracy = 95.35%\n",
            "[Epoch 16]: Loss = 0.11199, Accuracy = 95.35%\n",
            "[Epoch 17]: Loss = 0.11100, Accuracy = 95.35%\n",
            "[Epoch 18]: Loss = 0.11007, Accuracy = 95.35%\n",
            "[Epoch 19]: Loss = 0.10920, Accuracy = 95.35%\n",
            "[Epoch 20]: Loss = 0.10838, Accuracy = 95.40%\n",
            "[Epoch 21]: Loss = 0.10759, Accuracy = 95.40%\n",
            "[Epoch 22]: Loss = 0.10684, Accuracy = 95.45%\n",
            "[Epoch 23]: Loss = 0.10612, Accuracy = 95.45%\n",
            "[Epoch 24]: Loss = 0.10543, Accuracy = 95.45%\n",
            "[Epoch 25]: Loss = 0.10477, Accuracy = 95.45%\n",
            "[Epoch 26]: Loss = 0.10412, Accuracy = 95.45%\n",
            "[Epoch 27]: Loss = 0.10349, Accuracy = 95.45%\n",
            "[Epoch 28]: Loss = 0.10289, Accuracy = 95.55%\n",
            "[Epoch 29]: Loss = 0.10229, Accuracy = 95.55%\n",
            "[Epoch 30]: Loss = 0.10172, Accuracy = 95.65%\n",
            "[Epoch 31]: Loss = 0.10115, Accuracy = 95.65%\n",
            "[Epoch 32]: Loss = 0.10060, Accuracy = 95.65%\n",
            "[Epoch 33]: Loss = 0.10006, Accuracy = 95.65%\n",
            "[Epoch 34]: Loss = 0.09952, Accuracy = 95.65%\n",
            "[Epoch 35]: Loss = 0.09900, Accuracy = 95.65%\n",
            "[Epoch 36]: Loss = 0.09849, Accuracy = 95.65%\n",
            "[Epoch 37]: Loss = 0.09799, Accuracy = 95.65%\n",
            "[Epoch 38]: Loss = 0.09749, Accuracy = 95.65%\n",
            "[Epoch 39]: Loss = 0.09700, Accuracy = 95.75%\n",
            "[Epoch 40]: Loss = 0.09652, Accuracy = 95.75%\n",
            "[Epoch 41]: Loss = 0.09604, Accuracy = 95.75%\n",
            "[Epoch 42]: Loss = 0.09557, Accuracy = 95.80%\n",
            "[Epoch 43]: Loss = 0.09511, Accuracy = 95.80%\n",
            "[Epoch 44]: Loss = 0.09465, Accuracy = 95.80%\n",
            "[Epoch 45]: Loss = 0.09420, Accuracy = 95.80%\n",
            "[Epoch 46]: Loss = 0.09376, Accuracy = 95.85%\n",
            "[Epoch 47]: Loss = 0.09331, Accuracy = 95.95%\n",
            "[Epoch 48]: Loss = 0.09288, Accuracy = 96.00%\n",
            "[Epoch 49]: Loss = 0.09245, Accuracy = 96.00%\n",
            "[Epoch 50]: Loss = 0.09202, Accuracy = 96.00%\n",
            "[Epoch 51]: Loss = 0.09160, Accuracy = 96.05%\n",
            "[Epoch 52]: Loss = 0.09118, Accuracy = 96.15%\n",
            "[Epoch 53]: Loss = 0.09077, Accuracy = 96.20%\n",
            "[Epoch 54]: Loss = 0.09036, Accuracy = 96.30%\n",
            "[Epoch 55]: Loss = 0.08995, Accuracy = 96.30%\n",
            "[Epoch 56]: Loss = 0.08955, Accuracy = 96.30%\n",
            "[Epoch 57]: Loss = 0.08915, Accuracy = 96.35%\n",
            "[Epoch 58]: Loss = 0.08876, Accuracy = 96.35%\n",
            "[Epoch 59]: Loss = 0.08836, Accuracy = 96.35%\n",
            "[Epoch 60]: Loss = 0.08798, Accuracy = 96.35%\n",
            "[Epoch 61]: Loss = 0.08759, Accuracy = 96.35%\n",
            "[Epoch 62]: Loss = 0.08721, Accuracy = 96.35%\n",
            "[Epoch 63]: Loss = 0.08684, Accuracy = 96.35%\n",
            "[Epoch 64]: Loss = 0.08646, Accuracy = 96.35%\n",
            "[Epoch 65]: Loss = 0.08609, Accuracy = 96.35%\n",
            "[Epoch 66]: Loss = 0.08573, Accuracy = 96.35%\n",
            "[Epoch 67]: Loss = 0.08536, Accuracy = 96.40%\n",
            "[Epoch 68]: Loss = 0.08500, Accuracy = 96.40%\n",
            "[Epoch 69]: Loss = 0.08464, Accuracy = 96.45%\n",
            "[Epoch 70]: Loss = 0.08429, Accuracy = 96.55%\n",
            "[Epoch 71]: Loss = 0.08394, Accuracy = 96.55%\n",
            "[Epoch 72]: Loss = 0.08359, Accuracy = 96.60%\n",
            "[Epoch 73]: Loss = 0.08324, Accuracy = 96.65%\n",
            "[Epoch 74]: Loss = 0.08290, Accuracy = 96.70%\n",
            "[Epoch 75]: Loss = 0.08256, Accuracy = 96.70%\n",
            "[Epoch 76]: Loss = 0.08222, Accuracy = 96.80%\n",
            "[Epoch 77]: Loss = 0.08189, Accuracy = 96.80%\n",
            "[Epoch 78]: Loss = 0.08156, Accuracy = 96.80%\n",
            "[Epoch 79]: Loss = 0.08123, Accuracy = 96.80%\n",
            "[Epoch 80]: Loss = 0.08090, Accuracy = 96.80%\n",
            "[Epoch 81]: Loss = 0.08058, Accuracy = 96.95%\n",
            "[Epoch 82]: Loss = 0.08026, Accuracy = 96.95%\n",
            "[Epoch 83]: Loss = 0.07994, Accuracy = 96.95%\n",
            "[Epoch 84]: Loss = 0.07963, Accuracy = 96.95%\n",
            "[Epoch 85]: Loss = 0.07931, Accuracy = 96.95%\n",
            "[Epoch 86]: Loss = 0.07900, Accuracy = 96.95%\n",
            "[Epoch 87]: Loss = 0.07870, Accuracy = 96.95%\n",
            "[Epoch 88]: Loss = 0.07839, Accuracy = 96.95%\n",
            "[Epoch 89]: Loss = 0.07809, Accuracy = 96.95%\n",
            "[Epoch 90]: Loss = 0.07779, Accuracy = 96.95%\n",
            "[Epoch 91]: Loss = 0.07749, Accuracy = 96.95%\n",
            "[Epoch 92]: Loss = 0.07719, Accuracy = 96.95%\n",
            "[Epoch 93]: Loss = 0.07690, Accuracy = 96.95%\n",
            "[Epoch 94]: Loss = 0.07661, Accuracy = 96.95%\n",
            "[Epoch 95]: Loss = 0.07632, Accuracy = 96.95%\n",
            "[Epoch 96]: Loss = 0.07604, Accuracy = 96.95%\n",
            "[Epoch 97]: Loss = 0.07575, Accuracy = 96.95%\n",
            "[Epoch 98]: Loss = 0.07547, Accuracy = 96.95%\n",
            "[Epoch 99]: Loss = 0.07519, Accuracy = 96.95%\n",
            "[Epoch 100]: Loss = 0.07492, Accuracy = 96.95%\n",
            "\n",
            "---------------------------------------------------------\n",
            "[FINAL RESULTS]: Loss = 0.07492, Accuracy = 96.95%\n",
            "---------------------------------------------------------\n"
          ],
          "name": "stdout"
        }
      ]
    },
    {
      "cell_type": "markdown",
      "metadata": {
        "id": "9_f9q7KTnG-a",
        "colab_type": "text"
      },
      "source": [
        "After fitting the model, we can aquire the weights and compute the predicted function the same way as with the keras model. We can also then display these results using the same charts as above."
      ]
    },
    {
      "cell_type": "code",
      "metadata": {
        "id": "z9z_MX5jn7Rh",
        "colab_type": "code",
        "outputId": "227337f4-fdfc-4022-86e7-4c433e162c1e",
        "colab": {
          "base_uri": "https://localhost:8080/",
          "height": 297
        }
      },
      "source": [
        "# Gets the weights of the network\n",
        "weights = custom_log_network.get_weights()\n",
        "w1 = weights[0,0]\n",
        "w2 = weights[1,0]\n",
        "bias = weights[2,0]\n",
        "# Calculates the predicted weight and bias term for the separating line\n",
        "p_w = -w1/w2\n",
        "p_b = -bias/w2\n",
        "# Displays the data with the predicted and actual lines\n",
        "display_prediction(data, labels, p_w, p_b, w, b)"
      ],
      "execution_count": 46,
      "outputs": [
        {
          "output_type": "display_data",
          "data": {
            "image/png": "[encoded data removed]",
            "text/plain": [
              "<Figure size 432x288 with 1 Axes>"
            ]
          },
          "metadata": {
            "tags": []
          }
        }
      ]
    },
    {
      "cell_type": "markdown",
      "metadata": {
        "id": "MJPPf4KRo1Wa",
        "colab_type": "text"
      },
      "source": [
        "Finally, we can observe this output as a heatmap."
      ]
    },
    {
      "cell_type": "code",
      "metadata": {
        "id": "hnQiRZbVo6n8",
        "colab_type": "code",
        "outputId": "17a829b6-c659-40e2-d688-427e61d8cc1b",
        "colab": {
          "base_uri": "https://localhost:8080/",
          "height": 297
        }
      },
      "source": [
        "display_prediction_heatmap(custom_log_network, p_w, p_b, 0, 1, y_min, y_max, accuracy)"
      ],
      "execution_count": 47,
      "outputs": [
        {
          "output_type": "display_data",
          "data": {
            "image/png": "[encoded data removed]",
            "text/plain": [
              "<Figure size 432x288 with 2 Axes>"
            ]
          },
          "metadata": {
            "tags": []
          }
        }
      ]
    }
  ]
}