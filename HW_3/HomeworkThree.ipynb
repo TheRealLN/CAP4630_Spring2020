{
  "nbformat": 4,
  "nbformat_minor": 0,
  "metadata": {
    "colab": {
      "name": "HomeworkThree.ipynb",
      "provenance": [],
      "collapsed_sections": []
    },
    "kernelspec": {
      "name": "python3",
      "display_name": "Python 3"
    }
  },
  "cells": [
    {
      "cell_type": "markdown",
      "metadata": {
        "id": "Ynxo0x9huFEe",
        "colab_type": "text"
      },
      "source": [
        "#Problem One: Generating Random Data\n",
        "_The following functions generate and display data that will be used later in two different logistic regression implementations._\n",
        "\n",
        "The random data is of the following form:\n",
        "\n",
        "Data $D = \\begin{bmatrix} x_{1_0} & x_{2_0} \\\\ x_{1_1} & x_{2_1} \\\\ \\vdots & \\vdots \\\\ x_{1_m} & x_{2_m} \\end{bmatrix}$\n",
        "has label $L = \\begin{bmatrix} l_0 \\\\ l_1 \\\\ \\vdots \\\\ l_m \\end{bmatrix}$,\n",
        "\n",
        "where each $x_{1_i}$ is uniformly chosen from $[0,1.0)$ and \n",
        "\n",
        "$x_{2_i} = w \\times x_{1_i} + b + (-1)^{l_i} \\times n_i$.\n",
        "\n",
        "$n_i$ is randomly chosen on a normal distribtion with mean $\\mu=$ mu, and standard deviation $\\sigma=$ sigma.\n",
        "\n",
        "$l_i$ is a random label chosen with a 50% chance of being 0 or 1.\n"
      ]
    },
    {
      "cell_type": "markdown",
      "metadata": {
        "id": "dS55_Zcadoit",
        "colab_type": "text"
      },
      "source": [
        "**Imports**"
      ]
    },
    {
      "cell_type": "code",
      "metadata": {
        "id": "TPCmaUG-4nbA",
        "colab_type": "code",
        "colab": {}
      },
      "source": [
        "import numpy as np\n",
        "%matplotlib inline\n",
        "import matplotlib as mpl\n",
        "import matplotlib.pyplot as plt"
      ],
      "execution_count": 0,
      "outputs": []
    },
    {
      "cell_type": "markdown",
      "metadata": {
        "id": "Q7u2SgP_dwmu",
        "colab_type": "text"
      },
      "source": [
        "This generates the data with the above specifications."
      ]
    },
    {
      "cell_type": "code",
      "metadata": {
        "id": "flYiLtbalZJP",
        "colab_type": "code",
        "colab": {}
      },
      "source": [
        "def get_random_data (w, b, mu, sigma, m):\n",
        "  # Gets random labels (2 with 50% chance of being either)\n",
        "  labels = np.zeros(shape=(m, 1))\n",
        "  labels[:,0] = np.random.choice([0, 1], size=(m,1), p=[.5, .5]).flatten()\n",
        "  # Uniformly gets random data for first feature of data\n",
        "  data = np.zeros(shape=(m, 2))\n",
        "  data[:,0] = np.random.uniform(size=(m,1)).flatten()\n",
        "  # Creates second feature of data using first feature and added noise\n",
        "  n = np.random.normal(mu, sigma, (m,1)).flatten()\n",
        "  data[:,1] = w * data[:,0] + b + np.power(-1, labels).flatten() * n\n",
        "  return data, labels"
      ],
      "execution_count": 0,
      "outputs": []
    },
    {
      "cell_type": "markdown",
      "metadata": {
        "id": "CUrBQhzzctaz",
        "colab_type": "text"
      },
      "source": [
        "This will plot the data and labels on a scatter plot."
      ]
    },
    {
      "cell_type": "code",
      "metadata": {
        "id": "vJYIolGwlZZ7",
        "colab_type": "code",
        "colab": {}
      },
      "source": [
        "def display_random_data (data, labels):\n",
        "  # Reshapes the labels to make for easier comparison\n",
        "  idx = labels.flatten()\n",
        "  # Seperate and plot the data according to label\n",
        "  zero_data = data[idx == 0,:]\n",
        "  plt.scatter(zero_data[:,0], zero_data[:,1], c='blue', label='Class 0')\n",
        "  one_data = data[idx == 1,:]\n",
        "  plt.scatter(one_data[:,0], one_data[:,1], c='red', label='Class 1')\n",
        "  # Adds some descriptive elements and shows the plot\n",
        "  plt.legend()\n",
        "  plt.title('Randomly Generated Class Data')\n",
        "  plt.xlabel('$x_1$')\n",
        "  plt.ylabel('$x_2$')\n",
        "  plt.show()\n",
        "  return"
      ],
      "execution_count": 0,
      "outputs": []
    },
    {
      "cell_type": "markdown",
      "metadata": {
        "id": "8g3kUBY-cOed",
        "colab_type": "text"
      },
      "source": [
        "This will take the data and labels, and randomly sort them into 80:20 training/testing sets."
      ]
    },
    {
      "cell_type": "code",
      "metadata": {
        "id": "YBCPIOHcW2Xv",
        "colab_type": "code",
        "colab": {}
      },
      "source": [
        "def split_data (data, labels):\n",
        "  data_and_labels = np.column_stack((data, labels))\n",
        "  np.random.shuffle(data_and_labels)\n",
        "  # Gets training and testing data\n",
        "  m = data.shape[0]\n",
        "  tr_d, te_d = np.split(data_and_labels[:,:2], [int(m*0.8)])\n",
        "  # Gets training and testing labels\n",
        "  tr_l, te_l = np.split(data_and_labels[:,2:], [int(m*0.8)])\n",
        "  return tr_d, te_d, tr_l, te_l"
      ],
      "execution_count": 0,
      "outputs": []
    },
    {
      "cell_type": "markdown",
      "metadata": {
        "id": "aCZYHoaoOrhB",
        "colab_type": "text"
      },
      "source": [
        "Now we can create the dataset:"
      ]
    },
    {
      "cell_type": "code",
      "metadata": {
        "id": "QEaoVZSNAARD",
        "colab_type": "code",
        "outputId": "076b4c60-3bcf-4afa-e8fe-43eb8a72ae07",
        "colab": {
          "base_uri": "https://localhost:8080/",
          "height": 297
        }
      },
      "source": [
        "# Hyperparameters\n",
        "m = 20000\n",
        "w = 5\n",
        "b = 2\n",
        "mu = 4\n",
        "sigma = 2\n",
        "# Generates the dataset \n",
        "data, labels = get_random_data(w, b, mu, sigma, m)\n",
        "# Plots the dataset\n",
        "display_random_data(data, labels)\n",
        "# Splits dataset into training and testing sets\n",
        "train_data, test_data, train_labels, test_labels = split_data(data, labels)"
      ],
      "execution_count": 193,
      "outputs": [
        {
          "output_type": "display_data",
          "data": {
            "image/png": "[encoded data removed]",
            "text/plain": [
              "<Figure size 432x288 with 1 Axes>"
            ]
          },
          "metadata": {
            "tags": []
          }
        }
      ]
    },
    {
      "cell_type": "markdown",
      "metadata": {
        "id": "MPpugcQXlEtC",
        "colab_type": "text"
      },
      "source": [
        "#Problem Two: Keras Logistic Regression\n",
        "_Using the generated dataset, we can now use keras to perform logistic regression on it._"
      ]
    },
    {
      "cell_type": "markdown",
      "metadata": {
        "id": "EF6T9LCJxO0y",
        "colab_type": "text"
      },
      "source": [
        "**Additional Imports**"
      ]
    },
    {
      "cell_type": "code",
      "metadata": {
        "id": "UBhjjq8ZxMsD",
        "colab_type": "code",
        "colab": {}
      },
      "source": [
        "import tensorflow as tf\n",
        "from tensorflow import keras"
      ],
      "execution_count": 0,
      "outputs": []
    },
    {
      "cell_type": "markdown",
      "metadata": {
        "id": "ZXOPmXlLx4OA",
        "colab_type": "text"
      },
      "source": [
        "This will create a complete logistic model made for the dataset"
      ]
    },
    {
      "cell_type": "code",
      "metadata": {
        "id": "R3zeULoZx4ZM",
        "colab_type": "code",
        "colab": {}
      },
      "source": [
        "def keras_create_logistic_model ():\n",
        "  # Defines the model\n",
        "  logistic_network = keras.models.Sequential()\n",
        "  # Adds a single dense layer\n",
        "  logistic_network.add(keras.layers.Dense(1, activation='sigmoid', input_shape=(2,)))\n",
        "  # Compiles the network\n",
        "  logistic_network.compile(optimizer='rmsprop',\n",
        "                          loss='binary_crossentropy',\n",
        "                          metrics=['accuracy'])\n",
        "  return logistic_network"
      ],
      "execution_count": 0,
      "outputs": []
    },
    {
      "cell_type": "markdown",
      "metadata": {
        "id": "AWm3Zw3X8LsB",
        "colab_type": "text"
      },
      "source": [
        "Now we can compile and train this model on the data."
      ]
    },
    {
      "cell_type": "code",
      "metadata": {
        "id": "rPnSPNDI8LeK",
        "colab_type": "code",
        "outputId": "ab66c256-2df0-4eae-a9b8-f67ad6b11be5",
        "colab": {
          "base_uri": "https://localhost:8080/",
          "height": 1000
        }
      },
      "source": [
        "# Hyperparameters\n",
        "epochs = 100\n",
        "batch_size = 512\n",
        "\n",
        "# Creates the network\n",
        "log_network = keras_create_logistic_model()\n",
        "\n",
        "# Fits the model\n",
        "history = log_network.fit(train_data,\n",
        "                          train_labels,\n",
        "                          epochs=epochs,\n",
        "                          batch_size=batch_size,\n",
        "                          validation_data=(test_data, test_labels))"
      ],
      "execution_count": 196,
      "outputs": [
        {
          "output_type": "stream",
          "text": [
            "Train on 16000 samples, validate on 4000 samples\n",
            "Epoch 1/100\n",
            "16000/16000 [==============================] - 0s 12us/sample - loss: 0.6302 - acc: 0.7192 - val_loss: 0.6036 - val_acc: 0.7245\n",
            "Epoch 2/100\n",
            "16000/16000 [==============================] - 0s 4us/sample - loss: 0.5993 - acc: 0.7244 - val_loss: 0.5754 - val_acc: 0.7318\n",
            "Epoch 3/100\n",
            "16000/16000 [==============================] - 0s 4us/sample - loss: 0.5707 - acc: 0.7304 - val_loss: 0.5479 - val_acc: 0.7427\n",
            "Epoch 4/100\n",
            "16000/16000 [==============================] - 0s 3us/sample - loss: 0.5426 - acc: 0.7357 - val_loss: 0.5209 - val_acc: 0.7492\n",
            "Epoch 5/100\n",
            "16000/16000 [==============================] - 0s 3us/sample - loss: 0.5155 - acc: 0.7414 - val_loss: 0.4946 - val_acc: 0.7565\n",
            "Epoch 6/100\n",
            "16000/16000 [==============================] - 0s 3us/sample - loss: 0.4892 - acc: 0.7495 - val_loss: 0.4696 - val_acc: 0.7653\n",
            "Epoch 7/100\n",
            "16000/16000 [==============================] - 0s 3us/sample - loss: 0.4640 - acc: 0.7576 - val_loss: 0.4455 - val_acc: 0.7740\n",
            "Epoch 8/100\n",
            "16000/16000 [==============================] - 0s 3us/sample - loss: 0.4398 - acc: 0.7676 - val_loss: 0.4224 - val_acc: 0.7822\n",
            "Epoch 9/100\n",
            "16000/16000 [==============================] - 0s 3us/sample - loss: 0.4169 - acc: 0.7769 - val_loss: 0.4009 - val_acc: 0.7908\n",
            "Epoch 10/100\n",
            "16000/16000 [==============================] - 0s 3us/sample - loss: 0.3955 - acc: 0.7879 - val_loss: 0.3811 - val_acc: 0.8045\n",
            "Epoch 11/100\n",
            "16000/16000 [==============================] - 0s 3us/sample - loss: 0.3760 - acc: 0.8002 - val_loss: 0.3628 - val_acc: 0.8170\n",
            "Epoch 12/100\n",
            "16000/16000 [==============================] - 0s 3us/sample - loss: 0.3582 - acc: 0.8135 - val_loss: 0.3467 - val_acc: 0.8292\n",
            "Epoch 13/100\n",
            "16000/16000 [==============================] - 0s 3us/sample - loss: 0.3426 - acc: 0.8298 - val_loss: 0.3330 - val_acc: 0.8438\n",
            "Epoch 14/100\n",
            "16000/16000 [==============================] - 0s 3us/sample - loss: 0.3298 - acc: 0.8453 - val_loss: 0.3222 - val_acc: 0.8585\n",
            "Epoch 15/100\n",
            "16000/16000 [==============================] - 0s 3us/sample - loss: 0.3198 - acc: 0.8604 - val_loss: 0.3138 - val_acc: 0.8723\n",
            "Epoch 16/100\n",
            "16000/16000 [==============================] - 0s 3us/sample - loss: 0.3119 - acc: 0.8728 - val_loss: 0.3067 - val_acc: 0.8810\n",
            "Epoch 17/100\n",
            "16000/16000 [==============================] - 0s 3us/sample - loss: 0.3048 - acc: 0.8805 - val_loss: 0.2998 - val_acc: 0.8900\n",
            "Epoch 18/100\n",
            "16000/16000 [==============================] - 0s 3us/sample - loss: 0.2979 - acc: 0.8876 - val_loss: 0.2931 - val_acc: 0.8925\n",
            "Epoch 19/100\n",
            "16000/16000 [==============================] - 0s 3us/sample - loss: 0.2912 - acc: 0.8919 - val_loss: 0.2865 - val_acc: 0.9000\n",
            "Epoch 20/100\n",
            "16000/16000 [==============================] - 0s 3us/sample - loss: 0.2847 - acc: 0.8988 - val_loss: 0.2802 - val_acc: 0.9055\n",
            "Epoch 21/100\n",
            "16000/16000 [==============================] - 0s 3us/sample - loss: 0.2783 - acc: 0.9027 - val_loss: 0.2740 - val_acc: 0.9093\n",
            "Epoch 22/100\n",
            "16000/16000 [==============================] - 0s 3us/sample - loss: 0.2721 - acc: 0.9073 - val_loss: 0.2680 - val_acc: 0.9120\n",
            "Epoch 23/100\n",
            "16000/16000 [==============================] - 0s 3us/sample - loss: 0.2661 - acc: 0.9114 - val_loss: 0.2622 - val_acc: 0.9180\n",
            "Epoch 24/100\n",
            "16000/16000 [==============================] - 0s 3us/sample - loss: 0.2603 - acc: 0.9163 - val_loss: 0.2565 - val_acc: 0.9193\n",
            "Epoch 25/100\n",
            "16000/16000 [==============================] - 0s 3us/sample - loss: 0.2546 - acc: 0.9189 - val_loss: 0.2509 - val_acc: 0.9212\n",
            "Epoch 26/100\n",
            "16000/16000 [==============================] - 0s 3us/sample - loss: 0.2491 - acc: 0.9217 - val_loss: 0.2456 - val_acc: 0.9227\n",
            "Epoch 27/100\n",
            "16000/16000 [==============================] - 0s 3us/sample - loss: 0.2438 - acc: 0.9247 - val_loss: 0.2404 - val_acc: 0.9273\n",
            "Epoch 28/100\n",
            "16000/16000 [==============================] - 0s 3us/sample - loss: 0.2386 - acc: 0.9289 - val_loss: 0.2354 - val_acc: 0.9302\n",
            "Epoch 29/100\n",
            "16000/16000 [==============================] - 0s 3us/sample - loss: 0.2336 - acc: 0.9311 - val_loss: 0.2305 - val_acc: 0.9325\n",
            "Epoch 30/100\n",
            "16000/16000 [==============================] - 0s 3us/sample - loss: 0.2287 - acc: 0.9338 - val_loss: 0.2258 - val_acc: 0.9352\n",
            "Epoch 31/100\n",
            "16000/16000 [==============================] - 0s 3us/sample - loss: 0.2239 - acc: 0.9356 - val_loss: 0.2212 - val_acc: 0.9375\n",
            "Epoch 32/100\n",
            "16000/16000 [==============================] - 0s 3us/sample - loss: 0.2194 - acc: 0.9381 - val_loss: 0.2167 - val_acc: 0.9392\n",
            "Epoch 33/100\n",
            "16000/16000 [==============================] - 0s 3us/sample - loss: 0.2149 - acc: 0.9402 - val_loss: 0.2124 - val_acc: 0.9417\n",
            "Epoch 34/100\n",
            "16000/16000 [==============================] - 0s 3us/sample - loss: 0.2106 - acc: 0.9433 - val_loss: 0.2082 - val_acc: 0.9427\n",
            "Epoch 35/100\n",
            "16000/16000 [==============================] - 0s 3us/sample - loss: 0.2063 - acc: 0.9444 - val_loss: 0.2041 - val_acc: 0.9452\n",
            "Epoch 36/100\n",
            "16000/16000 [==============================] - 0s 3us/sample - loss: 0.2022 - acc: 0.9469 - val_loss: 0.2002 - val_acc: 0.9485\n",
            "Epoch 37/100\n",
            "16000/16000 [==============================] - 0s 3us/sample - loss: 0.1983 - acc: 0.9481 - val_loss: 0.1963 - val_acc: 0.9492\n",
            "Epoch 38/100\n",
            "16000/16000 [==============================] - 0s 3us/sample - loss: 0.1945 - acc: 0.9496 - val_loss: 0.1927 - val_acc: 0.9498\n",
            "Epoch 39/100\n",
            "16000/16000 [==============================] - 0s 4us/sample - loss: 0.1908 - acc: 0.9504 - val_loss: 0.1891 - val_acc: 0.9513\n",
            "Epoch 40/100\n",
            "16000/16000 [==============================] - 0s 3us/sample - loss: 0.1871 - acc: 0.9515 - val_loss: 0.1856 - val_acc: 0.9528\n",
            "Epoch 41/100\n",
            "16000/16000 [==============================] - 0s 3us/sample - loss: 0.1836 - acc: 0.9530 - val_loss: 0.1822 - val_acc: 0.9535\n",
            "Epoch 42/100\n",
            "16000/16000 [==============================] - 0s 3us/sample - loss: 0.1802 - acc: 0.9537 - val_loss: 0.1788 - val_acc: 0.9548\n",
            "Epoch 43/100\n",
            "16000/16000 [==============================] - 0s 3us/sample - loss: 0.1769 - acc: 0.9549 - val_loss: 0.1757 - val_acc: 0.9565\n",
            "Epoch 44/100\n",
            "16000/16000 [==============================] - 0s 3us/sample - loss: 0.1737 - acc: 0.9567 - val_loss: 0.1726 - val_acc: 0.9565\n",
            "Epoch 45/100\n",
            "16000/16000 [==============================] - 0s 3us/sample - loss: 0.1706 - acc: 0.9567 - val_loss: 0.1696 - val_acc: 0.9590\n",
            "Epoch 46/100\n",
            "16000/16000 [==============================] - 0s 3us/sample - loss: 0.1676 - acc: 0.9586 - val_loss: 0.1668 - val_acc: 0.9595\n",
            "Epoch 47/100\n",
            "16000/16000 [==============================] - 0s 3us/sample - loss: 0.1647 - acc: 0.9589 - val_loss: 0.1639 - val_acc: 0.9603\n",
            "Epoch 48/100\n",
            "16000/16000 [==============================] - 0s 3us/sample - loss: 0.1618 - acc: 0.9596 - val_loss: 0.1612 - val_acc: 0.9603\n",
            "Epoch 49/100\n",
            "16000/16000 [==============================] - 0s 3us/sample - loss: 0.1591 - acc: 0.9610 - val_loss: 0.1586 - val_acc: 0.9605\n",
            "Epoch 50/100\n",
            "16000/16000 [==============================] - 0s 3us/sample - loss: 0.1564 - acc: 0.9625 - val_loss: 0.1561 - val_acc: 0.9610\n",
            "Epoch 51/100\n",
            "16000/16000 [==============================] - 0s 3us/sample - loss: 0.1539 - acc: 0.9632 - val_loss: 0.1535 - val_acc: 0.9610\n",
            "Epoch 52/100\n",
            "16000/16000 [==============================] - 0s 3us/sample - loss: 0.1513 - acc: 0.9637 - val_loss: 0.1512 - val_acc: 0.9625\n",
            "Epoch 53/100\n",
            "16000/16000 [==============================] - 0s 3us/sample - loss: 0.1489 - acc: 0.9652 - val_loss: 0.1488 - val_acc: 0.9628\n",
            "Epoch 54/100\n",
            "16000/16000 [==============================] - 0s 3us/sample - loss: 0.1465 - acc: 0.9651 - val_loss: 0.1466 - val_acc: 0.9635\n",
            "Epoch 55/100\n",
            "16000/16000 [==============================] - 0s 3us/sample - loss: 0.1442 - acc: 0.9661 - val_loss: 0.1443 - val_acc: 0.9638\n",
            "Epoch 56/100\n",
            "16000/16000 [==============================] - 0s 3us/sample - loss: 0.1420 - acc: 0.9665 - val_loss: 0.1422 - val_acc: 0.9635\n",
            "Epoch 57/100\n",
            "16000/16000 [==============================] - 0s 4us/sample - loss: 0.1398 - acc: 0.9668 - val_loss: 0.1401 - val_acc: 0.9640\n",
            "Epoch 58/100\n",
            "16000/16000 [==============================] - 0s 3us/sample - loss: 0.1377 - acc: 0.9672 - val_loss: 0.1381 - val_acc: 0.9650\n",
            "Epoch 59/100\n",
            "16000/16000 [==============================] - 0s 3us/sample - loss: 0.1357 - acc: 0.9672 - val_loss: 0.1362 - val_acc: 0.9657\n",
            "Epoch 60/100\n",
            "16000/16000 [==============================] - 0s 3us/sample - loss: 0.1337 - acc: 0.9685 - val_loss: 0.1343 - val_acc: 0.9655\n",
            "Epoch 61/100\n",
            "16000/16000 [==============================] - 0s 3us/sample - loss: 0.1318 - acc: 0.9689 - val_loss: 0.1325 - val_acc: 0.9655\n",
            "Epoch 62/100\n",
            "16000/16000 [==============================] - 0s 4us/sample - loss: 0.1299 - acc: 0.9693 - val_loss: 0.1307 - val_acc: 0.9657\n",
            "Epoch 63/100\n",
            "16000/16000 [==============================] - 0s 3us/sample - loss: 0.1281 - acc: 0.9693 - val_loss: 0.1290 - val_acc: 0.9663\n",
            "Epoch 64/100\n",
            "16000/16000 [==============================] - 0s 3us/sample - loss: 0.1264 - acc: 0.9694 - val_loss: 0.1274 - val_acc: 0.9663\n",
            "Epoch 65/100\n",
            "16000/16000 [==============================] - 0s 3us/sample - loss: 0.1247 - acc: 0.9694 - val_loss: 0.1257 - val_acc: 0.9665\n",
            "Epoch 66/100\n",
            "16000/16000 [==============================] - 0s 3us/sample - loss: 0.1231 - acc: 0.9697 - val_loss: 0.1242 - val_acc: 0.9668\n",
            "Epoch 67/100\n",
            "16000/16000 [==============================] - 0s 3us/sample - loss: 0.1214 - acc: 0.9698 - val_loss: 0.1226 - val_acc: 0.9675\n",
            "Epoch 68/100\n",
            "16000/16000 [==============================] - 0s 3us/sample - loss: 0.1198 - acc: 0.9701 - val_loss: 0.1212 - val_acc: 0.9680\n",
            "Epoch 69/100\n",
            "16000/16000 [==============================] - 0s 3us/sample - loss: 0.1184 - acc: 0.9708 - val_loss: 0.1197 - val_acc: 0.9680\n",
            "Epoch 70/100\n",
            "16000/16000 [==============================] - 0s 3us/sample - loss: 0.1169 - acc: 0.9712 - val_loss: 0.1183 - val_acc: 0.9680\n",
            "Epoch 71/100\n",
            "16000/16000 [==============================] - 0s 3us/sample - loss: 0.1155 - acc: 0.9711 - val_loss: 0.1170 - val_acc: 0.9675\n",
            "Epoch 72/100\n",
            "16000/16000 [==============================] - 0s 3us/sample - loss: 0.1141 - acc: 0.9714 - val_loss: 0.1157 - val_acc: 0.9685\n",
            "Epoch 73/100\n",
            "16000/16000 [==============================] - 0s 4us/sample - loss: 0.1128 - acc: 0.9716 - val_loss: 0.1145 - val_acc: 0.9688\n",
            "Epoch 74/100\n",
            "16000/16000 [==============================] - 0s 3us/sample - loss: 0.1115 - acc: 0.9718 - val_loss: 0.1133 - val_acc: 0.9690\n",
            "Epoch 75/100\n",
            "16000/16000 [==============================] - 0s 3us/sample - loss: 0.1103 - acc: 0.9722 - val_loss: 0.1121 - val_acc: 0.9690\n",
            "Epoch 76/100\n",
            "16000/16000 [==============================] - 0s 3us/sample - loss: 0.1090 - acc: 0.9722 - val_loss: 0.1109 - val_acc: 0.9690\n",
            "Epoch 77/100\n",
            "16000/16000 [==============================] - 0s 3us/sample - loss: 0.1078 - acc: 0.9722 - val_loss: 0.1098 - val_acc: 0.9688\n",
            "Epoch 78/100\n",
            "16000/16000 [==============================] - 0s 3us/sample - loss: 0.1067 - acc: 0.9721 - val_loss: 0.1088 - val_acc: 0.9682\n",
            "Epoch 79/100\n",
            "16000/16000 [==============================] - 0s 3us/sample - loss: 0.1056 - acc: 0.9721 - val_loss: 0.1078 - val_acc: 0.9688\n",
            "Epoch 80/100\n",
            "16000/16000 [==============================] - 0s 3us/sample - loss: 0.1045 - acc: 0.9720 - val_loss: 0.1067 - val_acc: 0.9688\n",
            "Epoch 81/100\n",
            "16000/16000 [==============================] - 0s 3us/sample - loss: 0.1035 - acc: 0.9722 - val_loss: 0.1057 - val_acc: 0.9688\n",
            "Epoch 82/100\n",
            "16000/16000 [==============================] - 0s 3us/sample - loss: 0.1024 - acc: 0.9721 - val_loss: 0.1048 - val_acc: 0.9690\n",
            "Epoch 83/100\n",
            "16000/16000 [==============================] - 0s 3us/sample - loss: 0.1014 - acc: 0.9721 - val_loss: 0.1039 - val_acc: 0.9690\n",
            "Epoch 84/100\n",
            "16000/16000 [==============================] - 0s 3us/sample - loss: 0.1005 - acc: 0.9721 - val_loss: 0.1030 - val_acc: 0.9693\n",
            "Epoch 85/100\n",
            "16000/16000 [==============================] - 0s 4us/sample - loss: 0.0996 - acc: 0.9722 - val_loss: 0.1021 - val_acc: 0.9693\n",
            "Epoch 86/100\n",
            "16000/16000 [==============================] - 0s 3us/sample - loss: 0.0987 - acc: 0.9721 - val_loss: 0.1012 - val_acc: 0.9695\n",
            "Epoch 87/100\n",
            "16000/16000 [==============================] - 0s 3us/sample - loss: 0.0978 - acc: 0.9722 - val_loss: 0.1004 - val_acc: 0.9697\n",
            "Epoch 88/100\n",
            "16000/16000 [==============================] - 0s 3us/sample - loss: 0.0969 - acc: 0.9722 - val_loss: 0.0997 - val_acc: 0.9703\n",
            "Epoch 89/100\n",
            "16000/16000 [==============================] - 0s 4us/sample - loss: 0.0961 - acc: 0.9723 - val_loss: 0.0988 - val_acc: 0.9705\n",
            "Epoch 90/100\n",
            "16000/16000 [==============================] - 0s 3us/sample - loss: 0.0953 - acc: 0.9723 - val_loss: 0.0981 - val_acc: 0.9700\n",
            "Epoch 91/100\n",
            "16000/16000 [==============================] - 0s 4us/sample - loss: 0.0945 - acc: 0.9724 - val_loss: 0.0974 - val_acc: 0.9700\n",
            "Epoch 92/100\n",
            "16000/16000 [==============================] - 0s 4us/sample - loss: 0.0938 - acc: 0.9726 - val_loss: 0.0967 - val_acc: 0.9707\n",
            "Epoch 93/100\n",
            "16000/16000 [==============================] - 0s 3us/sample - loss: 0.0930 - acc: 0.9728 - val_loss: 0.0960 - val_acc: 0.9707\n",
            "Epoch 94/100\n",
            "16000/16000 [==============================] - 0s 3us/sample - loss: 0.0923 - acc: 0.9728 - val_loss: 0.0953 - val_acc: 0.9707\n",
            "Epoch 95/100\n",
            "16000/16000 [==============================] - 0s 3us/sample - loss: 0.0916 - acc: 0.9728 - val_loss: 0.0947 - val_acc: 0.9707\n",
            "Epoch 96/100\n",
            "16000/16000 [==============================] - 0s 3us/sample - loss: 0.0909 - acc: 0.9728 - val_loss: 0.0941 - val_acc: 0.9703\n",
            "Epoch 97/100\n",
            "16000/16000 [==============================] - 0s 4us/sample - loss: 0.0903 - acc: 0.9730 - val_loss: 0.0935 - val_acc: 0.9703\n",
            "Epoch 98/100\n",
            "16000/16000 [==============================] - 0s 3us/sample - loss: 0.0896 - acc: 0.9730 - val_loss: 0.0929 - val_acc: 0.9703\n",
            "Epoch 99/100\n",
            "16000/16000 [==============================] - 0s 3us/sample - loss: 0.0890 - acc: 0.9731 - val_loss: 0.0923 - val_acc: 0.9703\n",
            "Epoch 100/100\n",
            "16000/16000 [==============================] - 0s 3us/sample - loss: 0.0884 - acc: 0.9731 - val_loss: 0.0918 - val_acc: 0.9707\n"
          ],
          "name": "stdout"
        }
      ]
    },
    {
      "cell_type": "markdown",
      "metadata": {
        "id": "SwEsAN47-bE6",
        "colab_type": "text"
      },
      "source": [
        "This will display the data with a prediction line and the actual separating line."
      ]
    },
    {
      "cell_type": "code",
      "metadata": {
        "id": "Ic5hAVNOO9BN",
        "colab_type": "code",
        "colab": {}
      },
      "source": [
        "def display_prediction (data, labels, p_w, p_b, w, b):\n",
        "  # Reshapes the labels to make for easier comparison\n",
        "  idx = labels.flatten()\n",
        "  # Seperate and plot the data according to label\n",
        "  zero_data = data[idx == 0,:]\n",
        "  plt.scatter(zero_data[:,0], zero_data[:,1], c='blue', label='True Class 0')\n",
        "  one_data = data[idx == 1,:]\n",
        "  plt.scatter(one_data[:,0], one_data[:,1], c='red', label='True Class 1')\n",
        "  x = np.linspace(0,1,100)\n",
        "  py = p_w*x+p_b\n",
        "  plt.plot(x, py, '-g', label='Prediction Line', linewidth = 4.0)\n",
        "  y = w*x+b\n",
        "  plt.plot(x, y, '-k', label='Actual Line', linewidth = 4.0)\n",
        "  # Adds some descriptive elements and shows the plot\n",
        "  plt.legend()\n",
        "  plt.title('Predictions on Random Data')\n",
        "  plt.xlabel('$x_1$')\n",
        "  plt.ylabel('$x_2$')\n",
        "  plt.show()\n",
        "  return"
      ],
      "execution_count": 0,
      "outputs": []
    },
    {
      "cell_type": "markdown",
      "metadata": {
        "id": "a6uMD5bPlWHE",
        "colab_type": "text"
      },
      "source": [
        "To get the predicted $w_p$ and $b_p$ values for the seperating line, we will get the weights $w_1$, $w_2$ and bias term $b_{model}$ of the trained logistic network.\n",
        "\n",
        "Since we are using the $sigmoid$ function $\\sigma(z)$, defined on $\\mathbb{R}^2 \\rightarrow (0,1)$, as the activation layer, the resulting classes are separated at the line where $\\sigma(z)=1/2$.\n",
        "___\n",
        "$\\sigma(z)=1/2$\n",
        "\n",
        "$\\Longleftrightarrow z=0$\n",
        "\n",
        "$\\Longleftrightarrow w_1x_1+w_2x_2+b_{model}=0$\n",
        "\n",
        "$\\Longleftrightarrow x_2=-(w_1/w_2)x_1-(b_{model}/w_2)$\n",
        "___\n",
        "Thus,\n",
        "\n",
        "$w_p=-(w_1/w_2)$,\n",
        "\n",
        "$b_p=-(b_{model}/w_2)$"
      ]
    },
    {
      "cell_type": "markdown",
      "metadata": {
        "id": "p8ljXIJbplSa",
        "colab_type": "text"
      },
      "source": [
        "Now, we will get the weights of the network and compute the predicted weight and bias term. These are then used to form a chart of the data and the predicted/real functions."
      ]
    },
    {
      "cell_type": "code",
      "metadata": {
        "id": "D4wvJM9d-YY4",
        "colab_type": "code",
        "outputId": "7b73f9c2-9e1a-494e-b76b-a263f51d09cf",
        "colab": {
          "base_uri": "https://localhost:8080/",
          "height": 297
        }
      },
      "source": [
        "# Gets the weights of the network\n",
        "weights = log_network.get_weights()\n",
        "w1 = weights[0][0][0]\n",
        "w2 = weights[0][1][0]\n",
        "bias = weights[1][0]\n",
        "# Calculates the predicted weight and bias term for the separating line\n",
        "p_w = -w1/w2\n",
        "p_b = -bias/w2\n",
        "# Displays the data with the predicted and actual lines\n",
        "display_prediction(data, labels, p_w, p_b, w, b)"
      ],
      "execution_count": 198,
      "outputs": [
        {
          "output_type": "display_data",
          "data": {
            "image/png": "[encoded data removed]",
            "text/plain": [
              "<Figure size 432x288 with 1 Axes>"
            ]
          },
          "metadata": {
            "tags": []
          }
        }
      ]
    },
    {
      "cell_type": "markdown",
      "metadata": {
        "id": "1GB91FWEPFMh",
        "colab_type": "text"
      },
      "source": [
        "A heat map can then be used to display the output of the model further."
      ]
    },
    {
      "cell_type": "code",
      "metadata": {
        "id": "bLoRimjNPFsI",
        "colab_type": "code",
        "colab": {}
      },
      "source": [
        "def display_prediction_heatmap (model, p_w, p_b,x_min, x_max, y_min, y_max, acc):\n",
        "  # Creates X, Y plane\n",
        "  x = np.linspace(x_min, x_max, acc)\n",
        "  y = np.linspace(y_min, y_max, acc)\n",
        "  X, Y = np.meshgrid(x, y)\n",
        "  # Creates Z values based on x, y grid\n",
        "  X_flat = X.flatten()\n",
        "  Y_flat = Y.flatten()\n",
        "  Z = np.column_stack((X_flat, Y_flat))\n",
        "  Z = model.predict(Z)\n",
        "  Z = Z.reshape((acc,acc))\n",
        "\n",
        "  # Configures the plot\n",
        "  fig = plt.figure()\n",
        "  ax = plt.axes()\n",
        "\n",
        "  # Draws the heatmap\n",
        "  contours = ax.contourf(X, Y, Z, acc, cmap='RdBu_r')\n",
        "  im = ax.imshow(Z, extent=[x_min, x_max, y_min, y_max],\n",
        "                 origin = 'lower', cmap='RdBu_r', alpha=0.5, aspect='auto')\n",
        "  \n",
        "  # Gives a colorbar (should be in range [0,1])\n",
        "  plt.colorbar(im, ax=ax)\n",
        "\n",
        "  # Gives labels to the chart\n",
        "  ax.set_xlabel('$x_1$')\n",
        "  ax.set_ylabel('$x_2$')\n",
        "  ax.set_title(\"Heatmap Based on Network Predictions\")\n",
        "  plt.show()\n",
        "  return"
      ],
      "execution_count": 0,
      "outputs": []
    },
    {
      "cell_type": "markdown",
      "metadata": {
        "id": "fPQnTtcbxy6O",
        "colab_type": "text"
      },
      "source": [
        "This will display the heatmap that corresponds to the network's predictions."
      ]
    },
    {
      "cell_type": "code",
      "metadata": {
        "id": "hOqqVETNxiFG",
        "colab_type": "code",
        "outputId": "fa65fb8f-5533-442b-e1d5-2241d86dfc03",
        "colab": {
          "base_uri": "https://localhost:8080/",
          "height": 297
        }
      },
      "source": [
        "# Creates a heat map of the network\n",
        "y_min = min(data[:,1])\n",
        "y_max = max(data[:,1])\n",
        "accuracy = 100\n",
        "display_prediction_heatmap(log_network, p_w, p_b, 0, 1, y_min, y_max, accuracy)"
      ],
      "execution_count": 200,
      "outputs": [
        {
          "output_type": "display_data",
          "data": {
            "image/png": "[encoded data removed]",
            "text/plain": [
              "<Figure size 432x288 with 2 Axes>"
            ]
          },
          "metadata": {
            "tags": []
          }
        }
      ]
    },
    {
      "cell_type": "markdown",
      "metadata": {
        "id": "wVsyO--mxKTN",
        "colab_type": "text"
      },
      "source": [
        "#Problem Three: Custom Logistic Regression\n",
        "_Rather than using keras as a backend of logistic regression, this will be logistic regression done from scratch. In particular, this will use stochastic gradient descent as the backend solution._"
      ]
    },
    {
      "cell_type": "code",
      "metadata": {
        "id": "a799dXEwAWwx",
        "colab_type": "code",
        "colab": {}
      },
      "source": [
        "class LogRegNetwork:\n",
        "  weights = None\n",
        "\n",
        "  # Allows for initialization of hyperparameters and choose a loss function\n",
        "  def __init__ (self, epochs = 50, loss = 'binary_crossentropy',\n",
        "                lr = 0.05, verbose = True):\n",
        "    self.epochs = epochs\n",
        "    self.loss = loss\n",
        "    self.lr = lr\n",
        "    self.verbose = verbose\n",
        "  \n",
        "  # Will print out weights if called as a string\n",
        "  def __str__ (self):\n",
        "    return self.weights\n",
        "  \n",
        "  # This is the activation function (nonlinerarity)\n",
        "  def __sigmoid (self, z):\n",
        "    return 1 / (1 + np.exp(-z))\n",
        "  \n",
        "  # Loss function for mean squared error\n",
        "  def _squared_error_loss (self, a, y):\n",
        "    return (0.5 * (a-y)**2).mean()\n",
        "  \n",
        "  # Gradient for mean squared error\n",
        "  def _squared_error_gradient (self, a, y, data):\n",
        "    ret = ((a-y)*(1-a)) * data\n",
        "    # Replaces the bias term with its appropriate gradient\n",
        "    replace = (a-y) * data\n",
        "    ret[-1] = replace[-1]\n",
        "    return np.array([ret]).T\n",
        "\n",
        "  # Loss function for binary crossentropy\n",
        "  def _binary_crossentropy_loss (self, a, y):\n",
        "    return (-y * np.log(a) - (1 - y) * np.log(1 - a)).mean()\n",
        "\n",
        "  # Binary crossentropy gradient function\n",
        "  def _binary_crossentropy_gradient (self, a, y, data):\n",
        "    return np.array([(a-y) * data]).T\n",
        "\n",
        "  def get_weights (self):\n",
        "    return self.weights\n",
        "\n",
        "  # Provides users (and the fit function) to test compatibility of the\n",
        "  # training and testing data provided.\n",
        "  def test_dataset (self, tr_d, tr_l, te_d, te_l, re = False):\n",
        "    # Converts the data into numpy arrays (if not already)\n",
        "    try:\n",
        "      trd = np.array(tr_d)\n",
        "      trl = np.array(tr_l)\n",
        "      ted = np.array(te_d)\n",
        "      tel = np.array(te_l)\n",
        "    except:\n",
        "      if re:\n",
        "        raise Exception(\"Dataset could not be coerced into numpy arrays.\")\n",
        "      return False\n",
        "    # Tests shape of the training set\n",
        "    if trd.shape[0] != trl.shape[0]:\n",
        "      if re:\n",
        "        raise Exception(\"Training data and labels are unequal sizes.\")\n",
        "      return False\n",
        "    # Tests shape of the testing set\n",
        "    if ted.shape[0] != tel.shape[0]:\n",
        "      if re:\n",
        "        raise Exception(\"Testing data and labels are unequal sizes.\")\n",
        "      return False\n",
        "    # Tests shape of the training labels\n",
        "    if trl.shape[1] != 1:\n",
        "      if re:\n",
        "        raise Exception('Expected Training Labels to have shape (n,1).'\n",
        "        'Instead got shape (n,' + str(trl.shape[1]) + ').')\n",
        "      return False\n",
        "    # Tests shape of the testing labels\n",
        "    if tel.shape[1] != 1:\n",
        "      if re:\n",
        "        raise Exception('Expected Testing Labels to have shape (n,1).'\n",
        "        'Instead got shape (n,' + str(tel.shape[1]) + ').')\n",
        "      return False\n",
        "    # All preliminary tests of the data are passed\n",
        "    return True\n",
        "\n",
        "  def fit (self, tr_d, tr_l, te_d, te_l):\n",
        "    # Preprocesses Data\n",
        "    self.test_dataset(tr_d, tr_l, te_d, te_l, re = True)\n",
        "    tr_d_ = np.array(tr_d)\n",
        "    trd = np.column_stack((tr_d_, np.ones(shape=(tr_d_.shape[0], 1))))\n",
        "    trl = np.array(tr_l)\n",
        "    te_d_ = np.array(te_d)\n",
        "    ted = np.column_stack((te_d_, np.ones(shape=(te_d_.shape[0], 1))))\n",
        "    tel = np.array(te_l)\n",
        "    # Tests that the loss function and gradient exist\n",
        "    if not ('_' + self.loss + '_loss') in dir(self):\n",
        "      print('\"' + self.loss + '\" is not a valid loss function.'\n",
        "      'Defaulting to \"binary_crossentropy\".')\n",
        "      self.loss = 'binary_crossentropy'\n",
        "\n",
        "    # Sets weights to a zero vector the size of the amount of features\n",
        "    feature_count = trd.shape[1]\n",
        "    self.weights = np.zeros(shape=(feature_count,1))\n",
        "\n",
        "    # Performs Stochastic Gradient Descent\n",
        "    batch_cnt = trd.shape[0]\n",
        "    for i in range(self.epochs):\n",
        "      # Iterates through each batch (sgd has batch size of 1)\n",
        "      for j in range(batch_cnt):\n",
        "        z = np.dot(trd[j], self.weights)\n",
        "        a = self.__sigmoid(z)\n",
        "        # This is the gradient of the loss function\n",
        "        grad_function = '_' + self.loss + '_gradient'\n",
        "        gradient = (1/batch_cnt) * getattr(self, grad_function)(a,trl[j],trd[j])\n",
        "        self.weights -= self.lr * gradient\n",
        "        # Will print out current loss of the test set at the end of each epoch\n",
        "        if self.verbose and j == batch_cnt-1:\n",
        "          z_test = np.dot(ted, self.weights)\n",
        "          a_test = self.__sigmoid(z_test)\n",
        "          # Computes the loss on the testing set\n",
        "          lssf = '_' + self.loss + '_loss'\n",
        "          lss = getattr(self, lssf)(a_test, tel)\n",
        "          # Gets the accuracy of the predictions on the test set\n",
        "          accuracy = self.accuracy(te_d, te_l)\n",
        "          # Prints out the results of each epoch\n",
        "          print('[Epoch {0}]: Loss = {1:.5f}, Accuracy = {2:.2f}%'.\n",
        "                format(i+1, lss, accuracy * 100))\n",
        "\n",
        "    # Prints out the final results of the network\n",
        "    if self.verbose:\n",
        "      z_test = np.dot(ted, self.weights)\n",
        "      a_test = self.__sigmoid(z_test)\n",
        "      # Computes the loss on the testing set\n",
        "      lssf = '_' + self.loss + '_loss'\n",
        "      lss = getattr(self, lssf)(a_test, tel)\n",
        "      # Gets the accuracy of the predictions on the test set\n",
        "      accuracy = self.accuracy(te_d, te_l)\n",
        "      # Prints out the results of each epoch\n",
        "      print('\\n---------------------------------------------------------')\n",
        "      print('[FINAL RESULTS]: Loss = {0:.5f}, Accuracy = {1:.2f}%'.\n",
        "            format(lss, accuracy * 100))\n",
        "      print('---------------------------------------------------------')\n",
        "    \n",
        "    return\n",
        "\n",
        "  # Returns a prediction (0 or 1) based on the data inputed\n",
        "  def predict (self, data):\n",
        "    # Coerces data into numpy array\n",
        "    try:\n",
        "      np_data = np.array(data)\n",
        "    except:\n",
        "      raise Exception(\"Data could not be coerced into a numpy array.\")\n",
        "    # Adds the bias terms to the data\n",
        "    np_data = np.column_stack((np_data, np.ones(shape=(np_data.shape[0], 1))))\n",
        "    # Calculates the prediction. np.rint causes this to predict 0 on [0, 0.5]\n",
        "    # and 1 on (0.5, 1] from testing.\n",
        "    try:\n",
        "      return np.rint(self.__sigmoid(np.dot(np_data, self.weights)))\n",
        "    except:\n",
        "      raise Exception('Prediction data is of incorrect form. Expected'\n",
        "      'shape (n,' + str(self.weights.shape[0]-1) + '). Instead got shape'\n",
        "      '(n,' + str(np_data.shape[1]-1) + \").\")\n",
        "  \n",
        "  # Returns the accuracy of the network on a testing dataset\n",
        "  def accuracy(self, te_d, te_l):\n",
        "    try:\n",
        "      tel = np.array(te_l)\n",
        "    except:\n",
        "      raise Exception(\"Test labels could not be coerced into numpy arrays.\")\n",
        "    # Predicts the labels of the data\n",
        "    prl = self.predict(te_d)\n",
        "    # Returns the accuracy of the network on the testing set\n",
        "    return np.sum(prl == tel) / prl.size"
      ],
      "execution_count": 0,
      "outputs": []
    },
    {
      "cell_type": "markdown",
      "metadata": {
        "id": "PjS7id4zlJcl",
        "colab_type": "text"
      },
      "source": [
        "We can initialize the model with the desired epochs, learning rate, loss function and specify whether we want verbose output.\n",
        "(By default, the network will run for 50 epochs at a 0.05 learning rate, using binary cross entropy and verbose output.)\n",
        "\n",
        "Fitting the network to the dataset will display the loss and the accuracy on the test set."
      ]
    },
    {
      "cell_type": "code",
      "metadata": {
        "id": "EcuDA6UUmUlg",
        "colab_type": "code",
        "colab": {
          "base_uri": "https://localhost:8080/",
          "height": 1000
        },
        "outputId": "b97c91ca-d82a-4b62-a98e-9de823b12aad"
      },
      "source": [
        "#custom_log_network = LogRegNetwork(epochs = epochs, loss = 'squared_error')\n",
        "custom_log_network = LogRegNetwork(epochs = epochs, lr = 0.1)\n",
        "custom_log_network.fit(train_data, train_labels, test_data, test_labels)"
      ],
      "execution_count": 206,
      "outputs": [
        {
          "output_type": "stream",
          "text": [
            "[Epoch 1]: Loss = 0.51732, Accuracy = 72.05%\n",
            "[Epoch 2]: Loss = 0.47773, Accuracy = 72.78%\n",
            "[Epoch 3]: Loss = 0.46114, Accuracy = 73.70%\n",
            "[Epoch 4]: Loss = 0.45106, Accuracy = 74.62%\n",
            "[Epoch 5]: Loss = 0.44340, Accuracy = 75.28%\n",
            "[Epoch 6]: Loss = 0.43685, Accuracy = 75.88%\n",
            "[Epoch 7]: Loss = 0.43087, Accuracy = 76.50%\n",
            "[Epoch 8]: Loss = 0.42524, Accuracy = 77.28%\n",
            "[Epoch 9]: Loss = 0.41986, Accuracy = 77.65%\n",
            "[Epoch 10]: Loss = 0.41467, Accuracy = 78.22%\n",
            "[Epoch 11]: Loss = 0.40964, Accuracy = 78.85%\n",
            "[Epoch 12]: Loss = 0.40476, Accuracy = 79.35%\n",
            "[Epoch 13]: Loss = 0.40000, Accuracy = 79.97%\n",
            "[Epoch 14]: Loss = 0.39538, Accuracy = 80.53%\n",
            "[Epoch 15]: Loss = 0.39087, Accuracy = 81.03%\n",
            "[Epoch 16]: Loss = 0.38647, Accuracy = 81.45%\n",
            "[Epoch 17]: Loss = 0.38219, Accuracy = 81.70%\n",
            "[Epoch 18]: Loss = 0.37801, Accuracy = 82.20%\n",
            "[Epoch 19]: Loss = 0.37393, Accuracy = 82.45%\n",
            "[Epoch 20]: Loss = 0.36995, Accuracy = 82.70%\n",
            "[Epoch 21]: Loss = 0.36607, Accuracy = 83.10%\n",
            "[Epoch 22]: Loss = 0.36228, Accuracy = 83.38%\n",
            "[Epoch 23]: Loss = 0.35858, Accuracy = 84.00%\n",
            "[Epoch 24]: Loss = 0.35497, Accuracy = 84.55%\n",
            "[Epoch 25]: Loss = 0.35145, Accuracy = 84.80%\n",
            "[Epoch 26]: Loss = 0.34800, Accuracy = 84.97%\n",
            "[Epoch 27]: Loss = 0.34463, Accuracy = 85.28%\n",
            "[Epoch 28]: Loss = 0.34135, Accuracy = 85.58%\n",
            "[Epoch 29]: Loss = 0.33813, Accuracy = 85.82%\n",
            "[Epoch 30]: Loss = 0.33499, Accuracy = 85.95%\n",
            "[Epoch 31]: Loss = 0.33192, Accuracy = 86.30%\n",
            "[Epoch 32]: Loss = 0.32891, Accuracy = 86.60%\n",
            "[Epoch 33]: Loss = 0.32598, Accuracy = 86.92%\n",
            "[Epoch 34]: Loss = 0.32310, Accuracy = 87.10%\n",
            "[Epoch 35]: Loss = 0.32029, Accuracy = 87.30%\n",
            "[Epoch 36]: Loss = 0.31754, Accuracy = 87.50%\n",
            "[Epoch 37]: Loss = 0.31485, Accuracy = 87.70%\n",
            "[Epoch 38]: Loss = 0.31221, Accuracy = 87.95%\n",
            "[Epoch 39]: Loss = 0.30963, Accuracy = 88.12%\n",
            "[Epoch 40]: Loss = 0.30711, Accuracy = 88.30%\n",
            "[Epoch 41]: Loss = 0.30463, Accuracy = 88.40%\n",
            "[Epoch 42]: Loss = 0.30221, Accuracy = 88.62%\n",
            "[Epoch 43]: Loss = 0.29984, Accuracy = 88.85%\n",
            "[Epoch 44]: Loss = 0.29751, Accuracy = 89.00%\n",
            "[Epoch 45]: Loss = 0.29523, Accuracy = 89.22%\n",
            "[Epoch 46]: Loss = 0.29300, Accuracy = 89.42%\n",
            "[Epoch 47]: Loss = 0.29081, Accuracy = 89.53%\n",
            "[Epoch 48]: Loss = 0.28866, Accuracy = 89.68%\n",
            "[Epoch 49]: Loss = 0.28656, Accuracy = 89.85%\n",
            "[Epoch 50]: Loss = 0.28449, Accuracy = 90.05%\n",
            "[Epoch 51]: Loss = 0.28247, Accuracy = 90.28%\n",
            "[Epoch 52]: Loss = 0.28048, Accuracy = 90.38%\n",
            "[Epoch 53]: Loss = 0.27853, Accuracy = 90.58%\n",
            "[Epoch 54]: Loss = 0.27662, Accuracy = 90.65%\n",
            "[Epoch 55]: Loss = 0.27474, Accuracy = 90.70%\n",
            "[Epoch 56]: Loss = 0.27290, Accuracy = 90.77%\n",
            "[Epoch 57]: Loss = 0.27109, Accuracy = 91.00%\n",
            "[Epoch 58]: Loss = 0.26931, Accuracy = 91.20%\n",
            "[Epoch 59]: Loss = 0.26756, Accuracy = 91.25%\n",
            "[Epoch 60]: Loss = 0.26585, Accuracy = 91.25%\n",
            "[Epoch 61]: Loss = 0.26417, Accuracy = 91.33%\n",
            "[Epoch 62]: Loss = 0.26251, Accuracy = 91.40%\n",
            "[Epoch 63]: Loss = 0.26089, Accuracy = 91.50%\n",
            "[Epoch 64]: Loss = 0.25929, Accuracy = 91.57%\n",
            "[Epoch 65]: Loss = 0.25772, Accuracy = 91.60%\n",
            "[Epoch 66]: Loss = 0.25618, Accuracy = 91.67%\n",
            "[Epoch 67]: Loss = 0.25466, Accuracy = 91.75%\n",
            "[Epoch 68]: Loss = 0.25317, Accuracy = 91.90%\n",
            "[Epoch 69]: Loss = 0.25170, Accuracy = 91.95%\n",
            "[Epoch 70]: Loss = 0.25026, Accuracy = 92.10%\n",
            "[Epoch 71]: Loss = 0.24884, Accuracy = 92.20%\n",
            "[Epoch 72]: Loss = 0.24745, Accuracy = 92.20%\n",
            "[Epoch 73]: Loss = 0.24607, Accuracy = 92.22%\n",
            "[Epoch 74]: Loss = 0.24472, Accuracy = 92.38%\n",
            "[Epoch 75]: Loss = 0.24339, Accuracy = 92.38%\n",
            "[Epoch 76]: Loss = 0.24208, Accuracy = 92.40%\n",
            "[Epoch 77]: Loss = 0.24080, Accuracy = 92.42%\n",
            "[Epoch 78]: Loss = 0.23953, Accuracy = 92.53%\n",
            "[Epoch 79]: Loss = 0.23828, Accuracy = 92.70%\n",
            "[Epoch 80]: Loss = 0.23705, Accuracy = 92.77%\n",
            "[Epoch 81]: Loss = 0.23584, Accuracy = 92.80%\n",
            "[Epoch 82]: Loss = 0.23465, Accuracy = 92.85%\n",
            "[Epoch 83]: Loss = 0.23347, Accuracy = 92.92%\n",
            "[Epoch 84]: Loss = 0.23232, Accuracy = 92.97%\n",
            "[Epoch 85]: Loss = 0.23118, Accuracy = 93.03%\n",
            "[Epoch 86]: Loss = 0.23006, Accuracy = 93.25%\n",
            "[Epoch 87]: Loss = 0.22895, Accuracy = 93.30%\n",
            "[Epoch 88]: Loss = 0.22786, Accuracy = 93.38%\n",
            "[Epoch 89]: Loss = 0.22679, Accuracy = 93.42%\n",
            "[Epoch 90]: Loss = 0.22573, Accuracy = 93.50%\n",
            "[Epoch 91]: Loss = 0.22468, Accuracy = 93.50%\n",
            "[Epoch 92]: Loss = 0.22365, Accuracy = 93.55%\n",
            "[Epoch 93]: Loss = 0.22264, Accuracy = 93.60%\n",
            "[Epoch 94]: Loss = 0.22164, Accuracy = 93.60%\n",
            "[Epoch 95]: Loss = 0.22065, Accuracy = 93.62%\n",
            "[Epoch 96]: Loss = 0.21968, Accuracy = 93.70%\n",
            "[Epoch 97]: Loss = 0.21872, Accuracy = 93.80%\n",
            "[Epoch 98]: Loss = 0.21777, Accuracy = 93.80%\n",
            "[Epoch 99]: Loss = 0.21684, Accuracy = 93.80%\n",
            "[Epoch 100]: Loss = 0.21592, Accuracy = 93.85%\n",
            "\n",
            "---------------------------------------------------------\n",
            "[FINAL RESULTS]: Loss = 0.21592, Accuracy = 93.85%\n",
            "---------------------------------------------------------\n"
          ],
          "name": "stdout"
        }
      ]
    },
    {
      "cell_type": "markdown",
      "metadata": {
        "id": "9_f9q7KTnG-a",
        "colab_type": "text"
      },
      "source": [
        "After fitting the model, we can aquire the weights and compute the predicted function the same way as with the keras model. We can also then display these results using the same charts as above."
      ]
    },
    {
      "cell_type": "code",
      "metadata": {
        "id": "z9z_MX5jn7Rh",
        "colab_type": "code",
        "colab": {
          "base_uri": "https://localhost:8080/",
          "height": 297
        },
        "outputId": "5cabe865-f5ed-433a-9a74-30fcd12da09a"
      },
      "source": [
        "# Gets the weights of the network\n",
        "weights = custom_log_network.get_weights()\n",
        "w1 = weights[0,0]\n",
        "w2 = weights[1,0]\n",
        "bias = weights[2,0]\n",
        "# Calculates the predicted weight and bias term for the separating line\n",
        "p_w = -w1/w2\n",
        "p_b = -bias/w2\n",
        "# Displays the data with the predicted and actual lines\n",
        "display_prediction(data, labels, p_w, p_b, w, b)"
      ],
      "execution_count": 207,
      "outputs": [
        {
          "output_type": "display_data",
          "data": {
            "image/png": "[encoded data removed]",
            "text/plain": [
              "<Figure size 432x288 with 1 Axes>"
            ]
          },
          "metadata": {
            "tags": []
          }
        }
      ]
    },
    {
      "cell_type": "markdown",
      "metadata": {
        "id": "MJPPf4KRo1Wa",
        "colab_type": "text"
      },
      "source": [
        "Finally, we can observe this output as a heatmap."
      ]
    },
    {
      "cell_type": "code",
      "metadata": {
        "id": "hnQiRZbVo6n8",
        "colab_type": "code",
        "colab": {
          "base_uri": "https://localhost:8080/",
          "height": 297
        },
        "outputId": "2243f19a-9e82-43a1-dedf-3a2f0b3169ab"
      },
      "source": [
        "display_prediction_heatmap(custom_log_network, p_w, p_b, 0, 1, y_min, y_max, accuracy)"
      ],
      "execution_count": 208,
      "outputs": [
        {
          "output_type": "display_data",
          "data": {
            "image/png": "[encoded data removed]",
            "text/plain": [
              "<Figure size 432x288 with 2 Axes>"
            ]
          },
          "metadata": {
            "tags": []
          }
        }
      ]
    }
  ]
}