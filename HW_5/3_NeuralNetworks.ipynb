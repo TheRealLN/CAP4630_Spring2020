{
  "nbformat": 4,
  "nbformat_minor": 0,
  "metadata": {
    "colab": {
      "name": "3-NeuralNetworks.ipynb",
      "provenance": []
    },
    "kernelspec": {
      "name": "python3",
      "display_name": "Python 3"
    }
  },
  "cells": [
    {
      "cell_type": "markdown",
      "metadata": {
        "id": "NDWDcf8gHAy3",
        "colab_type": "text"
      },
      "source": [
        "# Summary of Learned Concepts in CAP 4630 - Neural Networks\n",
        "This will look into the structure, components, and compilation of neural network models."
      ]
    },
    {
      "cell_type": "code",
      "metadata": {
        "id": "ghAsDBxQV0Eu",
        "colab_type": "code",
        "colab": {}
      },
      "source": [
        "import numpy as np\n",
        "%matplotlib inline\n",
        "import matplotlib as mpl\n",
        "from matplotlib import cm, image as mpimg, pyplot as plt\n",
        "mpl.rc('axes', labelsize=14)\n",
        "mpl.rc('xtick', labelsize=8)\n",
        "mpl.rc('ytick', labelsize=8)\n",
        "\n",
        "import tensorflow as tf\n",
        "from tensorflow import keras\n",
        "from keras import models\n",
        "from keras import layers"
      ],
      "execution_count": 0,
      "outputs": []
    },
    {
      "cell_type": "markdown",
      "metadata": {
        "id": "kQO4C6aVQz1U",
        "colab_type": "text"
      },
      "source": [
        "## The Building Blocks"
      ]
    },
    {
      "cell_type": "markdown",
      "metadata": {
        "id": "eLotJ6nbQ2P6",
        "colab_type": "text"
      },
      "source": [
        "Before the specifics of convolutional neural networks are discussed, it is important to build the foundation of how deep learning models are composed. Some of the building blocks were covered in the \"Logistic Regression\" section of [this notebook](https://colab.research.google.com/drive/1yiKD6zkVoJvzw_otkzvkzDD6BrkIdqDS#scrollTo=84lLu78IQwVy \"BasicConcepts - Google Colab\"), so no further explanations will be given on those."
      ]
    },
    {
      "cell_type": "markdown",
      "metadata": {
        "id": "oP2fqDctRE5V",
        "colab_type": "text"
      },
      "source": [
        "### The Layer"
      ]
    },
    {
      "cell_type": "markdown",
      "metadata": {
        "id": "45joZCCFRG79",
        "colab_type": "text"
      },
      "source": [
        "A layer is any structure that takes in some input *tensor*, which can naively be thought as the multidimensional generalization of matrices, and outputs a different tensor. These layers may hold some data that serves as *memory*, but this is not required (for instance, *flatten* layers vectorize the input tensor, and thus do not require any memory).\n",
        "\n",
        "These layers are combined with one another, such that the output of one layer becomes the input of the next. The easiest model for this is a *sequential* model, where there is a linear path through the set of all layers. More complicated networks may require the use of a more complicated ordering of layers, such as *two-branch*, *multihead networks*, and the inclusion of *inception blocks*.\n",
        "\n",
        "The following shows a logistic network that is implemented using layers."
      ]
    },
    {
      "cell_type": "code",
      "metadata": {
        "id": "kqlqpvl1XIpY",
        "colab_type": "code",
        "colab": {}
      },
      "source": [
        "def keras_create_logistic_model ():\n",
        "  # Defines the model\n",
        "  logistic_network = models.Sequential()\n",
        "  # Adds a single dense layer\n",
        "  logistic_network.add(layers.Dense(1, activation='sigmoid', input_shape=(2,)))\n",
        "  # Compiles the network\n",
        "  logistic_network.compile(optimizer='rmsprop',\n",
        "                          loss='binary_crossentropy',\n",
        "                          metrics=['accuracy'])\n",
        "  return logistic_network"
      ],
      "execution_count": 0,
      "outputs": []
    },
    {
      "cell_type": "markdown",
      "metadata": {
        "id": "wsrNtjWTXt73",
        "colab_type": "text"
      },
      "source": [
        "### The Optimizer"
      ]
    },
    {
      "cell_type": "markdown",
      "metadata": {
        "id": "S9j4S-EqXz3m",
        "colab_type": "text"
      },
      "source": [
        "Notice how in the above model includes an \"optimizer\" in the compilation of the model. The optimizer is what determines the updating of the model, based off of the loss function."
      ]
    },
    {
      "cell_type": "markdown",
      "metadata": {
        "id": "plN7vbCBISgt",
        "colab_type": "text"
      },
      "source": [
        "## Convolutional Neural Networks"
      ]
    },
    {
      "cell_type": "markdown",
      "metadata": {
        "id": "TFlldhOtIa-d",
        "colab_type": "text"
      },
      "source": [
        "A convolutional neural network (CNN) is a specific deep learning model that, over time, aabstracts information about the input tensor across the layers in the network. The *convolution* operator for a convolution module takes a kernel and passes it over the input to extract features from it. For example, here is a convolution implementation for 2D tensors (matrices)."
      ]
    },
    {
      "cell_type": "code",
      "metadata": {
        "id": "kPCA9caag6cD",
        "colab_type": "code",
        "colab": {}
      },
      "source": [
        "def conv2d (input_mat, kernel_mat, stride = 1):\n",
        "  # Tests if arrays are of proper form\n",
        "  try:\n",
        "    im = np.array(input_mat)\n",
        "    x,y = im.shape\n",
        "  except:\n",
        "    raise Exception('Input could not be coerced into a 2D numpy array.')\n",
        "  try:\n",
        "    km = np.array(kernel_mat)\n",
        "    u,v = km.shape\n",
        "  except:\n",
        "    raise Exception('Kernel could not be coerced into a 2D numpy array.')\n",
        "  # Tests if arrays are of proper size\n",
        "  if x != y:\n",
        "    raise Exception((\"Input is expected to be an (n,n) matrix. \"\n",
        "                    \"Instead got a matrix of shape ({0},{1}).\").format(x, y))\n",
        "  if u != v:\n",
        "    raise Exception((\"Kernel is expected to be an (n,n) matrix. \"\n",
        "                    \"Instead got a matrix of shape ({0},{1}).\").format(u, v))\n",
        "  # Tests if the input is smaller than the kernel\n",
        "  if x < u:\n",
        "    raise Exception((\"Kernel is too large. Expected kernel of shape \"\n",
        "                    \"(n,n), where n <= {0}. Instead got n = {1}.\").format(x, u))\n",
        "  # Checks stride\n",
        "  if stride < 1 or stride - int(stride) != 0:\n",
        "    raise Exception('Stride must a positive integer.')\n",
        "\n",
        "  # Mirrors the kernel for faster convolution\n",
        "  km_mirror = np.fliplr(np.flipud(km))\n",
        "\n",
        "  # Creates the output matrix\n",
        "  output_size = np.ceil((x-u+1)/stride).astype(int)\n",
        "  output_mat = np.zeros(shape=(output_size, output_size))\n",
        "\n",
        "  # Performs convolution\n",
        "  for i in range(output_size):\n",
        "    si = stride * i\n",
        "    for j in range(output_size):\n",
        "      sj = stride * j\n",
        "      output_mat[i,j] = np.sum(np.multiply(im[si:u+si,sj:u+sj], km_mirror))\n",
        "  \n",
        "  return output_mat"
      ],
      "execution_count": 0,
      "outputs": []
    },
    {
      "cell_type": "markdown",
      "metadata": {
        "id": "6mA2WZEmg6nG",
        "colab_type": "text"
      },
      "source": [
        "*ReLU* (Rectified Linear Unit) is then performed on the output of the feature map, which sets all negative values to 0:\n",
        "\n",
        "$$ReLU(x)= \\begin{cases}\n",
        "x, & \\text{if $x>0$}\\\\\n",
        "0, & \\text{otherwise} \\end{cases}$$"
      ]
    },
    {
      "cell_type": "markdown",
      "metadata": {
        "id": "7lvxu7fjiqB2",
        "colab_type": "text"
      },
      "source": [
        "Training all the weights for convolution takes a lot of time, so adding a layer that reduces the amount of parameters to train would be ideal. This is the function of the *max pooling* layer. It strides over the *feature map* (the output of a convolutional block) and only takes the largest values. The following is another implementation for 2D tensors."
      ]
    },
    {
      "cell_type": "code",
      "metadata": {
        "id": "1bbtor0Pi4TE",
        "colab_type": "code",
        "colab": {}
      },
      "source": [
        "def maxpooling2d (input_mat, s):\n",
        "  # Tests if array is of proper form\n",
        "  try:\n",
        "    im = np.array(input_mat)\n",
        "    x,y = im.shape\n",
        "  except:\n",
        "    raise Exception('Input could not be coerced into a 2D numpy array.')\n",
        "  # Tests if array is of proper size\n",
        "  if x != y:\n",
        "    raise Exception((\"Input is expected to be an (n,n) matrix. \"\n",
        "                    \"Instead got a matrix of shape ({0},{1}).\").format(x, y))\n",
        "  # Tests if the input is smaller than the window\n",
        "  if x < s:\n",
        "    raise Exception((\"Window is too large. Expected window of shape \"\n",
        "                    \"(n,n), where n <= {0}. Instead got n = {1}.\").format(x, s))\n",
        "\n",
        "  # Creates the output matrix\n",
        "  output_size = np.ceil((x-s+1)/s).astype(int)\n",
        "  output_mat = np.zeros(shape=(output_size, output_size))\n",
        "\n",
        "  # Performs max pooling\n",
        "  for i in range(output_size):\n",
        "    si = s * i\n",
        "    for j in range(output_size):\n",
        "      sj = s * j\n",
        "      output_mat[i,j] = np.max(im[si:s+si,sj:s+sj])\n",
        "  \n",
        "  return output_mat"
      ],
      "execution_count": 0,
      "outputs": []
    },
    {
      "cell_type": "markdown",
      "metadata": {
        "id": "rdMGuf8QishD",
        "colab_type": "text"
      },
      "source": [
        "Finally, there is a classifier, which is composed of *fully connected* layers. In these, all nodes between two layers are connected to one another."
      ]
    },
    {
      "cell_type": "markdown",
      "metadata": {
        "id": "Os-ObeSEjmRT",
        "colab_type": "text"
      },
      "source": [
        "Let's see what a convolutional neural network looks like in *Keras*:"
      ]
    },
    {
      "cell_type": "code",
      "metadata": {
        "id": "_UPBIwu5jszx",
        "colab_type": "code",
        "colab": {}
      },
      "source": [
        "# Constructs the neural network model according to the specifications given\n",
        "model = models.Sequential()\n",
        "\n",
        "# Adds the layers to the model. Also specifies the size of the input data on the first layer\n",
        "model.add(layers.Conv2D(32, (5, 5), activation='relu', strides=1,\n",
        "                        padding='same', input_shape=(32, 32, 3)))\n",
        "model.add(layers.MaxPool2D((2, 2), strides=2))\n",
        "\n",
        "model.add(layers.Conv2D(32, (5, 5), activation='relu', strides=1))\n",
        "model.add(layers.MaxPool2D((2, 2), strides=2))\n",
        "\n",
        "model.add(layers.Conv2D(64, (5, 5), activation='relu', strides=1))\n",
        "model.add(layers.MaxPool2D((2, 2), strides=2))\n",
        "\n",
        "# Flatten the layers before adding final fully-connected layers\n",
        "model.add(layers.Flatten())\n",
        "model.add(layers.Dense(64, activation='relu'))\n",
        "model.add(layers.Dense(10, activation='softmax'))\n",
        "\n",
        "# Compiles the model using cross entropy (categorial as multi-class)\n",
        "model.compile(loss='sparse_categorical_crossentropy',\n",
        "              optimizer='rmsprop',\n",
        "              metrics=['accuracy'])"
      ],
      "execution_count": 0,
      "outputs": []
    },
    {
      "cell_type": "markdown",
      "metadata": {
        "id": "Xq5cVE5nk2R7",
        "colab_type": "text"
      },
      "source": [
        "We can train this model on the CIFAR-10 dataset."
      ]
    },
    {
      "cell_type": "code",
      "metadata": {
        "id": "3hVVNeSElXmT",
        "colab_type": "code",
        "outputId": "afd3a4b0-f139-450e-84a6-d2fbabc682f4",
        "colab": {
          "base_uri": "https://localhost:8080/",
          "height": 235
        }
      },
      "source": [
        "# Loads in CIFAR-10\n",
        "(x_train, y_train), (x_test, y_test) = tf.keras.datasets.cifar10.load_data()\n",
        "# Normalize the data (Easier training)\n",
        "x_train = x_train.astype('float32')\n",
        "x_test = x_test.astype('float32')\n",
        "x_train = x_train / 255\n",
        "x_test = x_test / 255\n",
        "# Flattens the labels\n",
        "y_train = y_train.flatten()\n",
        "y_test = y_test.flatten()\n",
        "# Defines the size of each set\n",
        "# (Note: normally, these subsets would be chosen randomly, but this only uses\n",
        "# the first n elements from each set for simplicity)\n",
        "train_size = 1600\n",
        "test_size = 400\n",
        "\n",
        "model.fit(x_train[:train_size], y_train[:train_size], epochs=5,\n",
        "          validation_data=(x_test[:test_size], y_test[:test_size]))"
      ],
      "execution_count": 57,
      "outputs": [
        {
          "output_type": "stream",
          "text": [
            "Train on 1600 samples, validate on 400 samples\n",
            "Epoch 1/5\n",
            "1600/1600 [==============================] - 3s 2ms/step - loss: 2.2603 - accuracy: 0.1350 - val_loss: 2.1003 - val_accuracy: 0.2550\n",
            "Epoch 2/5\n",
            "1600/1600 [==============================] - 3s 2ms/step - loss: 2.0946 - accuracy: 0.2519 - val_loss: 2.1192 - val_accuracy: 0.2625\n",
            "Epoch 3/5\n",
            "1600/1600 [==============================] - 3s 2ms/step - loss: 1.9581 - accuracy: 0.2881 - val_loss: 1.8287 - val_accuracy: 0.3500\n",
            "Epoch 4/5\n",
            "1600/1600 [==============================] - 3s 2ms/step - loss: 1.8100 - accuracy: 0.3281 - val_loss: 1.8991 - val_accuracy: 0.2950\n",
            "Epoch 5/5\n",
            "1600/1600 [==============================] - 3s 2ms/step - loss: 1.7351 - accuracy: 0.3756 - val_loss: 1.7618 - val_accuracy: 0.3500\n"
          ],
          "name": "stdout"
        },
        {
          "output_type": "execute_result",
          "data": {
            "text/plain": [
              "<keras.callbacks.callbacks.History at 0x7f62c6327550>"
            ]
          },
          "metadata": {
            "tags": []
          },
          "execution_count": 57
        }
      ]
    },
    {
      "cell_type": "markdown",
      "metadata": {
        "id": "z8UatlZ2mIHG",
        "colab_type": "text"
      },
      "source": [
        "Now, we can view a confusion matrix and see the results of the traning of the model:"
      ]
    },
    {
      "cell_type": "code",
      "metadata": {
        "id": "smYns6Kcma47",
        "colab_type": "code",
        "outputId": "c6691ac6-c00e-49f7-8d1f-dcd879b2f2c6",
        "colab": {
          "base_uri": "https://localhost:8080/",
          "height": 515
        }
      },
      "source": [
        "# Prints the accuracy for each class from the confusion matrix\n",
        "def print_accuracy(matrix):\n",
        "    i, j = matrix.shape\n",
        "    if i != j:\n",
        "        print('Confusion Matrix must be nxn')\n",
        "        return\n",
        "    for row in range(i):\n",
        "        total = np.sum(matrix[row])\n",
        "        percent = (matrix[row][row] / total) * 100\n",
        "        print('Class ', row+1, ' has accuracy: ', round(percent, 2), '%')\n",
        "    return\n",
        "\n",
        "# Gets the confusion matrix\n",
        "class_predictions = model.predict_classes(x_test[test_size:2*test_size])\n",
        "\n",
        "confusion_matrix = tf.math.confusion_matrix(labels=y_test[test_size:2*test_size],\n",
        "                                            predictions=class_predictions).numpy()\n",
        "\n",
        "# Prints the confusion matrix\n",
        "print(\"\\n\\nConfusion Matrix:\")\n",
        "fig, ax = plt.subplots()\n",
        "ax.imshow(confusion_matrix, cmap='Blues')\n",
        "s = confusion_matrix.shape[0]\n",
        "for i in range(s):\n",
        "    for j in range(s):\n",
        "        c = int(confusion_matrix[i,j])\n",
        "        ax.text(i, j, str(c), va='center', ha='center')\n",
        "ax.set_xlabel('Predicted Class')\n",
        "ax.xaxis.set_label_position('top') \n",
        "ax.set_ylabel('True Class')\n",
        "ax.set_xticks(np.arange(s))\n",
        "ax.set_xticklabels(np.arange(1,s+1))\n",
        "ax.xaxis.tick_top()\n",
        "ax.set_yticks(np.arange(s))\n",
        "ax.set_yticklabels(np.arange(1,s+1))\n",
        "plt.show()\n",
        "\n",
        "# Prints the accuracy of the confusion matrix\n",
        "print_accuracy(confusion_matrix)"
      ],
      "execution_count": 58,
      "outputs": [
        {
          "output_type": "stream",
          "text": [
            "\n",
            "\n",
            "Confusion Matrix:\n"
          ],
          "name": "stdout"
        },
        {
          "output_type": "display_data",
          "data": {
            "image/png": "[encoded data removed]",
            "text/plain": [
              "<Figure size 432x288 with 1 Axes>"
            ]
          },
          "metadata": {
            "tags": [],
            "needs_background": "light"
          }
        },
        {
          "output_type": "stream",
          "text": [
            "Class  1  has accuracy:  51.43 %\n",
            "Class  2  has accuracy:  30.3 %\n",
            "Class  3  has accuracy:  23.08 %\n",
            "Class  4  has accuracy:  17.5 %\n",
            "Class  5  has accuracy:  7.32 %\n",
            "Class  6  has accuracy:  28.21 %\n",
            "Class  7  has accuracy:  42.55 %\n",
            "Class  8  has accuracy:  42.86 %\n",
            "Class  9  has accuracy:  64.86 %\n",
            "Class  10  has accuracy:  40.43 %\n"
          ],
          "name": "stdout"
        }
      ]
    },
    {
      "cell_type": "markdown",
      "metadata": {
        "id": "prAZCr05n87k",
        "colab_type": "text"
      },
      "source": [
        "Comparing this to FLDF from [this notebook](https://colab.research.google.com/drive/1gm1xO1u1yHFSCzDo7pqL11cOl4Uwbte1#scrollTo=prLt_tYQCCci \"General Concepts - Python Notebook\"), we can see the difference that even an extremely simple neural network can have on the performance of the model."
      ]
    }
  ]
}