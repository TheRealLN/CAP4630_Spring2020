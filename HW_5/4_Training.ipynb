{
  "nbformat": 4,
  "nbformat_minor": 0,
  "metadata": {
    "colab": {
      "name": "4-Training.ipynb",
      "provenance": []
    },
    "kernelspec": {
      "name": "python3",
      "display_name": "Python 3"
    }
  },
  "cells": [
    {
      "cell_type": "markdown",
      "metadata": {
        "id": "Gm0MIA4TfvRs",
        "colab_type": "text"
      },
      "source": [
        "# Summary of Learned Concepts in CAP 4630 - Training and Fine Tuning\n",
        "\n",
        "This will look into the training and fine-tuning of neural network models."
      ]
    },
    {
      "cell_type": "code",
      "metadata": {
        "id": "MuelkF-NrBvq",
        "colab_type": "code",
        "colab": {}
      },
      "source": [
        "import os\n",
        "import zipfile\n",
        "\n",
        "import numpy as np\n",
        "%matplotlib inline\n",
        "import matplotlib as mpl\n",
        "from matplotlib import cm, image as mpimg, pyplot as plt\n",
        "mpl.rc('axes', labelsize=14)\n",
        "mpl.rc('xtick', labelsize=8)\n",
        "mpl.rc('ytick', labelsize=8)\n",
        "\n",
        "import tensorflow as tf\n",
        "from tensorflow import keras\n",
        "from keras import models\n",
        "from keras import layers\n",
        "from keras import optimizers\n",
        "from keras.preprocessing.image import ImageDataGenerator"
      ],
      "execution_count": 0,
      "outputs": []
    },
    {
      "cell_type": "markdown",
      "metadata": {
        "id": "PSIcFrwEXvRW",
        "colab_type": "text"
      },
      "source": [
        "## Training"
      ]
    },
    {
      "cell_type": "markdown",
      "metadata": {
        "id": "UAjnu-ReXwa-",
        "colab_type": "text"
      },
      "source": [
        "### Model Fitting"
      ]
    },
    {
      "cell_type": "markdown",
      "metadata": {
        "id": "PFHQ8CcFZ1Me",
        "colab_type": "text"
      },
      "source": [
        "The desire of a model is to not only run well on the training set, but also to make accurate predictions on the testing and validation sets. In a *good fit* model, the training sets and the testing sets both are predicted well by the model. If this is not the case, chances are the model falls into one of the two following categories:"
      ]
    },
    {
      "cell_type": "markdown",
      "metadata": {
        "id": "DWDjZ9M-c7r9",
        "colab_type": "text"
      },
      "source": [
        "####1. Underfitting"
      ]
    },
    {
      "cell_type": "markdown",
      "metadata": {
        "id": "wOUHIFd5dDBv",
        "colab_type": "text"
      },
      "source": [
        "In this case, neither the training set nor the testing set give good results. If we look at the final epoch in the training of the model described [here](https://colab.research.google.com/drive/18sIzC0BdTvH2WJOMoye8p8fn2nj3KyjB#scrollTo=3hVVNeSElXmT \"Neural Networks - Python Notebook\"), we can see how both the **accuracy** and the **val_accuracy** are both low (both only accurate around 35% of the time). "
      ]
    },
    {
      "cell_type": "markdown",
      "metadata": {
        "id": "mM1yQsrudbtW",
        "colab_type": "text"
      },
      "source": [
        "```\n",
        "Epoch 5/5\n",
        "1600/1600 [==============================] - 3s 2ms/step - loss: 1.7351 - accuracy: 0.3756 - val_loss: 1.7618 - val_accuracy: 0.3500\n",
        "```"
      ]
    },
    {
      "cell_type": "markdown",
      "metadata": {
        "id": "Ti6ZzeZieL5w",
        "colab_type": "text"
      },
      "source": [
        "There are a few causes of underfitting, but the main causes are the following:\n",
        "* Too simple of a model.\n",
        "* Bad data.\n",
        "* Not enough time given to the model to learn.\n",
        "\n",
        "In the case of this model, it was way too simple to be able to discern the ten different classes. Though, notice how it must have learned *something*, as a random guess of a class would have only yielded a 10% accuracy, on average. Also, we used an extremely small amount of training and testing data, which was also a limiting factor."
      ]
    },
    {
      "cell_type": "markdown",
      "metadata": {
        "id": "BvTFSgFkp6Xs",
        "colab_type": "text"
      },
      "source": [
        "#### Overfitting"
      ]
    },
    {
      "cell_type": "markdown",
      "metadata": {
        "id": "t5p-s1KXp84E",
        "colab_type": "text"
      },
      "source": [
        "On the other hand, a model is said to be overfitted when it yields extremely high training accuracy, but a low validation accuracy. The model did not generalize the features of the training set, but instead just brute forced the members of the training set into its \"memory\". Thus, when faced with new data, it cannot properly distingush it. Let's use the same model to show this:"
      ]
    },
    {
      "cell_type": "code",
      "metadata": {
        "id": "UBZUQGoiqqj_",
        "colab_type": "code",
        "colab": {}
      },
      "source": [
        "# Constructs the neural network model according to the specifications given\n",
        "model = models.Sequential()\n",
        "\n",
        "# Adds the layers to the model. Also specifies the size of the input data on the first layer\n",
        "model.add(layers.Conv2D(32, (5, 5), activation='relu', strides=1,\n",
        "                        padding='same', input_shape=(32, 32, 3)))\n",
        "model.add(layers.MaxPool2D((2, 2), strides=2))\n",
        "\n",
        "model.add(layers.Conv2D(32, (5, 5), activation='relu', strides=1))\n",
        "model.add(layers.MaxPool2D((2, 2), strides=2))\n",
        "\n",
        "model.add(layers.Conv2D(64, (5, 5), activation='relu', strides=1))\n",
        "model.add(layers.MaxPool2D((2, 2), strides=2))\n",
        "\n",
        "# Flatten the layers before adding final fully-connected layers\n",
        "model.add(layers.Flatten())\n",
        "model.add(layers.Dense(64, activation='relu'))\n",
        "model.add(layers.Dense(10, activation='softmax'))\n",
        "\n",
        "# Compiles the model using cross entropy (categorial as multi-class)\n",
        "model.compile(loss='sparse_categorical_crossentropy',\n",
        "              optimizer='rmsprop',\n",
        "              metrics=['accuracy'])"
      ],
      "execution_count": 0,
      "outputs": []
    },
    {
      "cell_type": "markdown",
      "metadata": {
        "id": "jY-ie7qkq9Wb",
        "colab_type": "text"
      },
      "source": [
        "... and train it on CIFAR-10..."
      ]
    },
    {
      "cell_type": "code",
      "metadata": {
        "id": "7N6JDCeIqmpt",
        "colab_type": "code",
        "outputId": "3286b2cd-7e8c-4ed0-e39d-ae8bd19b9784",
        "colab": {
          "base_uri": "https://localhost:8080/",
          "height": 762
        }
      },
      "source": [
        "# Loads in CIFAR-10\n",
        "(x_train, y_train), (x_test, y_test) = tf.keras.datasets.cifar10.load_data()\n",
        "# Normalize the data (Easier training)\n",
        "x_train = x_train.astype('float32')\n",
        "x_test = x_test.astype('float32')\n",
        "x_train = x_train / 255\n",
        "x_test = x_test / 255\n",
        "# Flattens the labels\n",
        "y_train = y_train.flatten()\n",
        "y_test = y_test.flatten()\n",
        "# Defines the size of each set\n",
        "# (Note: normally, these subsets would be chosen randomly, but this only uses\n",
        "# the first n elements from each set for simplicity)\n",
        "train_size = 500\n",
        "test_size = 100\n",
        "\n",
        "history  = model.fit(x_train[:train_size], y_train[:train_size], epochs=20,\n",
        "                     validation_data=(x_test[:test_size], y_test[:test_size]))"
      ],
      "execution_count": 0,
      "outputs": [
        {
          "output_type": "stream",
          "text": [
            "Train on 500 samples, validate on 100 samples\n",
            "Epoch 1/20\n",
            "500/500 [==============================] - 1s 2ms/step - loss: 2.3086 - accuracy: 0.1100 - val_loss: 2.2945 - val_accuracy: 0.0600\n",
            "Epoch 2/20\n",
            "500/500 [==============================] - 1s 2ms/step - loss: 2.2661 - accuracy: 0.1360 - val_loss: 2.2625 - val_accuracy: 0.1400\n",
            "Epoch 3/20\n",
            "500/500 [==============================] - 1s 2ms/step - loss: 2.2237 - accuracy: 0.1620 - val_loss: 2.2015 - val_accuracy: 0.0600\n",
            "Epoch 4/20\n",
            "500/500 [==============================] - 1s 2ms/step - loss: 2.1480 - accuracy: 0.2260 - val_loss: 2.0954 - val_accuracy: 0.3100\n",
            "Epoch 5/20\n",
            "500/500 [==============================] - 1s 2ms/step - loss: 2.0814 - accuracy: 0.2200 - val_loss: 2.1878 - val_accuracy: 0.0900\n",
            "Epoch 6/20\n",
            "500/500 [==============================] - 1s 2ms/step - loss: 1.9911 - accuracy: 0.2700 - val_loss: 1.9829 - val_accuracy: 0.3300\n",
            "Epoch 7/20\n",
            "500/500 [==============================] - 1s 2ms/step - loss: 1.9730 - accuracy: 0.3040 - val_loss: 2.0343 - val_accuracy: 0.2600\n",
            "Epoch 8/20\n",
            "500/500 [==============================] - 1s 2ms/step - loss: 1.8719 - accuracy: 0.3420 - val_loss: 2.1705 - val_accuracy: 0.2300\n",
            "Epoch 9/20\n",
            "500/500 [==============================] - 1s 2ms/step - loss: 1.8202 - accuracy: 0.3480 - val_loss: 2.0095 - val_accuracy: 0.2800\n",
            "Epoch 10/20\n",
            "500/500 [==============================] - 1s 2ms/step - loss: 1.7747 - accuracy: 0.3880 - val_loss: 2.0636 - val_accuracy: 0.2800\n",
            "Epoch 11/20\n",
            "500/500 [==============================] - 1s 2ms/step - loss: 1.6890 - accuracy: 0.3900 - val_loss: 2.1280 - val_accuracy: 0.2700\n",
            "Epoch 12/20\n",
            "500/500 [==============================] - 1s 2ms/step - loss: 1.6303 - accuracy: 0.4300 - val_loss: 1.8486 - val_accuracy: 0.3800\n",
            "Epoch 13/20\n",
            "500/500 [==============================] - 1s 2ms/step - loss: 1.6072 - accuracy: 0.4300 - val_loss: 1.8958 - val_accuracy: 0.3900\n",
            "Epoch 14/20\n",
            "500/500 [==============================] - 1s 2ms/step - loss: 1.5147 - accuracy: 0.4560 - val_loss: 2.1735 - val_accuracy: 0.2900\n",
            "Epoch 15/20\n",
            "500/500 [==============================] - 1s 2ms/step - loss: 1.5307 - accuracy: 0.4800 - val_loss: 1.9211 - val_accuracy: 0.3300\n",
            "Epoch 16/20\n",
            "500/500 [==============================] - 1s 2ms/step - loss: 1.4642 - accuracy: 0.4680 - val_loss: 2.0177 - val_accuracy: 0.2800\n",
            "Epoch 17/20\n",
            "500/500 [==============================] - 1s 2ms/step - loss: 1.3748 - accuracy: 0.5240 - val_loss: 1.9804 - val_accuracy: 0.3400\n",
            "Epoch 18/20\n",
            "500/500 [==============================] - 1s 2ms/step - loss: 1.3090 - accuracy: 0.5320 - val_loss: 1.9588 - val_accuracy: 0.3400\n",
            "Epoch 19/20\n",
            "500/500 [==============================] - 1s 2ms/step - loss: 1.2517 - accuracy: 0.5820 - val_loss: 1.8815 - val_accuracy: 0.4100\n",
            "Epoch 20/20\n",
            "500/500 [==============================] - 1s 2ms/step - loss: 1.2552 - accuracy: 0.5640 - val_loss: 1.9585 - val_accuracy: 0.3600\n"
          ],
          "name": "stdout"
        }
      ]
    },
    {
      "cell_type": "markdown",
      "metadata": {
        "id": "sLVnDQSRrgyE",
        "colab_type": "text"
      },
      "source": [
        "Besides viewing the last epoch, we can look at the trajectory of the training and validation accuracy and loss over all of the epochs:"
      ]
    },
    {
      "cell_type": "code",
      "metadata": {
        "id": "0ACv1Ca2r2DN",
        "colab_type": "code",
        "outputId": "2a720b4c-4775-4204-86dd-4bc3161768c2",
        "colab": {
          "base_uri": "https://localhost:8080/",
          "height": 543
        }
      },
      "source": [
        "acc = history.history['accuracy']\n",
        "val_acc = history.history['val_accuracy']\n",
        "\n",
        "loss = history.history['loss']\n",
        "val_loss = history.history['val_loss']\n",
        "\n",
        "epochs = range(1, len(acc) + 1)\n",
        "\n",
        "# training and validation accuracy\n",
        "\n",
        "plt.plot(epochs, acc, 'bo', label='training acc')\n",
        "plt.plot(epochs, val_acc, 'b', label='validation acc')\n",
        "plt.title('training and validation accuracy')\n",
        "plt.legend()\n",
        "\n",
        "plt.figure()\n",
        "\n",
        "# training and validation loss\n",
        "\n",
        "plt.plot(epochs, loss, 'bo', label='training loss')\n",
        "plt.plot(epochs, val_loss, 'b', label='validation loss')\n",
        "plt.title('training and validation loss')\n",
        "plt.legend()\n",
        "\n",
        "plt.show()"
      ],
      "execution_count": 0,
      "outputs": [
        {
          "output_type": "display_data",
          "data": {
            "image/png": "[encoded data removed]",
            "text/plain": [
              "<Figure size 432x288 with 1 Axes>"
            ]
          },
          "metadata": {
            "tags": [],
            "needs_background": "light"
          }
        },
        {
          "output_type": "display_data",
          "data": {
            "image/png": "[encoded data removed]",
            "text/plain": [
              "<Figure size 432x288 with 1 Axes>"
            ]
          },
          "metadata": {
            "tags": [],
            "needs_background": "light"
          }
        }
      ]
    },
    {
      "cell_type": "markdown",
      "metadata": {
        "id": "fk4EzL4Rr3dY",
        "colab_type": "text"
      },
      "source": [
        "This clearly shows how the model did not suffiecntly learn the features of the classes in CIFAR-10."
      ]
    },
    {
      "cell_type": "markdown",
      "metadata": {
        "id": "7w3c1cokxB95",
        "colab_type": "text"
      },
      "source": [
        "#### Good Fit"
      ]
    },
    {
      "cell_type": "markdown",
      "metadata": {
        "id": "Bvv-P2_RtMgD",
        "colab_type": "text"
      },
      "source": [
        "Let's look at a model that does not overfit on its data.\n",
        "\n",
        "The [MNIST dataset](https://keras.io/datasets/ \"Datasets - Keras\") is a set of handwritten numbers:"
      ]
    },
    {
      "cell_type": "code",
      "metadata": {
        "id": "ATAq6wdgtboz",
        "colab_type": "code",
        "colab": {}
      },
      "source": [
        "# Loads in the MNIST dataset\n",
        "(x_train, y_train), (x_test, y_test) = tf.keras.datasets.mnist.load_data()\n",
        "\n",
        "# Reshaping the array to 4-dims so that it can work with the Keras API\n",
        "x_train = x_train.reshape(x_train.shape[0], 28, 28, 1)\n",
        "x_test = x_test.reshape(x_test.shape[0], 28, 28, 1)\n",
        "input_shape = (28, 28, 1)\n",
        "# Making sure that the values are float so that we can get decimal points after division\n",
        "x_train = x_train.astype('float32')\n",
        "x_test = x_test.astype('float32')\n",
        "# Normalizing the RGB codes by dividing it to the max RGB value.\n",
        "x_train /= 255\n",
        "x_test /= 255"
      ],
      "execution_count": 0,
      "outputs": []
    },
    {
      "cell_type": "markdown",
      "metadata": {
        "id": "kF97k_9jvN6-",
        "colab_type": "text"
      },
      "source": [
        "This [blog post](https://towardsdatascience.com/image-classification-in-10-minutes-with-mnist-dataset-54c35b77a38d \"Image Classfication - Towards Data Science\") presents the following model to learn what the numbers are:"
      ]
    },
    {
      "cell_type": "code",
      "metadata": {
        "id": "lNUhfICHvPyy",
        "colab_type": "code",
        "colab": {}
      },
      "source": [
        "model = models.Sequential()\n",
        "\n",
        "model.add(layers.Conv2D(28, kernel_size=(3,3), input_shape=input_shape))\n",
        "model.add(layers.MaxPooling2D(pool_size=(2, 2)))\n",
        "\n",
        "model.add(layers.Flatten())\n",
        "model.add(layers.Dense(128, activation=tf.nn.relu))\n",
        "model.add(layers.Dropout(0.2))\n",
        "model.add(layers.Dense(10,activation=tf.nn.softmax))"
      ],
      "execution_count": 0,
      "outputs": []
    },
    {
      "cell_type": "markdown",
      "metadata": {
        "id": "_XfLxsmQvkgP",
        "colab_type": "text"
      },
      "source": [
        "Let's train this model."
      ]
    },
    {
      "cell_type": "code",
      "metadata": {
        "id": "Tbl1FPnJvml4",
        "colab_type": "code",
        "outputId": "f7158146-e7c1-4a63-d874-118c4cda73cd",
        "colab": {
          "base_uri": "https://localhost:8080/",
          "height": 217
        }
      },
      "source": [
        "# Defines the size of each set\n",
        "# (Note: normally, these subsets would be chosen randomly, but this only uses\n",
        "# the first n elements from each set for simplicity)\n",
        "train_size = 8000\n",
        "test_size = 2000\n",
        "\n",
        "model.compile(optimizer='adam', \n",
        "              loss='sparse_categorical_crossentropy', \n",
        "              metrics=['accuracy'])\n",
        "history = model.fit(x=x_train[:train_size],y=y_train[:train_size], epochs=5,\n",
        "                    validation_data=(x_test[:test_size], y_test[:test_size]))"
      ],
      "execution_count": 0,
      "outputs": [
        {
          "output_type": "stream",
          "text": [
            "Train on 8000 samples, validate on 2000 samples\n",
            "Epoch 1/5\n",
            "8000/8000 [==============================] - 5s 663us/step - loss: 0.0084 - accuracy: 0.9981 - val_loss: 0.2721 - val_accuracy: 0.9555\n",
            "Epoch 2/5\n",
            "8000/8000 [==============================] - 5s 629us/step - loss: 0.0034 - accuracy: 0.9989 - val_loss: 0.2838 - val_accuracy: 0.9570\n",
            "Epoch 3/5\n",
            "8000/8000 [==============================] - 5s 639us/step - loss: 0.0071 - accuracy: 0.9977 - val_loss: 0.2612 - val_accuracy: 0.9575\n",
            "Epoch 4/5\n",
            "8000/8000 [==============================] - 5s 636us/step - loss: 0.0126 - accuracy: 0.9966 - val_loss: 0.2523 - val_accuracy: 0.9605\n",
            "Epoch 5/5\n",
            "8000/8000 [==============================] - 5s 635us/step - loss: 0.0077 - accuracy: 0.9970 - val_loss: 0.2460 - val_accuracy: 0.9585\n"
          ],
          "name": "stdout"
        }
      ]
    },
    {
      "cell_type": "markdown",
      "metadata": {
        "id": "zKZ-rEnjvuvm",
        "colab_type": "text"
      },
      "source": [
        "... and view the accuracy and loss over the epochs:"
      ]
    },
    {
      "cell_type": "code",
      "metadata": {
        "id": "JeV4wwiuv4Bl",
        "colab_type": "code",
        "outputId": "7d8e6e51-90de-4090-cea2-7eb8ca178bb2",
        "colab": {
          "base_uri": "https://localhost:8080/",
          "height": 543
        }
      },
      "source": [
        "acc = history.history['accuracy']\n",
        "val_acc = history.history['val_accuracy']\n",
        "\n",
        "loss = history.history['loss']\n",
        "val_loss = history.history['val_loss']\n",
        "\n",
        "epochs = range(1, len(acc) + 1)\n",
        "\n",
        "# training and validation accuracy\n",
        "\n",
        "plt.plot(epochs, acc, 'bo', label='training acc')\n",
        "plt.plot(epochs, val_acc, 'b', label='validation acc')\n",
        "plt.title('training and validation accuracy')\n",
        "plt.legend()\n",
        "\n",
        "plt.figure()\n",
        "\n",
        "# training and validation loss\n",
        "\n",
        "plt.plot(epochs, loss, 'bo', label='training loss')\n",
        "plt.plot(epochs, val_loss, 'b', label='validation loss')\n",
        "plt.title('training and validation loss')\n",
        "plt.legend()\n",
        "\n",
        "plt.show()"
      ],
      "execution_count": 0,
      "outputs": [
        {
          "output_type": "display_data",
          "data": {
            "image/png": "[encoded data removed]",
            "text/plain": [
              "<Figure size 432x288 with 1 Axes>"
            ]
          },
          "metadata": {
            "tags": [],
            "needs_background": "light"
          }
        },
        {
          "output_type": "display_data",
          "data": {
            "image/png": "[encoded data removed]",
            "text/plain": [
              "<Figure size 432x288 with 1 Axes>"
            ]
          },
          "metadata": {
            "tags": [],
            "needs_background": "light"
          }
        }
      ]
    },
    {
      "cell_type": "markdown",
      "metadata": {
        "id": "_Ez0hwMmzC_v",
        "colab_type": "text"
      },
      "source": [
        "Notice although the data seems relatively far apart, that is only due to the scaling of the graph. In reality the validation set is very close to the training set, thus the model actually generalized well."
      ]
    },
    {
      "cell_type": "markdown",
      "metadata": {
        "id": "f95o1yxLCZq5",
        "colab_type": "text"
      },
      "source": [
        "## Fine-Tuning"
      ]
    },
    {
      "cell_type": "markdown",
      "metadata": {
        "id": "u0BcveZQCbaC",
        "colab_type": "text"
      },
      "source": [
        "Training a network from scratch can take an extremely long time; some networks can take days to train on large datasets. Is there any way to reduce this time? Well, there are many times where the problem wanted to be modeled (eg. image classification) has already been done extensively by an existing network. So, why not take advantage of the effort and time that was used to create that network?\n",
        "\n",
        "Take image classfication, for an example. If you wanted to train a model that distingushes between cats and dogs, you can always make your own network and train it. However, there are already networks that have been made to distinguish thousands of different classes in images (*VGG16/19*, *Xception*, etc.). Specifically, these network architectures have been trained on massive datasets, such as *ImageNet*.\n",
        "\n",
        "The models may not have the fidelity of classification for the specific classes that is part of the problem. There is, however, a process that uses the backbone of the network, and makes slight adjustments to the end of the networks (where most of the abstract information is stored). This is what the process of fine-tuning is."
      ]
    },
    {
      "cell_type": "markdown",
      "metadata": {
        "id": "m7TbA7rQGKAz",
        "colab_type": "text"
      },
      "source": [
        "There are two major steps in fine-tuning: first is the train a new *classifier* on the original network, known as the *convolutional base*, without altering it. The second step is to pick a number of layers from the end of the conv base and reopen it for training. A smaller learning rate is used, thus making sure to only tune the network to work better with the new inputs, rather than altering the entire structure. This is why the process is known as fine-tuning."
      ]
    },
    {
      "cell_type": "markdown",
      "metadata": {
        "id": "V2kJatQlFs7_",
        "colab_type": "text"
      },
      "source": [
        "### Example"
      ]
    },
    {
      "cell_type": "markdown",
      "metadata": {
        "id": "tdm0aJQvFUL-",
        "colab_type": "text"
      },
      "source": [
        "Let's implement the example of fine-tuning cats and dogs.\n",
        "This will use MobileNet as the convolutional base."
      ]
    },
    {
      "cell_type": "markdown",
      "metadata": {
        "id": "pyk7yFwzHKiW",
        "colab_type": "text"
      },
      "source": [
        "Gets the images of cats and dogs:"
      ]
    },
    {
      "cell_type": "code",
      "metadata": {
        "id": "h6eVxi8NFTjT",
        "colab_type": "code",
        "colab": {
          "base_uri": "https://localhost:8080/",
          "height": 217
        },
        "outputId": "9a09dc53-65cd-4483-87c4-0d227b745f77"
      },
      "source": [
        "!wget --no-check-certificate \\\n",
        "    https://storage.googleapis.com/mledu-datasets/cats_and_dogs_filtered.zip \\\n",
        "    -O /tmp/cats_and_dogs_filtered.zip\n",
        "\n",
        "local_zip = '/tmp/cats_and_dogs_filtered.zip'\n",
        "zip_ref = zipfile.ZipFile(local_zip, 'r')\n",
        "zip_ref.extractall('/tmp')\n",
        "zip_ref.close()\n",
        "\n",
        "# Creates a training and validation set\n",
        "base_dir = '/tmp/cats_and_dogs_filtered'\n",
        "train_dir = os.path.join(base_dir, 'train')\n",
        "validation_dir = os.path.join(base_dir, 'validation')\n",
        "\n",
        "# Directory with our training cat pictures\n",
        "train_cats_dir = os.path.join(train_dir, 'cats')\n",
        "\n",
        "# Directory with our training dog pictures\n",
        "train_dogs_dir = os.path.join(train_dir, 'dogs')\n",
        "\n",
        "# Directory with our validation cat pictures\n",
        "validation_cats_dir = os.path.join(validation_dir, 'cats')\n",
        "\n",
        "# Directory with our validation dog pictures\n",
        "validation_dogs_dir = os.path.join(validation_dir, 'dogs')"
      ],
      "execution_count": 7,
      "outputs": [
        {
          "output_type": "stream",
          "text": [
            "--2020-04-24 21:39:29--  https://storage.googleapis.com/mledu-datasets/cats_and_dogs_filtered.zip\n",
            "Resolving storage.googleapis.com (storage.googleapis.com)... 173.194.217.128, 2607:f8b0:400c:c07::80\n",
            "Connecting to storage.googleapis.com (storage.googleapis.com)|173.194.217.128|:443... connected.\n",
            "HTTP request sent, awaiting response... 200 OK\n",
            "Length: 68606236 (65M) [application/zip]\n",
            "Saving to: ‘/tmp/cats_and_dogs_filtered.zip’\n",
            "\n",
            "/tmp/cats_and_dogs_ 100%[===================>]  65.43M   164MB/s    in 0.4s    \n",
            "\n",
            "2020-04-24 21:39:30 (164 MB/s) - ‘/tmp/cats_and_dogs_filtered.zip’ saved [68606236/68606236]\n",
            "\n"
          ],
          "name": "stdout"
        }
      ]
    },
    {
      "cell_type": "markdown",
      "metadata": {
        "id": "jZLJSokOHLwh",
        "colab_type": "text"
      },
      "source": [
        "Loads the convolutional base and freezes it:"
      ]
    },
    {
      "cell_type": "code",
      "metadata": {
        "id": "-bB7v6Z5HL-6",
        "colab_type": "code",
        "colab": {
          "base_uri": "https://localhost:8080/",
          "height": 73
        },
        "outputId": "33bb17d6-e30b-4e52-a630-1f60e8f4a5b9"
      },
      "source": [
        "from keras.applications import MobileNet\n",
        "\n",
        "conv_base = MobileNet(\n",
        "    weights='imagenet', \n",
        "    include_top=False, \n",
        "    input_shape=(150, 150, 3))\n",
        "\n",
        "conv_base.trainable = False"
      ],
      "execution_count": 8,
      "outputs": [
        {
          "output_type": "stream",
          "text": [
            "/usr/local/lib/python3.6/dist-packages/keras_applications/mobilenet.py:207: UserWarning: `input_shape` is undefined or non-square, or `rows` is not in [128, 160, 192, 224]. Weights for input shape (224, 224) will be loaded as the default.\n",
            "  warnings.warn('`input_shape` is undefined or non-square, '\n"
          ],
          "name": "stderr"
        }
      ]
    },
    {
      "cell_type": "markdown",
      "metadata": {
        "id": "M6Mg0SHeHRl5",
        "colab_type": "text"
      },
      "source": [
        "Concatenates the conv base with fully connected layers (the classifier):"
      ]
    },
    {
      "cell_type": "code",
      "metadata": {
        "id": "tJN94yscHRw2",
        "colab_type": "code",
        "colab": {}
      },
      "source": [
        "model = models.Sequential()\n",
        "model.add(conv_base)\n",
        "model.add(layers.Flatten())\n",
        "model.add(layers.Dense(256, activation='relu'))\n",
        "model.add(layers.Dropout(0.5))\n",
        "model.add(layers.Dense(128, activation='relu'))\n",
        "model.add(layers.Dropout(0.5))\n",
        "model.add(layers.Dense(1, activation='sigmoid'))"
      ],
      "execution_count": 0,
      "outputs": []
    },
    {
      "cell_type": "markdown",
      "metadata": {
        "id": "NRp0q6MMHom2",
        "colab_type": "text"
      },
      "source": [
        "Trains the model with the frozen conv base:"
      ]
    },
    {
      "cell_type": "code",
      "metadata": {
        "id": "WzgkeXg-HorJ",
        "colab_type": "code",
        "colab": {
          "base_uri": "https://localhost:8080/",
          "height": 598
        },
        "outputId": "1311cdd2-33c3-4c74-b250-db9ff531fbf1"
      },
      "source": [
        "# data augmentation\n",
        "\n",
        "train_datagen = ImageDataGenerator(\n",
        "    rescale=1./255, \n",
        "    rotation_range=40,\n",
        "    width_shift_range=0.2,\n",
        "    height_shift_range=0.2,\n",
        "    shear_range=0.2,\n",
        "    zoom_range=0.2,\n",
        "    horizontal_flip=True,\n",
        "    fill_mode='nearest'\n",
        ")\n",
        "\n",
        "train_generator = train_datagen.flow_from_directory(\n",
        "    train_dir,\n",
        "    target_size=(150, 150),\n",
        "    batch_size=20,\n",
        "    class_mode='binary')\n",
        "\n",
        "validation_datagen = ImageDataGenerator(rescale=1./255)\n",
        "\n",
        "validation_generator = validation_datagen.flow_from_directory(\n",
        "    validation_dir,\n",
        "    target_size=(150, 150),\n",
        "    batch_size=20,\n",
        "    class_mode='binary')\n",
        "\n",
        "# compile model\n",
        "\n",
        "model.compile(\n",
        "    loss='binary_crossentropy', \n",
        "    optimizer=optimizers.RMSprop(lr=2e-5), \n",
        "    metrics=['acc'])\n",
        "\n",
        "# train\n",
        "\n",
        "history = model.fit_generator(\n",
        "    train_generator,\n",
        "    steps_per_epoch=10,\n",
        "    epochs=15,\n",
        "    validation_data=validation_generator,\n",
        "    validation_steps=5\n",
        ")"
      ],
      "execution_count": 16,
      "outputs": [
        {
          "output_type": "stream",
          "text": [
            "Found 2000 images belonging to 2 classes.\n",
            "Found 1000 images belonging to 2 classes.\n",
            "Epoch 1/15\n",
            "10/10 [==============================] - 12s 1s/step - loss: 1.5332 - acc: 0.5400 - val_loss: 0.7278 - val_acc: 0.7700\n",
            "Epoch 2/15\n",
            "10/10 [==============================] - 9s 933ms/step - loss: 1.2757 - acc: 0.5650 - val_loss: 0.4361 - val_acc: 0.8200\n",
            "Epoch 3/15\n",
            "10/10 [==============================] - 9s 941ms/step - loss: 1.2910 - acc: 0.5450 - val_loss: 0.3612 - val_acc: 0.8900\n",
            "Epoch 4/15\n",
            "10/10 [==============================] - 9s 934ms/step - loss: 0.9309 - acc: 0.6250 - val_loss: 0.1694 - val_acc: 0.8400\n",
            "Epoch 5/15\n",
            "10/10 [==============================] - 9s 936ms/step - loss: 1.1066 - acc: 0.5900 - val_loss: 0.2489 - val_acc: 0.8300\n",
            "Epoch 6/15\n",
            "10/10 [==============================] - 9s 943ms/step - loss: 1.1504 - acc: 0.6150 - val_loss: 0.3869 - val_acc: 0.8800\n",
            "Epoch 7/15\n",
            "10/10 [==============================] - 9s 939ms/step - loss: 0.8031 - acc: 0.6500 - val_loss: 0.1962 - val_acc: 0.9400\n",
            "Epoch 8/15\n",
            "10/10 [==============================] - 9s 932ms/step - loss: 0.6987 - acc: 0.7300 - val_loss: 0.2951 - val_acc: 0.9300\n",
            "Epoch 9/15\n",
            "10/10 [==============================] - 9s 900ms/step - loss: 0.7663 - acc: 0.6900 - val_loss: 0.1540 - val_acc: 0.8900\n",
            "Epoch 10/15\n",
            "10/10 [==============================] - 10s 952ms/step - loss: 0.5604 - acc: 0.7550 - val_loss: 0.3626 - val_acc: 0.9000\n",
            "Epoch 11/15\n",
            "10/10 [==============================] - 10s 958ms/step - loss: 0.7056 - acc: 0.7300 - val_loss: 0.2681 - val_acc: 0.9100\n",
            "Epoch 12/15\n",
            "10/10 [==============================] - 9s 949ms/step - loss: 0.6599 - acc: 0.7600 - val_loss: 0.3304 - val_acc: 0.8600\n",
            "Epoch 13/15\n",
            "10/10 [==============================] - 10s 959ms/step - loss: 0.5970 - acc: 0.7550 - val_loss: 0.2226 - val_acc: 0.9200\n",
            "Epoch 14/15\n",
            "10/10 [==============================] - 10s 953ms/step - loss: 0.5639 - acc: 0.7850 - val_loss: 0.1347 - val_acc: 0.9200\n",
            "Epoch 15/15\n",
            "10/10 [==============================] - 10s 952ms/step - loss: 0.5257 - acc: 0.7500 - val_loss: 0.2897 - val_acc: 0.9400\n"
          ],
          "name": "stdout"
        }
      ]
    },
    {
      "cell_type": "markdown",
      "metadata": {
        "id": "u7FJ_JDjI1Zi",
        "colab_type": "text"
      },
      "source": [
        "Fine-Tunes the network:"
      ]
    },
    {
      "cell_type": "code",
      "metadata": {
        "id": "n0hzTxRII1q4",
        "colab_type": "code",
        "colab": {}
      },
      "source": [
        "conv_base.trainable = True\n",
        "\n",
        "set_trainable = False\n",
        "for layer in conv_base.layers:\n",
        "  if layer.name == 'conv_pw_12':\n",
        "    set_trainable = True\n",
        "  if set_trainable:\n",
        "    layer.trainable = True\n",
        "  else:\n",
        "    layer.trainable = False"
      ],
      "execution_count": 0,
      "outputs": []
    },
    {
      "cell_type": "code",
      "metadata": {
        "id": "Qow793nUI9ru",
        "colab_type": "code",
        "colab": {
          "base_uri": "https://localhost:8080/",
          "height": 1000
        },
        "outputId": "df9ff76a-58a0-4a95-a433-01eb35be3951"
      },
      "source": [
        "# compile model\n",
        "\n",
        "model.compile(\n",
        "    loss='binary_crossentropy',\n",
        "    #\n",
        "    # choose a smaller learning rate\n",
        "    #\n",
        "    optimizer=optimizers.RMSprop(lr=1e-5), \n",
        "    metrics=['acc'])\n",
        "\n",
        "# train\n",
        "\n",
        "history = model.fit_generator(\n",
        "    train_generator,\n",
        "    steps_per_epoch=10,\n",
        "    epochs=30,\n",
        "    validation_data=validation_generator,\n",
        "    validation_steps=5)"
      ],
      "execution_count": 18,
      "outputs": [
        {
          "output_type": "stream",
          "text": [
            "Epoch 1/30\n",
            "10/10 [==============================] - 12s 1s/step - loss: 0.6305 - acc: 0.7600 - val_loss: 0.2277 - val_acc: 0.9200\n",
            "Epoch 2/30\n",
            "10/10 [==============================] - 9s 949ms/step - loss: 0.5156 - acc: 0.8100 - val_loss: 0.2696 - val_acc: 0.9100\n",
            "Epoch 3/30\n",
            "10/10 [==============================] - 10s 954ms/step - loss: 0.4089 - acc: 0.8100 - val_loss: 0.2379 - val_acc: 0.9300\n",
            "Epoch 4/30\n",
            "10/10 [==============================] - 9s 946ms/step - loss: 0.5732 - acc: 0.8300 - val_loss: 0.0965 - val_acc: 0.9300\n",
            "Epoch 5/30\n",
            "10/10 [==============================] - 10s 956ms/step - loss: 0.7119 - acc: 0.7250 - val_loss: 0.2949 - val_acc: 0.9400\n",
            "Epoch 6/30\n",
            "10/10 [==============================] - 10s 965ms/step - loss: 0.6301 - acc: 0.7550 - val_loss: 0.1328 - val_acc: 0.9600\n",
            "Epoch 7/30\n",
            "10/10 [==============================] - 10s 951ms/step - loss: 0.4909 - acc: 0.8100 - val_loss: 0.1540 - val_acc: 0.9600\n",
            "Epoch 8/30\n",
            "10/10 [==============================] - 10s 951ms/step - loss: 0.5622 - acc: 0.7950 - val_loss: 0.1434 - val_acc: 0.9100\n",
            "Epoch 9/30\n",
            "10/10 [==============================] - 9s 928ms/step - loss: 0.5091 - acc: 0.7750 - val_loss: 0.1279 - val_acc: 0.9600\n",
            "Epoch 10/30\n",
            "10/10 [==============================] - 10s 972ms/step - loss: 0.5036 - acc: 0.7800 - val_loss: 0.1130 - val_acc: 0.9300\n",
            "Epoch 11/30\n",
            "10/10 [==============================] - 10s 985ms/step - loss: 0.4409 - acc: 0.7950 - val_loss: 0.2632 - val_acc: 0.9100\n",
            "Epoch 12/30\n",
            "10/10 [==============================] - 10s 953ms/step - loss: 0.4073 - acc: 0.8200 - val_loss: 0.0860 - val_acc: 0.9600\n",
            "Epoch 13/30\n",
            "10/10 [==============================] - 9s 946ms/step - loss: 0.4000 - acc: 0.8450 - val_loss: 0.0560 - val_acc: 0.9700\n",
            "Epoch 14/30\n",
            "10/10 [==============================] - 9s 947ms/step - loss: 0.4964 - acc: 0.8300 - val_loss: 0.1577 - val_acc: 0.9300\n",
            "Epoch 15/30\n",
            "10/10 [==============================] - 10s 951ms/step - loss: 0.6734 - acc: 0.7450 - val_loss: 0.0991 - val_acc: 0.9200\n",
            "Epoch 16/30\n",
            "10/10 [==============================] - 10s 961ms/step - loss: 0.5005 - acc: 0.7900 - val_loss: 0.2923 - val_acc: 0.9500\n",
            "Epoch 17/30\n",
            "10/10 [==============================] - 9s 949ms/step - loss: 0.6120 - acc: 0.7350 - val_loss: 0.0106 - val_acc: 0.9500\n",
            "Epoch 18/30\n",
            "10/10 [==============================] - 9s 939ms/step - loss: 0.3590 - acc: 0.8500 - val_loss: 0.1511 - val_acc: 0.9600\n",
            "Epoch 19/30\n",
            "10/10 [==============================] - 9s 912ms/step - loss: 0.4594 - acc: 0.8150 - val_loss: 0.1104 - val_acc: 0.9900\n",
            "Epoch 20/30\n",
            "10/10 [==============================] - 10s 965ms/step - loss: 0.4489 - acc: 0.8300 - val_loss: 0.0991 - val_acc: 0.9600\n",
            "Epoch 21/30\n",
            "10/10 [==============================] - 10s 961ms/step - loss: 0.3287 - acc: 0.8200 - val_loss: 0.0865 - val_acc: 0.9800\n",
            "Epoch 22/30\n",
            "10/10 [==============================] - 9s 943ms/step - loss: 0.3593 - acc: 0.8700 - val_loss: 0.1267 - val_acc: 0.9100\n",
            "Epoch 23/30\n",
            "10/10 [==============================] - 9s 939ms/step - loss: 0.4545 - acc: 0.8300 - val_loss: 0.0670 - val_acc: 0.9300\n",
            "Epoch 24/30\n",
            "10/10 [==============================] - 9s 937ms/step - loss: 0.4196 - acc: 0.8300 - val_loss: 0.0464 - val_acc: 0.9500\n",
            "Epoch 25/30\n",
            "10/10 [==============================] - 9s 941ms/step - loss: 0.4571 - acc: 0.8300 - val_loss: 0.1130 - val_acc: 0.9300\n",
            "Epoch 26/30\n",
            "10/10 [==============================] - 9s 935ms/step - loss: 0.5049 - acc: 0.7800 - val_loss: 0.3266 - val_acc: 0.9600\n",
            "Epoch 27/30\n",
            "10/10 [==============================] - 9s 938ms/step - loss: 0.5019 - acc: 0.7800 - val_loss: 0.1345 - val_acc: 0.9400\n",
            "Epoch 28/30\n",
            "10/10 [==============================] - 9s 949ms/step - loss: 0.4519 - acc: 0.8400 - val_loss: 0.0277 - val_acc: 0.9500\n",
            "Epoch 29/30\n",
            "10/10 [==============================] - 9s 910ms/step - loss: 0.5245 - acc: 0.8150 - val_loss: 0.1335 - val_acc: 0.9800\n",
            "Epoch 30/30\n",
            "10/10 [==============================] - 10s 960ms/step - loss: 0.3797 - acc: 0.8400 - val_loss: 0.2100 - val_acc: 0.9300\n"
          ],
          "name": "stdout"
        }
      ]
    },
    {
      "cell_type": "markdown",
      "metadata": {
        "id": "vBqZJiC4JmI1",
        "colab_type": "text"
      },
      "source": [
        "Displays the training and validation loss and accuracy for fine-tuning:"
      ]
    },
    {
      "cell_type": "code",
      "metadata": {
        "id": "qqxi3h7uJrAn",
        "colab_type": "code",
        "colab": {
          "base_uri": "https://localhost:8080/",
          "height": 543
        },
        "outputId": "87269494-30b8-4291-c72d-859a0e1b0145"
      },
      "source": [
        "acc = history.history['acc']\n",
        "val_acc = history.history['val_acc']\n",
        "\n",
        "loss = history.history['loss']\n",
        "val_loss = history.history['val_loss']\n",
        "\n",
        "epochs = range(1, len(acc) + 1)\n",
        "\n",
        "# training and validation accuracy\n",
        "\n",
        "plt.plot(epochs, acc, 'bo', label='training acc')\n",
        "plt.plot(epochs, val_acc, 'b', label='validation acc')\n",
        "plt.title('training and validation accuracy')\n",
        "plt.legend()\n",
        "\n",
        "plt.figure()\n",
        "\n",
        "# training and validation loss\n",
        "\n",
        "plt.plot(epochs, loss, 'bo', label='training loss')\n",
        "plt.plot(epochs, val_loss, 'b', label='validation loss')\n",
        "plt.title('training and validation loss')\n",
        "plt.legend()\n",
        "\n",
        "plt.show()"
      ],
      "execution_count": 19,
      "outputs": [
        {
          "output_type": "display_data",
          "data": {
            "image/png": "[encoded data removed]",
            "text/plain": [
              "<Figure size 432x288 with 1 Axes>"
            ]
          },
          "metadata": {
            "tags": [],
            "needs_background": "light"
          }
        },
        {
          "output_type": "display_data",
          "data": {
            "image/png": "[encoded data removed]",
            "text/plain": [
              "<Figure size 432x288 with 1 Axes>"
            ]
          },
          "metadata": {
            "tags": [],
            "needs_background": "light"
          }
        }
      ]
    }
  ]
}