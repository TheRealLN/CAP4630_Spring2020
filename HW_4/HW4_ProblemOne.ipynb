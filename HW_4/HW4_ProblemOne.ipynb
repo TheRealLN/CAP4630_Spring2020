{
  "nbformat": 4,
  "nbformat_minor": 0,
  "metadata": {
    "colab": {
      "name": "HW4_ProblemOne.ipynb",
      "provenance": [],
      "collapsed_sections": []
    },
    "kernelspec": {
      "name": "python3",
      "display_name": "Python 3"
    }
  },
  "cells": [
    {
      "cell_type": "markdown",
      "metadata": {
        "id": "LDkxHzLY7V8d",
        "colab_type": "text"
      },
      "source": [
        "# 2D Convolutions With Numpy\n",
        "The following is an implementation of a 2D convolution of square matrices using only numpy as a backend.\n",
        "\n",
        "A convolution takes a doubly flipped inputted kernel,\n",
        "\n",
        "ex. $\\mathbb{K}=\\begin{bmatrix} 1 & 2 \\\\ 3 & 4 \\end{bmatrix} \\rightarrow\n",
        "\\begin{bmatrix} 4 & 3 \\\\ 2 & 1\\end{bmatrix}$,\n",
        "\n",
        "and performs element-wise multiplication on all possible windows of a matrix $\\mathbb{I}$. Each element of the resulting convolution is equivalent to the sum of element-wise multiplication on a single window."
      ]
    },
    {
      "cell_type": "markdown",
      "metadata": {
        "id": "4PcUoTs-7Q1k",
        "colab_type": "text"
      },
      "source": [
        "## Imports\n"
      ]
    },
    {
      "cell_type": "code",
      "metadata": {
        "id": "HgaHr1s17NDt",
        "colab_type": "code",
        "colab": {}
      },
      "source": [
        "import numpy as np"
      ],
      "execution_count": 0,
      "outputs": []
    },
    {
      "cell_type": "markdown",
      "metadata": {
        "id": "mrgNygBS8AYJ",
        "colab_type": "text"
      },
      "source": [
        "## Conv2D Function"
      ]
    },
    {
      "cell_type": "code",
      "metadata": {
        "id": "bgLD3Gih8AiF",
        "colab_type": "code",
        "colab": {}
      },
      "source": [
        "def conv2d (input_mat, kernel_mat, stride = 1):\n",
        "  # Tests if arrays are of proper form\n",
        "  try:\n",
        "    im = np.array(input_mat)\n",
        "    x,y = im.shape\n",
        "  except:\n",
        "    raise Exception('Input could not be coerced into a 2D numpy array.')\n",
        "  try:\n",
        "    km = np.array(kernel_mat)\n",
        "    u,v = km.shape\n",
        "  except:\n",
        "    raise Exception('Kernel could not be coerced into a 2D numpy array.')\n",
        "  # Tests if arrays are of proper size\n",
        "  if x != y:\n",
        "    raise Exception((\"Input is expected to be an (n,n) matrix. \"\n",
        "                    \"Instead got a matrix of shape ({0},{1}).\").format(x, y))\n",
        "  if u != v:\n",
        "    raise Exception((\"Kernel is expected to be an (n,n) matrix. \"\n",
        "                    \"Instead got a matrix of shape ({0},{1}).\").format(u, v))\n",
        "  # Tests if the input is smaller than the kernel\n",
        "  if x < u:\n",
        "    raise Exception((\"Kernel is too large. Expected kernel of shape \"\n",
        "                    \"(n,n), where n <= {0}. Instead got n = {1}.\").format(x, u))\n",
        "  # Checks stride\n",
        "  if stride < 1 or stride - int(stride) != 0:\n",
        "    raise Exception('Stride must a positive integer.')\n",
        "\n",
        "  # Mirrors the kernel for faster convolution\n",
        "  km_mirror = np.fliplr(np.flipud(km))\n",
        "\n",
        "  # Creates the output matrix\n",
        "  output_size = np.ceil((x-u+1)/stride).astype(int)\n",
        "  output_mat = np.zeros(shape=(output_size, output_size))\n",
        "\n",
        "  # Performs convolution\n",
        "  for i in range(output_size):\n",
        "    si = stride * i\n",
        "    for j in range(output_size):\n",
        "      sj = stride * j\n",
        "      output_mat[i,j] = np.sum(np.multiply(im[si:u+si,sj:u+sj], km_mirror))\n",
        "  \n",
        "  return output_mat"
      ],
      "execution_count": 0,
      "outputs": []
    },
    {
      "cell_type": "markdown",
      "metadata": {
        "id": "ke___VvWUC8f",
        "colab_type": "text"
      },
      "source": [
        "## Test Cases"
      ]
    },
    {
      "cell_type": "markdown",
      "metadata": {
        "id": "K7D70KQSUTiS",
        "colab_type": "text"
      },
      "source": [
        "### Sanity Test\n",
        "$\\begin{bmatrix} 1 & 2 & 3 \\\\ 4 & 5 & 6 \\\\ 7 & 8 & 9 \\end{bmatrix} \\circledast\n",
        "\\begin{bmatrix} 1 & 0 \\\\ 0 & 2 \\end{bmatrix} =\n",
        "\\begin{bmatrix} 7 & 10 \\\\ 16 & 19\\end{bmatrix}$"
      ]
    },
    {
      "cell_type": "code",
      "metadata": {
        "id": "p-8KThFZS8iP",
        "colab_type": "code",
        "outputId": "4e334f86-43e8-49f1-80cd-440bf7187f12",
        "colab": {
          "base_uri": "https://localhost:8080/",
          "height": 53
        }
      },
      "source": [
        "input_mat = np.array([[1,2,3],\n",
        "                      [4,5,6],\n",
        "                      [7,8,9]])\n",
        "kernel_mat = [[1,0],\n",
        "              [0,2]]\n",
        "\n",
        "print(conv2d(input_mat, kernel_mat))"
      ],
      "execution_count": 0,
      "outputs": [
        {
          "output_type": "stream",
          "text": [
            "[[ 7. 10.]\n",
            " [16. 19.]]\n"
          ],
          "name": "stdout"
        }
      ]
    },
    {
      "cell_type": "markdown",
      "metadata": {
        "id": "dzEpCuBKoQs_",
        "colab_type": "text"
      },
      "source": [
        "### Strides\n",
        "$\\mathbb{O}_{(11,11)} = \\begin{bmatrix} 1 & \\dots & 1 \\\\ \\vdots & \\ddots &  \\\\ 1 &  & 1 \\end{bmatrix}$\n",
        "\n",
        "$\\mathbb{O}_{(11,11)} \\circledast \\mathbb{I}_5 = \\begin{bmatrix} 5 & 5 & 5 \\\\ 5 & 5 & 5 \\\\ 5 & 5 & 5\\end{bmatrix}$ , when stride $=3$"
      ]
    },
    {
      "cell_type": "code",
      "metadata": {
        "id": "jbP1xauToV3S",
        "colab_type": "code",
        "outputId": "4e63d950-ac88-47ec-d37a-347cf089654b",
        "colab": {
          "base_uri": "https://localhost:8080/",
          "height": 72
        }
      },
      "source": [
        "input_mat = np.ones(shape=(11,11))\n",
        "\n",
        "kernel_mat = np.identity(5)\n",
        "\n",
        "print(conv2d(input_mat, kernel_mat, 3))"
      ],
      "execution_count": 0,
      "outputs": [
        {
          "output_type": "stream",
          "text": [
            "[[5. 5. 5.]\n",
            " [5. 5. 5.]\n",
            " [5. 5. 5.]]\n"
          ],
          "name": "stdout"
        }
      ]
    },
    {
      "cell_type": "markdown",
      "metadata": {
        "id": "SWiQSVLJZN0R",
        "colab_type": "text"
      },
      "source": [
        "### Incorrect Input Type"
      ]
    },
    {
      "cell_type": "code",
      "metadata": {
        "id": "DmafcMEnZN_c",
        "colab_type": "code",
        "outputId": "1425baa4-dad2-4f12-ddf2-57525bc8c63f",
        "colab": {
          "base_uri": "https://localhost:8080/",
          "height": 449
        }
      },
      "source": [
        "conv2d('This will cause an exception to be raised.',[[1]])"
      ],
      "execution_count": 0,
      "outputs": [
        {
          "output_type": "error",
          "ename": "Exception",
          "evalue": "ignored",
          "traceback": [
            "\u001b[0;31m---------------------------------------------------------------------------\u001b[0m",
            "\u001b[0;31mValueError\u001b[0m                                Traceback (most recent call last)",
            "\u001b[0;32m<ipython-input-47-76466d91e259>\u001b[0m in \u001b[0;36mconv2d\u001b[0;34m(input_mat, kernel_mat, stride)\u001b[0m\n\u001b[1;32m      4\u001b[0m     \u001b[0mim\u001b[0m \u001b[0;34m=\u001b[0m \u001b[0mnp\u001b[0m\u001b[0;34m.\u001b[0m\u001b[0marray\u001b[0m\u001b[0;34m(\u001b[0m\u001b[0minput_mat\u001b[0m\u001b[0;34m)\u001b[0m\u001b[0;34m\u001b[0m\u001b[0;34m\u001b[0m\u001b[0m\n\u001b[0;32m----> 5\u001b[0;31m     \u001b[0mx\u001b[0m\u001b[0;34m,\u001b[0m\u001b[0my\u001b[0m \u001b[0;34m=\u001b[0m \u001b[0mim\u001b[0m\u001b[0;34m.\u001b[0m\u001b[0mshape\u001b[0m\u001b[0;34m\u001b[0m\u001b[0;34m\u001b[0m\u001b[0m\n\u001b[0m\u001b[1;32m      6\u001b[0m   \u001b[0;32mexcept\u001b[0m\u001b[0;34m:\u001b[0m\u001b[0;34m\u001b[0m\u001b[0;34m\u001b[0m\u001b[0m\n",
            "\u001b[0;31mValueError\u001b[0m: not enough values to unpack (expected 2, got 0)",
            "\nDuring handling of the above exception, another exception occurred:\n",
            "\u001b[0;31mException\u001b[0m                                 Traceback (most recent call last)",
            "\u001b[0;32m<ipython-input-55-e4345041d098>\u001b[0m in \u001b[0;36m<module>\u001b[0;34m()\u001b[0m\n\u001b[0;32m----> 1\u001b[0;31m \u001b[0mconv2d\u001b[0m\u001b[0;34m(\u001b[0m\u001b[0;34m'This will cause an exception to be raised.'\u001b[0m\u001b[0;34m,\u001b[0m\u001b[0;34m[\u001b[0m\u001b[0;34m[\u001b[0m\u001b[0;36m1\u001b[0m\u001b[0;34m]\u001b[0m\u001b[0;34m]\u001b[0m\u001b[0;34m)\u001b[0m\u001b[0;34m\u001b[0m\u001b[0;34m\u001b[0m\u001b[0m\n\u001b[0m",
            "\u001b[0;32m<ipython-input-47-76466d91e259>\u001b[0m in \u001b[0;36mconv2d\u001b[0;34m(input_mat, kernel_mat, stride)\u001b[0m\n\u001b[1;32m      5\u001b[0m     \u001b[0mx\u001b[0m\u001b[0;34m,\u001b[0m\u001b[0my\u001b[0m \u001b[0;34m=\u001b[0m \u001b[0mim\u001b[0m\u001b[0;34m.\u001b[0m\u001b[0mshape\u001b[0m\u001b[0;34m\u001b[0m\u001b[0;34m\u001b[0m\u001b[0m\n\u001b[1;32m      6\u001b[0m   \u001b[0;32mexcept\u001b[0m\u001b[0;34m:\u001b[0m\u001b[0;34m\u001b[0m\u001b[0;34m\u001b[0m\u001b[0m\n\u001b[0;32m----> 7\u001b[0;31m     \u001b[0;32mraise\u001b[0m \u001b[0mException\u001b[0m\u001b[0;34m(\u001b[0m\u001b[0;34m'Input could not be coerced into a 2D numpy array.'\u001b[0m\u001b[0;34m)\u001b[0m\u001b[0;34m\u001b[0m\u001b[0;34m\u001b[0m\u001b[0m\n\u001b[0m\u001b[1;32m      8\u001b[0m   \u001b[0;32mtry\u001b[0m\u001b[0;34m:\u001b[0m\u001b[0;34m\u001b[0m\u001b[0;34m\u001b[0m\u001b[0m\n\u001b[1;32m      9\u001b[0m     \u001b[0mkm\u001b[0m \u001b[0;34m=\u001b[0m \u001b[0mnp\u001b[0m\u001b[0;34m.\u001b[0m\u001b[0marray\u001b[0m\u001b[0;34m(\u001b[0m\u001b[0mkernel_mat\u001b[0m\u001b[0;34m)\u001b[0m\u001b[0;34m\u001b[0m\u001b[0;34m\u001b[0m\u001b[0m\n",
            "\u001b[0;31mException\u001b[0m: Input could not be coerced into a 2D numpy array."
          ]
        }
      ]
    },
    {
      "cell_type": "markdown",
      "metadata": {
        "id": "lSBuq-DrbCYd",
        "colab_type": "text"
      },
      "source": [
        "### Kernel That is Too Large"
      ]
    },
    {
      "cell_type": "code",
      "metadata": {
        "id": "yb6FEuAEbNmg",
        "colab_type": "code",
        "outputId": "0e295268-b556-4833-fea4-392a2f488f57",
        "colab": {
          "base_uri": "https://localhost:8080/",
          "height": 334
        }
      },
      "source": [
        "input_mat = np.array([[1,2],\n",
        "                      [3,4]])\n",
        "\n",
        "kernel_mat = np.array([[1,2,3],\n",
        "                       [4,5,6],\n",
        "                       [7,8,9]])\n",
        "\n",
        "print(conv2d(input_mat, kernel_mat))"
      ],
      "execution_count": 0,
      "outputs": [
        {
          "output_type": "error",
          "ename": "Exception",
          "evalue": "ignored",
          "traceback": [
            "\u001b[0;31m---------------------------------------------------------------------------\u001b[0m",
            "\u001b[0;31mException\u001b[0m                                 Traceback (most recent call last)",
            "\u001b[0;32m<ipython-input-56-df748bb42df5>\u001b[0m in \u001b[0;36m<module>\u001b[0;34m()\u001b[0m\n\u001b[1;32m      6\u001b[0m                        [7,8,9]])\n\u001b[1;32m      7\u001b[0m \u001b[0;34m\u001b[0m\u001b[0m\n\u001b[0;32m----> 8\u001b[0;31m \u001b[0mprint\u001b[0m\u001b[0;34m(\u001b[0m\u001b[0mconv2d\u001b[0m\u001b[0;34m(\u001b[0m\u001b[0minput_mat\u001b[0m\u001b[0;34m,\u001b[0m \u001b[0mkernel_mat\u001b[0m\u001b[0;34m)\u001b[0m\u001b[0;34m)\u001b[0m\u001b[0;34m\u001b[0m\u001b[0;34m\u001b[0m\u001b[0m\n\u001b[0m",
            "\u001b[0;32m<ipython-input-47-76466d91e259>\u001b[0m in \u001b[0;36mconv2d\u001b[0;34m(input_mat, kernel_mat, stride)\u001b[0m\n\u001b[1;32m     21\u001b[0m   \u001b[0;32mif\u001b[0m \u001b[0mx\u001b[0m \u001b[0;34m<\u001b[0m \u001b[0mu\u001b[0m\u001b[0;34m:\u001b[0m\u001b[0;34m\u001b[0m\u001b[0;34m\u001b[0m\u001b[0m\n\u001b[1;32m     22\u001b[0m     raise Exception((\"Kernel is too large. Expected kernel of shape \"\n\u001b[0;32m---> 23\u001b[0;31m                     \"(n,n), where n <= {0}. Instead got n = {1}.\").format(x, u))\n\u001b[0m\u001b[1;32m     24\u001b[0m   \u001b[0;31m# Checks stride\u001b[0m\u001b[0;34m\u001b[0m\u001b[0;34m\u001b[0m\u001b[0;34m\u001b[0m\u001b[0m\n\u001b[1;32m     25\u001b[0m   \u001b[0;32mif\u001b[0m \u001b[0mstride\u001b[0m \u001b[0;34m<\u001b[0m \u001b[0;36m1\u001b[0m \u001b[0;32mor\u001b[0m \u001b[0mstride\u001b[0m \u001b[0;34m-\u001b[0m \u001b[0mint\u001b[0m\u001b[0;34m(\u001b[0m\u001b[0mstride\u001b[0m\u001b[0;34m)\u001b[0m \u001b[0;34m!=\u001b[0m \u001b[0;36m0\u001b[0m\u001b[0;34m:\u001b[0m\u001b[0;34m\u001b[0m\u001b[0;34m\u001b[0m\u001b[0m\n",
            "\u001b[0;31mException\u001b[0m: Kernel is too large. Expected kernel of shape (n,n), where n <= 2. Instead got n = 3."
          ]
        }
      ]
    },
    {
      "cell_type": "markdown",
      "metadata": {
        "id": "TU9an50AWMHu",
        "colab_type": "text"
      },
      "source": [
        "### Empty List"
      ]
    },
    {
      "cell_type": "code",
      "metadata": {
        "id": "SfaD8nEmWMmO",
        "colab_type": "code",
        "outputId": "7c7b571b-cc1d-4669-ebff-8fc0df4dd2cb",
        "colab": {
          "base_uri": "https://localhost:8080/",
          "height": 334
        }
      },
      "source": [
        "input_mat = np.array([[1,2,3],\n",
        "                      [4,5,6],\n",
        "                      [7,8,9]])\n",
        "kernel_mat = [[],\n",
        "              []]\n",
        "\n",
        "print(conv2d(input_mat, kernel_mat))"
      ],
      "execution_count": 0,
      "outputs": [
        {
          "output_type": "error",
          "ename": "Exception",
          "evalue": "ignored",
          "traceback": [
            "\u001b[0;31m---------------------------------------------------------------------------\u001b[0m",
            "\u001b[0;31mException\u001b[0m                                 Traceback (most recent call last)",
            "\u001b[0;32m<ipython-input-57-c3a5d06c1721>\u001b[0m in \u001b[0;36m<module>\u001b[0;34m()\u001b[0m\n\u001b[1;32m      5\u001b[0m               []]\n\u001b[1;32m      6\u001b[0m \u001b[0;34m\u001b[0m\u001b[0m\n\u001b[0;32m----> 7\u001b[0;31m \u001b[0mprint\u001b[0m\u001b[0;34m(\u001b[0m\u001b[0mconv2d\u001b[0m\u001b[0;34m(\u001b[0m\u001b[0minput_mat\u001b[0m\u001b[0;34m,\u001b[0m \u001b[0mkernel_mat\u001b[0m\u001b[0;34m)\u001b[0m\u001b[0;34m)\u001b[0m\u001b[0;34m\u001b[0m\u001b[0;34m\u001b[0m\u001b[0m\n\u001b[0m",
            "\u001b[0;32m<ipython-input-47-76466d91e259>\u001b[0m in \u001b[0;36mconv2d\u001b[0;34m(input_mat, kernel_mat, stride)\u001b[0m\n\u001b[1;32m     17\u001b[0m   \u001b[0;32mif\u001b[0m \u001b[0mu\u001b[0m \u001b[0;34m!=\u001b[0m \u001b[0mv\u001b[0m\u001b[0;34m:\u001b[0m\u001b[0;34m\u001b[0m\u001b[0;34m\u001b[0m\u001b[0m\n\u001b[1;32m     18\u001b[0m     raise Exception((\"Kernel is expected to be an (n,n) matrix. \"\n\u001b[0;32m---> 19\u001b[0;31m                     \"Instead got a matrix of shape ({0},{1}).\").format(u, v))\n\u001b[0m\u001b[1;32m     20\u001b[0m   \u001b[0;31m# Tests if the input is smaller than the kernel\u001b[0m\u001b[0;34m\u001b[0m\u001b[0;34m\u001b[0m\u001b[0;34m\u001b[0m\u001b[0m\n\u001b[1;32m     21\u001b[0m   \u001b[0;32mif\u001b[0m \u001b[0mx\u001b[0m \u001b[0;34m<\u001b[0m \u001b[0mu\u001b[0m\u001b[0;34m:\u001b[0m\u001b[0;34m\u001b[0m\u001b[0;34m\u001b[0m\u001b[0m\n",
            "\u001b[0;31mException\u001b[0m: Kernel is expected to be an (n,n) matrix. Instead got a matrix of shape (2,0)."
          ]
        }
      ]
    }
  ]
}
