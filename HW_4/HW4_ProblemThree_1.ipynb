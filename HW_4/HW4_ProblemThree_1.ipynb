{
  "nbformat": 4,
  "nbformat_minor": 0,
  "metadata": {
    "colab": {
      "name": "HW4_ProblemThree-1.ipynb",
      "provenance": []
    },
    "kernelspec": {
      "name": "python3",
      "display_name": "Python 3"
    },
    "accelerator": "GPU"
  },
  "cells": [
    {
      "cell_type": "markdown",
      "metadata": {
        "id": "KSrgMJ5vKFzQ",
        "colab_type": "text"
      },
      "source": [
        "# Fine-tuning MobileNet"
      ]
    },
    {
      "cell_type": "markdown",
      "metadata": {
        "id": "TIW7bZaAK-Hf",
        "colab_type": "text"
      },
      "source": [
        "This is based on [this notebook](https://colab.research.google.com/drive/1F-RWvoxH8MmT7c1UmNy41iuOp-ejiLoF \"Pretrained CovNet Finetuning - Google Colab\") and section 5.3 *Using a pretrained convnet* of the book *Deep learning with Python* by Francois Chollet. This is one of two notebooks that focuses on altering the classifier to see the results of the fine-tuning."
      ]
    },
    {
      "cell_type": "markdown",
      "metadata": {
        "id": "nsBq__dVo2pj",
        "colab_type": "text"
      },
      "source": [
        "## Feature extraction"
      ]
    },
    {
      "cell_type": "markdown",
      "metadata": {
        "id": "0g6ETAM9o54M",
        "colab_type": "text"
      },
      "source": [
        "Feature extraction consists of using the representations learned by a previous network to extract interesting features from new samples. These features are then run through a new classifier, which is trained from scratch.\n",
        "\n",
        "We will use here the convolutional base of the MobileNet model to extract the features. We will feed these features to a densely connected classifier with dropout. We will fine-tune some layers."
      ]
    },
    {
      "cell_type": "markdown",
      "metadata": {
        "id": "BqIG8QHMLNOn",
        "colab_type": "text"
      },
      "source": [
        "## Download the data"
      ]
    },
    {
      "cell_type": "markdown",
      "metadata": {
        "id": "t3I1jd7cKV6_",
        "colab_type": "text"
      },
      "source": [
        "Download the example data, a zip. of 2,000 JPG pictures of cats and dogs and extract it locally in ```/tmp```.\n",
        "\n"
      ]
    },
    {
      "cell_type": "code",
      "metadata": {
        "id": "JWjprHEXJ5Qi",
        "colab_type": "code",
        "outputId": "0ad6eac8-3ca3-4244-9453-f3db2741012d",
        "colab": {
          "base_uri": "https://localhost:8080/",
          "height": 217
        }
      },
      "source": [
        "!wget --no-check-certificate \\\n",
        "    https://storage.googleapis.com/mledu-datasets/cats_and_dogs_filtered.zip \\\n",
        "    -O /tmp/cats_and_dogs_filtered.zip"
      ],
      "execution_count": 0,
      "outputs": [
        {
          "output_type": "stream",
          "text": [
            "--2020-04-21 03:18:47--  https://storage.googleapis.com/mledu-datasets/cats_and_dogs_filtered.zip\n",
            "Resolving storage.googleapis.com (storage.googleapis.com)... 74.125.204.128, 2404:6800:4008:c07::80\n",
            "Connecting to storage.googleapis.com (storage.googleapis.com)|74.125.204.128|:443... connected.\n",
            "HTTP request sent, awaiting response... 200 OK\n",
            "Length: 68606236 (65M) [application/zip]\n",
            "Saving to: ‘/tmp/cats_and_dogs_filtered.zip’\n",
            "\n",
            "/tmp/cats_and_dogs_ 100%[===================>]  65.43M   122MB/s    in 0.5s    \n",
            "\n",
            "2020-04-21 03:18:48 (122 MB/s) - ‘/tmp/cats_and_dogs_filtered.zip’ saved [68606236/68606236]\n",
            "\n"
          ],
          "name": "stdout"
        }
      ]
    },
    {
      "cell_type": "code",
      "metadata": {
        "id": "WvoHtdA-K6Rw",
        "colab_type": "code",
        "colab": {}
      },
      "source": [
        "import os\n",
        "import zipfile\n",
        "\n",
        "local_zip = '/tmp/cats_and_dogs_filtered.zip'\n",
        "zip_ref = zipfile.ZipFile(local_zip, 'r')\n",
        "zip_ref.extractall('/tmp')\n",
        "zip_ref.close()"
      ],
      "execution_count": 0,
      "outputs": []
    },
    {
      "cell_type": "markdown",
      "metadata": {
        "id": "shZiOBnJMyy_",
        "colab_type": "text"
      },
      "source": [
        "Note that the data provided by Google does not have a test set."
      ]
    },
    {
      "cell_type": "code",
      "metadata": {
        "id": "dL8ikM89LlsH",
        "colab_type": "code",
        "colab": {}
      },
      "source": [
        "base_dir = '/tmp/cats_and_dogs_filtered'\n",
        "train_dir = os.path.join(base_dir, 'train')\n",
        "validation_dir = os.path.join(base_dir, 'validation')\n",
        "\n",
        "# Directory with our training cat pictures\n",
        "train_cats_dir = os.path.join(train_dir, 'cats')\n",
        "\n",
        "# Directory with our training dog pictures\n",
        "train_dogs_dir = os.path.join(train_dir, 'dogs')\n",
        "\n",
        "# Directory with our validation cat pictures\n",
        "validation_cats_dir = os.path.join(validation_dir, 'cats')\n",
        "\n",
        "# Directory with our validation dog pictures\n",
        "validation_dogs_dir = os.path.join(validation_dir, 'dogs')"
      ],
      "execution_count": 0,
      "outputs": []
    },
    {
      "cell_type": "markdown",
      "metadata": {
        "id": "inyP8bcdXnn-",
        "colab_type": "text"
      },
      "source": [
        "## Build network with MobileNet convolution base and custom densely connected layers"
      ]
    },
    {
      "cell_type": "markdown",
      "metadata": {
        "id": "kQ48W5T9rHWu",
        "colab_type": "text"
      },
      "source": [
        "### Load the convolutional base"
      ]
    },
    {
      "cell_type": "code",
      "metadata": {
        "id": "Y0FgtANCXm_H",
        "colab_type": "code",
        "outputId": "eef38ac5-0c66-4f62-d564-f6c93a182d14",
        "colab": {
          "base_uri": "https://localhost:8080/",
          "height": 128
        }
      },
      "source": [
        "from keras.applications import MobileNet\n",
        "\n",
        "conv_base = MobileNet(\n",
        "    weights='imagenet', \n",
        "    include_top=False, \n",
        "    input_shape=(150, 150, 3))"
      ],
      "execution_count": 0,
      "outputs": [
        {
          "output_type": "stream",
          "text": [
            "Using TensorFlow backend.\n",
            "/usr/local/lib/python3.6/dist-packages/keras_applications/mobilenet.py:207: UserWarning: `input_shape` is undefined or non-square, or `rows` is not in [128, 160, 192, 224]. Weights for input shape (224, 224) will be loaded as the default.\n",
            "  warnings.warn('`input_shape` is undefined or non-square, '\n"
          ],
          "name": "stderr"
        },
        {
          "output_type": "stream",
          "text": [
            "Downloading data from https://github.com/fchollet/deep-learning-models/releases/download/v0.6/mobilenet_1_0_224_tf_no_top.h5\n",
            "17227776/17225924 [==============================] - 2s 0us/step\n"
          ],
          "name": "stdout"
        }
      ]
    },
    {
      "cell_type": "markdown",
      "metadata": {
        "id": "ImHKbNR5mAx9",
        "colab_type": "text"
      },
      "source": [
        "### Displays the layers of MobileNet"
      ]
    },
    {
      "cell_type": "code",
      "metadata": {
        "id": "RpyIWWBzkCTa",
        "colab_type": "code",
        "outputId": "55c52b25-5d14-4e72-f887-14d69c864e63",
        "colab": {
          "base_uri": "https://localhost:8080/",
          "height": 1000
        }
      },
      "source": [
        "conv_base.summary()"
      ],
      "execution_count": 0,
      "outputs": [
        {
          "output_type": "stream",
          "text": [
            "Model: \"mobilenet_1.00_224\"\n",
            "_________________________________________________________________\n",
            "Layer (type)                 Output Shape              Param #   \n",
            "=================================================================\n",
            "input_1 (InputLayer)         (None, 150, 150, 3)       0         \n",
            "_________________________________________________________________\n",
            "conv1_pad (ZeroPadding2D)    (None, 151, 151, 3)       0         \n",
            "_________________________________________________________________\n",
            "conv1 (Conv2D)               (None, 75, 75, 32)        864       \n",
            "_________________________________________________________________\n",
            "conv1_bn (BatchNormalization (None, 75, 75, 32)        128       \n",
            "_________________________________________________________________\n",
            "conv1_relu (ReLU)            (None, 75, 75, 32)        0         \n",
            "_________________________________________________________________\n",
            "conv_dw_1 (DepthwiseConv2D)  (None, 75, 75, 32)        288       \n",
            "_________________________________________________________________\n",
            "conv_dw_1_bn (BatchNormaliza (None, 75, 75, 32)        128       \n",
            "_________________________________________________________________\n",
            "conv_dw_1_relu (ReLU)        (None, 75, 75, 32)        0         \n",
            "_________________________________________________________________\n",
            "conv_pw_1 (Conv2D)           (None, 75, 75, 64)        2048      \n",
            "_________________________________________________________________\n",
            "conv_pw_1_bn (BatchNormaliza (None, 75, 75, 64)        256       \n",
            "_________________________________________________________________\n",
            "conv_pw_1_relu (ReLU)        (None, 75, 75, 64)        0         \n",
            "_________________________________________________________________\n",
            "conv_pad_2 (ZeroPadding2D)   (None, 76, 76, 64)        0         \n",
            "_________________________________________________________________\n",
            "conv_dw_2 (DepthwiseConv2D)  (None, 37, 37, 64)        576       \n",
            "_________________________________________________________________\n",
            "conv_dw_2_bn (BatchNormaliza (None, 37, 37, 64)        256       \n",
            "_________________________________________________________________\n",
            "conv_dw_2_relu (ReLU)        (None, 37, 37, 64)        0         \n",
            "_________________________________________________________________\n",
            "conv_pw_2 (Conv2D)           (None, 37, 37, 128)       8192      \n",
            "_________________________________________________________________\n",
            "conv_pw_2_bn (BatchNormaliza (None, 37, 37, 128)       512       \n",
            "_________________________________________________________________\n",
            "conv_pw_2_relu (ReLU)        (None, 37, 37, 128)       0         \n",
            "_________________________________________________________________\n",
            "conv_dw_3 (DepthwiseConv2D)  (None, 37, 37, 128)       1152      \n",
            "_________________________________________________________________\n",
            "conv_dw_3_bn (BatchNormaliza (None, 37, 37, 128)       512       \n",
            "_________________________________________________________________\n",
            "conv_dw_3_relu (ReLU)        (None, 37, 37, 128)       0         \n",
            "_________________________________________________________________\n",
            "conv_pw_3 (Conv2D)           (None, 37, 37, 128)       16384     \n",
            "_________________________________________________________________\n",
            "conv_pw_3_bn (BatchNormaliza (None, 37, 37, 128)       512       \n",
            "_________________________________________________________________\n",
            "conv_pw_3_relu (ReLU)        (None, 37, 37, 128)       0         \n",
            "_________________________________________________________________\n",
            "conv_pad_4 (ZeroPadding2D)   (None, 38, 38, 128)       0         \n",
            "_________________________________________________________________\n",
            "conv_dw_4 (DepthwiseConv2D)  (None, 18, 18, 128)       1152      \n",
            "_________________________________________________________________\n",
            "conv_dw_4_bn (BatchNormaliza (None, 18, 18, 128)       512       \n",
            "_________________________________________________________________\n",
            "conv_dw_4_relu (ReLU)        (None, 18, 18, 128)       0         \n",
            "_________________________________________________________________\n",
            "conv_pw_4 (Conv2D)           (None, 18, 18, 256)       32768     \n",
            "_________________________________________________________________\n",
            "conv_pw_4_bn (BatchNormaliza (None, 18, 18, 256)       1024      \n",
            "_________________________________________________________________\n",
            "conv_pw_4_relu (ReLU)        (None, 18, 18, 256)       0         \n",
            "_________________________________________________________________\n",
            "conv_dw_5 (DepthwiseConv2D)  (None, 18, 18, 256)       2304      \n",
            "_________________________________________________________________\n",
            "conv_dw_5_bn (BatchNormaliza (None, 18, 18, 256)       1024      \n",
            "_________________________________________________________________\n",
            "conv_dw_5_relu (ReLU)        (None, 18, 18, 256)       0         \n",
            "_________________________________________________________________\n",
            "conv_pw_5 (Conv2D)           (None, 18, 18, 256)       65536     \n",
            "_________________________________________________________________\n",
            "conv_pw_5_bn (BatchNormaliza (None, 18, 18, 256)       1024      \n",
            "_________________________________________________________________\n",
            "conv_pw_5_relu (ReLU)        (None, 18, 18, 256)       0         \n",
            "_________________________________________________________________\n",
            "conv_pad_6 (ZeroPadding2D)   (None, 19, 19, 256)       0         \n",
            "_________________________________________________________________\n",
            "conv_dw_6 (DepthwiseConv2D)  (None, 9, 9, 256)         2304      \n",
            "_________________________________________________________________\n",
            "conv_dw_6_bn (BatchNormaliza (None, 9, 9, 256)         1024      \n",
            "_________________________________________________________________\n",
            "conv_dw_6_relu (ReLU)        (None, 9, 9, 256)         0         \n",
            "_________________________________________________________________\n",
            "conv_pw_6 (Conv2D)           (None, 9, 9, 512)         131072    \n",
            "_________________________________________________________________\n",
            "conv_pw_6_bn (BatchNormaliza (None, 9, 9, 512)         2048      \n",
            "_________________________________________________________________\n",
            "conv_pw_6_relu (ReLU)        (None, 9, 9, 512)         0         \n",
            "_________________________________________________________________\n",
            "conv_dw_7 (DepthwiseConv2D)  (None, 9, 9, 512)         4608      \n",
            "_________________________________________________________________\n",
            "conv_dw_7_bn (BatchNormaliza (None, 9, 9, 512)         2048      \n",
            "_________________________________________________________________\n",
            "conv_dw_7_relu (ReLU)        (None, 9, 9, 512)         0         \n",
            "_________________________________________________________________\n",
            "conv_pw_7 (Conv2D)           (None, 9, 9, 512)         262144    \n",
            "_________________________________________________________________\n",
            "conv_pw_7_bn (BatchNormaliza (None, 9, 9, 512)         2048      \n",
            "_________________________________________________________________\n",
            "conv_pw_7_relu (ReLU)        (None, 9, 9, 512)         0         \n",
            "_________________________________________________________________\n",
            "conv_dw_8 (DepthwiseConv2D)  (None, 9, 9, 512)         4608      \n",
            "_________________________________________________________________\n",
            "conv_dw_8_bn (BatchNormaliza (None, 9, 9, 512)         2048      \n",
            "_________________________________________________________________\n",
            "conv_dw_8_relu (ReLU)        (None, 9, 9, 512)         0         \n",
            "_________________________________________________________________\n",
            "conv_pw_8 (Conv2D)           (None, 9, 9, 512)         262144    \n",
            "_________________________________________________________________\n",
            "conv_pw_8_bn (BatchNormaliza (None, 9, 9, 512)         2048      \n",
            "_________________________________________________________________\n",
            "conv_pw_8_relu (ReLU)        (None, 9, 9, 512)         0         \n",
            "_________________________________________________________________\n",
            "conv_dw_9 (DepthwiseConv2D)  (None, 9, 9, 512)         4608      \n",
            "_________________________________________________________________\n",
            "conv_dw_9_bn (BatchNormaliza (None, 9, 9, 512)         2048      \n",
            "_________________________________________________________________\n",
            "conv_dw_9_relu (ReLU)        (None, 9, 9, 512)         0         \n",
            "_________________________________________________________________\n",
            "conv_pw_9 (Conv2D)           (None, 9, 9, 512)         262144    \n",
            "_________________________________________________________________\n",
            "conv_pw_9_bn (BatchNormaliza (None, 9, 9, 512)         2048      \n",
            "_________________________________________________________________\n",
            "conv_pw_9_relu (ReLU)        (None, 9, 9, 512)         0         \n",
            "_________________________________________________________________\n",
            "conv_dw_10 (DepthwiseConv2D) (None, 9, 9, 512)         4608      \n",
            "_________________________________________________________________\n",
            "conv_dw_10_bn (BatchNormaliz (None, 9, 9, 512)         2048      \n",
            "_________________________________________________________________\n",
            "conv_dw_10_relu (ReLU)       (None, 9, 9, 512)         0         \n",
            "_________________________________________________________________\n",
            "conv_pw_10 (Conv2D)          (None, 9, 9, 512)         262144    \n",
            "_________________________________________________________________\n",
            "conv_pw_10_bn (BatchNormaliz (None, 9, 9, 512)         2048      \n",
            "_________________________________________________________________\n",
            "conv_pw_10_relu (ReLU)       (None, 9, 9, 512)         0         \n",
            "_________________________________________________________________\n",
            "conv_dw_11 (DepthwiseConv2D) (None, 9, 9, 512)         4608      \n",
            "_________________________________________________________________\n",
            "conv_dw_11_bn (BatchNormaliz (None, 9, 9, 512)         2048      \n",
            "_________________________________________________________________\n",
            "conv_dw_11_relu (ReLU)       (None, 9, 9, 512)         0         \n",
            "_________________________________________________________________\n",
            "conv_pw_11 (Conv2D)          (None, 9, 9, 512)         262144    \n",
            "_________________________________________________________________\n",
            "conv_pw_11_bn (BatchNormaliz (None, 9, 9, 512)         2048      \n",
            "_________________________________________________________________\n",
            "conv_pw_11_relu (ReLU)       (None, 9, 9, 512)         0         \n",
            "_________________________________________________________________\n",
            "conv_pad_12 (ZeroPadding2D)  (None, 10, 10, 512)       0         \n",
            "_________________________________________________________________\n",
            "conv_dw_12 (DepthwiseConv2D) (None, 4, 4, 512)         4608      \n",
            "_________________________________________________________________\n",
            "conv_dw_12_bn (BatchNormaliz (None, 4, 4, 512)         2048      \n",
            "_________________________________________________________________\n",
            "conv_dw_12_relu (ReLU)       (None, 4, 4, 512)         0         \n",
            "_________________________________________________________________\n",
            "conv_pw_12 (Conv2D)          (None, 4, 4, 1024)        524288    \n",
            "_________________________________________________________________\n",
            "conv_pw_12_bn (BatchNormaliz (None, 4, 4, 1024)        4096      \n",
            "_________________________________________________________________\n",
            "conv_pw_12_relu (ReLU)       (None, 4, 4, 1024)        0         \n",
            "_________________________________________________________________\n",
            "conv_dw_13 (DepthwiseConv2D) (None, 4, 4, 1024)        9216      \n",
            "_________________________________________________________________\n",
            "conv_dw_13_bn (BatchNormaliz (None, 4, 4, 1024)        4096      \n",
            "_________________________________________________________________\n",
            "conv_dw_13_relu (ReLU)       (None, 4, 4, 1024)        0         \n",
            "_________________________________________________________________\n",
            "conv_pw_13 (Conv2D)          (None, 4, 4, 1024)        1048576   \n",
            "_________________________________________________________________\n",
            "conv_pw_13_bn (BatchNormaliz (None, 4, 4, 1024)        4096      \n",
            "_________________________________________________________________\n",
            "conv_pw_13_relu (ReLU)       (None, 4, 4, 1024)        0         \n",
            "=================================================================\n",
            "Total params: 3,228,864\n",
            "Trainable params: 3,206,976\n",
            "Non-trainable params: 21,888\n",
            "_________________________________________________________________\n"
          ],
          "name": "stdout"
        }
      ]
    },
    {
      "cell_type": "markdown",
      "metadata": {
        "id": "D6OBHOO9q1ou",
        "colab_type": "text"
      },
      "source": [
        "### Freeze the convolutional base"
      ]
    },
    {
      "cell_type": "code",
      "metadata": {
        "id": "UleRo4Dpq6Ld",
        "colab_type": "code",
        "colab": {}
      },
      "source": [
        "conv_base.trainable = False"
      ],
      "execution_count": 0,
      "outputs": []
    },
    {
      "cell_type": "markdown",
      "metadata": {
        "id": "Qfx6PqhPrb7Q",
        "colab_type": "text"
      },
      "source": [
        "### Concatenate the convolutional base and densely connected layers"
      ]
    },
    {
      "cell_type": "code",
      "metadata": {
        "id": "qUpmocDAO3xm",
        "colab_type": "code",
        "colab": {}
      },
      "source": [
        "from keras import layers\n",
        "from keras import models\n",
        "from keras import optimizers\n",
        "\n",
        "model = models.Sequential()\n",
        "model.add(conv_base)\n",
        "model.add(layers.Flatten())\n",
        "model.add(layers.Dense(128, activation='relu'))\n",
        "model.add(layers.Dense(1, activation='sigmoid'))"
      ],
      "execution_count": 0,
      "outputs": []
    },
    {
      "cell_type": "code",
      "metadata": {
        "id": "Fh6gZSeAjF7c",
        "colab_type": "code",
        "outputId": "2e9f476e-5144-430e-8939-e4e913ed5721",
        "colab": {
          "base_uri": "https://localhost:8080/",
          "height": 308
        }
      },
      "source": [
        "model.summary()"
      ],
      "execution_count": 0,
      "outputs": [
        {
          "output_type": "stream",
          "text": [
            "Model: \"sequential_1\"\n",
            "_________________________________________________________________\n",
            "Layer (type)                 Output Shape              Param #   \n",
            "=================================================================\n",
            "mobilenet_1.00_224 (Model)   (None, 4, 4, 1024)        3228864   \n",
            "_________________________________________________________________\n",
            "flatten_1 (Flatten)          (None, 16384)             0         \n",
            "_________________________________________________________________\n",
            "dense_1 (Dense)              (None, 128)               2097280   \n",
            "_________________________________________________________________\n",
            "dense_2 (Dense)              (None, 1)                 129       \n",
            "=================================================================\n",
            "Total params: 5,326,273\n",
            "Trainable params: 2,097,409\n",
            "Non-trainable params: 3,228,864\n",
            "_________________________________________________________________\n"
          ],
          "name": "stdout"
        }
      ]
    },
    {
      "cell_type": "markdown",
      "metadata": {
        "id": "eZjBiddhi5Qj",
        "colab_type": "text"
      },
      "source": [
        "## Train the model end to end with frozen convolutional base"
      ]
    },
    {
      "cell_type": "code",
      "metadata": {
        "id": "tfAQlC2Oi41L",
        "colab_type": "code",
        "outputId": "300083be-5302-4d16-859c-b1df710d3a2e",
        "colab": {
          "base_uri": "https://localhost:8080/",
          "height": 1000
        }
      },
      "source": [
        "from keras.preprocessing.image import ImageDataGenerator\n",
        "from keras import optimizers\n",
        "\n",
        "# data augmentation\n",
        "\n",
        "train_datagen = ImageDataGenerator(\n",
        "    rescale=1./255, \n",
        "    rotation_range=40,\n",
        "    width_shift_range=0.2,\n",
        "    height_shift_range=0.2,\n",
        "    shear_range=0.2,\n",
        "    zoom_range=0.2,\n",
        "    horizontal_flip=True,\n",
        "    fill_mode='nearest'\n",
        ")\n",
        "\n",
        "train_generator = train_datagen.flow_from_directory(\n",
        "    train_dir,\n",
        "    target_size=(150, 150),\n",
        "    batch_size=20,\n",
        "    class_mode='binary')\n",
        "\n",
        "validation_datagen = ImageDataGenerator(rescale=1./255)\n",
        "\n",
        "validation_generator = validation_datagen.flow_from_directory(\n",
        "    validation_dir,\n",
        "    target_size=(150, 150),\n",
        "    batch_size=20,\n",
        "    class_mode='binary')\n",
        "\n",
        "# compile model\n",
        "\n",
        "model.compile(\n",
        "    loss='binary_crossentropy', \n",
        "    optimizer=optimizers.RMSprop(lr=2e-5), \n",
        "    metrics=['acc'])\n",
        "\n",
        "# train\n",
        "\n",
        "history = model.fit_generator(\n",
        "    train_generator,\n",
        "    steps_per_epoch=100,\n",
        "    epochs=30,\n",
        "    validation_data=validation_generator,\n",
        "    validation_steps=50\n",
        ")"
      ],
      "execution_count": 0,
      "outputs": [
        {
          "output_type": "stream",
          "text": [
            "Found 2000 images belonging to 2 classes.\n",
            "Found 1000 images belonging to 2 classes.\n",
            "Epoch 1/30\n",
            "100/100 [==============================] - 23s 233ms/step - loss: 0.4903 - acc: 0.7645 - val_loss: 0.3292 - val_acc: 0.9460\n",
            "Epoch 2/30\n",
            "100/100 [==============================] - 16s 160ms/step - loss: 0.3222 - acc: 0.8605 - val_loss: 0.0018 - val_acc: 0.9570\n",
            "Epoch 3/30\n",
            "100/100 [==============================] - 16s 158ms/step - loss: 0.2601 - acc: 0.8870 - val_loss: 0.0073 - val_acc: 0.9590\n",
            "Epoch 4/30\n",
            "100/100 [==============================] - 16s 157ms/step - loss: 0.2543 - acc: 0.8945 - val_loss: 0.0142 - val_acc: 0.9660\n",
            "Epoch 5/30\n",
            "100/100 [==============================] - 16s 158ms/step - loss: 0.2412 - acc: 0.8990 - val_loss: 0.0904 - val_acc: 0.9660\n",
            "Epoch 6/30\n",
            "100/100 [==============================] - 16s 160ms/step - loss: 0.2297 - acc: 0.9105 - val_loss: 0.0038 - val_acc: 0.9620\n",
            "Epoch 7/30\n",
            "100/100 [==============================] - 16s 158ms/step - loss: 0.2114 - acc: 0.9080 - val_loss: 0.1074 - val_acc: 0.9600\n",
            "Epoch 8/30\n",
            "100/100 [==============================] - 16s 157ms/step - loss: 0.2208 - acc: 0.9130 - val_loss: 0.0067 - val_acc: 0.9650\n",
            "Epoch 9/30\n",
            "100/100 [==============================] - 16s 157ms/step - loss: 0.2057 - acc: 0.9135 - val_loss: 0.0556 - val_acc: 0.9620\n",
            "Epoch 10/30\n",
            "100/100 [==============================] - 16s 157ms/step - loss: 0.2234 - acc: 0.9150 - val_loss: 0.1605 - val_acc: 0.9670\n",
            "Epoch 11/30\n",
            "100/100 [==============================] - 16s 160ms/step - loss: 0.1989 - acc: 0.9225 - val_loss: 5.1620e-04 - val_acc: 0.9680\n",
            "Epoch 12/30\n",
            "100/100 [==============================] - 16s 158ms/step - loss: 0.2012 - acc: 0.9155 - val_loss: 1.0694e-04 - val_acc: 0.9590\n",
            "Epoch 13/30\n",
            "100/100 [==============================] - 16s 158ms/step - loss: 0.1923 - acc: 0.9220 - val_loss: 2.2144e-04 - val_acc: 0.9660\n",
            "Epoch 14/30\n",
            "100/100 [==============================] - 16s 157ms/step - loss: 0.1848 - acc: 0.9220 - val_loss: 0.0023 - val_acc: 0.9660\n",
            "Epoch 15/30\n",
            "100/100 [==============================] - 16s 157ms/step - loss: 0.2027 - acc: 0.9185 - val_loss: 3.3724e-04 - val_acc: 0.9700\n",
            "Epoch 16/30\n",
            "100/100 [==============================] - 16s 157ms/step - loss: 0.1846 - acc: 0.9220 - val_loss: 0.0811 - val_acc: 0.9670\n",
            "Epoch 17/30\n",
            "100/100 [==============================] - 16s 158ms/step - loss: 0.1683 - acc: 0.9340 - val_loss: 0.0181 - val_acc: 0.9700\n",
            "Epoch 18/30\n",
            "100/100 [==============================] - 16s 156ms/step - loss: 0.1667 - acc: 0.9320 - val_loss: 7.7419e-04 - val_acc: 0.9650\n",
            "Epoch 19/30\n",
            "100/100 [==============================] - 16s 157ms/step - loss: 0.1700 - acc: 0.9305 - val_loss: 0.0021 - val_acc: 0.9660\n",
            "Epoch 20/30\n",
            "100/100 [==============================] - 16s 156ms/step - loss: 0.1820 - acc: 0.9300 - val_loss: 0.2676 - val_acc: 0.9710\n",
            "Epoch 21/30\n",
            "100/100 [==============================] - 16s 159ms/step - loss: 0.1884 - acc: 0.9195 - val_loss: 4.6833e-04 - val_acc: 0.9690\n",
            "Epoch 22/30\n",
            "100/100 [==============================] - 16s 160ms/step - loss: 0.1898 - acc: 0.9290 - val_loss: 0.0228 - val_acc: 0.9680\n",
            "Epoch 23/30\n",
            "100/100 [==============================] - 16s 159ms/step - loss: 0.1448 - acc: 0.9425 - val_loss: 0.0992 - val_acc: 0.9690\n",
            "Epoch 24/30\n",
            "100/100 [==============================] - 16s 157ms/step - loss: 0.1738 - acc: 0.9320 - val_loss: 0.0106 - val_acc: 0.9700\n",
            "Epoch 25/30\n",
            "100/100 [==============================] - 16s 159ms/step - loss: 0.1764 - acc: 0.9385 - val_loss: 0.0050 - val_acc: 0.9670\n",
            "Epoch 26/30\n",
            "100/100 [==============================] - 16s 156ms/step - loss: 0.1464 - acc: 0.9390 - val_loss: 0.0018 - val_acc: 0.9690\n",
            "Epoch 27/30\n",
            "100/100 [==============================] - 16s 157ms/step - loss: 0.1407 - acc: 0.9355 - val_loss: 5.9285e-07 - val_acc: 0.9670\n",
            "Epoch 28/30\n",
            "100/100 [==============================] - 15s 155ms/step - loss: 0.1786 - acc: 0.9265 - val_loss: 3.7486e-04 - val_acc: 0.9690\n",
            "Epoch 29/30\n",
            "100/100 [==============================] - 16s 156ms/step - loss: 0.1557 - acc: 0.9365 - val_loss: 0.4489 - val_acc: 0.9640\n",
            "Epoch 30/30\n",
            "100/100 [==============================] - 16s 156ms/step - loss: 0.1739 - acc: 0.9360 - val_loss: 0.0020 - val_acc: 0.9680\n"
          ],
          "name": "stdout"
        }
      ]
    },
    {
      "cell_type": "markdown",
      "metadata": {
        "id": "xqRc_vHKc92U",
        "colab_type": "text"
      },
      "source": [
        "## Display curves of loss and accuracy during training"
      ]
    },
    {
      "cell_type": "code",
      "metadata": {
        "id": "ybWwdzz9bwuQ",
        "colab_type": "code",
        "outputId": "d1a6ae0a-3bc8-41d5-bb9b-d42dcfa56ff3",
        "colab": {
          "base_uri": "https://localhost:8080/",
          "height": 545
        }
      },
      "source": [
        "%matplotlib inline\n",
        "\n",
        "import matplotlib.pyplot as plt\n",
        "\n",
        "acc = history.history['acc']\n",
        "val_acc = history.history['val_acc']\n",
        "\n",
        "loss = history.history['loss']\n",
        "val_loss = history.history['val_loss']\n",
        "\n",
        "epochs = range(1, len(acc) + 1)\n",
        "\n",
        "# training and validation accuracy\n",
        "\n",
        "plt.plot(epochs, acc, 'bo', label='training acc')\n",
        "plt.plot(epochs, val_acc, 'b', label='validation acc')\n",
        "plt.title('training and validation accuracy')\n",
        "plt.legend()\n",
        "\n",
        "plt.figure()\n",
        "\n",
        "# training and validation loss\n",
        "\n",
        "plt.plot(epochs, loss, 'bo', label='training loss')\n",
        "plt.plot(epochs, val_loss, 'b', label='validation loss')\n",
        "plt.title('training and validation loss')\n",
        "plt.legend()\n",
        "\n",
        "plt.show()"
      ],
      "execution_count": 0,
      "outputs": [
        {
          "output_type": "display_data",
          "data": {
            "image/png": "[encoded data removed]",
            "text/plain": [
              "<Figure size 432x288 with 1 Axes>"
            ]
          },
          "metadata": {
            "tags": [],
            "needs_background": "light"
          }
        },
        {
          "output_type": "display_data",
          "data": {
            "image/png": "[encoded data removed]",
            "text/plain": [
              "<Figure size 432x288 with 1 Axes>"
            ]
          },
          "metadata": {
            "tags": [],
            "needs_background": "light"
          }
        }
      ]
    },
    {
      "cell_type": "markdown",
      "metadata": {
        "id": "lOWsxpey8lN0",
        "colab_type": "text"
      },
      "source": [
        "## Fine-tuning"
      ]
    },
    {
      "cell_type": "code",
      "metadata": {
        "id": "PwkVMx8N8qMw",
        "colab_type": "code",
        "colab": {}
      },
      "source": [
        "conv_base.trainable = True\n",
        "\n",
        "set_trainable = False\n",
        "for layer in conv_base.layers:\n",
        "  if layer.name == 'conv_pw_12':\n",
        "    set_trainable = True\n",
        "  if set_trainable:\n",
        "    layer.trainable = True\n",
        "  else:\n",
        "    layer.trainable = False"
      ],
      "execution_count": 0,
      "outputs": []
    },
    {
      "cell_type": "code",
      "metadata": {
        "id": "DyN-J7rs9cvo",
        "colab_type": "code",
        "outputId": "50b5323c-6c38-49d6-baa9-d3368d343907",
        "colab": {
          "base_uri": "https://localhost:8080/",
          "height": 1000
        }
      },
      "source": [
        "# compile model\n",
        "\n",
        "model.compile(\n",
        "    loss='binary_crossentropy',\n",
        "    #\n",
        "    # choose a smaller learning rate\n",
        "    #\n",
        "    optimizer=optimizers.RMSprop(lr=1e-5), \n",
        "    metrics=['acc'])\n",
        "\n",
        "# train\n",
        "\n",
        "history = model.fit_generator(\n",
        "    train_generator,\n",
        "    steps_per_epoch=100,\n",
        "    epochs=100,\n",
        "    validation_data=validation_generator,\n",
        "    validation_steps=50)"
      ],
      "execution_count": 0,
      "outputs": [
        {
          "output_type": "stream",
          "text": [
            "Epoch 1/100\n",
            "100/100 [==============================] - 19s 186ms/step - loss: 0.1393 - acc: 0.9420 - val_loss: 0.1859 - val_acc: 0.9670\n",
            "Epoch 2/100\n",
            "100/100 [==============================] - 16s 160ms/step - loss: 0.1492 - acc: 0.9440 - val_loss: 0.2226 - val_acc: 0.9590\n",
            "Epoch 3/100\n",
            "100/100 [==============================] - 16s 160ms/step - loss: 0.1751 - acc: 0.9280 - val_loss: 0.1027 - val_acc: 0.9640\n",
            "Epoch 4/100\n",
            "100/100 [==============================] - 16s 159ms/step - loss: 0.1530 - acc: 0.9355 - val_loss: 1.6349e-04 - val_acc: 0.9590\n",
            "Epoch 5/100\n",
            "100/100 [==============================] - 16s 159ms/step - loss: 0.1389 - acc: 0.9400 - val_loss: 0.0956 - val_acc: 0.9640\n",
            "Epoch 6/100\n",
            "100/100 [==============================] - 16s 159ms/step - loss: 0.1360 - acc: 0.9480 - val_loss: 0.3541 - val_acc: 0.9640\n",
            "Epoch 7/100\n",
            "100/100 [==============================] - 16s 160ms/step - loss: 0.1370 - acc: 0.9455 - val_loss: 0.1303 - val_acc: 0.9620\n",
            "Epoch 8/100\n",
            "100/100 [==============================] - 16s 158ms/step - loss: 0.1357 - acc: 0.9490 - val_loss: 0.0799 - val_acc: 0.9640\n",
            "Epoch 9/100\n",
            "100/100 [==============================] - 16s 159ms/step - loss: 0.1542 - acc: 0.9400 - val_loss: 0.1014 - val_acc: 0.9600\n",
            "Epoch 10/100\n",
            "100/100 [==============================] - 16s 159ms/step - loss: 0.1457 - acc: 0.9445 - val_loss: 0.2161 - val_acc: 0.9630\n",
            "Epoch 11/100\n",
            "100/100 [==============================] - 16s 159ms/step - loss: 0.1251 - acc: 0.9480 - val_loss: 0.0532 - val_acc: 0.9630\n",
            "Epoch 12/100\n",
            "100/100 [==============================] - 16s 161ms/step - loss: 0.1507 - acc: 0.9410 - val_loss: 0.1095 - val_acc: 0.9650\n",
            "Epoch 13/100\n",
            "100/100 [==============================] - 16s 160ms/step - loss: 0.1446 - acc: 0.9430 - val_loss: 0.0770 - val_acc: 0.9650\n",
            "Epoch 14/100\n",
            "100/100 [==============================] - 16s 160ms/step - loss: 0.1386 - acc: 0.9440 - val_loss: 0.0767 - val_acc: 0.9650\n",
            "Epoch 15/100\n",
            "100/100 [==============================] - 16s 160ms/step - loss: 0.1364 - acc: 0.9450 - val_loss: 0.0907 - val_acc: 0.9660\n",
            "Epoch 16/100\n",
            "100/100 [==============================] - 16s 160ms/step - loss: 0.1195 - acc: 0.9520 - val_loss: 0.0069 - val_acc: 0.9660\n",
            "Epoch 17/100\n",
            "100/100 [==============================] - 16s 161ms/step - loss: 0.1104 - acc: 0.9600 - val_loss: 0.1257 - val_acc: 0.9660\n",
            "Epoch 18/100\n",
            "100/100 [==============================] - 16s 160ms/step - loss: 0.1291 - acc: 0.9540 - val_loss: 0.0194 - val_acc: 0.9630\n",
            "Epoch 19/100\n",
            "100/100 [==============================] - 16s 159ms/step - loss: 0.1141 - acc: 0.9590 - val_loss: 0.0727 - val_acc: 0.9640\n",
            "Epoch 20/100\n",
            "100/100 [==============================] - 16s 161ms/step - loss: 0.1089 - acc: 0.9585 - val_loss: 0.1527 - val_acc: 0.9600\n",
            "Epoch 21/100\n",
            "100/100 [==============================] - 16s 161ms/step - loss: 0.1291 - acc: 0.9525 - val_loss: 0.0458 - val_acc: 0.9610\n",
            "Epoch 22/100\n",
            "100/100 [==============================] - 16s 161ms/step - loss: 0.1201 - acc: 0.9560 - val_loss: 0.0238 - val_acc: 0.9600\n",
            "Epoch 23/100\n",
            "100/100 [==============================] - 16s 159ms/step - loss: 0.1169 - acc: 0.9490 - val_loss: 0.0043 - val_acc: 0.9610\n",
            "Epoch 24/100\n",
            "100/100 [==============================] - 16s 159ms/step - loss: 0.0949 - acc: 0.9640 - val_loss: 0.0281 - val_acc: 0.9610\n",
            "Epoch 25/100\n",
            "100/100 [==============================] - 16s 161ms/step - loss: 0.1109 - acc: 0.9515 - val_loss: 0.5500 - val_acc: 0.9630\n",
            "Epoch 26/100\n",
            "100/100 [==============================] - 16s 159ms/step - loss: 0.1091 - acc: 0.9565 - val_loss: 0.5925 - val_acc: 0.9610\n",
            "Epoch 27/100\n",
            "100/100 [==============================] - 16s 161ms/step - loss: 0.1006 - acc: 0.9615 - val_loss: 0.0646 - val_acc: 0.9590\n",
            "Epoch 28/100\n",
            "100/100 [==============================] - 16s 159ms/step - loss: 0.0936 - acc: 0.9660 - val_loss: 0.0031 - val_acc: 0.9650\n",
            "Epoch 29/100\n",
            "100/100 [==============================] - 16s 159ms/step - loss: 0.1084 - acc: 0.9570 - val_loss: 0.1540 - val_acc: 0.9650\n",
            "Epoch 30/100\n",
            "100/100 [==============================] - 16s 159ms/step - loss: 0.1076 - acc: 0.9560 - val_loss: 0.1544 - val_acc: 0.9590\n",
            "Epoch 31/100\n",
            "100/100 [==============================] - 16s 159ms/step - loss: 0.1067 - acc: 0.9585 - val_loss: 0.0946 - val_acc: 0.9630\n",
            "Epoch 32/100\n",
            "100/100 [==============================] - 16s 160ms/step - loss: 0.0985 - acc: 0.9610 - val_loss: 0.0024 - val_acc: 0.9630\n",
            "Epoch 33/100\n",
            "100/100 [==============================] - 16s 158ms/step - loss: 0.1119 - acc: 0.9580 - val_loss: 0.0854 - val_acc: 0.9640\n",
            "Epoch 34/100\n",
            "100/100 [==============================] - 16s 159ms/step - loss: 0.0974 - acc: 0.9595 - val_loss: 0.1795 - val_acc: 0.9630\n",
            "Epoch 35/100\n",
            "100/100 [==============================] - 16s 158ms/step - loss: 0.0837 - acc: 0.9675 - val_loss: 0.2419 - val_acc: 0.9640\n",
            "Epoch 36/100\n",
            "100/100 [==============================] - 16s 159ms/step - loss: 0.1003 - acc: 0.9650 - val_loss: 0.0624 - val_acc: 0.9620\n",
            "Epoch 37/100\n",
            "100/100 [==============================] - 16s 160ms/step - loss: 0.1051 - acc: 0.9625 - val_loss: 0.1551 - val_acc: 0.9620\n",
            "Epoch 38/100\n",
            "100/100 [==============================] - 16s 158ms/step - loss: 0.1005 - acc: 0.9645 - val_loss: 0.1995 - val_acc: 0.9660\n",
            "Epoch 39/100\n",
            "100/100 [==============================] - 16s 160ms/step - loss: 0.0955 - acc: 0.9625 - val_loss: 0.0713 - val_acc: 0.9650\n",
            "Epoch 40/100\n",
            "100/100 [==============================] - 16s 159ms/step - loss: 0.1025 - acc: 0.9615 - val_loss: 2.2385e-04 - val_acc: 0.9630\n",
            "Epoch 41/100\n",
            "100/100 [==============================] - 16s 159ms/step - loss: 0.1096 - acc: 0.9565 - val_loss: 0.1041 - val_acc: 0.9620\n",
            "Epoch 42/100\n",
            "100/100 [==============================] - 16s 160ms/step - loss: 0.0982 - acc: 0.9595 - val_loss: 0.0198 - val_acc: 0.9620\n",
            "Epoch 43/100\n",
            "100/100 [==============================] - 16s 158ms/step - loss: 0.0902 - acc: 0.9630 - val_loss: 0.0053 - val_acc: 0.9640\n",
            "Epoch 44/100\n",
            "100/100 [==============================] - 16s 159ms/step - loss: 0.0912 - acc: 0.9675 - val_loss: 0.1728 - val_acc: 0.9600\n",
            "Epoch 45/100\n",
            "100/100 [==============================] - 16s 159ms/step - loss: 0.0947 - acc: 0.9615 - val_loss: 0.2057 - val_acc: 0.9600\n",
            "Epoch 46/100\n",
            "100/100 [==============================] - 16s 159ms/step - loss: 0.0785 - acc: 0.9715 - val_loss: 0.1292 - val_acc: 0.9600\n",
            "Epoch 47/100\n",
            "100/100 [==============================] - 16s 160ms/step - loss: 0.0884 - acc: 0.9670 - val_loss: 0.0018 - val_acc: 0.9590\n",
            "Epoch 48/100\n",
            "100/100 [==============================] - 16s 158ms/step - loss: 0.1055 - acc: 0.9610 - val_loss: 0.1611 - val_acc: 0.9610\n",
            "Epoch 49/100\n",
            "100/100 [==============================] - 16s 158ms/step - loss: 0.0934 - acc: 0.9675 - val_loss: 0.0801 - val_acc: 0.9580\n",
            "Epoch 50/100\n",
            "100/100 [==============================] - 16s 159ms/step - loss: 0.0928 - acc: 0.9630 - val_loss: 0.1418 - val_acc: 0.9590\n",
            "Epoch 51/100\n",
            "100/100 [==============================] - 16s 159ms/step - loss: 0.0991 - acc: 0.9620 - val_loss: 8.8242e-04 - val_acc: 0.9640\n",
            "Epoch 52/100\n",
            "100/100 [==============================] - 16s 159ms/step - loss: 0.0767 - acc: 0.9685 - val_loss: 3.5717e-04 - val_acc: 0.9630\n",
            "Epoch 53/100\n",
            "100/100 [==============================] - 16s 159ms/step - loss: 0.0794 - acc: 0.9665 - val_loss: 0.1160 - val_acc: 0.9640\n",
            "Epoch 54/100\n",
            "100/100 [==============================] - 16s 158ms/step - loss: 0.0852 - acc: 0.9705 - val_loss: 0.1999 - val_acc: 0.9610\n",
            "Epoch 55/100\n",
            "100/100 [==============================] - 16s 159ms/step - loss: 0.0952 - acc: 0.9655 - val_loss: 2.6945e-04 - val_acc: 0.9600\n",
            "Epoch 56/100\n",
            "100/100 [==============================] - 16s 159ms/step - loss: 0.0975 - acc: 0.9630 - val_loss: 0.0145 - val_acc: 0.9610\n",
            "Epoch 57/100\n",
            "100/100 [==============================] - 16s 160ms/step - loss: 0.0939 - acc: 0.9635 - val_loss: 0.0081 - val_acc: 0.9590\n",
            "Epoch 58/100\n",
            "100/100 [==============================] - 16s 159ms/step - loss: 0.0818 - acc: 0.9700 - val_loss: 0.0138 - val_acc: 0.9620\n",
            "Epoch 59/100\n",
            "100/100 [==============================] - 16s 162ms/step - loss: 0.0795 - acc: 0.9730 - val_loss: 0.0133 - val_acc: 0.9630\n",
            "Epoch 60/100\n",
            "100/100 [==============================] - 16s 160ms/step - loss: 0.1175 - acc: 0.9600 - val_loss: 0.2266 - val_acc: 0.9630\n",
            "Epoch 61/100\n",
            "100/100 [==============================] - 16s 159ms/step - loss: 0.0729 - acc: 0.9745 - val_loss: 0.1561 - val_acc: 0.9650\n",
            "Epoch 62/100\n",
            "100/100 [==============================] - 16s 160ms/step - loss: 0.0665 - acc: 0.9755 - val_loss: 0.0080 - val_acc: 0.9620\n",
            "Epoch 63/100\n",
            "100/100 [==============================] - 16s 161ms/step - loss: 0.1025 - acc: 0.9630 - val_loss: 0.6220 - val_acc: 0.9580\n",
            "Epoch 64/100\n",
            "100/100 [==============================] - 16s 159ms/step - loss: 0.0716 - acc: 0.9735 - val_loss: 0.1383 - val_acc: 0.9570\n",
            "Epoch 65/100\n",
            "100/100 [==============================] - 16s 159ms/step - loss: 0.0803 - acc: 0.9690 - val_loss: 0.0311 - val_acc: 0.9660\n",
            "Epoch 66/100\n",
            "100/100 [==============================] - 16s 159ms/step - loss: 0.0930 - acc: 0.9675 - val_loss: 6.7092e-04 - val_acc: 0.9640\n",
            "Epoch 67/100\n",
            "100/100 [==============================] - 16s 160ms/step - loss: 0.0797 - acc: 0.9695 - val_loss: 0.0559 - val_acc: 0.9640\n",
            "Epoch 68/100\n",
            "100/100 [==============================] - 16s 160ms/step - loss: 0.0734 - acc: 0.9725 - val_loss: 0.0049 - val_acc: 0.9640\n",
            "Epoch 69/100\n",
            "100/100 [==============================] - 16s 159ms/step - loss: 0.0889 - acc: 0.9720 - val_loss: 0.0368 - val_acc: 0.9650\n",
            "Epoch 70/100\n",
            "100/100 [==============================] - 16s 159ms/step - loss: 0.0673 - acc: 0.9750 - val_loss: 0.0130 - val_acc: 0.9650\n",
            "Epoch 71/100\n",
            "100/100 [==============================] - 16s 159ms/step - loss: 0.0787 - acc: 0.9700 - val_loss: 0.0638 - val_acc: 0.9630\n",
            "Epoch 72/100\n",
            "100/100 [==============================] - 16s 160ms/step - loss: 0.0958 - acc: 0.9680 - val_loss: 0.0151 - val_acc: 0.9630\n",
            "Epoch 73/100\n",
            "100/100 [==============================] - 16s 160ms/step - loss: 0.0629 - acc: 0.9760 - val_loss: 0.0111 - val_acc: 0.9620\n",
            "Epoch 74/100\n",
            "100/100 [==============================] - 16s 160ms/step - loss: 0.0853 - acc: 0.9700 - val_loss: 0.0369 - val_acc: 0.9610\n",
            "Epoch 75/100\n",
            "100/100 [==============================] - 16s 159ms/step - loss: 0.0813 - acc: 0.9700 - val_loss: 7.3473e-04 - val_acc: 0.9610\n",
            "Epoch 76/100\n",
            "100/100 [==============================] - 16s 160ms/step - loss: 0.0699 - acc: 0.9765 - val_loss: 1.1342e-04 - val_acc: 0.9610\n",
            "Epoch 77/100\n",
            "100/100 [==============================] - 16s 160ms/step - loss: 0.0732 - acc: 0.9760 - val_loss: 0.5571 - val_acc: 0.9630\n",
            "Epoch 78/100\n",
            "100/100 [==============================] - 16s 163ms/step - loss: 0.1025 - acc: 0.9650 - val_loss: 0.0015 - val_acc: 0.9620\n",
            "Epoch 79/100\n",
            "100/100 [==============================] - 16s 162ms/step - loss: 0.0830 - acc: 0.9735 - val_loss: 0.0803 - val_acc: 0.9600\n",
            "Epoch 80/100\n",
            "100/100 [==============================] - 16s 161ms/step - loss: 0.0640 - acc: 0.9760 - val_loss: 0.0059 - val_acc: 0.9610\n",
            "Epoch 81/100\n",
            "100/100 [==============================] - 16s 160ms/step - loss: 0.0737 - acc: 0.9775 - val_loss: 0.0848 - val_acc: 0.9640\n",
            "Epoch 82/100\n",
            "100/100 [==============================] - 16s 162ms/step - loss: 0.0787 - acc: 0.9725 - val_loss: 0.0814 - val_acc: 0.9610\n",
            "Epoch 83/100\n",
            "100/100 [==============================] - 16s 162ms/step - loss: 0.0679 - acc: 0.9780 - val_loss: 0.0546 - val_acc: 0.9600\n",
            "Epoch 84/100\n",
            "100/100 [==============================] - 16s 161ms/step - loss: 0.0538 - acc: 0.9815 - val_loss: 0.0039 - val_acc: 0.9600\n",
            "Epoch 85/100\n",
            "100/100 [==============================] - 16s 161ms/step - loss: 0.0551 - acc: 0.9775 - val_loss: 0.0044 - val_acc: 0.9590\n",
            "Epoch 86/100\n",
            "100/100 [==============================] - 16s 162ms/step - loss: 0.0733 - acc: 0.9745 - val_loss: 0.1176 - val_acc: 0.9610\n",
            "Epoch 87/100\n",
            "100/100 [==============================] - 16s 164ms/step - loss: 0.0833 - acc: 0.9680 - val_loss: 0.0107 - val_acc: 0.9630\n",
            "Epoch 88/100\n",
            "100/100 [==============================] - 16s 161ms/step - loss: 0.0801 - acc: 0.9705 - val_loss: 0.0028 - val_acc: 0.9630\n",
            "Epoch 89/100\n",
            "100/100 [==============================] - 16s 160ms/step - loss: 0.0634 - acc: 0.9780 - val_loss: 0.1384 - val_acc: 0.9620\n",
            "Epoch 90/100\n",
            "100/100 [==============================] - 16s 161ms/step - loss: 0.0782 - acc: 0.9725 - val_loss: 0.0034 - val_acc: 0.9590\n",
            "Epoch 91/100\n",
            "100/100 [==============================] - 16s 160ms/step - loss: 0.0770 - acc: 0.9750 - val_loss: 0.0665 - val_acc: 0.9600\n",
            "Epoch 92/100\n",
            "100/100 [==============================] - 16s 164ms/step - loss: 0.0699 - acc: 0.9735 - val_loss: 0.1119 - val_acc: 0.9590\n",
            "Epoch 93/100\n",
            "100/100 [==============================] - 17s 167ms/step - loss: 0.0565 - acc: 0.9815 - val_loss: 0.1891 - val_acc: 0.9630\n",
            "Epoch 94/100\n",
            "100/100 [==============================] - 17s 166ms/step - loss: 0.0606 - acc: 0.9790 - val_loss: 0.0717 - val_acc: 0.9650\n",
            "Epoch 95/100\n",
            "100/100 [==============================] - 17s 165ms/step - loss: 0.0676 - acc: 0.9745 - val_loss: 0.2942 - val_acc: 0.9640\n",
            "Epoch 96/100\n",
            "100/100 [==============================] - 17s 168ms/step - loss: 0.0537 - acc: 0.9795 - val_loss: 0.2597 - val_acc: 0.9650\n",
            "Epoch 97/100\n",
            "100/100 [==============================] - 17s 171ms/step - loss: 0.0630 - acc: 0.9760 - val_loss: 7.1676e-04 - val_acc: 0.9620\n",
            "Epoch 98/100\n",
            "100/100 [==============================] - 17s 168ms/step - loss: 0.0628 - acc: 0.9745 - val_loss: 0.1705 - val_acc: 0.9590\n",
            "Epoch 99/100\n",
            "100/100 [==============================] - 17s 169ms/step - loss: 0.0623 - acc: 0.9765 - val_loss: 0.0949 - val_acc: 0.9610\n",
            "Epoch 100/100\n",
            "100/100 [==============================] - 16s 165ms/step - loss: 0.0701 - acc: 0.9765 - val_loss: 0.1966 - val_acc: 0.9590\n"
          ],
          "name": "stdout"
        }
      ]
    },
    {
      "cell_type": "markdown",
      "metadata": {
        "id": "eVBQgh5M-Rtz",
        "colab_type": "text"
      },
      "source": [
        "## Display learning curves during fine-tuning"
      ]
    },
    {
      "cell_type": "code",
      "metadata": {
        "id": "mbkIw7Ie-NP4",
        "colab_type": "code",
        "outputId": "3a4efc6a-fc9d-46bc-d55e-4fbc98b3742c",
        "colab": {
          "base_uri": "https://localhost:8080/",
          "height": 545
        }
      },
      "source": [
        "%matplotlib inline\n",
        "\n",
        "import matplotlib.pyplot as plt\n",
        "\n",
        "acc = history.history['acc']\n",
        "val_acc = history.history['val_acc']\n",
        "\n",
        "loss = history.history['loss']\n",
        "val_loss = history.history['val_loss']\n",
        "\n",
        "epochs = range(1, len(acc) + 1)\n",
        "\n",
        "# training and validation accuracy\n",
        "\n",
        "plt.plot(epochs, acc, 'bo', label='training acc')\n",
        "plt.plot(epochs, val_acc, 'b', label='validation acc')\n",
        "plt.title('training and validation accuracy')\n",
        "plt.legend()\n",
        "\n",
        "plt.figure()\n",
        "\n",
        "# training and validation loss\n",
        "\n",
        "plt.plot(epochs, loss, 'bo', label='training loss')\n",
        "plt.plot(epochs, val_loss, 'b', label='validation loss')\n",
        "plt.title('training and validation loss')\n",
        "plt.legend()\n",
        "\n",
        "plt.show()"
      ],
      "execution_count": 0,
      "outputs": [
        {
          "output_type": "display_data",
          "data": {
            "image/png": "[encoded data removed]",
            "text/plain": [
              "<Figure size 432x288 with 1 Axes>"
            ]
          },
          "metadata": {
            "tags": [],
            "needs_background": "light"
          }
        },
        {
          "output_type": "display_data",
          "data": {
            "image/png": "[encoded data removed]",
            "text/plain": [
              "<Figure size 432x288 with 1 Axes>"
            ]
          },
          "metadata": {
            "tags": [],
            "needs_background": "light"
          }
        }
      ]
    },
    {
      "cell_type": "markdown",
      "metadata": {
        "id": "he3Nw6TOJwjx",
        "colab_type": "text"
      },
      "source": [
        "## Print out validation loss and accuracy"
      ]
    },
    {
      "cell_type": "code",
      "metadata": {
        "id": "SVQtrk7uJdhl",
        "colab_type": "code",
        "colab": {}
      },
      "source": [
        "val_loss, val_acc = model.evaluate_generator(validation_generator, steps=50)"
      ],
      "execution_count": 0,
      "outputs": []
    },
    {
      "cell_type": "code",
      "metadata": {
        "id": "HpdddLi1SUMe",
        "colab_type": "code",
        "outputId": "0a23f6a0-8cf0-450d-e3d1-dc073edb4186",
        "colab": {
          "base_uri": "https://localhost:8080/",
          "height": 53
        }
      },
      "source": [
        "print(\"Validation loss:\", val_loss)\n",
        "print(\"Validation accuracy:\", val_acc)"
      ],
      "execution_count": 0,
      "outputs": [
        {
          "output_type": "stream",
          "text": [
            "Validation loss: 0.19663166999816895\n",
            "Validation accuracy: 0.9589999914169312\n"
          ],
          "name": "stdout"
        }
      ]
    }
  ]
}