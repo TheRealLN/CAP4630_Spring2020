{
  "nbformat": 4,
  "nbformat_minor": 0,
  "metadata": {
    "colab": {
      "name": "HW4_ProblemThree-2.ipynb",
      "provenance": []
    },
    "kernelspec": {
      "name": "python3",
      "display_name": "Python 3"
    },
    "accelerator": "GPU"
  },
  "cells": [
    {
      "cell_type": "markdown",
      "metadata": {
        "id": "KSrgMJ5vKFzQ",
        "colab_type": "text"
      },
      "source": [
        "# Fine-tuning MobileNet cont."
      ]
    },
    {
      "cell_type": "markdown",
      "metadata": {
        "id": "TIW7bZaAK-Hf",
        "colab_type": "text"
      },
      "source": [
        "This is based on [this notebook](https://colab.research.google.com/drive/1F-RWvoxH8MmT7c1UmNy41iuOp-ejiLoF \"Pretrained CovNet Finetuning - Google Colab\") and section 5.3 *Using a pretrained convnet* of the book *Deep learning with Python* by Francois Chollet. This is one of two notebooks that focuses on altering the classifier to see the results of the fine-tuning."
      ]
    },
    {
      "cell_type": "markdown",
      "metadata": {
        "id": "nsBq__dVo2pj",
        "colab_type": "text"
      },
      "source": [
        "## Feature extraction"
      ]
    },
    {
      "cell_type": "markdown",
      "metadata": {
        "id": "0g6ETAM9o54M",
        "colab_type": "text"
      },
      "source": [
        "Feature extraction consists of using the representations learned by a previous network to extract interesting features from new samples. These features are then run through a new classifier, which is trained from scratch.\n",
        "\n",
        "We will use here the convolutional base of the MobileNet model to extract the features. We will feed these features to a densely connected classifier with dropout. We will fine-tune some layers."
      ]
    },
    {
      "cell_type": "markdown",
      "metadata": {
        "id": "BqIG8QHMLNOn",
        "colab_type": "text"
      },
      "source": [
        "## Download the data"
      ]
    },
    {
      "cell_type": "markdown",
      "metadata": {
        "id": "t3I1jd7cKV6_",
        "colab_type": "text"
      },
      "source": [
        "Download the example data, a zip. of 2,000 JPG pictures of cats and dogs and extract it locally in ```/tmp```.\n",
        "\n"
      ]
    },
    {
      "cell_type": "code",
      "metadata": {
        "id": "JWjprHEXJ5Qi",
        "colab_type": "code",
        "outputId": "587df2b9-7ca7-45e0-f64b-a059c3624e35",
        "colab": {
          "base_uri": "https://localhost:8080/",
          "height": 217
        }
      },
      "source": [
        "!wget --no-check-certificate \\\n",
        "    https://storage.googleapis.com/mledu-datasets/cats_and_dogs_filtered.zip \\\n",
        "    -O /tmp/cats_and_dogs_filtered.zip"
      ],
      "execution_count": 0,
      "outputs": [
        {
          "output_type": "stream",
          "text": [
            "--2020-04-21 03:18:54--  https://storage.googleapis.com/mledu-datasets/cats_and_dogs_filtered.zip\n",
            "Resolving storage.googleapis.com (storage.googleapis.com)... 74.125.68.128, 2404:6800:4003:c04::80\n",
            "Connecting to storage.googleapis.com (storage.googleapis.com)|74.125.68.128|:443... connected.\n",
            "HTTP request sent, awaiting response... 200 OK\n",
            "Length: 68606236 (65M) [application/zip]\n",
            "Saving to: ‘/tmp/cats_and_dogs_filtered.zip’\n",
            "\n",
            "\r          /tmp/cats   0%[                    ]       0  --.-KB/s               \r         /tmp/cats_  24%[===>                ]  16.01M  38.5MB/s               \r        /tmp/cats_a  48%[========>           ]  32.01M  37.8MB/s               \r/tmp/cats_and_dogs_ 100%[===================>]  65.43M  70.6MB/s    in 0.9s    \n",
            "\n",
            "2020-04-21 03:18:55 (70.6 MB/s) - ‘/tmp/cats_and_dogs_filtered.zip’ saved [68606236/68606236]\n",
            "\n"
          ],
          "name": "stdout"
        }
      ]
    },
    {
      "cell_type": "code",
      "metadata": {
        "id": "WvoHtdA-K6Rw",
        "colab_type": "code",
        "colab": {}
      },
      "source": [
        "import os\n",
        "import zipfile\n",
        "\n",
        "local_zip = '/tmp/cats_and_dogs_filtered.zip'\n",
        "zip_ref = zipfile.ZipFile(local_zip, 'r')\n",
        "zip_ref.extractall('/tmp')\n",
        "zip_ref.close()"
      ],
      "execution_count": 0,
      "outputs": []
    },
    {
      "cell_type": "markdown",
      "metadata": {
        "id": "shZiOBnJMyy_",
        "colab_type": "text"
      },
      "source": [
        "Note that the data provided by Google does not have a test set."
      ]
    },
    {
      "cell_type": "code",
      "metadata": {
        "id": "dL8ikM89LlsH",
        "colab_type": "code",
        "colab": {}
      },
      "source": [
        "base_dir = '/tmp/cats_and_dogs_filtered'\n",
        "train_dir = os.path.join(base_dir, 'train')\n",
        "validation_dir = os.path.join(base_dir, 'validation')\n",
        "\n",
        "# Directory with our training cat pictures\n",
        "train_cats_dir = os.path.join(train_dir, 'cats')\n",
        "\n",
        "# Directory with our training dog pictures\n",
        "train_dogs_dir = os.path.join(train_dir, 'dogs')\n",
        "\n",
        "# Directory with our validation cat pictures\n",
        "validation_cats_dir = os.path.join(validation_dir, 'cats')\n",
        "\n",
        "# Directory with our validation dog pictures\n",
        "validation_dogs_dir = os.path.join(validation_dir, 'dogs')"
      ],
      "execution_count": 0,
      "outputs": []
    },
    {
      "cell_type": "markdown",
      "metadata": {
        "id": "inyP8bcdXnn-",
        "colab_type": "text"
      },
      "source": [
        "## Build network with MobileNet convolution base and custom densely connected layers"
      ]
    },
    {
      "cell_type": "markdown",
      "metadata": {
        "id": "kQ48W5T9rHWu",
        "colab_type": "text"
      },
      "source": [
        "### Load the convolutional base"
      ]
    },
    {
      "cell_type": "code",
      "metadata": {
        "id": "Y0FgtANCXm_H",
        "colab_type": "code",
        "outputId": "2bd42c28-d550-4f5b-e119-f9476a5046a4",
        "colab": {
          "base_uri": "https://localhost:8080/",
          "height": 128
        }
      },
      "source": [
        "from keras.applications import MobileNet\n",
        "\n",
        "conv_base = MobileNet(\n",
        "    weights='imagenet', \n",
        "    include_top=False, \n",
        "    input_shape=(150, 150, 3))"
      ],
      "execution_count": 0,
      "outputs": [
        {
          "output_type": "stream",
          "text": [
            "Using TensorFlow backend.\n",
            "/usr/local/lib/python3.6/dist-packages/keras_applications/mobilenet.py:207: UserWarning: `input_shape` is undefined or non-square, or `rows` is not in [128, 160, 192, 224]. Weights for input shape (224, 224) will be loaded as the default.\n",
            "  warnings.warn('`input_shape` is undefined or non-square, '\n"
          ],
          "name": "stderr"
        },
        {
          "output_type": "stream",
          "text": [
            "Downloading data from https://github.com/fchollet/deep-learning-models/releases/download/v0.6/mobilenet_1_0_224_tf_no_top.h5\n",
            "17227776/17225924 [==============================] - 3s 0us/step\n"
          ],
          "name": "stdout"
        }
      ]
    },
    {
      "cell_type": "markdown",
      "metadata": {
        "id": "ImHKbNR5mAx9",
        "colab_type": "text"
      },
      "source": [
        "### Displays the layers of MobileNet"
      ]
    },
    {
      "cell_type": "code",
      "metadata": {
        "id": "RpyIWWBzkCTa",
        "colab_type": "code",
        "outputId": "0a11a867-2160-4019-8a4d-4c162b531247",
        "colab": {
          "base_uri": "https://localhost:8080/",
          "height": 1000
        }
      },
      "source": [
        "conv_base.summary()"
      ],
      "execution_count": 0,
      "outputs": [
        {
          "output_type": "stream",
          "text": [
            "Model: \"mobilenet_1.00_224\"\n",
            "_________________________________________________________________\n",
            "Layer (type)                 Output Shape              Param #   \n",
            "=================================================================\n",
            "input_1 (InputLayer)         (None, 150, 150, 3)       0         \n",
            "_________________________________________________________________\n",
            "conv1_pad (ZeroPadding2D)    (None, 151, 151, 3)       0         \n",
            "_________________________________________________________________\n",
            "conv1 (Conv2D)               (None, 75, 75, 32)        864       \n",
            "_________________________________________________________________\n",
            "conv1_bn (BatchNormalization (None, 75, 75, 32)        128       \n",
            "_________________________________________________________________\n",
            "conv1_relu (ReLU)            (None, 75, 75, 32)        0         \n",
            "_________________________________________________________________\n",
            "conv_dw_1 (DepthwiseConv2D)  (None, 75, 75, 32)        288       \n",
            "_________________________________________________________________\n",
            "conv_dw_1_bn (BatchNormaliza (None, 75, 75, 32)        128       \n",
            "_________________________________________________________________\n",
            "conv_dw_1_relu (ReLU)        (None, 75, 75, 32)        0         \n",
            "_________________________________________________________________\n",
            "conv_pw_1 (Conv2D)           (None, 75, 75, 64)        2048      \n",
            "_________________________________________________________________\n",
            "conv_pw_1_bn (BatchNormaliza (None, 75, 75, 64)        256       \n",
            "_________________________________________________________________\n",
            "conv_pw_1_relu (ReLU)        (None, 75, 75, 64)        0         \n",
            "_________________________________________________________________\n",
            "conv_pad_2 (ZeroPadding2D)   (None, 76, 76, 64)        0         \n",
            "_________________________________________________________________\n",
            "conv_dw_2 (DepthwiseConv2D)  (None, 37, 37, 64)        576       \n",
            "_________________________________________________________________\n",
            "conv_dw_2_bn (BatchNormaliza (None, 37, 37, 64)        256       \n",
            "_________________________________________________________________\n",
            "conv_dw_2_relu (ReLU)        (None, 37, 37, 64)        0         \n",
            "_________________________________________________________________\n",
            "conv_pw_2 (Conv2D)           (None, 37, 37, 128)       8192      \n",
            "_________________________________________________________________\n",
            "conv_pw_2_bn (BatchNormaliza (None, 37, 37, 128)       512       \n",
            "_________________________________________________________________\n",
            "conv_pw_2_relu (ReLU)        (None, 37, 37, 128)       0         \n",
            "_________________________________________________________________\n",
            "conv_dw_3 (DepthwiseConv2D)  (None, 37, 37, 128)       1152      \n",
            "_________________________________________________________________\n",
            "conv_dw_3_bn (BatchNormaliza (None, 37, 37, 128)       512       \n",
            "_________________________________________________________________\n",
            "conv_dw_3_relu (ReLU)        (None, 37, 37, 128)       0         \n",
            "_________________________________________________________________\n",
            "conv_pw_3 (Conv2D)           (None, 37, 37, 128)       16384     \n",
            "_________________________________________________________________\n",
            "conv_pw_3_bn (BatchNormaliza (None, 37, 37, 128)       512       \n",
            "_________________________________________________________________\n",
            "conv_pw_3_relu (ReLU)        (None, 37, 37, 128)       0         \n",
            "_________________________________________________________________\n",
            "conv_pad_4 (ZeroPadding2D)   (None, 38, 38, 128)       0         \n",
            "_________________________________________________________________\n",
            "conv_dw_4 (DepthwiseConv2D)  (None, 18, 18, 128)       1152      \n",
            "_________________________________________________________________\n",
            "conv_dw_4_bn (BatchNormaliza (None, 18, 18, 128)       512       \n",
            "_________________________________________________________________\n",
            "conv_dw_4_relu (ReLU)        (None, 18, 18, 128)       0         \n",
            "_________________________________________________________________\n",
            "conv_pw_4 (Conv2D)           (None, 18, 18, 256)       32768     \n",
            "_________________________________________________________________\n",
            "conv_pw_4_bn (BatchNormaliza (None, 18, 18, 256)       1024      \n",
            "_________________________________________________________________\n",
            "conv_pw_4_relu (ReLU)        (None, 18, 18, 256)       0         \n",
            "_________________________________________________________________\n",
            "conv_dw_5 (DepthwiseConv2D)  (None, 18, 18, 256)       2304      \n",
            "_________________________________________________________________\n",
            "conv_dw_5_bn (BatchNormaliza (None, 18, 18, 256)       1024      \n",
            "_________________________________________________________________\n",
            "conv_dw_5_relu (ReLU)        (None, 18, 18, 256)       0         \n",
            "_________________________________________________________________\n",
            "conv_pw_5 (Conv2D)           (None, 18, 18, 256)       65536     \n",
            "_________________________________________________________________\n",
            "conv_pw_5_bn (BatchNormaliza (None, 18, 18, 256)       1024      \n",
            "_________________________________________________________________\n",
            "conv_pw_5_relu (ReLU)        (None, 18, 18, 256)       0         \n",
            "_________________________________________________________________\n",
            "conv_pad_6 (ZeroPadding2D)   (None, 19, 19, 256)       0         \n",
            "_________________________________________________________________\n",
            "conv_dw_6 (DepthwiseConv2D)  (None, 9, 9, 256)         2304      \n",
            "_________________________________________________________________\n",
            "conv_dw_6_bn (BatchNormaliza (None, 9, 9, 256)         1024      \n",
            "_________________________________________________________________\n",
            "conv_dw_6_relu (ReLU)        (None, 9, 9, 256)         0         \n",
            "_________________________________________________________________\n",
            "conv_pw_6 (Conv2D)           (None, 9, 9, 512)         131072    \n",
            "_________________________________________________________________\n",
            "conv_pw_6_bn (BatchNormaliza (None, 9, 9, 512)         2048      \n",
            "_________________________________________________________________\n",
            "conv_pw_6_relu (ReLU)        (None, 9, 9, 512)         0         \n",
            "_________________________________________________________________\n",
            "conv_dw_7 (DepthwiseConv2D)  (None, 9, 9, 512)         4608      \n",
            "_________________________________________________________________\n",
            "conv_dw_7_bn (BatchNormaliza (None, 9, 9, 512)         2048      \n",
            "_________________________________________________________________\n",
            "conv_dw_7_relu (ReLU)        (None, 9, 9, 512)         0         \n",
            "_________________________________________________________________\n",
            "conv_pw_7 (Conv2D)           (None, 9, 9, 512)         262144    \n",
            "_________________________________________________________________\n",
            "conv_pw_7_bn (BatchNormaliza (None, 9, 9, 512)         2048      \n",
            "_________________________________________________________________\n",
            "conv_pw_7_relu (ReLU)        (None, 9, 9, 512)         0         \n",
            "_________________________________________________________________\n",
            "conv_dw_8 (DepthwiseConv2D)  (None, 9, 9, 512)         4608      \n",
            "_________________________________________________________________\n",
            "conv_dw_8_bn (BatchNormaliza (None, 9, 9, 512)         2048      \n",
            "_________________________________________________________________\n",
            "conv_dw_8_relu (ReLU)        (None, 9, 9, 512)         0         \n",
            "_________________________________________________________________\n",
            "conv_pw_8 (Conv2D)           (None, 9, 9, 512)         262144    \n",
            "_________________________________________________________________\n",
            "conv_pw_8_bn (BatchNormaliza (None, 9, 9, 512)         2048      \n",
            "_________________________________________________________________\n",
            "conv_pw_8_relu (ReLU)        (None, 9, 9, 512)         0         \n",
            "_________________________________________________________________\n",
            "conv_dw_9 (DepthwiseConv2D)  (None, 9, 9, 512)         4608      \n",
            "_________________________________________________________________\n",
            "conv_dw_9_bn (BatchNormaliza (None, 9, 9, 512)         2048      \n",
            "_________________________________________________________________\n",
            "conv_dw_9_relu (ReLU)        (None, 9, 9, 512)         0         \n",
            "_________________________________________________________________\n",
            "conv_pw_9 (Conv2D)           (None, 9, 9, 512)         262144    \n",
            "_________________________________________________________________\n",
            "conv_pw_9_bn (BatchNormaliza (None, 9, 9, 512)         2048      \n",
            "_________________________________________________________________\n",
            "conv_pw_9_relu (ReLU)        (None, 9, 9, 512)         0         \n",
            "_________________________________________________________________\n",
            "conv_dw_10 (DepthwiseConv2D) (None, 9, 9, 512)         4608      \n",
            "_________________________________________________________________\n",
            "conv_dw_10_bn (BatchNormaliz (None, 9, 9, 512)         2048      \n",
            "_________________________________________________________________\n",
            "conv_dw_10_relu (ReLU)       (None, 9, 9, 512)         0         \n",
            "_________________________________________________________________\n",
            "conv_pw_10 (Conv2D)          (None, 9, 9, 512)         262144    \n",
            "_________________________________________________________________\n",
            "conv_pw_10_bn (BatchNormaliz (None, 9, 9, 512)         2048      \n",
            "_________________________________________________________________\n",
            "conv_pw_10_relu (ReLU)       (None, 9, 9, 512)         0         \n",
            "_________________________________________________________________\n",
            "conv_dw_11 (DepthwiseConv2D) (None, 9, 9, 512)         4608      \n",
            "_________________________________________________________________\n",
            "conv_dw_11_bn (BatchNormaliz (None, 9, 9, 512)         2048      \n",
            "_________________________________________________________________\n",
            "conv_dw_11_relu (ReLU)       (None, 9, 9, 512)         0         \n",
            "_________________________________________________________________\n",
            "conv_pw_11 (Conv2D)          (None, 9, 9, 512)         262144    \n",
            "_________________________________________________________________\n",
            "conv_pw_11_bn (BatchNormaliz (None, 9, 9, 512)         2048      \n",
            "_________________________________________________________________\n",
            "conv_pw_11_relu (ReLU)       (None, 9, 9, 512)         0         \n",
            "_________________________________________________________________\n",
            "conv_pad_12 (ZeroPadding2D)  (None, 10, 10, 512)       0         \n",
            "_________________________________________________________________\n",
            "conv_dw_12 (DepthwiseConv2D) (None, 4, 4, 512)         4608      \n",
            "_________________________________________________________________\n",
            "conv_dw_12_bn (BatchNormaliz (None, 4, 4, 512)         2048      \n",
            "_________________________________________________________________\n",
            "conv_dw_12_relu (ReLU)       (None, 4, 4, 512)         0         \n",
            "_________________________________________________________________\n",
            "conv_pw_12 (Conv2D)          (None, 4, 4, 1024)        524288    \n",
            "_________________________________________________________________\n",
            "conv_pw_12_bn (BatchNormaliz (None, 4, 4, 1024)        4096      \n",
            "_________________________________________________________________\n",
            "conv_pw_12_relu (ReLU)       (None, 4, 4, 1024)        0         \n",
            "_________________________________________________________________\n",
            "conv_dw_13 (DepthwiseConv2D) (None, 4, 4, 1024)        9216      \n",
            "_________________________________________________________________\n",
            "conv_dw_13_bn (BatchNormaliz (None, 4, 4, 1024)        4096      \n",
            "_________________________________________________________________\n",
            "conv_dw_13_relu (ReLU)       (None, 4, 4, 1024)        0         \n",
            "_________________________________________________________________\n",
            "conv_pw_13 (Conv2D)          (None, 4, 4, 1024)        1048576   \n",
            "_________________________________________________________________\n",
            "conv_pw_13_bn (BatchNormaliz (None, 4, 4, 1024)        4096      \n",
            "_________________________________________________________________\n",
            "conv_pw_13_relu (ReLU)       (None, 4, 4, 1024)        0         \n",
            "=================================================================\n",
            "Total params: 3,228,864\n",
            "Trainable params: 3,206,976\n",
            "Non-trainable params: 21,888\n",
            "_________________________________________________________________\n"
          ],
          "name": "stdout"
        }
      ]
    },
    {
      "cell_type": "markdown",
      "metadata": {
        "id": "D6OBHOO9q1ou",
        "colab_type": "text"
      },
      "source": [
        "### Freeze the convolutional base"
      ]
    },
    {
      "cell_type": "code",
      "metadata": {
        "id": "UleRo4Dpq6Ld",
        "colab_type": "code",
        "colab": {}
      },
      "source": [
        "conv_base.trainable = False"
      ],
      "execution_count": 0,
      "outputs": []
    },
    {
      "cell_type": "markdown",
      "metadata": {
        "id": "Qfx6PqhPrb7Q",
        "colab_type": "text"
      },
      "source": [
        "### Concatenate the convolutional base and densely connected layers"
      ]
    },
    {
      "cell_type": "code",
      "metadata": {
        "id": "qUpmocDAO3xm",
        "colab_type": "code",
        "colab": {}
      },
      "source": [
        "from keras import layers\n",
        "from keras import models\n",
        "from keras import optimizers\n",
        "\n",
        "model = models.Sequential()\n",
        "model.add(conv_base)\n",
        "model.add(layers.Flatten())\n",
        "model.add(layers.Dense(512, activation='relu'))\n",
        "model.add(layers.Dense(64, activation='relu'))\n",
        "model.add(layers.Dense(1, activation='sigmoid'))"
      ],
      "execution_count": 0,
      "outputs": []
    },
    {
      "cell_type": "code",
      "metadata": {
        "id": "Fh6gZSeAjF7c",
        "colab_type": "code",
        "outputId": "befd1b7f-69a0-4860-f1ea-355e0ff2a445",
        "colab": {
          "base_uri": "https://localhost:8080/",
          "height": 344
        }
      },
      "source": [
        "model.summary()"
      ],
      "execution_count": 0,
      "outputs": [
        {
          "output_type": "stream",
          "text": [
            "Model: \"sequential_1\"\n",
            "_________________________________________________________________\n",
            "Layer (type)                 Output Shape              Param #   \n",
            "=================================================================\n",
            "mobilenet_1.00_224 (Model)   (None, 4, 4, 1024)        3228864   \n",
            "_________________________________________________________________\n",
            "flatten_1 (Flatten)          (None, 16384)             0         \n",
            "_________________________________________________________________\n",
            "dense_1 (Dense)              (None, 512)               8389120   \n",
            "_________________________________________________________________\n",
            "dense_2 (Dense)              (None, 64)                32832     \n",
            "_________________________________________________________________\n",
            "dense_3 (Dense)              (None, 1)                 65        \n",
            "=================================================================\n",
            "Total params: 11,650,881\n",
            "Trainable params: 8,422,017\n",
            "Non-trainable params: 3,228,864\n",
            "_________________________________________________________________\n"
          ],
          "name": "stdout"
        }
      ]
    },
    {
      "cell_type": "markdown",
      "metadata": {
        "id": "eZjBiddhi5Qj",
        "colab_type": "text"
      },
      "source": [
        "## Train the model end to end with frozen convolutional base"
      ]
    },
    {
      "cell_type": "code",
      "metadata": {
        "id": "tfAQlC2Oi41L",
        "colab_type": "code",
        "outputId": "113ec3ae-7d33-4928-d602-2e8049da63b6",
        "colab": {
          "base_uri": "https://localhost:8080/",
          "height": 1000
        }
      },
      "source": [
        "from keras.preprocessing.image import ImageDataGenerator\n",
        "from keras import optimizers\n",
        "\n",
        "# data augmentation\n",
        "\n",
        "train_datagen = ImageDataGenerator(\n",
        "    rescale=1./255, \n",
        "    rotation_range=40,\n",
        "    width_shift_range=0.2,\n",
        "    height_shift_range=0.2,\n",
        "    shear_range=0.2,\n",
        "    zoom_range=0.2,\n",
        "    horizontal_flip=True,\n",
        "    fill_mode='nearest'\n",
        ")\n",
        "\n",
        "train_generator = train_datagen.flow_from_directory(\n",
        "    train_dir,\n",
        "    target_size=(150, 150),\n",
        "    batch_size=20,\n",
        "    class_mode='binary')\n",
        "\n",
        "validation_datagen = ImageDataGenerator(rescale=1./255)\n",
        "\n",
        "validation_generator = validation_datagen.flow_from_directory(\n",
        "    validation_dir,\n",
        "    target_size=(150, 150),\n",
        "    batch_size=20,\n",
        "    class_mode='binary')\n",
        "\n",
        "# compile model\n",
        "\n",
        "model.compile(\n",
        "    loss='binary_crossentropy', \n",
        "    optimizer=optimizers.RMSprop(lr=2e-5), \n",
        "    metrics=['acc'])\n",
        "\n",
        "# train\n",
        "\n",
        "history = model.fit_generator(\n",
        "    train_generator,\n",
        "    steps_per_epoch=100,\n",
        "    epochs=30,\n",
        "    validation_data=validation_generator,\n",
        "    validation_steps=50\n",
        ")"
      ],
      "execution_count": 0,
      "outputs": [
        {
          "output_type": "stream",
          "text": [
            "Found 2000 images belonging to 2 classes.\n",
            "Found 1000 images belonging to 2 classes.\n",
            "Epoch 1/30\n",
            "100/100 [==============================] - 25s 253ms/step - loss: 0.3948 - acc: 0.8150 - val_loss: 0.6560 - val_acc: 0.9450\n",
            "Epoch 2/30\n",
            "100/100 [==============================] - 17s 169ms/step - loss: 0.2782 - acc: 0.8870 - val_loss: 0.0846 - val_acc: 0.9580\n",
            "Epoch 3/30\n",
            "100/100 [==============================] - 17s 169ms/step - loss: 0.2618 - acc: 0.8895 - val_loss: 0.2474 - val_acc: 0.9640\n",
            "Epoch 4/30\n",
            "100/100 [==============================] - 17s 167ms/step - loss: 0.2458 - acc: 0.8945 - val_loss: 0.1079 - val_acc: 0.9590\n",
            "Epoch 5/30\n",
            "100/100 [==============================] - 17s 167ms/step - loss: 0.2110 - acc: 0.9160 - val_loss: 0.0290 - val_acc: 0.9630\n",
            "Epoch 6/30\n",
            "100/100 [==============================] - 17s 166ms/step - loss: 0.2056 - acc: 0.9195 - val_loss: 2.6935e-04 - val_acc: 0.9700\n",
            "Epoch 7/30\n",
            "100/100 [==============================] - 17s 169ms/step - loss: 0.2057 - acc: 0.9140 - val_loss: 0.0091 - val_acc: 0.9650\n",
            "Epoch 8/30\n",
            "100/100 [==============================] - 17s 169ms/step - loss: 0.2179 - acc: 0.9165 - val_loss: 0.3649 - val_acc: 0.9630\n",
            "Epoch 9/30\n",
            "100/100 [==============================] - 17s 169ms/step - loss: 0.1952 - acc: 0.9180 - val_loss: 0.1285 - val_acc: 0.9680\n",
            "Epoch 10/30\n",
            "100/100 [==============================] - 17s 170ms/step - loss: 0.1943 - acc: 0.9230 - val_loss: 0.0255 - val_acc: 0.9680\n",
            "Epoch 11/30\n",
            "100/100 [==============================] - 17s 169ms/step - loss: 0.2168 - acc: 0.9220 - val_loss: 0.0936 - val_acc: 0.9700\n",
            "Epoch 12/30\n",
            "100/100 [==============================] - 17s 171ms/step - loss: 0.1802 - acc: 0.9260 - val_loss: 0.1666 - val_acc: 0.9600\n",
            "Epoch 13/30\n",
            "100/100 [==============================] - 17s 169ms/step - loss: 0.1951 - acc: 0.9295 - val_loss: 0.2840 - val_acc: 0.9540\n",
            "Epoch 14/30\n",
            "100/100 [==============================] - 17s 169ms/step - loss: 0.1662 - acc: 0.9345 - val_loss: 8.9924e-04 - val_acc: 0.9650\n",
            "Epoch 15/30\n",
            "100/100 [==============================] - 17s 169ms/step - loss: 0.1791 - acc: 0.9290 - val_loss: 0.3904 - val_acc: 0.9680\n",
            "Epoch 16/30\n",
            "100/100 [==============================] - 17s 170ms/step - loss: 0.1849 - acc: 0.9255 - val_loss: 9.6581e-07 - val_acc: 0.9690\n",
            "Epoch 17/30\n",
            "100/100 [==============================] - 17s 171ms/step - loss: 0.1832 - acc: 0.9305 - val_loss: 0.0827 - val_acc: 0.9580\n",
            "Epoch 18/30\n",
            "100/100 [==============================] - 17s 170ms/step - loss: 0.1562 - acc: 0.9420 - val_loss: 0.3751 - val_acc: 0.9670\n",
            "Epoch 19/30\n",
            "100/100 [==============================] - 17s 169ms/step - loss: 0.1512 - acc: 0.9360 - val_loss: 0.6263 - val_acc: 0.9590\n",
            "Epoch 20/30\n",
            "100/100 [==============================] - 17s 169ms/step - loss: 0.1687 - acc: 0.9350 - val_loss: 0.1929 - val_acc: 0.9690\n",
            "Epoch 21/30\n",
            "100/100 [==============================] - 17s 170ms/step - loss: 0.1510 - acc: 0.9430 - val_loss: 0.0071 - val_acc: 0.9620\n",
            "Epoch 22/30\n",
            "100/100 [==============================] - 17s 170ms/step - loss: 0.1741 - acc: 0.9300 - val_loss: 0.0128 - val_acc: 0.9630\n",
            "Epoch 23/30\n",
            "100/100 [==============================] - 17s 169ms/step - loss: 0.1647 - acc: 0.9380 - val_loss: 0.2867 - val_acc: 0.9580\n",
            "Epoch 24/30\n",
            "100/100 [==============================] - 17s 169ms/step - loss: 0.1574 - acc: 0.9415 - val_loss: 0.2052 - val_acc: 0.9620\n",
            "Epoch 25/30\n",
            "100/100 [==============================] - 17s 169ms/step - loss: 0.1433 - acc: 0.9445 - val_loss: 1.9227e-04 - val_acc: 0.9620\n",
            "Epoch 26/30\n",
            "100/100 [==============================] - 17s 172ms/step - loss: 0.1594 - acc: 0.9440 - val_loss: 0.1598 - val_acc: 0.9690\n",
            "Epoch 27/30\n",
            "100/100 [==============================] - 17s 171ms/step - loss: 0.1533 - acc: 0.9330 - val_loss: 5.5273e-05 - val_acc: 0.9610\n",
            "Epoch 28/30\n",
            "100/100 [==============================] - 17s 169ms/step - loss: 0.1414 - acc: 0.9450 - val_loss: 0.7543 - val_acc: 0.9630\n",
            "Epoch 29/30\n",
            "100/100 [==============================] - 17s 168ms/step - loss: 0.1524 - acc: 0.9435 - val_loss: 0.1522 - val_acc: 0.9590\n",
            "Epoch 30/30\n",
            "100/100 [==============================] - 17s 168ms/step - loss: 0.1467 - acc: 0.9405 - val_loss: 0.1950 - val_acc: 0.9640\n"
          ],
          "name": "stdout"
        }
      ]
    },
    {
      "cell_type": "markdown",
      "metadata": {
        "id": "xqRc_vHKc92U",
        "colab_type": "text"
      },
      "source": [
        "## Display curves of loss and accuracy during training"
      ]
    },
    {
      "cell_type": "code",
      "metadata": {
        "id": "ybWwdzz9bwuQ",
        "colab_type": "code",
        "outputId": "94fe8fdb-e1c2-4852-e826-71181b6ab5eb",
        "colab": {
          "base_uri": "https://localhost:8080/",
          "height": 545
        }
      },
      "source": [
        "%matplotlib inline\n",
        "\n",
        "import matplotlib.pyplot as plt\n",
        "\n",
        "acc = history.history['acc']\n",
        "val_acc = history.history['val_acc']\n",
        "\n",
        "loss = history.history['loss']\n",
        "val_loss = history.history['val_loss']\n",
        "\n",
        "epochs = range(1, len(acc) + 1)\n",
        "\n",
        "# training and validation accuracy\n",
        "\n",
        "plt.plot(epochs, acc, 'bo', label='training acc')\n",
        "plt.plot(epochs, val_acc, 'b', label='validation acc')\n",
        "plt.title('training and validation accuracy')\n",
        "plt.legend()\n",
        "\n",
        "plt.figure()\n",
        "\n",
        "# training and validation loss\n",
        "\n",
        "plt.plot(epochs, loss, 'bo', label='training loss')\n",
        "plt.plot(epochs, val_loss, 'b', label='validation loss')\n",
        "plt.title('training and validation loss')\n",
        "plt.legend()\n",
        "\n",
        "plt.show()"
      ],
      "execution_count": 0,
      "outputs": [
        {
          "output_type": "display_data",
          "data": {
            "image/png": "[encoded data removed]",
            "text/plain": [
              "<Figure size 432x288 with 1 Axes>"
            ]
          },
          "metadata": {
            "tags": [],
            "needs_background": "light"
          }
        },
        {
          "output_type": "display_data",
          "data": {
            "image/png": "[encoded data removed]",
            "text/plain": [
              "<Figure size 432x288 with 1 Axes>"
            ]
          },
          "metadata": {
            "tags": [],
            "needs_background": "light"
          }
        }
      ]
    },
    {
      "cell_type": "markdown",
      "metadata": {
        "id": "lOWsxpey8lN0",
        "colab_type": "text"
      },
      "source": [
        "## Fine-tuning"
      ]
    },
    {
      "cell_type": "code",
      "metadata": {
        "id": "PwkVMx8N8qMw",
        "colab_type": "code",
        "colab": {}
      },
      "source": [
        "conv_base.trainable = True\n",
        "\n",
        "set_trainable = False\n",
        "for layer in conv_base.layers:\n",
        "  if layer.name == 'conv_pw_12':\n",
        "    set_trainable = True\n",
        "  if set_trainable:\n",
        "    layer.trainable = True\n",
        "  else:\n",
        "    layer.trainable = False"
      ],
      "execution_count": 0,
      "outputs": []
    },
    {
      "cell_type": "code",
      "metadata": {
        "id": "DyN-J7rs9cvo",
        "colab_type": "code",
        "outputId": "5174c8ba-6005-48a6-d921-ce179c5c1435",
        "colab": {
          "base_uri": "https://localhost:8080/",
          "height": 1000
        }
      },
      "source": [
        "# compile model\n",
        "\n",
        "model.compile(\n",
        "    loss='binary_crossentropy',\n",
        "    #\n",
        "    # choose a smaller learning rate\n",
        "    #\n",
        "    optimizer=optimizers.RMSprop(lr=1e-5), \n",
        "    metrics=['acc'])\n",
        "\n",
        "# train\n",
        "\n",
        "history = model.fit_generator(\n",
        "    train_generator,\n",
        "    steps_per_epoch=100,\n",
        "    epochs=100,\n",
        "    validation_data=validation_generator,\n",
        "    validation_steps=50)"
      ],
      "execution_count": 0,
      "outputs": [
        {
          "output_type": "stream",
          "text": [
            "Epoch 1/100\n",
            "100/100 [==============================] - 20s 202ms/step - loss: 0.1404 - acc: 0.9455 - val_loss: 0.0287 - val_acc: 0.9590\n",
            "Epoch 2/100\n",
            "100/100 [==============================] - 17s 172ms/step - loss: 0.1222 - acc: 0.9525 - val_loss: 0.2350 - val_acc: 0.9650\n",
            "Epoch 3/100\n",
            "100/100 [==============================] - 17s 172ms/step - loss: 0.1134 - acc: 0.9530 - val_loss: 0.1686 - val_acc: 0.9550\n",
            "Epoch 4/100\n",
            "100/100 [==============================] - 17s 173ms/step - loss: 0.1366 - acc: 0.9475 - val_loss: 0.1025 - val_acc: 0.9530\n",
            "Epoch 5/100\n",
            "100/100 [==============================] - 17s 173ms/step - loss: 0.1257 - acc: 0.9550 - val_loss: 0.0892 - val_acc: 0.9530\n",
            "Epoch 6/100\n",
            "100/100 [==============================] - 17s 172ms/step - loss: 0.1344 - acc: 0.9500 - val_loss: 0.0725 - val_acc: 0.9600\n",
            "Epoch 7/100\n",
            "100/100 [==============================] - 17s 171ms/step - loss: 0.1033 - acc: 0.9580 - val_loss: 0.2405 - val_acc: 0.9530\n",
            "Epoch 8/100\n",
            "100/100 [==============================] - 17s 172ms/step - loss: 0.1176 - acc: 0.9575 - val_loss: 0.2960 - val_acc: 0.9550\n",
            "Epoch 9/100\n",
            "100/100 [==============================] - 17s 172ms/step - loss: 0.1189 - acc: 0.9555 - val_loss: 0.2657 - val_acc: 0.9470\n",
            "Epoch 10/100\n",
            "100/100 [==============================] - 17s 173ms/step - loss: 0.1032 - acc: 0.9595 - val_loss: 0.0087 - val_acc: 0.9620\n",
            "Epoch 11/100\n",
            "100/100 [==============================] - 17s 171ms/step - loss: 0.1146 - acc: 0.9520 - val_loss: 0.1235 - val_acc: 0.9590\n",
            "Epoch 12/100\n",
            "100/100 [==============================] - 17s 171ms/step - loss: 0.1109 - acc: 0.9550 - val_loss: 0.0271 - val_acc: 0.9620\n",
            "Epoch 13/100\n",
            "100/100 [==============================] - 17s 171ms/step - loss: 0.1123 - acc: 0.9550 - val_loss: 0.0786 - val_acc: 0.9600\n",
            "Epoch 14/100\n",
            "100/100 [==============================] - 17s 173ms/step - loss: 0.1015 - acc: 0.9680 - val_loss: 0.1738 - val_acc: 0.9620\n",
            "Epoch 15/100\n",
            "100/100 [==============================] - 17s 174ms/step - loss: 0.1040 - acc: 0.9665 - val_loss: 7.0473e-04 - val_acc: 0.9630\n",
            "Epoch 16/100\n",
            "100/100 [==============================] - 17s 170ms/step - loss: 0.1152 - acc: 0.9600 - val_loss: 0.1754 - val_acc: 0.9610\n",
            "Epoch 17/100\n",
            "100/100 [==============================] - 17s 171ms/step - loss: 0.1018 - acc: 0.9580 - val_loss: 0.0455 - val_acc: 0.9600\n",
            "Epoch 18/100\n",
            "100/100 [==============================] - 17s 170ms/step - loss: 0.1312 - acc: 0.9515 - val_loss: 0.0745 - val_acc: 0.9640\n",
            "Epoch 19/100\n",
            "100/100 [==============================] - 17s 172ms/step - loss: 0.0987 - acc: 0.9635 - val_loss: 0.2134 - val_acc: 0.9620\n",
            "Epoch 20/100\n",
            "100/100 [==============================] - 17s 171ms/step - loss: 0.0996 - acc: 0.9615 - val_loss: 0.5251 - val_acc: 0.9620\n",
            "Epoch 21/100\n",
            "100/100 [==============================] - 17s 170ms/step - loss: 0.0698 - acc: 0.9720 - val_loss: 0.3893 - val_acc: 0.9610\n",
            "Epoch 22/100\n",
            "100/100 [==============================] - 17s 170ms/step - loss: 0.0935 - acc: 0.9640 - val_loss: 0.2895 - val_acc: 0.9650\n",
            "Epoch 23/100\n",
            "100/100 [==============================] - 17s 171ms/step - loss: 0.1101 - acc: 0.9590 - val_loss: 0.0573 - val_acc: 0.9640\n",
            "Epoch 24/100\n",
            "100/100 [==============================] - 17s 173ms/step - loss: 0.0971 - acc: 0.9650 - val_loss: 0.1899 - val_acc: 0.9640\n",
            "Epoch 25/100\n",
            "100/100 [==============================] - 17s 171ms/step - loss: 0.0940 - acc: 0.9645 - val_loss: 0.0229 - val_acc: 0.9650\n",
            "Epoch 26/100\n",
            "100/100 [==============================] - 17s 171ms/step - loss: 0.0887 - acc: 0.9675 - val_loss: 8.2036e-04 - val_acc: 0.9630\n",
            "Epoch 27/100\n",
            "100/100 [==============================] - 17s 172ms/step - loss: 0.0657 - acc: 0.9755 - val_loss: 0.0016 - val_acc: 0.9650\n",
            "Epoch 28/100\n",
            "100/100 [==============================] - 17s 171ms/step - loss: 0.1065 - acc: 0.9650 - val_loss: 0.0653 - val_acc: 0.9610\n",
            "Epoch 29/100\n",
            "100/100 [==============================] - 17s 172ms/step - loss: 0.1048 - acc: 0.9590 - val_loss: 0.0021 - val_acc: 0.9660\n",
            "Epoch 30/100\n",
            "100/100 [==============================] - 17s 171ms/step - loss: 0.1002 - acc: 0.9595 - val_loss: 0.0020 - val_acc: 0.9650\n",
            "Epoch 31/100\n",
            "100/100 [==============================] - 17s 171ms/step - loss: 0.0797 - acc: 0.9715 - val_loss: 0.3828 - val_acc: 0.9630\n",
            "Epoch 32/100\n",
            "100/100 [==============================] - 18s 176ms/step - loss: 0.1090 - acc: 0.9585 - val_loss: 0.1086 - val_acc: 0.9630\n",
            "Epoch 33/100\n",
            "100/100 [==============================] - 17s 173ms/step - loss: 0.0872 - acc: 0.9655 - val_loss: 0.0028 - val_acc: 0.9650\n",
            "Epoch 34/100\n",
            "100/100 [==============================] - 17s 172ms/step - loss: 0.0920 - acc: 0.9640 - val_loss: 0.0034 - val_acc: 0.9580\n",
            "Epoch 35/100\n",
            "100/100 [==============================] - 17s 172ms/step - loss: 0.0758 - acc: 0.9715 - val_loss: 0.0463 - val_acc: 0.9520\n",
            "Epoch 36/100\n",
            "100/100 [==============================] - 17s 171ms/step - loss: 0.1015 - acc: 0.9600 - val_loss: 0.0178 - val_acc: 0.9650\n",
            "Epoch 37/100\n",
            "100/100 [==============================] - 17s 172ms/step - loss: 0.0853 - acc: 0.9670 - val_loss: 0.2181 - val_acc: 0.9540\n",
            "Epoch 38/100\n",
            "100/100 [==============================] - 17s 172ms/step - loss: 0.0706 - acc: 0.9735 - val_loss: 0.0053 - val_acc: 0.9610\n",
            "Epoch 39/100\n",
            "100/100 [==============================] - 17s 171ms/step - loss: 0.0772 - acc: 0.9735 - val_loss: 0.0454 - val_acc: 0.9610\n",
            "Epoch 40/100\n",
            "100/100 [==============================] - 17s 171ms/step - loss: 0.0785 - acc: 0.9665 - val_loss: 0.0303 - val_acc: 0.9560\n",
            "Epoch 41/100\n",
            "100/100 [==============================] - 17s 171ms/step - loss: 0.0739 - acc: 0.9680 - val_loss: 0.0191 - val_acc: 0.9640\n",
            "Epoch 42/100\n",
            "100/100 [==============================] - 17s 172ms/step - loss: 0.0702 - acc: 0.9730 - val_loss: 0.0145 - val_acc: 0.9510\n",
            "Epoch 43/100\n",
            "100/100 [==============================] - 17s 173ms/step - loss: 0.0974 - acc: 0.9645 - val_loss: 0.1461 - val_acc: 0.9590\n",
            "Epoch 44/100\n",
            "100/100 [==============================] - 17s 172ms/step - loss: 0.0750 - acc: 0.9740 - val_loss: 0.0645 - val_acc: 0.9650\n",
            "Epoch 45/100\n",
            "100/100 [==============================] - 17s 172ms/step - loss: 0.0879 - acc: 0.9645 - val_loss: 0.1445 - val_acc: 0.9590\n",
            "Epoch 46/100\n",
            "100/100 [==============================] - 17s 173ms/step - loss: 0.0699 - acc: 0.9705 - val_loss: 0.1575 - val_acc: 0.9590\n",
            "Epoch 47/100\n",
            "100/100 [==============================] - 17s 173ms/step - loss: 0.0759 - acc: 0.9710 - val_loss: 0.0051 - val_acc: 0.9590\n",
            "Epoch 48/100\n",
            "100/100 [==============================] - 17s 174ms/step - loss: 0.0852 - acc: 0.9670 - val_loss: 0.0013 - val_acc: 0.9510\n",
            "Epoch 49/100\n",
            "100/100 [==============================] - 17s 170ms/step - loss: 0.0718 - acc: 0.9735 - val_loss: 0.2318 - val_acc: 0.9610\n",
            "Epoch 50/100\n",
            "100/100 [==============================] - 17s 174ms/step - loss: 0.0579 - acc: 0.9775 - val_loss: 0.0284 - val_acc: 0.9620\n",
            "Epoch 51/100\n",
            "100/100 [==============================] - 17s 171ms/step - loss: 0.0893 - acc: 0.9680 - val_loss: 0.0146 - val_acc: 0.9640\n",
            "Epoch 52/100\n",
            "100/100 [==============================] - 17s 173ms/step - loss: 0.0724 - acc: 0.9740 - val_loss: 2.4623e-04 - val_acc: 0.9560\n",
            "Epoch 53/100\n",
            "100/100 [==============================] - 17s 172ms/step - loss: 0.0645 - acc: 0.9740 - val_loss: 0.0036 - val_acc: 0.9640\n",
            "Epoch 54/100\n",
            "100/100 [==============================] - 17s 170ms/step - loss: 0.0748 - acc: 0.9695 - val_loss: 0.0405 - val_acc: 0.9650\n",
            "Epoch 55/100\n",
            "100/100 [==============================] - 17s 171ms/step - loss: 0.0633 - acc: 0.9765 - val_loss: 0.0015 - val_acc: 0.9620\n",
            "Epoch 56/100\n",
            "100/100 [==============================] - 17s 171ms/step - loss: 0.0732 - acc: 0.9735 - val_loss: 0.1193 - val_acc: 0.9590\n",
            "Epoch 57/100\n",
            "100/100 [==============================] - 17s 172ms/step - loss: 0.0731 - acc: 0.9750 - val_loss: 0.0026 - val_acc: 0.9630\n",
            "Epoch 58/100\n",
            "100/100 [==============================] - 17s 172ms/step - loss: 0.0701 - acc: 0.9750 - val_loss: 0.0891 - val_acc: 0.9630\n",
            "Epoch 59/100\n",
            "100/100 [==============================] - 17s 170ms/step - loss: 0.0505 - acc: 0.9810 - val_loss: 0.4257 - val_acc: 0.9640\n",
            "Epoch 60/100\n",
            "100/100 [==============================] - 17s 171ms/step - loss: 0.0743 - acc: 0.9740 - val_loss: 0.3183 - val_acc: 0.9640\n",
            "Epoch 61/100\n",
            "100/100 [==============================] - 17s 170ms/step - loss: 0.0680 - acc: 0.9765 - val_loss: 0.0130 - val_acc: 0.9630\n",
            "Epoch 62/100\n",
            "100/100 [==============================] - 17s 172ms/step - loss: 0.0658 - acc: 0.9785 - val_loss: 0.0423 - val_acc: 0.9680\n",
            "Epoch 63/100\n",
            "100/100 [==============================] - 17s 171ms/step - loss: 0.0691 - acc: 0.9770 - val_loss: 0.4515 - val_acc: 0.9580\n",
            "Epoch 64/100\n",
            "100/100 [==============================] - 17s 170ms/step - loss: 0.0596 - acc: 0.9765 - val_loss: 0.0907 - val_acc: 0.9640\n",
            "Epoch 65/100\n",
            "100/100 [==============================] - 17s 170ms/step - loss: 0.0481 - acc: 0.9805 - val_loss: 0.0030 - val_acc: 0.9600\n",
            "Epoch 66/100\n",
            "100/100 [==============================] - 17s 171ms/step - loss: 0.0659 - acc: 0.9755 - val_loss: 0.0065 - val_acc: 0.9600\n",
            "Epoch 67/100\n",
            "100/100 [==============================] - 17s 171ms/step - loss: 0.0710 - acc: 0.9745 - val_loss: 0.0185 - val_acc: 0.9590\n",
            "Epoch 68/100\n",
            "100/100 [==============================] - 17s 173ms/step - loss: 0.0604 - acc: 0.9740 - val_loss: 0.2211 - val_acc: 0.9580\n",
            "Epoch 69/100\n",
            "100/100 [==============================] - 17s 170ms/step - loss: 0.0769 - acc: 0.9705 - val_loss: 0.2515 - val_acc: 0.9610\n",
            "Epoch 70/100\n",
            "100/100 [==============================] - 17s 171ms/step - loss: 0.0670 - acc: 0.9785 - val_loss: 2.2509e-04 - val_acc: 0.9560\n",
            "Epoch 71/100\n",
            "100/100 [==============================] - 17s 171ms/step - loss: 0.0588 - acc: 0.9805 - val_loss: 0.1028 - val_acc: 0.9620\n",
            "Epoch 72/100\n",
            "100/100 [==============================] - 17s 170ms/step - loss: 0.0449 - acc: 0.9800 - val_loss: 0.0560 - val_acc: 0.9610\n",
            "Epoch 73/100\n",
            "100/100 [==============================] - 17s 172ms/step - loss: 0.0690 - acc: 0.9790 - val_loss: 0.7088 - val_acc: 0.9620\n",
            "Epoch 74/100\n",
            "100/100 [==============================] - 17s 172ms/step - loss: 0.0665 - acc: 0.9755 - val_loss: 0.3272 - val_acc: 0.9540\n",
            "Epoch 75/100\n",
            "100/100 [==============================] - 17s 172ms/step - loss: 0.0679 - acc: 0.9755 - val_loss: 7.3982e-04 - val_acc: 0.9620\n",
            "Epoch 76/100\n",
            "100/100 [==============================] - 17s 173ms/step - loss: 0.0565 - acc: 0.9795 - val_loss: 0.3432 - val_acc: 0.9550\n",
            "Epoch 77/100\n",
            "100/100 [==============================] - 17s 171ms/step - loss: 0.0609 - acc: 0.9760 - val_loss: 0.0194 - val_acc: 0.9610\n",
            "Epoch 78/100\n",
            "100/100 [==============================] - 17s 171ms/step - loss: 0.0455 - acc: 0.9845 - val_loss: 2.2534e-04 - val_acc: 0.9610\n",
            "Epoch 79/100\n",
            "100/100 [==============================] - 17s 171ms/step - loss: 0.0634 - acc: 0.9810 - val_loss: 0.1553 - val_acc: 0.9620\n",
            "Epoch 80/100\n",
            "100/100 [==============================] - 17s 172ms/step - loss: 0.0598 - acc: 0.9800 - val_loss: 0.1338 - val_acc: 0.9570\n",
            "Epoch 81/100\n",
            "100/100 [==============================] - 17s 172ms/step - loss: 0.0569 - acc: 0.9745 - val_loss: 0.0453 - val_acc: 0.9560\n",
            "Epoch 82/100\n",
            "100/100 [==============================] - 17s 170ms/step - loss: 0.0647 - acc: 0.9770 - val_loss: 0.0756 - val_acc: 0.9620\n",
            "Epoch 83/100\n",
            "100/100 [==============================] - 17s 172ms/step - loss: 0.0532 - acc: 0.9775 - val_loss: 0.0602 - val_acc: 0.9550\n",
            "Epoch 84/100\n",
            "100/100 [==============================] - 17s 172ms/step - loss: 0.0370 - acc: 0.9850 - val_loss: 0.1239 - val_acc: 0.9600\n",
            "Epoch 85/100\n",
            "100/100 [==============================] - 17s 174ms/step - loss: 0.0366 - acc: 0.9860 - val_loss: 0.0010 - val_acc: 0.9620\n",
            "Epoch 86/100\n",
            "100/100 [==============================] - 18s 175ms/step - loss: 0.0523 - acc: 0.9830 - val_loss: 0.0990 - val_acc: 0.9610\n",
            "Epoch 87/100\n",
            "100/100 [==============================] - 17s 172ms/step - loss: 0.0481 - acc: 0.9825 - val_loss: 9.1925e-04 - val_acc: 0.9630\n",
            "Epoch 88/100\n",
            "100/100 [==============================] - 17s 172ms/step - loss: 0.0492 - acc: 0.9810 - val_loss: 0.0372 - val_acc: 0.9610\n",
            "Epoch 89/100\n",
            "100/100 [==============================] - 17s 171ms/step - loss: 0.0517 - acc: 0.9785 - val_loss: 0.3719 - val_acc: 0.9580\n",
            "Epoch 90/100\n",
            "100/100 [==============================] - 17s 172ms/step - loss: 0.0598 - acc: 0.9780 - val_loss: 0.0939 - val_acc: 0.9600\n",
            "Epoch 91/100\n",
            "100/100 [==============================] - 17s 171ms/step - loss: 0.0542 - acc: 0.9800 - val_loss: 0.6048 - val_acc: 0.9620\n",
            "Epoch 92/100\n",
            "100/100 [==============================] - 17s 172ms/step - loss: 0.0562 - acc: 0.9810 - val_loss: 0.3838 - val_acc: 0.9590\n",
            "Epoch 93/100\n",
            "100/100 [==============================] - 17s 172ms/step - loss: 0.0644 - acc: 0.9805 - val_loss: 4.2881e-04 - val_acc: 0.9620\n",
            "Epoch 94/100\n",
            "100/100 [==============================] - 17s 172ms/step - loss: 0.0631 - acc: 0.9790 - val_loss: 0.0089 - val_acc: 0.9620\n",
            "Epoch 95/100\n",
            "100/100 [==============================] - 17s 172ms/step - loss: 0.0409 - acc: 0.9855 - val_loss: 0.2095 - val_acc: 0.9540\n",
            "Epoch 96/100\n",
            "100/100 [==============================] - 17s 170ms/step - loss: 0.0438 - acc: 0.9825 - val_loss: 0.0014 - val_acc: 0.9630\n",
            "Epoch 97/100\n",
            "100/100 [==============================] - 17s 171ms/step - loss: 0.0462 - acc: 0.9850 - val_loss: 0.6235 - val_acc: 0.9570\n",
            "Epoch 98/100\n",
            "100/100 [==============================] - 17s 172ms/step - loss: 0.0464 - acc: 0.9830 - val_loss: 0.0123 - val_acc: 0.9620\n",
            "Epoch 99/100\n",
            "100/100 [==============================] - 17s 173ms/step - loss: 0.0442 - acc: 0.9850 - val_loss: 0.1584 - val_acc: 0.9570\n",
            "Epoch 100/100\n",
            "100/100 [==============================] - 17s 171ms/step - loss: 0.0576 - acc: 0.9815 - val_loss: 0.0435 - val_acc: 0.9490\n"
          ],
          "name": "stdout"
        }
      ]
    },
    {
      "cell_type": "markdown",
      "metadata": {
        "id": "eVBQgh5M-Rtz",
        "colab_type": "text"
      },
      "source": [
        "## Display learning curves during fine-tuning"
      ]
    },
    {
      "cell_type": "code",
      "metadata": {
        "id": "mbkIw7Ie-NP4",
        "colab_type": "code",
        "outputId": "ad59d65b-cc14-4ffb-c780-76cc34b3d2fe",
        "colab": {
          "base_uri": "https://localhost:8080/",
          "height": 545
        }
      },
      "source": [
        "%matplotlib inline\n",
        "\n",
        "import matplotlib.pyplot as plt\n",
        "\n",
        "acc = history.history['acc']\n",
        "val_acc = history.history['val_acc']\n",
        "\n",
        "loss = history.history['loss']\n",
        "val_loss = history.history['val_loss']\n",
        "\n",
        "epochs = range(1, len(acc) + 1)\n",
        "\n",
        "# training and validation accuracy\n",
        "\n",
        "plt.plot(epochs, acc, 'bo', label='training acc')\n",
        "plt.plot(epochs, val_acc, 'b', label='validation acc')\n",
        "plt.title('training and validation accuracy')\n",
        "plt.legend()\n",
        "\n",
        "plt.figure()\n",
        "\n",
        "# training and validation loss\n",
        "\n",
        "plt.plot(epochs, loss, 'bo', label='training loss')\n",
        "plt.plot(epochs, val_loss, 'b', label='validation loss')\n",
        "plt.title('training and validation loss')\n",
        "plt.legend()\n",
        "\n",
        "plt.show()"
      ],
      "execution_count": 0,
      "outputs": [
        {
          "output_type": "display_data",
          "data": {
            "image/png": "[encoded data removed]",
            "text/plain": [
              "<Figure size 432x288 with 1 Axes>"
            ]
          },
          "metadata": {
            "tags": [],
            "needs_background": "light"
          }
        },
        {
          "output_type": "display_data",
          "data": {
            "image/png": "[encoded data removed]",
            "text/plain": [
              "<Figure size 432x288 with 1 Axes>"
            ]
          },
          "metadata": {
            "tags": [],
            "needs_background": "light"
          }
        }
      ]
    },
    {
      "cell_type": "markdown",
      "metadata": {
        "id": "he3Nw6TOJwjx",
        "colab_type": "text"
      },
      "source": [
        "## Print out validation loss and accuracy"
      ]
    },
    {
      "cell_type": "code",
      "metadata": {
        "id": "SVQtrk7uJdhl",
        "colab_type": "code",
        "colab": {}
      },
      "source": [
        "val_loss, val_acc = model.evaluate_generator(validation_generator, steps=50)"
      ],
      "execution_count": 0,
      "outputs": []
    },
    {
      "cell_type": "code",
      "metadata": {
        "id": "HpdddLi1SUMe",
        "colab_type": "code",
        "outputId": "c5d9d5ce-d8b1-46d5-b18d-ff845e618f10",
        "colab": {
          "base_uri": "https://localhost:8080/",
          "height": 53
        }
      },
      "source": [
        "print(\"Validation loss:\", val_loss)\n",
        "print(\"Validation accuracy:\", val_acc)"
      ],
      "execution_count": 0,
      "outputs": [
        {
          "output_type": "stream",
          "text": [
            "Validation loss: 0.04349736124277115\n",
            "Validation accuracy: 0.9490000009536743\n"
          ],
          "name": "stdout"
        }
      ]
    }
  ]
}