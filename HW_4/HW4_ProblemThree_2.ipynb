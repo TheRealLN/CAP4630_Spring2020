{
  "nbformat": 4,
  "nbformat_minor": 0,
  "metadata": {
    "colab": {
      "name": "HW4_ProblemThree-2.ipynb",
      "provenance": []
    },
    "kernelspec": {
      "name": "python3",
      "display_name": "Python 3"
    },
    "accelerator": "GPU"
  },
  "cells": [
    {
      "cell_type": "markdown",
      "metadata": {
        "id": "KSrgMJ5vKFzQ",
        "colab_type": "text"
      },
      "source": [
        "# Fine-tuning MobileNet cont."
      ]
    },
    {
      "cell_type": "markdown",
      "metadata": {
        "id": "TIW7bZaAK-Hf",
        "colab_type": "text"
      },
      "source": [
        "This is based on [this notebook](https://colab.research.google.com/drive/1F-RWvoxH8MmT7c1UmNy41iuOp-ejiLoF \"Pretrained CovNet Finetuning - Google Colab\") and section 5.3 *Using a pretrained convnet* of the book *Deep learning with Python* by Francois Chollet. This is one of two notebooks that focuses on altering the classifier to see the results of the fine-tuning."
      ]
    },
    {
      "cell_type": "markdown",
      "metadata": {
        "id": "nsBq__dVo2pj",
        "colab_type": "text"
      },
      "source": [
        "## Feature extraction"
      ]
    },
    {
      "cell_type": "markdown",
      "metadata": {
        "id": "0g6ETAM9o54M",
        "colab_type": "text"
      },
      "source": [
        "Feature extraction consists of using the representations learned by a previous network to extract interesting features from new samples. These features are then run through a new classifier, which is trained from scratch.\n",
        "\n",
        "We will use here the convolutional base of the MobileNet model to extract the features. We will feed these features to a densely connected classifier with dropout. We will fine-tune some layers."
      ]
    },
    {
      "cell_type": "markdown",
      "metadata": {
        "id": "BqIG8QHMLNOn",
        "colab_type": "text"
      },
      "source": [
        "## Download the data"
      ]
    },
    {
      "cell_type": "markdown",
      "metadata": {
        "id": "t3I1jd7cKV6_",
        "colab_type": "text"
      },
      "source": [
        "Download the example data, a zip. of 2,000 JPG pictures of cats and dogs and extract it locally in ```/tmp```.\n",
        "\n"
      ]
    },
    {
      "cell_type": "code",
      "metadata": {
        "id": "JWjprHEXJ5Qi",
        "colab_type": "code",
        "outputId": "94f00bb9-d5e7-4fd6-f8e5-97bf6abc4bd0",
        "colab": {
          "base_uri": "https://localhost:8080/",
          "height": 217
        }
      },
      "source": [
        "!wget --no-check-certificate \\\n",
        "    https://storage.googleapis.com/mledu-datasets/cats_and_dogs_filtered.zip \\\n",
        "    -O /tmp/cats_and_dogs_filtered.zip"
      ],
      "execution_count": 1,
      "outputs": [
        {
          "output_type": "stream",
          "text": [
            "--2020-04-20 19:14:44--  https://storage.googleapis.com/mledu-datasets/cats_and_dogs_filtered.zip\n",
            "Resolving storage.googleapis.com (storage.googleapis.com)... 74.125.24.128, 2404:6800:4003:c03::80\n",
            "Connecting to storage.googleapis.com (storage.googleapis.com)|74.125.24.128|:443... connected.\n",
            "HTTP request sent, awaiting response... 200 OK\n",
            "Length: 68606236 (65M) [application/zip]\n",
            "Saving to: ‘/tmp/cats_and_dogs_filtered.zip’\n",
            "\n",
            "\r          /tmp/cats   0%[                    ]       0  --.-KB/s               \r         /tmp/cats_  81%[===============>    ]  53.58M   268MB/s               \r/tmp/cats_and_dogs_ 100%[===================>]  65.43M   288MB/s    in 0.2s    \n",
            "\n",
            "2020-04-20 19:14:45 (288 MB/s) - ‘/tmp/cats_and_dogs_filtered.zip’ saved [68606236/68606236]\n",
            "\n"
          ],
          "name": "stdout"
        }
      ]
    },
    {
      "cell_type": "code",
      "metadata": {
        "id": "WvoHtdA-K6Rw",
        "colab_type": "code",
        "colab": {}
      },
      "source": [
        "import os\n",
        "import zipfile\n",
        "\n",
        "local_zip = '/tmp/cats_and_dogs_filtered.zip'\n",
        "zip_ref = zipfile.ZipFile(local_zip, 'r')\n",
        "zip_ref.extractall('/tmp')\n",
        "zip_ref.close()"
      ],
      "execution_count": 0,
      "outputs": []
    },
    {
      "cell_type": "markdown",
      "metadata": {
        "id": "shZiOBnJMyy_",
        "colab_type": "text"
      },
      "source": [
        "Note that the data provided by Google does not have a test set."
      ]
    },
    {
      "cell_type": "code",
      "metadata": {
        "id": "dL8ikM89LlsH",
        "colab_type": "code",
        "colab": {}
      },
      "source": [
        "base_dir = '/tmp/cats_and_dogs_filtered'\n",
        "train_dir = os.path.join(base_dir, 'train')\n",
        "validation_dir = os.path.join(base_dir, 'validation')\n",
        "\n",
        "# Directory with our training cat pictures\n",
        "train_cats_dir = os.path.join(train_dir, 'cats')\n",
        "\n",
        "# Directory with our training dog pictures\n",
        "train_dogs_dir = os.path.join(train_dir, 'dogs')\n",
        "\n",
        "# Directory with our validation cat pictures\n",
        "validation_cats_dir = os.path.join(validation_dir, 'cats')\n",
        "\n",
        "# Directory with our validation dog pictures\n",
        "validation_dogs_dir = os.path.join(validation_dir, 'dogs')"
      ],
      "execution_count": 0,
      "outputs": []
    },
    {
      "cell_type": "markdown",
      "metadata": {
        "id": "inyP8bcdXnn-",
        "colab_type": "text"
      },
      "source": [
        "## Build network with MobileNet convolution base and custom densely connected layers"
      ]
    },
    {
      "cell_type": "markdown",
      "metadata": {
        "id": "kQ48W5T9rHWu",
        "colab_type": "text"
      },
      "source": [
        "### Load the convolutional base"
      ]
    },
    {
      "cell_type": "code",
      "metadata": {
        "id": "Y0FgtANCXm_H",
        "colab_type": "code",
        "outputId": "3c8d8d9c-3143-4ff6-dc35-4983e73f4f49",
        "colab": {
          "base_uri": "https://localhost:8080/",
          "height": 128
        }
      },
      "source": [
        "from keras.applications import MobileNet\n",
        "\n",
        "conv_base = MobileNet(\n",
        "    weights='imagenet', \n",
        "    include_top=False, \n",
        "    input_shape=(150, 150, 3))"
      ],
      "execution_count": 4,
      "outputs": [
        {
          "output_type": "stream",
          "text": [
            "Using TensorFlow backend.\n",
            "/usr/local/lib/python3.6/dist-packages/keras_applications/mobilenet.py:207: UserWarning: `input_shape` is undefined or non-square, or `rows` is not in [128, 160, 192, 224]. Weights for input shape (224, 224) will be loaded as the default.\n",
            "  warnings.warn('`input_shape` is undefined or non-square, '\n"
          ],
          "name": "stderr"
        },
        {
          "output_type": "stream",
          "text": [
            "Downloading data from https://github.com/fchollet/deep-learning-models/releases/download/v0.6/mobilenet_1_0_224_tf_no_top.h5\n",
            "17227776/17225924 [==============================] - 3s 0us/step\n"
          ],
          "name": "stdout"
        }
      ]
    },
    {
      "cell_type": "markdown",
      "metadata": {
        "id": "ImHKbNR5mAx9",
        "colab_type": "text"
      },
      "source": [
        "### Displays the layers of MobileNet"
      ]
    },
    {
      "cell_type": "code",
      "metadata": {
        "id": "RpyIWWBzkCTa",
        "colab_type": "code",
        "outputId": "8c70c14b-08dd-497d-f85e-22761e7b7c6d",
        "colab": {
          "base_uri": "https://localhost:8080/",
          "height": 1000
        }
      },
      "source": [
        "conv_base.summary()"
      ],
      "execution_count": 5,
      "outputs": [
        {
          "output_type": "stream",
          "text": [
            "Model: \"mobilenet_1.00_224\"\n",
            "_________________________________________________________________\n",
            "Layer (type)                 Output Shape              Param #   \n",
            "=================================================================\n",
            "input_1 (InputLayer)         (None, 150, 150, 3)       0         \n",
            "_________________________________________________________________\n",
            "conv1_pad (ZeroPadding2D)    (None, 151, 151, 3)       0         \n",
            "_________________________________________________________________\n",
            "conv1 (Conv2D)               (None, 75, 75, 32)        864       \n",
            "_________________________________________________________________\n",
            "conv1_bn (BatchNormalization (None, 75, 75, 32)        128       \n",
            "_________________________________________________________________\n",
            "conv1_relu (ReLU)            (None, 75, 75, 32)        0         \n",
            "_________________________________________________________________\n",
            "conv_dw_1 (DepthwiseConv2D)  (None, 75, 75, 32)        288       \n",
            "_________________________________________________________________\n",
            "conv_dw_1_bn (BatchNormaliza (None, 75, 75, 32)        128       \n",
            "_________________________________________________________________\n",
            "conv_dw_1_relu (ReLU)        (None, 75, 75, 32)        0         \n",
            "_________________________________________________________________\n",
            "conv_pw_1 (Conv2D)           (None, 75, 75, 64)        2048      \n",
            "_________________________________________________________________\n",
            "conv_pw_1_bn (BatchNormaliza (None, 75, 75, 64)        256       \n",
            "_________________________________________________________________\n",
            "conv_pw_1_relu (ReLU)        (None, 75, 75, 64)        0         \n",
            "_________________________________________________________________\n",
            "conv_pad_2 (ZeroPadding2D)   (None, 76, 76, 64)        0         \n",
            "_________________________________________________________________\n",
            "conv_dw_2 (DepthwiseConv2D)  (None, 37, 37, 64)        576       \n",
            "_________________________________________________________________\n",
            "conv_dw_2_bn (BatchNormaliza (None, 37, 37, 64)        256       \n",
            "_________________________________________________________________\n",
            "conv_dw_2_relu (ReLU)        (None, 37, 37, 64)        0         \n",
            "_________________________________________________________________\n",
            "conv_pw_2 (Conv2D)           (None, 37, 37, 128)       8192      \n",
            "_________________________________________________________________\n",
            "conv_pw_2_bn (BatchNormaliza (None, 37, 37, 128)       512       \n",
            "_________________________________________________________________\n",
            "conv_pw_2_relu (ReLU)        (None, 37, 37, 128)       0         \n",
            "_________________________________________________________________\n",
            "conv_dw_3 (DepthwiseConv2D)  (None, 37, 37, 128)       1152      \n",
            "_________________________________________________________________\n",
            "conv_dw_3_bn (BatchNormaliza (None, 37, 37, 128)       512       \n",
            "_________________________________________________________________\n",
            "conv_dw_3_relu (ReLU)        (None, 37, 37, 128)       0         \n",
            "_________________________________________________________________\n",
            "conv_pw_3 (Conv2D)           (None, 37, 37, 128)       16384     \n",
            "_________________________________________________________________\n",
            "conv_pw_3_bn (BatchNormaliza (None, 37, 37, 128)       512       \n",
            "_________________________________________________________________\n",
            "conv_pw_3_relu (ReLU)        (None, 37, 37, 128)       0         \n",
            "_________________________________________________________________\n",
            "conv_pad_4 (ZeroPadding2D)   (None, 38, 38, 128)       0         \n",
            "_________________________________________________________________\n",
            "conv_dw_4 (DepthwiseConv2D)  (None, 18, 18, 128)       1152      \n",
            "_________________________________________________________________\n",
            "conv_dw_4_bn (BatchNormaliza (None, 18, 18, 128)       512       \n",
            "_________________________________________________________________\n",
            "conv_dw_4_relu (ReLU)        (None, 18, 18, 128)       0         \n",
            "_________________________________________________________________\n",
            "conv_pw_4 (Conv2D)           (None, 18, 18, 256)       32768     \n",
            "_________________________________________________________________\n",
            "conv_pw_4_bn (BatchNormaliza (None, 18, 18, 256)       1024      \n",
            "_________________________________________________________________\n",
            "conv_pw_4_relu (ReLU)        (None, 18, 18, 256)       0         \n",
            "_________________________________________________________________\n",
            "conv_dw_5 (DepthwiseConv2D)  (None, 18, 18, 256)       2304      \n",
            "_________________________________________________________________\n",
            "conv_dw_5_bn (BatchNormaliza (None, 18, 18, 256)       1024      \n",
            "_________________________________________________________________\n",
            "conv_dw_5_relu (ReLU)        (None, 18, 18, 256)       0         \n",
            "_________________________________________________________________\n",
            "conv_pw_5 (Conv2D)           (None, 18, 18, 256)       65536     \n",
            "_________________________________________________________________\n",
            "conv_pw_5_bn (BatchNormaliza (None, 18, 18, 256)       1024      \n",
            "_________________________________________________________________\n",
            "conv_pw_5_relu (ReLU)        (None, 18, 18, 256)       0         \n",
            "_________________________________________________________________\n",
            "conv_pad_6 (ZeroPadding2D)   (None, 19, 19, 256)       0         \n",
            "_________________________________________________________________\n",
            "conv_dw_6 (DepthwiseConv2D)  (None, 9, 9, 256)         2304      \n",
            "_________________________________________________________________\n",
            "conv_dw_6_bn (BatchNormaliza (None, 9, 9, 256)         1024      \n",
            "_________________________________________________________________\n",
            "conv_dw_6_relu (ReLU)        (None, 9, 9, 256)         0         \n",
            "_________________________________________________________________\n",
            "conv_pw_6 (Conv2D)           (None, 9, 9, 512)         131072    \n",
            "_________________________________________________________________\n",
            "conv_pw_6_bn (BatchNormaliza (None, 9, 9, 512)         2048      \n",
            "_________________________________________________________________\n",
            "conv_pw_6_relu (ReLU)        (None, 9, 9, 512)         0         \n",
            "_________________________________________________________________\n",
            "conv_dw_7 (DepthwiseConv2D)  (None, 9, 9, 512)         4608      \n",
            "_________________________________________________________________\n",
            "conv_dw_7_bn (BatchNormaliza (None, 9, 9, 512)         2048      \n",
            "_________________________________________________________________\n",
            "conv_dw_7_relu (ReLU)        (None, 9, 9, 512)         0         \n",
            "_________________________________________________________________\n",
            "conv_pw_7 (Conv2D)           (None, 9, 9, 512)         262144    \n",
            "_________________________________________________________________\n",
            "conv_pw_7_bn (BatchNormaliza (None, 9, 9, 512)         2048      \n",
            "_________________________________________________________________\n",
            "conv_pw_7_relu (ReLU)        (None, 9, 9, 512)         0         \n",
            "_________________________________________________________________\n",
            "conv_dw_8 (DepthwiseConv2D)  (None, 9, 9, 512)         4608      \n",
            "_________________________________________________________________\n",
            "conv_dw_8_bn (BatchNormaliza (None, 9, 9, 512)         2048      \n",
            "_________________________________________________________________\n",
            "conv_dw_8_relu (ReLU)        (None, 9, 9, 512)         0         \n",
            "_________________________________________________________________\n",
            "conv_pw_8 (Conv2D)           (None, 9, 9, 512)         262144    \n",
            "_________________________________________________________________\n",
            "conv_pw_8_bn (BatchNormaliza (None, 9, 9, 512)         2048      \n",
            "_________________________________________________________________\n",
            "conv_pw_8_relu (ReLU)        (None, 9, 9, 512)         0         \n",
            "_________________________________________________________________\n",
            "conv_dw_9 (DepthwiseConv2D)  (None, 9, 9, 512)         4608      \n",
            "_________________________________________________________________\n",
            "conv_dw_9_bn (BatchNormaliza (None, 9, 9, 512)         2048      \n",
            "_________________________________________________________________\n",
            "conv_dw_9_relu (ReLU)        (None, 9, 9, 512)         0         \n",
            "_________________________________________________________________\n",
            "conv_pw_9 (Conv2D)           (None, 9, 9, 512)         262144    \n",
            "_________________________________________________________________\n",
            "conv_pw_9_bn (BatchNormaliza (None, 9, 9, 512)         2048      \n",
            "_________________________________________________________________\n",
            "conv_pw_9_relu (ReLU)        (None, 9, 9, 512)         0         \n",
            "_________________________________________________________________\n",
            "conv_dw_10 (DepthwiseConv2D) (None, 9, 9, 512)         4608      \n",
            "_________________________________________________________________\n",
            "conv_dw_10_bn (BatchNormaliz (None, 9, 9, 512)         2048      \n",
            "_________________________________________________________________\n",
            "conv_dw_10_relu (ReLU)       (None, 9, 9, 512)         0         \n",
            "_________________________________________________________________\n",
            "conv_pw_10 (Conv2D)          (None, 9, 9, 512)         262144    \n",
            "_________________________________________________________________\n",
            "conv_pw_10_bn (BatchNormaliz (None, 9, 9, 512)         2048      \n",
            "_________________________________________________________________\n",
            "conv_pw_10_relu (ReLU)       (None, 9, 9, 512)         0         \n",
            "_________________________________________________________________\n",
            "conv_dw_11 (DepthwiseConv2D) (None, 9, 9, 512)         4608      \n",
            "_________________________________________________________________\n",
            "conv_dw_11_bn (BatchNormaliz (None, 9, 9, 512)         2048      \n",
            "_________________________________________________________________\n",
            "conv_dw_11_relu (ReLU)       (None, 9, 9, 512)         0         \n",
            "_________________________________________________________________\n",
            "conv_pw_11 (Conv2D)          (None, 9, 9, 512)         262144    \n",
            "_________________________________________________________________\n",
            "conv_pw_11_bn (BatchNormaliz (None, 9, 9, 512)         2048      \n",
            "_________________________________________________________________\n",
            "conv_pw_11_relu (ReLU)       (None, 9, 9, 512)         0         \n",
            "_________________________________________________________________\n",
            "conv_pad_12 (ZeroPadding2D)  (None, 10, 10, 512)       0         \n",
            "_________________________________________________________________\n",
            "conv_dw_12 (DepthwiseConv2D) (None, 4, 4, 512)         4608      \n",
            "_________________________________________________________________\n",
            "conv_dw_12_bn (BatchNormaliz (None, 4, 4, 512)         2048      \n",
            "_________________________________________________________________\n",
            "conv_dw_12_relu (ReLU)       (None, 4, 4, 512)         0         \n",
            "_________________________________________________________________\n",
            "conv_pw_12 (Conv2D)          (None, 4, 4, 1024)        524288    \n",
            "_________________________________________________________________\n",
            "conv_pw_12_bn (BatchNormaliz (None, 4, 4, 1024)        4096      \n",
            "_________________________________________________________________\n",
            "conv_pw_12_relu (ReLU)       (None, 4, 4, 1024)        0         \n",
            "_________________________________________________________________\n",
            "conv_dw_13 (DepthwiseConv2D) (None, 4, 4, 1024)        9216      \n",
            "_________________________________________________________________\n",
            "conv_dw_13_bn (BatchNormaliz (None, 4, 4, 1024)        4096      \n",
            "_________________________________________________________________\n",
            "conv_dw_13_relu (ReLU)       (None, 4, 4, 1024)        0         \n",
            "_________________________________________________________________\n",
            "conv_pw_13 (Conv2D)          (None, 4, 4, 1024)        1048576   \n",
            "_________________________________________________________________\n",
            "conv_pw_13_bn (BatchNormaliz (None, 4, 4, 1024)        4096      \n",
            "_________________________________________________________________\n",
            "conv_pw_13_relu (ReLU)       (None, 4, 4, 1024)        0         \n",
            "=================================================================\n",
            "Total params: 3,228,864\n",
            "Trainable params: 3,206,976\n",
            "Non-trainable params: 21,888\n",
            "_________________________________________________________________\n"
          ],
          "name": "stdout"
        }
      ]
    },
    {
      "cell_type": "markdown",
      "metadata": {
        "id": "D6OBHOO9q1ou",
        "colab_type": "text"
      },
      "source": [
        "### Freeze the convolutional base"
      ]
    },
    {
      "cell_type": "code",
      "metadata": {
        "id": "UleRo4Dpq6Ld",
        "colab_type": "code",
        "colab": {}
      },
      "source": [
        "conv_base.trainable = False"
      ],
      "execution_count": 0,
      "outputs": []
    },
    {
      "cell_type": "markdown",
      "metadata": {
        "id": "Qfx6PqhPrb7Q",
        "colab_type": "text"
      },
      "source": [
        "### Concatenate the convolutional base and densely connected layers"
      ]
    },
    {
      "cell_type": "code",
      "metadata": {
        "id": "qUpmocDAO3xm",
        "colab_type": "code",
        "colab": {}
      },
      "source": [
        "from keras import layers\n",
        "from keras import models\n",
        "from keras import optimizers\n",
        "\n",
        "model = models.Sequential()\n",
        "model.add(conv_base)\n",
        "model.add(layers.Flatten())\n",
        "model.add(layers.Dense(512, activation='relu'))\n",
        "model.add(layers.Dropout(0.2))\n",
        "model.add(layers.Dense(64, activation='relu'))\n",
        "model.add(layers.Dropout(0.1))\n",
        "model.add(layers.Dense(1, activation='sigmoid'))"
      ],
      "execution_count": 0,
      "outputs": []
    },
    {
      "cell_type": "code",
      "metadata": {
        "id": "Fh6gZSeAjF7c",
        "colab_type": "code",
        "outputId": "bfc23d4d-a7cf-4382-fa2c-36b6bf816516",
        "colab": {
          "base_uri": "https://localhost:8080/",
          "height": 417
        }
      },
      "source": [
        "model.summary()"
      ],
      "execution_count": 8,
      "outputs": [
        {
          "output_type": "stream",
          "text": [
            "Model: \"sequential_1\"\n",
            "_________________________________________________________________\n",
            "Layer (type)                 Output Shape              Param #   \n",
            "=================================================================\n",
            "mobilenet_1.00_224 (Model)   (None, 4, 4, 1024)        3228864   \n",
            "_________________________________________________________________\n",
            "flatten_1 (Flatten)          (None, 16384)             0         \n",
            "_________________________________________________________________\n",
            "dense_1 (Dense)              (None, 512)               8389120   \n",
            "_________________________________________________________________\n",
            "dropout_1 (Dropout)          (None, 512)               0         \n",
            "_________________________________________________________________\n",
            "dense_2 (Dense)              (None, 64)                32832     \n",
            "_________________________________________________________________\n",
            "dropout_2 (Dropout)          (None, 64)                0         \n",
            "_________________________________________________________________\n",
            "dense_3 (Dense)              (None, 1)                 65        \n",
            "=================================================================\n",
            "Total params: 11,650,881\n",
            "Trainable params: 8,422,017\n",
            "Non-trainable params: 3,228,864\n",
            "_________________________________________________________________\n"
          ],
          "name": "stdout"
        }
      ]
    },
    {
      "cell_type": "markdown",
      "metadata": {
        "id": "eZjBiddhi5Qj",
        "colab_type": "text"
      },
      "source": [
        "## Train the model end to end with frozen convolutional base"
      ]
    },
    {
      "cell_type": "code",
      "metadata": {
        "id": "tfAQlC2Oi41L",
        "colab_type": "code",
        "outputId": "2f0c3810-9803-497b-aa87-fdc23eaaa711",
        "colab": {
          "base_uri": "https://localhost:8080/",
          "height": 1000
        }
      },
      "source": [
        "from keras.preprocessing.image import ImageDataGenerator\n",
        "from keras import optimizers\n",
        "\n",
        "# data augmentation\n",
        "\n",
        "train_datagen = ImageDataGenerator(\n",
        "    rescale=1./255, \n",
        "    rotation_range=40,\n",
        "    width_shift_range=0.2,\n",
        "    height_shift_range=0.2,\n",
        "    shear_range=0.2,\n",
        "    zoom_range=0.2,\n",
        "    horizontal_flip=True,\n",
        "    fill_mode='nearest'\n",
        ")\n",
        "\n",
        "train_generator = train_datagen.flow_from_directory(\n",
        "    train_dir,\n",
        "    target_size=(150, 150),\n",
        "    batch_size=20,\n",
        "    class_mode='binary')\n",
        "\n",
        "validation_datagen = ImageDataGenerator(rescale=1./255)\n",
        "\n",
        "validation_generator = validation_datagen.flow_from_directory(\n",
        "    validation_dir,\n",
        "    target_size=(150, 150),\n",
        "    batch_size=20,\n",
        "    class_mode='binary')\n",
        "\n",
        "# compile model\n",
        "\n",
        "model.compile(\n",
        "    loss='binary_crossentropy', \n",
        "    optimizer=optimizers.RMSprop(lr=2e-5), \n",
        "    metrics=['acc'])\n",
        "\n",
        "# train\n",
        "\n",
        "history = model.fit_generator(\n",
        "    train_generator,\n",
        "    steps_per_epoch=100,\n",
        "    epochs=30,\n",
        "    validation_data=validation_generator,\n",
        "    validation_steps=50\n",
        ")"
      ],
      "execution_count": 9,
      "outputs": [
        {
          "output_type": "stream",
          "text": [
            "Found 2000 images belonging to 2 classes.\n",
            "Found 1000 images belonging to 2 classes.\n",
            "Epoch 1/30\n",
            "100/100 [==============================] - 26s 261ms/step - loss: 0.5070 - acc: 0.7695 - val_loss: 0.0946 - val_acc: 0.8760\n",
            "Epoch 2/30\n",
            "100/100 [==============================] - 18s 178ms/step - loss: 0.3113 - acc: 0.8690 - val_loss: 0.0207 - val_acc: 0.9430\n",
            "Epoch 3/30\n",
            "100/100 [==============================] - 18s 179ms/step - loss: 0.2848 - acc: 0.8830 - val_loss: 0.2854 - val_acc: 0.9530\n",
            "Epoch 4/30\n",
            "100/100 [==============================] - 17s 174ms/step - loss: 0.2672 - acc: 0.8955 - val_loss: 0.1104 - val_acc: 0.9610\n",
            "Epoch 5/30\n",
            "100/100 [==============================] - 17s 173ms/step - loss: 0.2631 - acc: 0.8940 - val_loss: 0.0148 - val_acc: 0.9610\n",
            "Epoch 6/30\n",
            "100/100 [==============================] - 17s 174ms/step - loss: 0.2698 - acc: 0.8900 - val_loss: 0.1010 - val_acc: 0.9670\n",
            "Epoch 7/30\n",
            "100/100 [==============================] - 18s 176ms/step - loss: 0.2556 - acc: 0.8940 - val_loss: 0.1759 - val_acc: 0.9610\n",
            "Epoch 8/30\n",
            "100/100 [==============================] - 17s 174ms/step - loss: 0.2398 - acc: 0.9055 - val_loss: 3.4252e-04 - val_acc: 0.9620\n",
            "Epoch 9/30\n",
            "100/100 [==============================] - 17s 174ms/step - loss: 0.2189 - acc: 0.9110 - val_loss: 0.0597 - val_acc: 0.9630\n",
            "Epoch 10/30\n",
            "100/100 [==============================] - 17s 174ms/step - loss: 0.2270 - acc: 0.9070 - val_loss: 0.0027 - val_acc: 0.9640\n",
            "Epoch 11/30\n",
            "100/100 [==============================] - 17s 173ms/step - loss: 0.1876 - acc: 0.9275 - val_loss: 0.0354 - val_acc: 0.9600\n",
            "Epoch 12/30\n",
            "100/100 [==============================] - 18s 177ms/step - loss: 0.2213 - acc: 0.9165 - val_loss: 0.0324 - val_acc: 0.9640\n",
            "Epoch 13/30\n",
            "100/100 [==============================] - 17s 175ms/step - loss: 0.2182 - acc: 0.9130 - val_loss: 0.0144 - val_acc: 0.9680\n",
            "Epoch 14/30\n",
            "100/100 [==============================] - 17s 171ms/step - loss: 0.2059 - acc: 0.9165 - val_loss: 1.1437e-04 - val_acc: 0.9530\n",
            "Epoch 15/30\n",
            "100/100 [==============================] - 17s 173ms/step - loss: 0.2276 - acc: 0.9115 - val_loss: 1.5584e-04 - val_acc: 0.9650\n",
            "Epoch 16/30\n",
            "100/100 [==============================] - 17s 174ms/step - loss: 0.1982 - acc: 0.9185 - val_loss: 0.0769 - val_acc: 0.9680\n",
            "Epoch 17/30\n",
            "100/100 [==============================] - 18s 178ms/step - loss: 0.2266 - acc: 0.9180 - val_loss: 0.4160 - val_acc: 0.9670\n",
            "Epoch 18/30\n",
            "100/100 [==============================] - 17s 174ms/step - loss: 0.1915 - acc: 0.9235 - val_loss: 0.0511 - val_acc: 0.9660\n",
            "Epoch 19/30\n",
            "100/100 [==============================] - 17s 175ms/step - loss: 0.1747 - acc: 0.9300 - val_loss: 0.0055 - val_acc: 0.9690\n",
            "Epoch 20/30\n",
            "100/100 [==============================] - 18s 175ms/step - loss: 0.2080 - acc: 0.9260 - val_loss: 0.6370 - val_acc: 0.9660\n",
            "Epoch 21/30\n",
            "100/100 [==============================] - 18s 177ms/step - loss: 0.1594 - acc: 0.9300 - val_loss: 0.4970 - val_acc: 0.9630\n",
            "Epoch 22/30\n",
            "100/100 [==============================] - 17s 173ms/step - loss: 0.1929 - acc: 0.9225 - val_loss: 0.0046 - val_acc: 0.9650\n",
            "Epoch 23/30\n",
            "100/100 [==============================] - 18s 176ms/step - loss: 0.2146 - acc: 0.9190 - val_loss: 0.4001 - val_acc: 0.9630\n",
            "Epoch 24/30\n",
            "100/100 [==============================] - 17s 174ms/step - loss: 0.1892 - acc: 0.9240 - val_loss: 0.0215 - val_acc: 0.9660\n",
            "Epoch 25/30\n",
            "100/100 [==============================] - 17s 173ms/step - loss: 0.1925 - acc: 0.9250 - val_loss: 1.6120e-04 - val_acc: 0.9650\n",
            "Epoch 26/30\n",
            "100/100 [==============================] - 18s 176ms/step - loss: 0.1814 - acc: 0.9330 - val_loss: 0.1869 - val_acc: 0.9650\n",
            "Epoch 27/30\n",
            "100/100 [==============================] - 17s 172ms/step - loss: 0.1884 - acc: 0.9265 - val_loss: 0.1885 - val_acc: 0.9670\n",
            "Epoch 28/30\n",
            "100/100 [==============================] - 17s 172ms/step - loss: 0.1873 - acc: 0.9265 - val_loss: 2.2716e-04 - val_acc: 0.9650\n",
            "Epoch 29/30\n",
            "100/100 [==============================] - 17s 173ms/step - loss: 0.1781 - acc: 0.9270 - val_loss: 0.2766 - val_acc: 0.9670\n",
            "Epoch 30/30\n",
            "100/100 [==============================] - 17s 174ms/step - loss: 0.1791 - acc: 0.9390 - val_loss: 1.2238 - val_acc: 0.9690\n"
          ],
          "name": "stdout"
        }
      ]
    },
    {
      "cell_type": "markdown",
      "metadata": {
        "id": "xqRc_vHKc92U",
        "colab_type": "text"
      },
      "source": [
        "## Display curves of loss and accuracy during training"
      ]
    },
    {
      "cell_type": "code",
      "metadata": {
        "id": "ybWwdzz9bwuQ",
        "colab_type": "code",
        "outputId": "3e3a9df0-6517-4ba5-9857-f8e70a89b819",
        "colab": {
          "base_uri": "https://localhost:8080/",
          "height": 545
        }
      },
      "source": [
        "%matplotlib inline\n",
        "\n",
        "import matplotlib.pyplot as plt\n",
        "\n",
        "acc = history.history['acc']\n",
        "val_acc = history.history['val_acc']\n",
        "\n",
        "loss = history.history['loss']\n",
        "val_loss = history.history['val_loss']\n",
        "\n",
        "epochs = range(1, len(acc) + 1)\n",
        "\n",
        "# training and validation accuracy\n",
        "\n",
        "plt.plot(epochs, acc, 'bo', label='training acc')\n",
        "plt.plot(epochs, val_acc, 'b', label='validation acc')\n",
        "plt.title('training and validation accuracy')\n",
        "plt.legend()\n",
        "\n",
        "plt.figure()\n",
        "\n",
        "# training and validation loss\n",
        "\n",
        "plt.plot(epochs, loss, 'bo', label='training loss')\n",
        "plt.plot(epochs, val_loss, 'b', label='validation loss')\n",
        "plt.title('training and validation loss')\n",
        "plt.legend()\n",
        "\n",
        "plt.show()"
      ],
      "execution_count": 10,
      "outputs": [
        {
          "output_type": "display_data",
          "data": {
            "image/png": "[encoded data removed]",
            "text/plain": [
              "<Figure size 432x288 with 1 Axes>"
            ]
          },
          "metadata": {
            "tags": [],
            "needs_background": "light"
          }
        },
        {
          "output_type": "display_data",
          "data": {
            "image/png": "[encoded data removed]",
            "text/plain": [
              "<Figure size 432x288 with 1 Axes>"
            ]
          },
          "metadata": {
            "tags": [],
            "needs_background": "light"
          }
        }
      ]
    },
    {
      "cell_type": "markdown",
      "metadata": {
        "id": "lOWsxpey8lN0",
        "colab_type": "text"
      },
      "source": [
        "## Fine-tuning"
      ]
    },
    {
      "cell_type": "code",
      "metadata": {
        "id": "PwkVMx8N8qMw",
        "colab_type": "code",
        "colab": {}
      },
      "source": [
        "conv_base.trainable = True\n",
        "\n",
        "set_trainable = False\n",
        "for layer in conv_base.layers:\n",
        "  if layer.name == 'conv_pw_12':\n",
        "    set_trainable = True\n",
        "  if set_trainable:\n",
        "    layer.trainable = True\n",
        "  else:\n",
        "    layer.trainable = False"
      ],
      "execution_count": 0,
      "outputs": []
    },
    {
      "cell_type": "code",
      "metadata": {
        "id": "DyN-J7rs9cvo",
        "colab_type": "code",
        "outputId": "66bd70da-d7c5-4d6d-d8f0-3bcaea6fb8c6",
        "colab": {
          "base_uri": "https://localhost:8080/",
          "height": 1000
        }
      },
      "source": [
        "# compile model\n",
        "\n",
        "model.compile(\n",
        "    loss='binary_crossentropy',\n",
        "    #\n",
        "    # choose a smaller learning rate\n",
        "    #\n",
        "    optimizer=optimizers.RMSprop(lr=1e-5), \n",
        "    metrics=['acc'])\n",
        "\n",
        "# train\n",
        "\n",
        "history = model.fit_generator(\n",
        "    train_generator,\n",
        "    steps_per_epoch=100,\n",
        "    epochs=100,\n",
        "    validation_data=validation_generator,\n",
        "    validation_steps=50)"
      ],
      "execution_count": 12,
      "outputs": [
        {
          "output_type": "stream",
          "text": [
            "Epoch 1/100\n",
            "100/100 [==============================] - 21s 206ms/step - loss: 0.1592 - acc: 0.9380 - val_loss: 0.0427 - val_acc: 0.9630\n",
            "Epoch 2/100\n",
            "100/100 [==============================] - 18s 176ms/step - loss: 0.1853 - acc: 0.9390 - val_loss: 0.5825 - val_acc: 0.9610\n",
            "Epoch 3/100\n",
            "100/100 [==============================] - 18s 176ms/step - loss: 0.1718 - acc: 0.9355 - val_loss: 0.2220 - val_acc: 0.9620\n",
            "Epoch 4/100\n",
            "100/100 [==============================] - 18s 178ms/step - loss: 0.1802 - acc: 0.9320 - val_loss: 0.0895 - val_acc: 0.9590\n",
            "Epoch 5/100\n",
            "100/100 [==============================] - 18s 176ms/step - loss: 0.1560 - acc: 0.9350 - val_loss: 0.0600 - val_acc: 0.9610\n",
            "Epoch 6/100\n",
            "100/100 [==============================] - 17s 174ms/step - loss: 0.1752 - acc: 0.9340 - val_loss: 0.0412 - val_acc: 0.9620\n",
            "Epoch 7/100\n",
            "100/100 [==============================] - 18s 176ms/step - loss: 0.1381 - acc: 0.9425 - val_loss: 0.0488 - val_acc: 0.9580\n",
            "Epoch 8/100\n",
            "100/100 [==============================] - 18s 176ms/step - loss: 0.1743 - acc: 0.9360 - val_loss: 0.0145 - val_acc: 0.9560\n",
            "Epoch 9/100\n",
            "100/100 [==============================] - 17s 174ms/step - loss: 0.1573 - acc: 0.9365 - val_loss: 0.0694 - val_acc: 0.9550\n",
            "Epoch 10/100\n",
            "100/100 [==============================] - 18s 176ms/step - loss: 0.1773 - acc: 0.9305 - val_loss: 6.4410e-04 - val_acc: 0.9580\n",
            "Epoch 11/100\n",
            "100/100 [==============================] - 17s 175ms/step - loss: 0.1599 - acc: 0.9405 - val_loss: 0.0228 - val_acc: 0.9570\n",
            "Epoch 12/100\n",
            "100/100 [==============================] - 17s 174ms/step - loss: 0.1462 - acc: 0.9425 - val_loss: 0.0084 - val_acc: 0.9530\n",
            "Epoch 13/100\n",
            "100/100 [==============================] - 18s 176ms/step - loss: 0.1438 - acc: 0.9425 - val_loss: 0.0477 - val_acc: 0.9600\n",
            "Epoch 14/100\n",
            "100/100 [==============================] - 18s 175ms/step - loss: 0.1358 - acc: 0.9475 - val_loss: 0.0383 - val_acc: 0.9570\n",
            "Epoch 15/100\n",
            "100/100 [==============================] - 17s 172ms/step - loss: 0.1743 - acc: 0.9370 - val_loss: 0.0013 - val_acc: 0.9590\n",
            "Epoch 16/100\n",
            "100/100 [==============================] - 17s 174ms/step - loss: 0.1436 - acc: 0.9485 - val_loss: 4.9247e-04 - val_acc: 0.9640\n",
            "Epoch 17/100\n",
            "100/100 [==============================] - 17s 174ms/step - loss: 0.1539 - acc: 0.9440 - val_loss: 0.0422 - val_acc: 0.9640\n",
            "Epoch 18/100\n",
            "100/100 [==============================] - 17s 174ms/step - loss: 0.1652 - acc: 0.9425 - val_loss: 0.0064 - val_acc: 0.9630\n",
            "Epoch 19/100\n",
            "100/100 [==============================] - 18s 176ms/step - loss: 0.1631 - acc: 0.9480 - val_loss: 0.2810 - val_acc: 0.9630\n",
            "Epoch 20/100\n",
            "100/100 [==============================] - 17s 173ms/step - loss: 0.1602 - acc: 0.9450 - val_loss: 0.1239 - val_acc: 0.9590\n",
            "Epoch 21/100\n",
            "100/100 [==============================] - 17s 174ms/step - loss: 0.1482 - acc: 0.9495 - val_loss: 0.0353 - val_acc: 0.9620\n",
            "Epoch 22/100\n",
            "100/100 [==============================] - 17s 174ms/step - loss: 0.1497 - acc: 0.9400 - val_loss: 4.5146e-04 - val_acc: 0.9600\n",
            "Epoch 23/100\n",
            "100/100 [==============================] - 18s 176ms/step - loss: 0.1346 - acc: 0.9465 - val_loss: 0.1512 - val_acc: 0.9590\n",
            "Epoch 24/100\n",
            "100/100 [==============================] - 17s 172ms/step - loss: 0.1260 - acc: 0.9490 - val_loss: 2.2755e-04 - val_acc: 0.9550\n",
            "Epoch 25/100\n",
            "100/100 [==============================] - 18s 176ms/step - loss: 0.1351 - acc: 0.9475 - val_loss: 0.1308 - val_acc: 0.9590\n",
            "Epoch 26/100\n",
            "100/100 [==============================] - 17s 175ms/step - loss: 0.1469 - acc: 0.9455 - val_loss: 0.1105 - val_acc: 0.9580\n",
            "Epoch 27/100\n",
            "100/100 [==============================] - 17s 175ms/step - loss: 0.1237 - acc: 0.9535 - val_loss: 0.0395 - val_acc: 0.9650\n",
            "Epoch 28/100\n",
            "100/100 [==============================] - 18s 176ms/step - loss: 0.1428 - acc: 0.9480 - val_loss: 0.0038 - val_acc: 0.9650\n",
            "Epoch 29/100\n",
            "100/100 [==============================] - 17s 172ms/step - loss: 0.1622 - acc: 0.9445 - val_loss: 0.0588 - val_acc: 0.9630\n",
            "Epoch 30/100\n",
            "100/100 [==============================] - 17s 174ms/step - loss: 0.1359 - acc: 0.9490 - val_loss: 0.1982 - val_acc: 0.9630\n",
            "Epoch 31/100\n",
            "100/100 [==============================] - 17s 174ms/step - loss: 0.1313 - acc: 0.9525 - val_loss: 0.0915 - val_acc: 0.9580\n",
            "Epoch 32/100\n",
            "100/100 [==============================] - 17s 175ms/step - loss: 0.1069 - acc: 0.9575 - val_loss: 0.1264 - val_acc: 0.9630\n",
            "Epoch 33/100\n",
            "100/100 [==============================] - 17s 173ms/step - loss: 0.1330 - acc: 0.9495 - val_loss: 0.0487 - val_acc: 0.9560\n",
            "Epoch 34/100\n",
            "100/100 [==============================] - 17s 175ms/step - loss: 0.1454 - acc: 0.9460 - val_loss: 0.0585 - val_acc: 0.9640\n",
            "Epoch 35/100\n",
            "100/100 [==============================] - 17s 174ms/step - loss: 0.1172 - acc: 0.9525 - val_loss: 0.0121 - val_acc: 0.9650\n",
            "Epoch 36/100\n",
            "100/100 [==============================] - 17s 172ms/step - loss: 0.1209 - acc: 0.9545 - val_loss: 0.4434 - val_acc: 0.9460\n",
            "Epoch 37/100\n",
            "100/100 [==============================] - 18s 175ms/step - loss: 0.1178 - acc: 0.9555 - val_loss: 0.0086 - val_acc: 0.9610\n",
            "Epoch 38/100\n",
            "100/100 [==============================] - 17s 172ms/step - loss: 0.1270 - acc: 0.9525 - val_loss: 0.0897 - val_acc: 0.9600\n",
            "Epoch 39/100\n",
            "100/100 [==============================] - 17s 173ms/step - loss: 0.1165 - acc: 0.9600 - val_loss: 0.0153 - val_acc: 0.9640\n",
            "Epoch 40/100\n",
            "100/100 [==============================] - 18s 175ms/step - loss: 0.1328 - acc: 0.9500 - val_loss: 0.0608 - val_acc: 0.9620\n",
            "Epoch 41/100\n",
            "100/100 [==============================] - 17s 172ms/step - loss: 0.1188 - acc: 0.9590 - val_loss: 0.2040 - val_acc: 0.9600\n",
            "Epoch 42/100\n",
            "100/100 [==============================] - 17s 174ms/step - loss: 0.1177 - acc: 0.9500 - val_loss: 0.1021 - val_acc: 0.9570\n",
            "Epoch 43/100\n",
            "100/100 [==============================] - 17s 175ms/step - loss: 0.1442 - acc: 0.9445 - val_loss: 0.0272 - val_acc: 0.9640\n",
            "Epoch 44/100\n",
            "100/100 [==============================] - 17s 174ms/step - loss: 0.1272 - acc: 0.9570 - val_loss: 0.2787 - val_acc: 0.9540\n",
            "Epoch 45/100\n",
            "100/100 [==============================] - 17s 173ms/step - loss: 0.1017 - acc: 0.9590 - val_loss: 0.4728 - val_acc: 0.9640\n",
            "Epoch 46/100\n",
            "100/100 [==============================] - 18s 176ms/step - loss: 0.1436 - acc: 0.9500 - val_loss: 0.0256 - val_acc: 0.9590\n",
            "Epoch 47/100\n",
            "100/100 [==============================] - 17s 173ms/step - loss: 0.1173 - acc: 0.9585 - val_loss: 1.7139e-04 - val_acc: 0.9600\n",
            "Epoch 48/100\n",
            "100/100 [==============================] - 17s 173ms/step - loss: 0.1296 - acc: 0.9515 - val_loss: 0.0197 - val_acc: 0.9580\n",
            "Epoch 49/100\n",
            "100/100 [==============================] - 17s 173ms/step - loss: 0.1225 - acc: 0.9615 - val_loss: 0.1794 - val_acc: 0.9590\n",
            "Epoch 50/100\n",
            "100/100 [==============================] - 17s 173ms/step - loss: 0.0965 - acc: 0.9635 - val_loss: 0.0445 - val_acc: 0.9610\n",
            "Epoch 51/100\n",
            "100/100 [==============================] - 17s 173ms/step - loss: 0.1437 - acc: 0.9525 - val_loss: 0.1566 - val_acc: 0.9550\n",
            "Epoch 52/100\n",
            "100/100 [==============================] - 17s 174ms/step - loss: 0.0997 - acc: 0.9625 - val_loss: 0.1245 - val_acc: 0.9580\n",
            "Epoch 53/100\n",
            "100/100 [==============================] - 17s 172ms/step - loss: 0.1166 - acc: 0.9575 - val_loss: 0.0102 - val_acc: 0.9540\n",
            "Epoch 54/100\n",
            "100/100 [==============================] - 17s 172ms/step - loss: 0.1058 - acc: 0.9595 - val_loss: 0.0137 - val_acc: 0.9630\n",
            "Epoch 55/100\n",
            "100/100 [==============================] - 17s 174ms/step - loss: 0.0917 - acc: 0.9665 - val_loss: 0.1122 - val_acc: 0.9550\n",
            "Epoch 56/100\n",
            "100/100 [==============================] - 17s 174ms/step - loss: 0.0870 - acc: 0.9685 - val_loss: 0.2323 - val_acc: 0.9600\n",
            "Epoch 57/100\n",
            "100/100 [==============================] - 17s 172ms/step - loss: 0.0936 - acc: 0.9635 - val_loss: 0.0052 - val_acc: 0.9610\n",
            "Epoch 58/100\n",
            "100/100 [==============================] - 17s 175ms/step - loss: 0.1015 - acc: 0.9635 - val_loss: 0.2228 - val_acc: 0.9610\n",
            "Epoch 59/100\n",
            "100/100 [==============================] - 17s 173ms/step - loss: 0.1159 - acc: 0.9650 - val_loss: 0.0537 - val_acc: 0.9580\n",
            "Epoch 60/100\n",
            "100/100 [==============================] - 17s 174ms/step - loss: 0.1074 - acc: 0.9600 - val_loss: 0.0231 - val_acc: 0.9580\n",
            "Epoch 61/100\n",
            "100/100 [==============================] - 18s 175ms/step - loss: 0.0995 - acc: 0.9680 - val_loss: 0.1973 - val_acc: 0.9590\n",
            "Epoch 62/100\n",
            "100/100 [==============================] - 17s 173ms/step - loss: 0.1075 - acc: 0.9640 - val_loss: 0.0010 - val_acc: 0.9640\n",
            "Epoch 63/100\n",
            "100/100 [==============================] - 17s 173ms/step - loss: 0.1221 - acc: 0.9630 - val_loss: 0.4964 - val_acc: 0.9560\n",
            "Epoch 64/100\n",
            "100/100 [==============================] - 17s 173ms/step - loss: 0.1016 - acc: 0.9615 - val_loss: 0.2221 - val_acc: 0.9600\n",
            "Epoch 65/100\n",
            "100/100 [==============================] - 17s 174ms/step - loss: 0.1164 - acc: 0.9570 - val_loss: 0.0175 - val_acc: 0.9600\n",
            "Epoch 66/100\n",
            "100/100 [==============================] - 17s 172ms/step - loss: 0.0986 - acc: 0.9655 - val_loss: 0.0150 - val_acc: 0.9650\n",
            "Epoch 67/100\n",
            "100/100 [==============================] - 17s 174ms/step - loss: 0.0864 - acc: 0.9695 - val_loss: 9.9514e-04 - val_acc: 0.9600\n",
            "Epoch 68/100\n",
            "100/100 [==============================] - 17s 174ms/step - loss: 0.0937 - acc: 0.9650 - val_loss: 0.3546 - val_acc: 0.9600\n",
            "Epoch 69/100\n",
            "100/100 [==============================] - 17s 174ms/step - loss: 0.1044 - acc: 0.9655 - val_loss: 0.0513 - val_acc: 0.9630\n",
            "Epoch 70/100\n",
            "100/100 [==============================] - 17s 175ms/step - loss: 0.0837 - acc: 0.9675 - val_loss: 0.0352 - val_acc: 0.9500\n",
            "Epoch 71/100\n",
            "100/100 [==============================] - 17s 173ms/step - loss: 0.1035 - acc: 0.9595 - val_loss: 0.0686 - val_acc: 0.9570\n",
            "Epoch 72/100\n",
            "100/100 [==============================] - 17s 172ms/step - loss: 0.0922 - acc: 0.9635 - val_loss: 0.0020 - val_acc: 0.9540\n",
            "Epoch 73/100\n",
            "100/100 [==============================] - 17s 174ms/step - loss: 0.0966 - acc: 0.9665 - val_loss: 0.1214 - val_acc: 0.9550\n",
            "Epoch 74/100\n",
            "100/100 [==============================] - 17s 174ms/step - loss: 0.0914 - acc: 0.9685 - val_loss: 0.0130 - val_acc: 0.9540\n",
            "Epoch 75/100\n",
            "100/100 [==============================] - 17s 173ms/step - loss: 0.0849 - acc: 0.9715 - val_loss: 0.0015 - val_acc: 0.9560\n",
            "Epoch 76/100\n",
            "100/100 [==============================] - 17s 174ms/step - loss: 0.0856 - acc: 0.9715 - val_loss: 0.0997 - val_acc: 0.9570\n",
            "Epoch 77/100\n",
            "100/100 [==============================] - 17s 172ms/step - loss: 0.0910 - acc: 0.9645 - val_loss: 0.1852 - val_acc: 0.9650\n",
            "Epoch 78/100\n",
            "100/100 [==============================] - 17s 174ms/step - loss: 0.0909 - acc: 0.9715 - val_loss: 0.0121 - val_acc: 0.9610\n",
            "Epoch 79/100\n",
            "100/100 [==============================] - 18s 177ms/step - loss: 0.1138 - acc: 0.9605 - val_loss: 0.1178 - val_acc: 0.9590\n",
            "Epoch 80/100\n",
            "100/100 [==============================] - 17s 174ms/step - loss: 0.0976 - acc: 0.9655 - val_loss: 0.0078 - val_acc: 0.9570\n",
            "Epoch 81/100\n",
            "100/100 [==============================] - 17s 172ms/step - loss: 0.0856 - acc: 0.9675 - val_loss: 0.1693 - val_acc: 0.9570\n",
            "Epoch 82/100\n",
            "100/100 [==============================] - 18s 175ms/step - loss: 0.0846 - acc: 0.9725 - val_loss: 0.0627 - val_acc: 0.9580\n",
            "Epoch 83/100\n",
            "100/100 [==============================] - 17s 173ms/step - loss: 0.1095 - acc: 0.9640 - val_loss: 0.0036 - val_acc: 0.9590\n",
            "Epoch 84/100\n",
            "100/100 [==============================] - 17s 173ms/step - loss: 0.1027 - acc: 0.9680 - val_loss: 3.2362e-04 - val_acc: 0.9570\n",
            "Epoch 85/100\n",
            "100/100 [==============================] - 17s 173ms/step - loss: 0.0724 - acc: 0.9720 - val_loss: 0.2853 - val_acc: 0.9640\n",
            "Epoch 86/100\n",
            "100/100 [==============================] - 17s 173ms/step - loss: 0.0759 - acc: 0.9700 - val_loss: 0.0452 - val_acc: 0.9580\n",
            "Epoch 87/100\n",
            "100/100 [==============================] - 17s 174ms/step - loss: 0.0878 - acc: 0.9690 - val_loss: 0.0766 - val_acc: 0.9570\n",
            "Epoch 88/100\n",
            "100/100 [==============================] - 17s 174ms/step - loss: 0.0721 - acc: 0.9765 - val_loss: 0.0088 - val_acc: 0.9620\n",
            "Epoch 89/100\n",
            "100/100 [==============================] - 17s 172ms/step - loss: 0.0716 - acc: 0.9720 - val_loss: 0.6996 - val_acc: 0.9570\n",
            "Epoch 90/100\n",
            "100/100 [==============================] - 17s 173ms/step - loss: 0.0834 - acc: 0.9695 - val_loss: 0.2732 - val_acc: 0.9580\n",
            "Epoch 91/100\n",
            "100/100 [==============================] - 17s 173ms/step - loss: 0.1094 - acc: 0.9650 - val_loss: 0.0213 - val_acc: 0.9580\n",
            "Epoch 92/100\n",
            "100/100 [==============================] - 17s 172ms/step - loss: 0.0812 - acc: 0.9730 - val_loss: 0.1264 - val_acc: 0.9570\n",
            "Epoch 93/100\n",
            "100/100 [==============================] - 17s 174ms/step - loss: 0.0786 - acc: 0.9740 - val_loss: 0.2044 - val_acc: 0.9550\n",
            "Epoch 94/100\n",
            "100/100 [==============================] - 17s 173ms/step - loss: 0.0865 - acc: 0.9705 - val_loss: 0.1013 - val_acc: 0.9560\n",
            "Epoch 95/100\n",
            "100/100 [==============================] - 17s 172ms/step - loss: 0.0876 - acc: 0.9710 - val_loss: 0.1098 - val_acc: 0.9600\n",
            "Epoch 96/100\n",
            "100/100 [==============================] - 17s 172ms/step - loss: 0.0775 - acc: 0.9790 - val_loss: 0.2266 - val_acc: 0.9610\n",
            "Epoch 97/100\n",
            "100/100 [==============================] - 17s 175ms/step - loss: 0.0658 - acc: 0.9735 - val_loss: 6.3496e-04 - val_acc: 0.9580\n",
            "Epoch 98/100\n",
            "100/100 [==============================] - 17s 172ms/step - loss: 0.0832 - acc: 0.9705 - val_loss: 0.0019 - val_acc: 0.9590\n",
            "Epoch 99/100\n",
            "100/100 [==============================] - 17s 171ms/step - loss: 0.0884 - acc: 0.9670 - val_loss: 0.0279 - val_acc: 0.9580\n",
            "Epoch 100/100\n",
            "100/100 [==============================] - 17s 172ms/step - loss: 0.0788 - acc: 0.9715 - val_loss: 2.7966e-04 - val_acc: 0.9610\n"
          ],
          "name": "stdout"
        }
      ]
    },
    {
      "cell_type": "markdown",
      "metadata": {
        "id": "eVBQgh5M-Rtz",
        "colab_type": "text"
      },
      "source": [
        "## Display learning curves during fine-tuning"
      ]
    },
    {
      "cell_type": "code",
      "metadata": {
        "id": "mbkIw7Ie-NP4",
        "colab_type": "code",
        "outputId": "9a01cdb2-fd1a-4552-9b16-966d412d1f84",
        "colab": {
          "base_uri": "https://localhost:8080/",
          "height": 545
        }
      },
      "source": [
        "%matplotlib inline\n",
        "\n",
        "import matplotlib.pyplot as plt\n",
        "\n",
        "acc = history.history['acc']\n",
        "val_acc = history.history['val_acc']\n",
        "\n",
        "loss = history.history['loss']\n",
        "val_loss = history.history['val_loss']\n",
        "\n",
        "epochs = range(1, len(acc) + 1)\n",
        "\n",
        "# training and validation accuracy\n",
        "\n",
        "plt.plot(epochs, acc, 'bo', label='training acc')\n",
        "plt.plot(epochs, val_acc, 'b', label='validation acc')\n",
        "plt.title('training and validation accuracy')\n",
        "plt.legend()\n",
        "\n",
        "plt.figure()\n",
        "\n",
        "# training and validation loss\n",
        "\n",
        "plt.plot(epochs, loss, 'bo', label='training loss')\n",
        "plt.plot(epochs, val_loss, 'b', label='validation loss')\n",
        "plt.title('training and validation loss')\n",
        "plt.legend()\n",
        "\n",
        "plt.show()"
      ],
      "execution_count": 13,
      "outputs": [
        {
          "output_type": "display_data",
          "data": {
            "image/png": "[encoded data removed]",
            "text/plain": [
              "<Figure size 432x288 with 1 Axes>"
            ]
          },
          "metadata": {
            "tags": [],
            "needs_background": "light"
          }
        },
        {
          "output_type": "display_data",
          "data": {
            "image/png": "[encoded data removed]",
            "text/plain": [
              "<Figure size 432x288 with 1 Axes>"
            ]
          },
          "metadata": {
            "tags": [],
            "needs_background": "light"
          }
        }
      ]
    },
    {
      "cell_type": "markdown",
      "metadata": {
        "id": "he3Nw6TOJwjx",
        "colab_type": "text"
      },
      "source": [
        "## Print out validation loss and accuracy"
      ]
    },
    {
      "cell_type": "code",
      "metadata": {
        "id": "SVQtrk7uJdhl",
        "colab_type": "code",
        "colab": {}
      },
      "source": [
        "val_loss, val_acc = model.evaluate_generator(validation_generator, steps=50)"
      ],
      "execution_count": 0,
      "outputs": []
    },
    {
      "cell_type": "code",
      "metadata": {
        "id": "HpdddLi1SUMe",
        "colab_type": "code",
        "outputId": "9b6c723e-55a5-40b7-bb4f-cc8fb8a29b5b",
        "colab": {
          "base_uri": "https://localhost:8080/",
          "height": 53
        }
      },
      "source": [
        "print(\"Validation loss:\", val_loss)\n",
        "print(\"Validation accuracy:\", val_acc)"
      ],
      "execution_count": 15,
      "outputs": [
        {
          "output_type": "stream",
          "text": [
            "Validation loss: 0.12610915303230286\n",
            "Validation accuracy: 0.9610000252723694\n"
          ],
          "name": "stdout"
        }
      ]
    }
  ]
}