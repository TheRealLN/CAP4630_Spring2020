{
  "nbformat": 4,
  "nbformat_minor": 0,
  "metadata": {
    "colab": {
      "name": "ProblemThree.ipynb",
      "provenance": [],
      "collapsed_sections": []
    },
    "kernelspec": {
      "name": "python3",
      "display_name": "Python 3"
    }
  },
  "cells": [
    {
      "cell_type": "markdown",
      "metadata": {
        "id": "BLyl-dGOMWqJ",
        "colab_type": "text"
      },
      "source": [
        "<h1>Homework Two: Problem Three</h1>\n",
        "\n",
        "This notebook focuses on creating the 'average' digits from the MNIST dataset.\n",
        "\n",
        "Specifically, we will find the average of the pixels for each digit in the dataset."
      ]
    },
    {
      "cell_type": "markdown",
      "metadata": {
        "id": "39PU9E3iNMMf",
        "colab_type": "text"
      },
      "source": [
        "**Imports**"
      ]
    },
    {
      "cell_type": "code",
      "metadata": {
        "id": "XsQaV7JNMVPm",
        "colab_type": "code",
        "colab": {}
      },
      "source": [
        "import numpy as np\n",
        "import matplotlib.pyplot as plt\n",
        "%matplotlib inline\n",
        "import tensorflow as tf\n",
        "from keras.datasets import mnist"
      ],
      "execution_count": 0,
      "outputs": []
    },
    {
      "cell_type": "markdown",
      "metadata": {
        "id": "aMFxbJvGTGxG",
        "colab_type": "text"
      },
      "source": [
        "We now can load the data into the separate training/testing sets (though we will use both to get the average number)."
      ]
    },
    {
      "cell_type": "code",
      "metadata": {
        "id": "-vzGdRK2OOO2",
        "colab_type": "code",
        "colab": {}
      },
      "source": [
        "(x_train, y_train), (x_test, y_test) = mnist.load_data()"
      ],
      "execution_count": 0,
      "outputs": []
    },
    {
      "cell_type": "markdown",
      "metadata": {
        "id": "FFyVNW2wTjwu",
        "colab_type": "text"
      },
      "source": [
        "<h1>Finding The Average Digit</h1>\n",
        "\n",
        "This function will take all images of a digit within the dataset and adds them together."
      ]
    },
    {
      "cell_type": "code",
      "metadata": {
        "id": "PcifW8pWTjsS",
        "colab_type": "code",
        "colab": {}
      },
      "source": [
        "def average_digit (n):\n",
        "  total = 0\n",
        "  avg_img = np.zeros(shape=(28,28))\n",
        "\n",
        "  # Adds all images of n from the training set\n",
        "  for i in [indx for indx in range(len(y_train)) if y_train[indx] == n]:\n",
        "    total += 1\n",
        "    avg_img += x_train[i]\n",
        "  # Adds all images of n from the testing set\n",
        "  for i in [indx for indx in range(len(y_test)) if y_test[indx] == n]:\n",
        "    total += 1\n",
        "    avg_img += x_test[i]\n",
        "  \n",
        "  # Divides the sum of the images by the total amount of them to get the average\n",
        "  # The int forces a datatype to be put on the image data\n",
        "  avg_img /= int(total)\n",
        "  return avg_img"
      ],
      "execution_count": 0,
      "outputs": []
    },
    {
      "cell_type": "markdown",
      "metadata": {
        "id": "kq6mvJtIg1UE",
        "colab_type": "text"
      },
      "source": [
        "Now we can display the 'average' image for each number in the dataset."
      ]
    },
    {
      "cell_type": "code",
      "metadata": {
        "id": "yhifYsWbZSYl",
        "colab_type": "code",
        "colab": {
          "base_uri": "https://localhost:8080/",
          "height": 1000
        },
        "outputId": "6d2146f0-53d1-4fad-bda4-e2a5fbe3f276"
      },
      "source": [
        "# Shows the image of the average number\n",
        "for i in range(10):\n",
        "  avg_img = average_digit(i)\n",
        "  # Allows for multiple plots to be shown simultaneously\n",
        "  plt.figure(i+1)\n",
        "  # Plots the image\n",
        "  plt.imshow(avg_img, cmap='gray')\n",
        "  # Titles and removes ticks from the axes\n",
        "  plt.title(\"Digit \" + str(i))\n",
        "  plt.xticks([])\n",
        "  plt.yticks([])"
      ],
      "execution_count": 69,
      "outputs": [
        {
          "output_type": "display_data",
          "data": {
            "image/png": "[encoded data removed]",
            "text/plain": [
              "<Figure size 432x288 with 1 Axes>"
            ]
          },
          "metadata": {
            "tags": []
          }
        },
        {
          "output_type": "display_data",
          "data": {
            "image/png": "[encoded data removed]",
            "text/plain": [
              "<Figure size 432x288 with 1 Axes>"
            ]
          },
          "metadata": {
            "tags": []
          }
        },
        {
          "output_type": "display_data",
          "data": {
            "image/png": "[encoded data removed]",
            "text/plain": [
              "<Figure size 432x288 with 1 Axes>"
            ]
          },
          "metadata": {
            "tags": []
          }
        },
        {
          "output_type": "display_data",
          "data": {
            "image/png": "[encoded data removed]",
            "text/plain": [
              "<Figure size 432x288 with 1 Axes>"
            ]
          },
          "metadata": {
            "tags": []
          }
        },
        {
          "output_type": "display_data",
          "data": {
            "image/png": "[encoded data removed]",
            "text/plain": [
              "<Figure size 432x288 with 1 Axes>"
            ]
          },
          "metadata": {
            "tags": []
          }
        },
        {
          "output_type": "display_data",
          "data": {
            "image/png": "[encoded data removed]",
            "text/plain": [
              "<Figure size 432x288 with 1 Axes>"
            ]
          },
          "metadata": {
            "tags": []
          }
        },
        {
          "output_type": "display_data",
          "data": {
            "image/png": "[encoded data removed]",
            "text/plain": [
              "<Figure size 432x288 with 1 Axes>"
            ]
          },
          "metadata": {
            "tags": []
          }
        },
        {
          "output_type": "display_data",
          "data": {
            "image/png": "[encoded data removed]",
            "text/plain": [
              "<Figure size 432x288 with 1 Axes>"
            ]
          },
          "metadata": {
            "tags": []
          }
        },
        {
          "output_type": "display_data",
          "data": {
            "image/png": "[encoded data removed]",
            "text/plain": [
              "<Figure size 432x288 with 1 Axes>"
            ]
          },
          "metadata": {
            "tags": []
          }
        },
        {
          "output_type": "display_data",
          "data": {
            "image/png": "[encoded data removed]",
            "text/plain": [
              "<Figure size 432x288 with 1 Axes>"
            ]
          },
          "metadata": {
            "tags": []
          }
        }
      ]
    }
  ]
}