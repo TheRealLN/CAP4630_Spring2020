{
  "nbformat": 4,
  "nbformat_minor": 0,
  "metadata": {
    "colab": {
      "name": "HW4_ProblemTwo.ipynb",
      "provenance": []
    },
    "kernelspec": {
      "name": "python3",
      "display_name": "Python 3"
    }
  },
  "cells": [
    {
      "cell_type": "markdown",
      "metadata": {
        "id": "5XYmf4spgKqf",
        "colab_type": "text"
      },
      "source": [
        "# 2D Max Pooling With Numpy\n",
        "\n",
        "The following is an implementation of a 2D max pooling of a square matrix using only numpy as a backend.\n",
        "\n",
        "For a 2D matrix $\\mathbb{M}$, max pooling will take sliding windows of shape\n",
        "$(s \\times s)$ along $\\mathbb{M}$. Each element of the output matrix will correspond to the maximum value within each window $\\mathbb{M}_s$."
      ]
    },
    {
      "cell_type": "markdown",
      "metadata": {
        "id": "q-WPw6jPhyeL",
        "colab_type": "text"
      },
      "source": [
        "## Imports"
      ]
    },
    {
      "cell_type": "code",
      "metadata": {
        "id": "bRdrvmvCgCke",
        "colab_type": "code",
        "colab": {}
      },
      "source": [
        "import numpy as np"
      ],
      "execution_count": 0,
      "outputs": []
    },
    {
      "cell_type": "markdown",
      "metadata": {
        "id": "RBbwUPyCh2Pz",
        "colab_type": "text"
      },
      "source": [
        "## 2D Max Pooling Function"
      ]
    },
    {
      "cell_type": "code",
      "metadata": {
        "id": "tw9S9HyOh2bN",
        "colab_type": "code",
        "colab": {}
      },
      "source": [
        "def maxpooling2d (input_mat, s, stride = 1):\n",
        "  # Tests if array is of proper form\n",
        "  try:\n",
        "    im = np.array(input_mat)\n",
        "    x,y = im.shape\n",
        "  except:\n",
        "    raise Exception('Input could not be coerced into a 2D numpy array.')\n",
        "  # Tests if array is of proper size\n",
        "  if x != y:\n",
        "    raise Exception((\"Input is expected to be an (n,n) matrix. \"\n",
        "                    \"Instead got a matrix of shape ({0},{1}).\").format(x, y))\n",
        "  # Tests if the input is smaller than the window\n",
        "  if x < s:\n",
        "    raise Exception((\"Window is too large. Expected window of shape \"\n",
        "                    \"(n,n), where n <= {0}. Instead got n = {1}.\").format(x, s))\n",
        "  # Checks stride\n",
        "  if stride < 1 or stride - int(stride) != 0:\n",
        "    raise Exception('Stride must a positive integer.')\n",
        "\n",
        "  # Creates the output matrix\n",
        "  output_size = np.ceil((x-s+1)/stride).astype(int)\n",
        "  output_mat = np.zeros(shape=(output_size, output_size))\n",
        "\n",
        "  # Performs max pooling\n",
        "  for i in range(output_size):\n",
        "    si = stride * i\n",
        "    for j in range(output_size):\n",
        "      sj = stride * j\n",
        "      output_mat[i,j] = np.max(im[si:s+si,sj:s+sj])\n",
        "  \n",
        "  return output_mat"
      ],
      "execution_count": 0,
      "outputs": []
    },
    {
      "cell_type": "markdown",
      "metadata": {
        "id": "wjRBJrNYupTB",
        "colab_type": "text"
      },
      "source": [
        "## Test Cases"
      ]
    },
    {
      "cell_type": "markdown",
      "metadata": {
        "id": "c83bBe6vu4lO",
        "colab_type": "text"
      },
      "source": [
        "### Sanity Check\n",
        "\n",
        "maxpooling2d$\\left( \n",
        "\\begin{bmatrix} 5 & 1 & 6 \\\\ 3 & 4 & 3 \\\\ 7 & 1 & 8 \\end{bmatrix}, 2\n",
        "\\right) =\n",
        "\\begin{bmatrix} 5 & 6 \\\\ 7 & 8 \\end{bmatrix}$"
      ]
    },
    {
      "cell_type": "code",
      "metadata": {
        "id": "ogWuNpPtu4uH",
        "colab_type": "code",
        "outputId": "76483616-a794-4241-a67a-c2aeee0d1369",
        "colab": {
          "base_uri": "https://localhost:8080/",
          "height": 53
        }
      },
      "source": [
        "input_mat = np.array([[5,1,6],\n",
        "                      [3,4,3],\n",
        "                      [7,1,8]])\n",
        "\n",
        "print(maxpooling2d(input_mat, 2))"
      ],
      "execution_count": 0,
      "outputs": [
        {
          "output_type": "stream",
          "text": [
            "[[5. 6.]\n",
            " [7. 8.]]\n"
          ],
          "name": "stdout"
        }
      ]
    },
    {
      "cell_type": "markdown",
      "metadata": {
        "id": "oeLP-5qXyOV1",
        "colab_type": "text"
      },
      "source": [
        "### Strides\n",
        "\n",
        "maxpooling2d$\\left( \n",
        "\\begin{bmatrix} 1 & 2 & 3 \\\\ 4 & 5 & 6 \\\\ 7 & 8 & 9 \\end{bmatrix}, 2\n",
        "\\right) =\n",
        "\\begin{bmatrix} 5 \\end{bmatrix}$, when stride $=2$ "
      ]
    },
    {
      "cell_type": "code",
      "metadata": {
        "id": "5NH8AoE8yOeh",
        "colab_type": "code",
        "outputId": "130e18c3-7966-4c5e-f221-4260e3b3c7dc",
        "colab": {
          "base_uri": "https://localhost:8080/",
          "height": 35
        }
      },
      "source": [
        "input_mat = np.array([[1,2,3],\n",
        "                      [4,5,6],\n",
        "                      [7,8,9]])\n",
        "\n",
        "print(maxpooling2d(input_mat, 2, 2))"
      ],
      "execution_count": 0,
      "outputs": [
        {
          "output_type": "stream",
          "text": [
            "[[5.]]\n"
          ],
          "name": "stdout"
        }
      ]
    },
    {
      "cell_type": "markdown",
      "metadata": {
        "id": "fPUUjcryzKEu",
        "colab_type": "text"
      },
      "source": [
        "### Empty List"
      ]
    },
    {
      "cell_type": "code",
      "metadata": {
        "id": "O3_7-A4LzKYl",
        "colab_type": "code",
        "outputId": "59099e1a-dba5-4784-f97d-b4a45aa0f75d",
        "colab": {
          "base_uri": "https://localhost:8080/",
          "height": 334
        }
      },
      "source": [
        "input_mat = [[]]\n",
        "\n",
        "print(maxpooling2d(input_mat, 1))"
      ],
      "execution_count": 0,
      "outputs": [
        {
          "output_type": "error",
          "ename": "Exception",
          "evalue": "ignored",
          "traceback": [
            "\u001b[0;31m---------------------------------------------------------------------------\u001b[0m",
            "\u001b[0;31mException\u001b[0m                                 Traceback (most recent call last)",
            "\u001b[0;32m<ipython-input-14-c7551ad1ce94>\u001b[0m in \u001b[0;36m<module>\u001b[0;34m()\u001b[0m\n\u001b[1;32m      1\u001b[0m \u001b[0minput_mat\u001b[0m \u001b[0;34m=\u001b[0m \u001b[0;34m[\u001b[0m\u001b[0;34m[\u001b[0m\u001b[0;34m]\u001b[0m\u001b[0;34m]\u001b[0m\u001b[0;34m\u001b[0m\u001b[0;34m\u001b[0m\u001b[0m\n\u001b[1;32m      2\u001b[0m \u001b[0;34m\u001b[0m\u001b[0m\n\u001b[0;32m----> 3\u001b[0;31m \u001b[0mprint\u001b[0m\u001b[0;34m(\u001b[0m\u001b[0mmaxpooling2d\u001b[0m\u001b[0;34m(\u001b[0m\u001b[0minput_mat\u001b[0m\u001b[0;34m,\u001b[0m \u001b[0;36m1\u001b[0m\u001b[0;34m)\u001b[0m\u001b[0;34m)\u001b[0m\u001b[0;34m\u001b[0m\u001b[0;34m\u001b[0m\u001b[0m\n\u001b[0m",
            "\u001b[0;32m<ipython-input-10-d15ac302138c>\u001b[0m in \u001b[0;36mmaxpooling2d\u001b[0;34m(input_mat, s, stride)\u001b[0m\n\u001b[1;32m      9\u001b[0m   \u001b[0;32mif\u001b[0m \u001b[0mx\u001b[0m \u001b[0;34m!=\u001b[0m \u001b[0my\u001b[0m\u001b[0;34m:\u001b[0m\u001b[0;34m\u001b[0m\u001b[0;34m\u001b[0m\u001b[0m\n\u001b[1;32m     10\u001b[0m     raise Exception((\"Input is expected to be an (n,n) matrix. \"\n\u001b[0;32m---> 11\u001b[0;31m                     \"Instead got a matrix of shape ({0},{1}).\").format(x, y))\n\u001b[0m\u001b[1;32m     12\u001b[0m   \u001b[0;31m# Tests if the input is smaller than the window\u001b[0m\u001b[0;34m\u001b[0m\u001b[0;34m\u001b[0m\u001b[0;34m\u001b[0m\u001b[0m\n\u001b[1;32m     13\u001b[0m   \u001b[0;32mif\u001b[0m \u001b[0mx\u001b[0m \u001b[0;34m<\u001b[0m \u001b[0ms\u001b[0m\u001b[0;34m:\u001b[0m\u001b[0;34m\u001b[0m\u001b[0;34m\u001b[0m\u001b[0m\n",
            "\u001b[0;31mException\u001b[0m: Input is expected to be an (n,n) matrix. Instead got a matrix of shape (1,0)."
          ]
        }
      ]
    },
    {
      "cell_type": "markdown",
      "metadata": {
        "id": "1ntMtmVbzd1j",
        "colab_type": "text"
      },
      "source": [
        "### Window Size Too Large"
      ]
    },
    {
      "cell_type": "code",
      "metadata": {
        "id": "v9Hu3Wl2zeQY",
        "colab_type": "code",
        "outputId": "941d021e-cdbf-436d-b1be-65e628babc14",
        "colab": {
          "base_uri": "https://localhost:8080/",
          "height": 334
        }
      },
      "source": [
        "input_mat = np.array([[1,2,3],\n",
        "                      [4,5,6],\n",
        "                      [7,8,9]])\n",
        "\n",
        "print(maxpooling2d(input_mat, 4))"
      ],
      "execution_count": 0,
      "outputs": [
        {
          "output_type": "error",
          "ename": "Exception",
          "evalue": "ignored",
          "traceback": [
            "\u001b[0;31m---------------------------------------------------------------------------\u001b[0m",
            "\u001b[0;31mException\u001b[0m                                 Traceback (most recent call last)",
            "\u001b[0;32m<ipython-input-13-d527e472027d>\u001b[0m in \u001b[0;36m<module>\u001b[0;34m()\u001b[0m\n\u001b[1;32m      3\u001b[0m                       [7,8,9]])\n\u001b[1;32m      4\u001b[0m \u001b[0;34m\u001b[0m\u001b[0m\n\u001b[0;32m----> 5\u001b[0;31m \u001b[0mprint\u001b[0m\u001b[0;34m(\u001b[0m\u001b[0mmaxpooling2d\u001b[0m\u001b[0;34m(\u001b[0m\u001b[0minput_mat\u001b[0m\u001b[0;34m,\u001b[0m \u001b[0;36m4\u001b[0m\u001b[0;34m)\u001b[0m\u001b[0;34m)\u001b[0m\u001b[0;34m\u001b[0m\u001b[0;34m\u001b[0m\u001b[0m\n\u001b[0m",
            "\u001b[0;32m<ipython-input-10-d15ac302138c>\u001b[0m in \u001b[0;36mmaxpooling2d\u001b[0;34m(input_mat, s, stride)\u001b[0m\n\u001b[1;32m     13\u001b[0m   \u001b[0;32mif\u001b[0m \u001b[0mx\u001b[0m \u001b[0;34m<\u001b[0m \u001b[0ms\u001b[0m\u001b[0;34m:\u001b[0m\u001b[0;34m\u001b[0m\u001b[0;34m\u001b[0m\u001b[0m\n\u001b[1;32m     14\u001b[0m     raise Exception((\"Window is too large. Expected window of shape \"\n\u001b[0;32m---> 15\u001b[0;31m                     \"(n,n), where n <= {0}. Instead got n = {1}.\").format(x, s))\n\u001b[0m\u001b[1;32m     16\u001b[0m   \u001b[0;31m# Checks stride\u001b[0m\u001b[0;34m\u001b[0m\u001b[0;34m\u001b[0m\u001b[0;34m\u001b[0m\u001b[0m\n\u001b[1;32m     17\u001b[0m   \u001b[0;32mif\u001b[0m \u001b[0mstride\u001b[0m \u001b[0;34m<\u001b[0m \u001b[0;36m1\u001b[0m \u001b[0;32mor\u001b[0m \u001b[0mstride\u001b[0m \u001b[0;34m-\u001b[0m \u001b[0mint\u001b[0m\u001b[0;34m(\u001b[0m\u001b[0mstride\u001b[0m\u001b[0;34m)\u001b[0m \u001b[0;34m!=\u001b[0m \u001b[0;36m0\u001b[0m\u001b[0;34m:\u001b[0m\u001b[0;34m\u001b[0m\u001b[0;34m\u001b[0m\u001b[0m\n",
            "\u001b[0;31mException\u001b[0m: Window is too large. Expected window of shape (n,n), where n <= 3. Instead got n = 4."
          ]
        }
      ]
    }
  ]
}