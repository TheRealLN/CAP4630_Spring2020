{
  "nbformat": 4,
  "nbformat_minor": 0,
  "metadata": {
    "colab": {
      "name": "MultiplyMatrices.ipynb",
      "provenance": [],
      "collapsed_sections": []
    },
    "kernelspec": {
      "name": "python3",
      "display_name": "Python 3"
    }
  },
  "cells": [
    {
      "cell_type": "markdown",
      "metadata": {
        "id": "uHDqYNVuZkrh",
        "colab_type": "text"
      },
      "source": [
        "**Imports**"
      ]
    },
    {
      "cell_type": "code",
      "metadata": {
        "id": "9wJN4vj6ZCRa",
        "colab_type": "code",
        "colab": {}
      },
      "source": [
        "import numpy as np"
      ],
      "execution_count": 0,
      "outputs": []
    },
    {
      "cell_type": "markdown",
      "metadata": {
        "id": "FRmsiRa-ZVTc",
        "colab_type": "text"
      },
      "source": [
        "$\\textbf{Multiplying Matrices:}$\n",
        "\n",
        "This multiplies a list of numpy arrays (matrices) from beginning to end. When multiplying two matrices, they are compatible iff they are of the form:\n",
        "\n",
        "$A_{m \\times n} \\times B_{n \\times k} = C_{m \\times k}$\n",
        "\n",
        "\n",
        "(A custom exception is raised if two matrices are incompatible or if the matrix list is empty.)\n"
      ]
    },
    {
      "cell_type": "code",
      "metadata": {
        "id": "YoVAaEQ_Z4ax",
        "colab_type": "code",
        "colab": {}
      },
      "source": [
        "def multiply_matrices ( matrices ):\n",
        "  # Initializes the result to be the first matrix\n",
        "  try:\n",
        "    result_matrix = matrices[0]\n",
        "  except:\n",
        "    raise Exception(\"Empty list of Matrices\")\n",
        "\n",
        "  # Performs matrix multiplication throughout the list, and raises an exception\n",
        "  # if incompatible matrices are attempted to be multiplied.\n",
        "  for x in range(1, len(matrices)):\n",
        "    try:\n",
        "      result_matrix = np.dot(result_matrix, matrices[x])\n",
        "    except:\n",
        "      error_string = \"Incompatible Matrices at indices \" + str(x-1) + \" and \" + str(x) + \".\"\n",
        "      raise Exception(error_string)\n",
        "\n",
        "  return result_matrix"
      ],
      "execution_count": 0,
      "outputs": []
    },
    {
      "cell_type": "markdown",
      "metadata": {
        "id": "BwjsSFY1ip4H",
        "colab_type": "text"
      },
      "source": [
        "This will find $M^{10}$, where $M=\\begin{bmatrix} 1 & 0 \\\\ 0 & 2 \\end{bmatrix}$"
      ]
    },
    {
      "cell_type": "code",
      "metadata": {
        "id": "Y79wnte9aShB",
        "colab_type": "code",
        "colab": {}
      },
      "source": [
        "matrices = []\n",
        "for x in range(10):\n",
        "  matrix = np.array([[1, 0],\n",
        "                    [0, 2]])\n",
        "  matrices.append(matrix)\n",
        "\n",
        "print(multiply_matrices(matrices))"
      ],
      "execution_count": 0,
      "outputs": []
    },
    {
      "cell_type": "markdown",
      "metadata": {
        "id": "MDduhzQgvhFK",
        "colab_type": "text"
      },
      "source": [
        "This will attempt to find $\\prod_{n=1}^{5}M_{1 \\times n}$, where $M=\\begin{bmatrix} 1 \\dots 1\\end{bmatrix}$. This will fail when attempting to multiply the second and third matrices together (indices 1 and 2)."
      ]
    },
    {
      "cell_type": "code",
      "metadata": {
        "id": "h5tTZZSzaxpU",
        "colab_type": "code",
        "colab": {}
      },
      "source": [
        "matrices = []\n",
        "for x in range(5):\n",
        "  matrices.append(np.ones(shape=(x,1)))\n",
        "\n",
        "print(multiply_matrices(matrices))"
      ],
      "execution_count": 0,
      "outputs": []
    }
  ]
}